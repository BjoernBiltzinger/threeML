{
 "cells": [
  {
   "cell_type": "markdown",
   "metadata": {},
   "source": [
    "# Bayesian Plotting\n",
    "\n",
    "3ML's Bayesian capabilites include the ability to examine marginal distributions and compare model parameters between fits. \n",
    "\n",
    "This tutorial demonstrates some of these capabilities. \n",
    "\n",
    "Simple corner plots require the corner package. \n",
    "\n",
    "ChainConsumer is required for more advanced plots. https://github.com/Samreay/ChainConsumer\n",
    "\n"
   ]
  },
  {
   "cell_type": "code",
   "execution_count": null,
   "metadata": {
    "collapsed": false
   },
   "outputs": [
    {
     "name": "stdout",
     "output_type": "stream",
     "text": [
      "\n",
      "Did you try to import pygsl in the build directory?\n",
      "\n",
      "Well, that does not work out of the box. If you want to do that, please\n",
      "use\n",
      "      python setup.py build_ext -i\n",
      "to add the necessary extension module in the local pygsl/ directory!\n",
      "\n",
      "Please read the README first! Any further questions or missing information\n",
      "please post to pygsl-discuss@lists.sourceforge.net!\n",
      "\n",
      "Configuration read from /Users/jburgess/.threeML/threeML_config.yml\n"
     ]
    },
    {
     "name": "stderr",
     "output_type": "stream",
     "text": [
      "\n",
      "WARNING RuntimeWarning: numpy.dtype size changed, may indicate binary incompatibility\n",
      "\n",
      "\n",
      "WARNING RuntimeWarning: numpy.ufunc size changed, may indicate binary incompatibility\n",
      "\n",
      "\n",
      "WARNING RuntimeWarning: numpy.dtype size changed, may indicate binary incompatibility. Expected 96, got 88\n",
      "\n",
      "\n",
      "WARNING RuntimeWarning: numpy.ufunc size changed, may indicate binary incompatibility. Expected 192, got 176\n",
      "\n",
      "\n",
      "WARNING RuntimeWarning: numpy.dtype size changed, may indicate binary incompatibility. Expected 96, got 88\n",
      "\n",
      "\n",
      "WARNING RuntimeWarning: numpy.ufunc size changed, may indicate binary incompatibility. Expected 192, got 176\n",
      "\n",
      "\n",
      "WARNING RuntimeWarning: numpy.dtype size changed, may indicate binary incompatibility. Expected 96, got 88\n",
      "\n",
      "\n",
      "WARNING RuntimeWarning: numpy.ufunc size changed, may indicate binary incompatibility. Expected 192, got 176\n",
      "\n",
      "\n",
      "WARNING RuntimeWarning: numpy.dtype size changed, may indicate binary incompatibility\n",
      "\n",
      "\n",
      "WARNING RuntimeWarning: numpy.ufunc size changed, may indicate binary incompatibility\n",
      "\n",
      "\n",
      "WARNING RuntimeWarning: numpy.dtype size changed, may indicate binary incompatibility\n",
      "\n",
      "\n",
      "WARNING RuntimeWarning: numpy.ufunc size changed, may indicate binary incompatibility\n",
      "\n",
      "\n",
      "WARNING RuntimeWarning: Env. variable MKL_NUM_THREADS is not set. Please set it to 1 for optimal performances in 3ML\n",
      "\n",
      "\n",
      "WARNING RuntimeWarning: Env. variable NUMEXPR_NUM_THREADS is not set. Please set it to 1 for optimal performances in 3ML\n",
      "\n"
     ]
    }
   ],
   "source": [
    "%matplotlib inline\n",
    "%matplotlib notebook\n",
    "\n",
    "from threeML import *\n"
   ]
  },
  {
   "cell_type": "markdown",
   "metadata": {},
   "source": [
    "## Data setup and sampling\n",
    "\n",
    "\n",
    "We will use Fermi GBM data for this example. The following code sets up the data and Bayesian fits. \n",
    "\n",
    "We use emcee to sample, but any of the included samplers will work.\n"
   ]
  },
  {
   "cell_type": "code",
   "execution_count": null,
   "metadata": {
    "collapsed": false
   },
   "outputs": [
    {
     "name": "stdout",
     "output_type": "stream",
     "text": [
      "Auto-determined polynomial order: 1\n",
      "\n",
      "\n"
     ]
    },
    {
     "name": "stderr",
     "output_type": "stream",
     "text": [
      "\n",
      "WARNING UserWarning: No TLMIN keyword found. This DRM does not follow OGIP standards. Assuming TLMIN=1\n",
      "\n",
      "\n",
      "WARNING VisibleDeprecationWarning: converting an array with ndim > 0 to an index will result in an error in the future\n",
      "\n"
     ]
    },
    {
     "name": "stdout",
     "output_type": "stream",
     "text": [
      "Auto-probed noise models:\n",
      "- observation: poisson\n",
      "- background: gaussian\n",
      "Auto-determined polynomial order: 1\n",
      "\n",
      "\n",
      "Auto-probed noise models:\n",
      "- observation: poisson\n",
      "- background: gaussian\n",
      "Range 10.0-30.0 translates to channels 6-21\n",
      "Range 40.0-900.0 translates to channels 27-124\n",
      "Now using 114 channels out of 128\n",
      "Range 250-43000 translates to channels 1-126\n",
      "Now using 126 channels out of 128\n",
      "Running burn-in of 500 samples...\n",
      "\n"
     ]
    },
    {
     "name": "stderr",
     "output_type": "stream",
     "text": [
      "\n",
      "WARNING RuntimeWarning: invalid value encountered in subtract\n",
      "\n",
      "\n",
      "WARNING RuntimeWarning: invalid value encountered in greater\n",
      "\n",
      "\n",
      "WARNING RuntimeWarning: invalid value encountered in subtract\n",
      "\n",
      "\n",
      "WARNING RuntimeWarning: invalid value encountered in greater\n",
      "\n",
      "\n",
      "WARNING RuntimeWarning: invalid value encountered in subtract\n",
      "\n",
      "\n",
      "WARNING RuntimeWarning: invalid value encountered in greater\n",
      "\n",
      "\n",
      "WARNING RuntimeWarning: invalid value encountered in subtract\n",
      "\n",
      "\n",
      "WARNING RuntimeWarning: invalid value encountered in greater\n",
      "\n",
      "\n",
      "WARNING RuntimeWarning: invalid value encountered in subtract\n",
      "\n",
      "\n",
      "WARNING RuntimeWarning: invalid value encountered in greater\n",
      "\n",
      "\n",
      "WARNING RuntimeWarning: invalid value encountered in subtract\n",
      "\n",
      "\n",
      "WARNING RuntimeWarning: invalid value encountered in greater\n",
      "\n",
      "\n",
      "WARNING RuntimeWarning: invalid value encountered in subtract\n",
      "\n",
      "\n",
      "WARNING RuntimeWarning: invalid value encountered in greater\n",
      "\n",
      "\n",
      "WARNING RuntimeWarning: invalid value encountered in subtract\n",
      "\n",
      "\n",
      "WARNING RuntimeWarning: invalid value encountered in greater\n",
      "\n",
      "\n",
      "WARNING RuntimeWarning: invalid value encountered in subtract\n",
      "\n",
      "\n",
      "WARNING RuntimeWarning: invalid value encountered in greater\n",
      "\n",
      "\n",
      "WARNING RuntimeWarning: invalid value encountered in subtract\n",
      "\n",
      "\n",
      "WARNING RuntimeWarning: invalid value encountered in greater\n",
      "\n",
      "\n",
      "WARNING RuntimeWarning: invalid value encountered in subtract\n",
      "\n",
      "\n",
      "WARNING RuntimeWarning: invalid value encountered in greater\n",
      "\n",
      "\n",
      "WARNING RuntimeWarning: invalid value encountered in subtract\n",
      "\n",
      "\n",
      "WARNING RuntimeWarning: invalid value encountered in greater\n",
      "\n",
      "\n",
      "WARNING RuntimeWarning: invalid value encountered in subtract\n",
      "\n",
      "\n",
      "WARNING RuntimeWarning: invalid value encountered in greater\n",
      "\n",
      "\n",
      "WARNING RuntimeWarning: invalid value encountered in subtract\n",
      "\n",
      "\n",
      "WARNING RuntimeWarning: invalid value encountered in greater\n",
      "\n",
      "\n",
      "WARNING RuntimeWarning: invalid value encountered in subtract\n",
      "\n",
      "\n",
      "WARNING RuntimeWarning: invalid value encountered in greater\n",
      "\n",
      "\n",
      "WARNING RuntimeWarning: invalid value encountered in subtract\n",
      "\n",
      "\n",
      "WARNING RuntimeWarning: invalid value encountered in greater\n",
      "\n",
      "\n",
      "WARNING RuntimeWarning: invalid value encountered in subtract\n",
      "\n",
      "\n",
      "WARNING RuntimeWarning: invalid value encountered in greater\n",
      "\n",
      "\n",
      "WARNING RuntimeWarning: invalid value encountered in subtract\n",
      "\n",
      "\n",
      "WARNING RuntimeWarning: invalid value encountered in greater\n",
      "\n",
      "\n",
      "WARNING RuntimeWarning: invalid value encountered in subtract\n",
      "\n",
      "\n",
      "WARNING RuntimeWarning: invalid value encountered in greater\n",
      "\n",
      "\n",
      "WARNING RuntimeWarning: invalid value encountered in subtract\n",
      "\n",
      "\n",
      "WARNING RuntimeWarning: invalid value encountered in greater\n",
      "\n",
      "\n",
      "WARNING RuntimeWarning: invalid value encountered in subtract\n",
      "\n",
      "\n",
      "WARNING RuntimeWarning: invalid value encountered in greater\n",
      "\n",
      "\n",
      "WARNING RuntimeWarning: invalid value encountered in subtract\n",
      "\n",
      "\n",
      "WARNING RuntimeWarning: invalid value encountered in greater\n",
      "\n",
      "\n",
      "WARNING RuntimeWarning: invalid value encountered in subtract\n",
      "\n",
      "\n",
      "WARNING RuntimeWarning: invalid value encountered in greater\n",
      "\n",
      "\n",
      "WARNING RuntimeWarning: invalid value encountered in subtract\n",
      "\n",
      "\n",
      "WARNING RuntimeWarning: invalid value encountered in greater\n",
      "\n",
      "\n",
      "WARNING RuntimeWarning: invalid value encountered in subtract\n",
      "\n",
      "\n",
      "WARNING RuntimeWarning: invalid value encountered in greater\n",
      "\n",
      "\n",
      "WARNING RuntimeWarning: invalid value encountered in subtract\n",
      "\n",
      "\n",
      "WARNING RuntimeWarning: invalid value encountered in greater\n",
      "\n",
      "\n",
      "WARNING RuntimeWarning: invalid value encountered in subtract\n",
      "\n",
      "\n",
      "WARNING RuntimeWarning: invalid value encountered in greater\n",
      "\n",
      "\n",
      "WARNING RuntimeWarning: invalid value encountered in subtract\n",
      "\n",
      "\n",
      "WARNING RuntimeWarning: invalid value encountered in greater\n",
      "\n",
      "\n",
      "WARNING RuntimeWarning: invalid value encountered in subtract\n",
      "\n",
      "\n",
      "WARNING RuntimeWarning: invalid value encountered in greater\n",
      "\n",
      "\n",
      "WARNING RuntimeWarning: invalid value encountered in subtract\n",
      "\n",
      "\n",
      "WARNING RuntimeWarning: invalid value encountered in greater\n",
      "\n",
      "\n",
      "WARNING RuntimeWarning: invalid value encountered in subtract\n",
      "\n",
      "\n",
      "WARNING RuntimeWarning: invalid value encountered in greater\n",
      "\n",
      "\n",
      "WARNING RuntimeWarning: invalid value encountered in subtract\n",
      "\n",
      "\n",
      "WARNING RuntimeWarning: invalid value encountered in greater\n",
      "\n",
      "\n",
      "WARNING RuntimeWarning: invalid value encountered in subtract\n",
      "\n",
      "\n",
      "WARNING RuntimeWarning: invalid value encountered in greater\n",
      "\n",
      "\n",
      "WARNING RuntimeWarning: invalid value encountered in subtract\n",
      "\n",
      "\n",
      "WARNING RuntimeWarning: invalid value encountered in greater\n",
      "\n",
      "\n",
      "WARNING RuntimeWarning: invalid value encountered in subtract\n",
      "\n",
      "\n",
      "WARNING RuntimeWarning: invalid value encountered in greater\n",
      "\n",
      "\n",
      "WARNING RuntimeWarning: invalid value encountered in subtract\n",
      "\n",
      "\n",
      "WARNING RuntimeWarning: invalid value encountered in greater\n",
      "\n",
      "\n",
      "WARNING RuntimeWarning: invalid value encountered in subtract\n",
      "\n",
      "\n",
      "WARNING RuntimeWarning: invalid value encountered in greater\n",
      "\n",
      "\n",
      "WARNING RuntimeWarning: invalid value encountered in subtract\n",
      "\n",
      "\n",
      "WARNING RuntimeWarning: invalid value encountered in greater\n",
      "\n"
     ]
    },
    {
     "name": "stdout",
     "output_type": "stream",
     "text": [
      "\n",
      "Sampling...\n",
      "\n"
     ]
    }
   ],
   "source": [
    "data_dir = os.path.join('gbm','bn080916009')\n",
    "\n",
    "src_selection = \"0.-72.\"\n",
    "\n",
    "\n",
    "nai3 = FermiGBMTTELike('NAI3',\n",
    "                         os.path.join(data_dir, \"glg_tte_n3_bn080916009_v01.fit.gz\"),\n",
    "                         \"-10-0, 100-200\",\n",
    "                         src_selection,\n",
    "                         rsp_file=os.path.join(data_dir, \"glg_cspec_n3_bn080916009_v07.rsp\"))\n",
    "\n",
    "bgo0 = FermiGBMTTELike('BGO0',\n",
    "                         os.path.join(data_dir, \"glg_tte_b0_bn080916009_v01.fit.gz\"),\n",
    "                         \"-10-0,100-200\",\n",
    "                         src_selection,\n",
    "                         rsp_file=os.path.join(data_dir, \"glg_cspec_b0_bn080916009_v07.rsp\"))\n",
    "\n",
    "\n",
    "nai3.set_active_measurements(\"10.0-30.0\", \"40.0-900.0\")\n",
    "\n",
    "bgo0.set_active_measurements(\"250-43000\")\n",
    "\n",
    "\n",
    "\n",
    "triggerName = 'bn080916009'\n",
    "ra = 121.8\n",
    "dec = -61.3\n",
    "\n",
    "\n",
    "data_list = DataList(nai3,bgo0 )\n",
    "\n",
    "band = Band()\n",
    "\n",
    "\n",
    "GRB = PointSource( triggerName, ra, dec, spectral_shape=band )\n",
    "\n",
    "model = Model( GRB )\n",
    "\n",
    "\n",
    "band.K.prior = Log_uniform_prior(lower_bound=1e-4, upper_bound=3)\n",
    "band.xp.prior = Log_uniform_prior(lower_bound=10, upper_bound=1e5)\n",
    "\n",
    "# or use the set_uninformative_prior method, which will use as lower_bound\n",
    "# and upper_bound the current boundaries for the parameter. Such boundaries\n",
    "# must exists and be finite\n",
    "\n",
    "band.alpha.set_uninformative_prior(Uniform_prior)\n",
    "band.beta.set_uninformative_prior(Uniform_prior)\n",
    "\n",
    "bayes = BayesianAnalysis(model, data_list)\n",
    "\n",
    "samples = bayes.sample(n_walkers=50,burn_in=500, n_samples=1000)"
   ]
  },
  {
   "cell_type": "markdown",
   "metadata": {},
   "source": [
    "### Simple corner plot\n",
    "\n",
    "We can look at the marginal distributions for the parameters with corner.\n",
    "\n",
    "\n",
    "\n"
   ]
  },
  {
   "cell_type": "code",
   "execution_count": null,
   "metadata": {
    "collapsed": false
   },
   "outputs": [],
   "source": [
    "_=bayes.corner_plot()"
   ]
  },
  {
   "cell_type": "markdown",
   "metadata": {},
   "source": [
    "### Advanced corner plot\n",
    "\n",
    "Using chain consumer, we can have more options for our plots.\n",
    "\n",
    "Here is the default plot\n",
    "\n"
   ]
  },
  {
   "cell_type": "code",
   "execution_count": null,
   "metadata": {
    "collapsed": false
   },
   "outputs": [],
   "source": [
    "_=bayes.corner_plot_cc()"
   ]
  },
  {
   "cell_type": "markdown",
   "metadata": {},
   "source": [
    "We can look at the cloud  or sampled points. Additionally, we can change the sigma level of the contours. Colors must be provided as HTML codes to facilitate the contour levels."
   ]
  },
  {
   "cell_type": "code",
   "execution_count": null,
   "metadata": {
    "collapsed": false,
    "scrolled": false
   },
   "outputs": [],
   "source": [
    "_=bayes.corner_plot_cc(sigmas=[0,1,3,5],cloud=True,shade_alpha=.4,colours=\"#059546\")"
   ]
  },
  {
   "cell_type": "markdown",
   "metadata": {},
   "source": [
    "It is also possible to change parameter names. A dictionary of {old:new} names can be provided. "
   ]
  },
  {
   "cell_type": "code",
   "execution_count": null,
   "metadata": {
    "collapsed": false
   },
   "outputs": [],
   "source": [
    "renamed ={'xp':'$E_p$',\n",
    "          'alpha':'$\\\\alpha$',\n",
    "          'beta':'$\\\\beta$'}\n",
    "\n",
    "_=bayes.corner_plot_cc(renamed_parameters=renamed)"
   ]
  },
  {
   "cell_type": "markdown",
   "metadata": {
    "collapsed": true
   },
   "source": [
    "### Comparing distributions\n",
    "\n",
    "Perhaps we want to look at two fits that are related. Here we use the example of Band+ Blackbody and will examine how the band parameters change when we included the extra component.\n",
    "\n"
   ]
  },
  {
   "cell_type": "code",
   "execution_count": null,
   "metadata": {
    "collapsed": false
   },
   "outputs": [],
   "source": [
    "bandbb = Band() + Blackbody()\n",
    "\n",
    "\n",
    "GRB2 = PointSource( triggerName, ra, dec, spectral_shape=bandbb )\n",
    "\n",
    "model2 = Model( GRB2 )\n",
    "\n",
    "\n",
    "bandbb.K_1.prior = Log_uniform_prior(lower_bound=1e-4, upper_bound=3)\n",
    "bandbb.xp_1.prior = Log_uniform_prior(lower_bound=10, upper_bound=1e5)\n",
    "\n",
    "\n",
    "bandbb.alpha_1.set_uninformative_prior(Uniform_prior)\n",
    "bandbb.beta_1.set_uninformative_prior(Uniform_prior)\n",
    "\n",
    "bandbb.K_2.prior = Log_uniform_prior(lower_bound=1e-4, upper_bound=3)\n",
    "bandbb.kT_2.prior = Log_uniform_prior(lower_bound=1E1, upper_bound=500)\n",
    "\n",
    "bayes2 = BayesianAnalysis(model2, data_list)\n",
    "\n",
    "samples2 = bayes2.sample(n_walkers=50,burn_in=200, n_samples=2500)"
   ]
  },
  {
   "cell_type": "markdown",
   "metadata": {},
   "source": [
    "We can examine the marginals of all parameters first"
   ]
  },
  {
   "cell_type": "code",
   "execution_count": null,
   "metadata": {
    "collapsed": false
   },
   "outputs": [],
   "source": [
    "renamed ={'xp_1':'$E_p$',\n",
    "          'alpha_1':'$\\\\alpha$',\n",
    "          'beta_1':'$\\\\beta$'}\n",
    "\n",
    "_ = bayes2.corner_plot_cc(renamed_parameters=renamed)"
   ]
  },
  {
   "cell_type": "markdown",
   "metadata": {},
   "source": [
    "#### Comparing parameters\n",
    "\n",
    "Now let's compare to the original Band fit. We will have to do some manipulation because composite models from astromodels append numbers to clearly identify components.\n",
    "\n",
    "We need to rename parameters so that those we wish to compare have the same names:\n",
    "\n",
    "\n"
   ]
  },
  {
   "cell_type": "code",
   "execution_count": null,
   "metadata": {
    "collapsed": false,
    "scrolled": false
   },
   "outputs": [],
   "source": [
    "renamed ={'xp_1':'xp',\n",
    "          'alpha_1':'alpha',\n",
    "          'beta_1':'beta',\n",
    "          'K_1':'K'}\n",
    "\n",
    "_ = bayes2.compare_posterior(bayes,renamed_parameters=renamed)"
   ]
  },
  {
   "cell_type": "markdown",
   "metadata": {},
   "source": [
    "We can see that there is a shift in some parameters of the Band function due to the additional components.\n",
    "\n",
    "Perhaps we want to focus on a subset of the parameters to draw more attention to them. This is easily accomplished by passing the parameters we are interested in. **NOTE:** We must use the original parameter names so that they are picked up!"
   ]
  },
  {
   "cell_type": "code",
   "execution_count": null,
   "metadata": {
    "collapsed": false,
    "scrolled": false
   },
   "outputs": [],
   "source": [
    "_=bayes2.compare_posterior(bayes,renamed_parameters=renamed,shade_alpha=.7,parameters=['xp','alpha','kT 2'],colours=[\"#740595\",\"#FCA816\"])"
   ]
  },
  {
   "cell_type": "code",
   "execution_count": null,
   "metadata": {
    "collapsed": false
   },
   "outputs": [],
   "source": [
    "mc = ModelComparison(bayes,bayes2)"
   ]
  },
  {
   "cell_type": "code",
   "execution_count": 12,
   "metadata": {
    "collapsed": false
   },
   "outputs": [
    {
     "data": {
      "text/plain": [
       "1"
      ]
     },
     "execution_count": 12,
     "metadata": {},
     "output_type": "execute_result"
    }
   ],
   "source": [
    "(np.unique([bayes.analysis_type , bayes2.analysis_type])).shape[\n",
    "                   0]"
   ]
  },
  {
   "cell_type": "code",
   "execution_count": 15,
   "metadata": {
    "collapsed": false
   },
   "outputs": [
    {
     "data": {
      "text/plain": [
       "-4694.5051205190075"
      ]
     },
     "execution_count": 15,
     "metadata": {},
     "output_type": "execute_result"
    }
   ],
   "source": [
    "bayes.get_posterior(np.mean(bayes.raw_samples,axis=0))"
   ]
  },
  {
   "cell_type": "code",
   "execution_count": 16,
   "metadata": {
    "collapsed": false
   },
   "outputs": [
    {
     "data": {
      "text/plain": [
       "array([  1.41032250e-02,  -1.06796976e+00,   6.81258626e+02,\n",
       "        -2.30918998e+00])"
      ]
     },
     "execution_count": 16,
     "metadata": {},
     "output_type": "execute_result"
    }
   ],
   "source": [
    "np.mean(bayes.raw_samples,axis=0)"
   ]
  },
  {
   "cell_type": "code",
   "execution_count": null,
   "metadata": {
    "collapsed": true
   },
   "outputs": [],
   "source": []
  }
 ],
 "metadata": {
  "kernelspec": {
   "display_name": "Python 2",
   "language": "python",
   "name": "python2"
  },
  "language_info": {
   "codemirror_mode": {
    "name": "ipython",
    "version": 2
   },
   "file_extension": ".py",
   "mimetype": "text/x-python",
   "name": "python",
   "nbconvert_exporter": "python",
   "pygments_lexer": "ipython2",
   "version": "2.7.12+"
  },
  "widgets": {
   "state": {
    "0842623c6b6346d0912b9b493d52ac0d": {
     "views": [
      {
       "cell_index": 13
      }
     ]
    },
    "369944e519c04e23ac65f5e65008be08": {
     "views": [
      {
       "cell_index": 13
      }
     ]
    },
    "4b56eb421f8b4b14bea238b5555e37a5": {
     "views": [
      {
       "cell_index": 3
      }
     ]
    },
    "5c148f67defc4adf9ef8069f9118cc4a": {
     "views": [
      {
       "cell_index": 3
      }
     ]
    },
    "6afd1f249bc043e0b53fec243ed5952a": {
     "views": [
      {
       "cell_index": 3
      }
     ]
    },
    "6c906059ccf14881bbd362e3fe69b6a5": {
     "views": [
      {
       "cell_index": 3
      }
     ]
    },
    "788707ddb19145f49689023bec9f6137": {
     "views": [
      {
       "cell_index": 3
      }
     ]
    },
    "7a610e3b1178439bb6a2ba629fe73c0c": {
     "views": [
      {
       "cell_index": 3
      }
     ]
    },
    "824a7a58f90d441bb847927db2b76bf9": {
     "views": [
      {
       "cell_index": 3
      }
     ]
    },
    "9a307df83b79442eb1de257b91c88bd6": {
     "views": [
      {
       "cell_index": 3
      }
     ]
    },
    "a1686ed47d6c428da8af01d5fd05bf16": {
     "views": [
      {
       "cell_index": 13
      }
     ]
    },
    "dc01d517f11b4993b937ea0589a6feff": {
     "views": [
      {
       "cell_index": 3
      }
     ]
    },
    "e958e8a4b16845a5b3ae388adad7b672": {
     "views": [
      {
       "cell_index": 3
      }
     ]
    },
    "fcf2264457af4f81b7440da0799c66f0": {
     "views": [
      {
       "cell_index": 3
      }
     ]
    }
   },
   "version": "1.2.0"
  }
 },
 "nbformat": 4,
 "nbformat_minor": 1
}
