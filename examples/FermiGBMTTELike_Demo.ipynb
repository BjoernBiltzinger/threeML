{
 "cells": [
  {
   "cell_type": "markdown",
   "metadata": {},
   "source": [
    "# 3ML with Fermi GBM TTE Data\n",
    "### Purpose\n",
    "Fermi GBM data is in a format that does not lend itself to being used with standard software such as XSPEC. However, the **FermiGBMLikeTTE** in **3ML** plugin allows the user to work directly with the TTE data in its native format\n",
    "\n",
    "**FermiGBMLikeTTE** provides the following functionality\n",
    "* Reading GBM TTE data\n",
    "* Proper MLE polynomial background fitting\n",
    "* Pure counts and light curve plotting\n",
    "\n",
    "It creates a standard **3ML** Model and therefore can be used like any other plugin *without* using specical tools to create PHA files.\n",
    "\n",
    "#### Let's check it out!"
   ]
  },
  {
   "cell_type": "markdown",
   "metadata": {},
   "source": [
    "Import **3ML** as always to make sure you have the plugin"
   ]
  },
  {
   "cell_type": "code",
   "execution_count": 1,
   "metadata": {
    "collapsed": false
   },
   "outputs": [
    {
     "name": "stderr",
     "output_type": "stream",
     "text": [
      "\n",
      "WARNING CppInterfaceNotAvailable: The cthreeML package is not installed. You will not be able to use plugins which require the C/C++ interface (currently HAWC)\n",
      "\n",
      "\n",
      "WARNING NaimaNotAvailable: The naima package is not available. Models that depend on it will not be available\n",
      "\n",
      "\n",
      "WARNING GSLNotAvailable: The GSL library or the pygsl wrapper cannot be loaded. Models that depend on it will not be available.\n",
      "\n"
     ]
    },
    {
     "name": "stdout",
     "output_type": "stream",
     "text": [
      "\n",
      "Did you try to import pygsl in the build directory?\n",
      "\n",
      "Well, that does not work out of the box. If you want to do that, please\n",
      "use\n",
      "      python setup.py build_ext -i\n",
      "to add the necessary extension module in the local pygsl/ directory!\n",
      "\n",
      "Please read the README first! Any further questions or missing information\n",
      "please post to pygsl-discuss@lists.sourceforge.net!\n",
      "\n",
      "Loading xspec models..."
     ]
    },
    {
     "name": "stderr",
     "output_type": "stream",
     "text": [
      "\n",
      "WARNING RuntimeWarning: The current value of the parameter switch was above the new maximum 1.0.\n",
      "\n",
      "\n",
      "WARNING RuntimeWarning: The current value of the parameter specfile was above the new maximum 1.0.\n",
      "\n"
     ]
    },
    {
     "name": "stdout",
     "output_type": "stream",
     "text": [
      "done\n"
     ]
    },
    {
     "name": "stderr",
     "output_type": "stream",
     "text": [
      "\n",
      "WARNING UserWarning: ROOT minimizer not available\n",
      "\n"
     ]
    },
    {
     "name": "stdout",
     "output_type": "stream",
     "text": [
      "Configuration read from /Users/jburgess/.threeML/threeML_config.yml\n"
     ]
    },
    {
     "name": "stderr",
     "output_type": "stream",
     "text": [
      "\n",
      "WARNING CannotImportPlugin: Could not import plugin /usr/local/Cellar/python/HEAD/Frameworks/Python.framework/Versions/2.7/lib/python2.7/site-packages/threeML-0.3.2-py2.7.egg/threeML/plugins/FermiGBM_TTE_Like.py. Do you have the relative instrument software installed and configured?\n",
      "\n",
      "\n",
      "WARNING CannotImportPlugin: Could not import plugin /usr/local/Cellar/python/HEAD/Frameworks/Python.framework/Versions/2.7/lib/python2.7/site-packages/threeML-0.3.2-py2.7.egg/threeML/plugins/FermiLATLike.py. Do you have the relative instrument software installed and configured?\n",
      "\n",
      "\n",
      "WARNING CannotImportPlugin: Could not import plugin /usr/local/Cellar/python/HEAD/Frameworks/Python.framework/Versions/2.7/lib/python2.7/site-packages/threeML-0.3.2-py2.7.egg/threeML/plugins/HAWCLike.py. Do you have the relative instrument software installed and configured?\n",
      "\n",
      "\n",
      "WARNING CannotImportPlugin: Could not import plugin /usr/local/Cellar/python/HEAD/Frameworks/Python.framework/Versions/2.7/lib/python2.7/site-packages/threeML-0.3.2-py2.7.egg/threeML/plugins/SherpaLike.py. Do you have the relative instrument software installed and configured?\n",
      "\n"
     ]
    },
    {
     "name": "stdout",
     "output_type": "stream",
     "text": [
      "Available plugins:\n",
      "\n",
      "FermiGBMLike for Fermi GBM (all detectors)\n",
      "FermiGBMLikeTTE for Fermi GBM TTE (all detectors)\n",
      "SwiftXRTLike for Swift XRT\n",
      "OGIPLike for All OGIP-compliant instruments\n",
      "VERITASLike for VERITAS\n"
     ]
    }
   ],
   "source": [
    "%matplotlib inline\n",
    "\n",
    "from threeML import *\n",
    "\n",
    "\n",
    "\n",
    "get_available_plugins()"
   ]
  },
  {
   "cell_type": "markdown",
   "metadata": {},
   "source": [
    "We will look at GRB080916C as a test case\n",
    "\n",
    "\n",
    "**FermiGBM_TTE_Like** takes as arguments:\n",
    "* a name\n",
    "* the TTE file name\n",
    "* background intervals separated by commas\n",
    "* an inital source interval to fit\n",
    "* the correct RSP file\n",
    "* (optional) a polynomial order for background fitting *(0-4)*\n",
    "\n",
    "**FermiGBM_TTE_Like** will attempt to find the best background polynomial order via a LRT.\n",
    "The background is fit with an Poisson likehood via method developed by Giacomo V. "
   ]
  },
  {
   "cell_type": "code",
   "execution_count": 2,
   "metadata": {
    "collapsed": false
   },
   "outputs": [
    {
     "name": "stderr",
     "output_type": "stream",
     "text": [
      "\n",
      "WARNING UserWarning: No TLMIN keyword found. This DRM is improper. Assuming TLMIN=1\n",
      "\n",
      "\n",
      "WARNING VisibleDeprecationWarning: converting an array with ndim > 0 to an index will result in an error in the future\n",
      "\n"
     ]
    },
    {
     "name": "stdout",
     "output_type": "stream",
     "text": [
      "Auto-probed noise models:\n",
      "- observation: poisson\n",
      "- background: gaussian\n",
      "Auto-probed noise models:\n",
      "- observation: poisson\n",
      "- background: gaussian\n"
     ]
    }
   ],
   "source": [
    "# os.path.join is a way to generate system-independent\n",
    "# paths (good for unix, windows, Mac...)\n",
    "\n",
    "data_dir = os.path.join('gbm','bn080916009')\n",
    "\n",
    "src_selection = \"0.-10.\"\n",
    "\n",
    "\n",
    "nai3 = FermiGBMLikeTTE('NAI3',\n",
    "                         os.path.join(data_dir, \"glg_tte_n3_bn080916009_v01.fit.gz\"),\n",
    "                         \"-10-0,50-200\",\n",
    "                         src_selection,\n",
    "                         rsp_file=os.path.join(data_dir, \"glg_cspec_n3_bn080916009_v07.rsp\"))\n",
    "\n",
    "bgo0 = FermiGBMLikeTTE('BGO0',\n",
    "                         os.path.join(data_dir, \"glg_tte_b0_bn080916009_v01.fit.gz\"),\n",
    "                         \"-10-0,100-200\",\n",
    "                         src_selection,\n",
    "                         rsp_file=os.path.join(data_dir, \"glg_cspec_b0_bn080916009_v07.rsp\"))"
   ]
  },
  {
   "cell_type": "markdown",
   "metadata": {},
   "source": [
    "Let's look at the lightcurve of NAI3 to check out background fit:"
   ]
  },
  {
   "cell_type": "code",
   "execution_count": 3,
   "metadata": {
    "collapsed": false
   },
   "outputs": [
    {
     "data": {
      "image/png": "[encoded data removed]",
      "text/plain": [
       "<matplotlib.figure.Figure at 0x115cfeb10>"
      ]
     },
     "metadata": {},
     "output_type": "display_data"
    }
   ],
   "source": [
    "nai3.view_lightcurve(-10,200.,.5)"
   ]
  },
  {
   "cell_type": "markdown",
   "metadata": {},
   "source": [
    "Oy! That is not so nice! Luckily, we can simply select another interval!"
   ]
  },
  {
   "cell_type": "code",
   "execution_count": 4,
   "metadata": {
    "collapsed": false
   },
   "outputs": [
    {
     "data": {
      "image/png": "[encoded data removed]",
      "text/plain": [
       "<matplotlib.figure.Figure at 0x1166fc210>"
      ]
     },
     "metadata": {},
     "output_type": "display_data"
    }
   ],
   "source": [
    "nai3.set_background_interval(\"-10.-0.\",\"120-200\") # You can select as many as required!\n",
    "nai3.view_lightcurve(-10,200.,.5)"
   ]
  },
  {
   "cell_type": "markdown",
   "metadata": {},
   "source": [
    "Ok! This is a much better fit. If we change our source interval the counts are automatically recalculated.\n",
    "### Energy selection\n",
    "\n",
    "We need to select the energies we would like to fit over. GBM has over/underflow channels which must be exlcuded from the fit. This is not always at the same energy, so we need to check.\n",
    "**FermiGBM_TTE_Like**  (and **FermiGBMLike** ) allow you to plot the count spectra so you can see what you will be excluding in the fit."
   ]
  },
  {
   "cell_type": "code",
   "execution_count": 5,
   "metadata": {
    "collapsed": false
   },
   "outputs": [
    {
     "name": "stdout",
     "output_type": "stream",
     "text": [
      "Range 10.0-30.0 translates to channels 6-21\n",
      "Range 40.0-950.0 translates to channels 27-125\n",
      "Now using 115 channels out of 128\n"
     ]
    },
    {
     "data": {
      "image/png": "[encoded data removed]",
      "text/plain": [
       "<matplotlib.figure.Figure at 0x1182ec410>"
      ]
     },
     "metadata": {},
     "output_type": "display_data"
    }
   ],
   "source": [
    "nai3.set_active_measurements(\"10.0-30.0\", \"40.0-950.0\")\n",
    "nai3.view_count_spectrum()"
   ]
  },
  {
   "cell_type": "code",
   "execution_count": 16,
   "metadata": {
    "collapsed": false
   },
   "outputs": [],
   "source": [
    "nai3._evt_list.poly_order =-1"
   ]
  },
  {
   "cell_type": "code",
   "execution_count": 7,
   "metadata": {
    "collapsed": false
   },
   "outputs": [
    {
     "ename": "RuntimeError",
     "evalue": "ebounds should not be altered manually",
     "output_type": "error",
     "traceback": [
      "\u001b[0;31m---------------------------------------------------------------------------\u001b[0m",
      "\u001b[0;31mRuntimeError\u001b[0m                              Traceback (most recent call last)",
      "\u001b[0;32m<ipython-input-7-71c01f58573a>\u001b[0m in \u001b[0;36m<module>\u001b[0;34m()\u001b[0m\n\u001b[0;32m----> 1\u001b[0;31m \u001b[0mnai3\u001b[0m\u001b[0;34m.\u001b[0m\u001b[0m_rsp\u001b[0m\u001b[0;34m.\u001b[0m\u001b[0mebounds\u001b[0m \u001b[0;34m=\u001b[0m\u001b[0;36m1\u001b[0m\u001b[0;34m\u001b[0m\u001b[0m\n\u001b[0m",
      "\u001b[0;32m/usr/local/Cellar/python/HEAD/Frameworks/Python.framework/Versions/2.7/lib/python2.7/site-packages/threeML-0.3.2-py2.7.egg/threeML/plugins/OGIP/response.pyc\u001b[0m in \u001b[0;36mebounds\u001b[0;34m(self, value)\u001b[0m\n\u001b[1;32m    166\u001b[0m     \u001b[0;34m@\u001b[0m\u001b[0mebounds\u001b[0m\u001b[0;34m.\u001b[0m\u001b[0msetter\u001b[0m\u001b[0;34m\u001b[0m\u001b[0m\n\u001b[1;32m    167\u001b[0m     \u001b[0;32mdef\u001b[0m \u001b[0mebounds\u001b[0m\u001b[0;34m(\u001b[0m\u001b[0mself\u001b[0m\u001b[0;34m,\u001b[0m\u001b[0mvalue\u001b[0m\u001b[0;34m)\u001b[0m\u001b[0;34m:\u001b[0m\u001b[0;34m\u001b[0m\u001b[0m\n\u001b[0;32m--> 168\u001b[0;31m         \u001b[0;32mraise\u001b[0m \u001b[0mRuntimeError\u001b[0m\u001b[0;34m(\u001b[0m\u001b[0;34m'ebounds should not be altered manually'\u001b[0m\u001b[0;34m)\u001b[0m\u001b[0;34m\u001b[0m\u001b[0m\n\u001b[0m\u001b[1;32m    169\u001b[0m \u001b[0;34m\u001b[0m\u001b[0m\n\u001b[1;32m    170\u001b[0m     \u001b[0;34m@\u001b[0m\u001b[0mebounds\u001b[0m\u001b[0;34m.\u001b[0m\u001b[0mgetter\u001b[0m\u001b[0;34m\u001b[0m\u001b[0m\n",
      "\u001b[0;31mRuntimeError\u001b[0m: ebounds should not be altered manually"
     ]
    }
   ],
   "source": [
    "nai3._rsp.ebounds =1"
   ]
  },
  {
   "cell_type": "code",
   "execution_count": 6,
   "metadata": {
    "collapsed": false
   },
   "outputs": [
    {
     "name": "stdout",
     "output_type": "stream",
     "text": [
      "Range 250-43000 translates to channels 1-126\n",
      "Now using 126 channels out of 128\n"
     ]
    },
    {
     "data": {
      "image/png": "[encoded data removed]",
      "text/plain": [
       "<matplotlib.figure.Figure at 0x11896be50>"
      ]
     },
     "metadata": {},
     "output_type": "display_data"
    }
   ],
   "source": [
    "bgo0.set_active_measurements(\"250-43000\")\n",
    "bgo0.view_count_spectrum()"
   ]
  },
  {
   "cell_type": "markdown",
   "metadata": {},
   "source": [
    "## Fitting!\n",
    "\n",
    "We are now ready for the standard **3ML** process:\n"
   ]
  },
  {
   "cell_type": "code",
   "execution_count": 7,
   "metadata": {
    "collapsed": false
   },
   "outputs": [
    {
     "data": {
      "text/html": [
       "Point sources: bn080916009<br><br>Extended sources: (none)<br><br>Particle sources: (none)<br><br>Free parameters:<br><table id=\"table4708027472\">\n",
       "<thead><tr><th>name</th><th>value</th><th>min_value</th><th>max_value</th><th>unit</th><th>delta</th><th>free</th></tr></thead>\n",
       "<tr><td>bn080916009.spectrum.main.Band.K</td><td>0.0001</td><td>None</td><td>None</td><td>1 / (cm2 keV s)</td><td>1e-05</td><td>True</td></tr>\n",
       "<tr><td>bn080916009.spectrum.main.Band.alpha</td><td>-1.0</td><td>-1.5</td><td>3.0</td><td></td><td>0.1</td><td>True</td></tr>\n",
       "<tr><td>bn080916009.spectrum.main.Band.xp</td><td>500.0</td><td>10.0</td><td>None</td><td>keV</td><td>50.0</td><td>True</td></tr>\n",
       "<tr><td>bn080916009.spectrum.main.Band.beta</td><td>-2.0</td><td>-5.0</td><td>-1.6</td><td></td><td>0.2</td><td>True</td></tr>\n",
       "</table>"
      ],
      "text/plain": [
       "Point sources: bn080916009\n",
       "\n",
       "Extended sources: (none)\n",
       "\n",
       "Particle sources: (none)\n",
       "\n",
       "Free parameters:\n",
       "                name                 value  min_value ... delta free\n",
       "------------------------------------ ------ --------- ... ----- ----\n",
       "    bn080916009.spectrum.main.Band.K 0.0001      None ... 1e-05 True\n",
       "bn080916009.spectrum.main.Band.alpha   -1.0      -1.5 ...   0.1 True\n",
       "   bn080916009.spectrum.main.Band.xp  500.0      10.0 ...  50.0 True\n",
       " bn080916009.spectrum.main.Band.beta   -2.0      -5.0 ...   0.2 True"
      ]
     },
     "metadata": {},
     "output_type": "display_data"
    }
   ],
   "source": [
    "triggerName = 'bn080916009'\n",
    "ra = 121.8\n",
    "dec = -61.3\n",
    "\n",
    "\n",
    "data_list = DataList(nai3,bgo0 )\n",
    "\n",
    "band = Band()\n",
    "\n",
    "\n",
    "GRB = PointSource( triggerName, ra, dec, spectral_shape=band )\n",
    "\n",
    "model = Model( GRB )\n",
    "\n",
    "model.display()"
   ]
  },
  {
   "cell_type": "code",
   "execution_count": 8,
   "metadata": {
    "collapsed": false
   },
   "outputs": [
    {
     "name": "stdout",
     "output_type": "stream",
     "text": [
      "Best fit values:\n",
      "\n"
     ]
    },
    {
     "data": {
      "text/html": [
       "<table id=\"table4708028112\">\n",
       "<thead><tr><th>#</th><th>Name</th><th>Best fit value</th><th>Unit</th></tr></thead>\n",
       "<tr><td>0</td><td>bn080916009.spectrum.main.Band.K</td><td>2.67 +/- 0.24</td><td>1 / (cm2 keV s)</td></tr>\n",
       "<tr><td>1</td><td>bn080916009.spectrum.main.Band.alpha</td><td>-0.93 +/- 0.08</td><td></td></tr>\n",
       "<tr><td>2</td><td>bn080916009.spectrum.main.Band.xp</td><td>(8.5 +/- 3.0)e+02</td><td>keV</td></tr>\n",
       "<tr><td>3</td><td>bn080916009.spectrum.main.Band.beta</td><td>-2.12 +/- 0.17</td><td></td></tr>\n",
       "</table>"
      ],
      "text/plain": [
       " #                  Name                   Best fit value        Unit     \n",
       "--- ------------------------------------ ----------------- ---------------\n",
       "  0     bn080916009.spectrum.main.Band.K     2.67 +/- 0.24 1 / (cm2 keV s)\n",
       "  1 bn080916009.spectrum.main.Band.alpha    -0.93 +/- 0.08                \n",
       "  2    bn080916009.spectrum.main.Band.xp (8.5 +/- 3.0)e+02             keV\n",
       "  3  bn080916009.spectrum.main.Band.beta    -2.12 +/- 0.17                "
      ]
     },
     "metadata": {},
     "output_type": "display_data"
    },
    {
     "name": "stdout",
     "output_type": "stream",
     "text": [
      "\n",
      "NOTE: errors on parameters are approximate. Use get_errors().\n",
      "\n",
      "(no nuisance parameters)\n",
      "\n",
      "Correlation matrix:\n",
      "\n"
     ]
    },
    {
     "data": {
      "text/html": [
       "<table id=\"table4717991888\">\n",
       "<tr><td>1.00</td><td>0.98</td><td>-1.00</td><td>0.95</td></tr>\n",
       "<tr><td>0.98</td><td>1.00</td><td>-0.99</td><td>0.94</td></tr>\n",
       "<tr><td>-1.00</td><td>-0.99</td><td>1.00</td><td>-0.96</td></tr>\n",
       "<tr><td>0.95</td><td>0.94</td><td>-0.96</td><td>1.00</td></tr>\n",
       "</table>"
      ],
      "text/plain": [
       " 1.00  0.98 -1.00  0.95\n",
       " 0.98  1.00 -0.99  0.94\n",
       "-1.00 -0.99  1.00 -0.96\n",
       " 0.95  0.94 -0.96  1.00"
      ]
     },
     "metadata": {},
     "output_type": "display_data"
    },
    {
     "name": "stdout",
     "output_type": "stream",
     "text": [
      "\n",
      "Values of -log(likelihood) at the minimum:\n",
      "\n"
     ]
    },
    {
     "data": {
      "text/html": [
       "<div>\n",
       "<table border=\"1\" class=\"dataframe\">\n",
       "  <thead>\n",
       "    <tr style=\"text-align: right;\">\n",
       "      <th></th>\n",
       "      <th>-log(likelihood)</th>\n",
       "    </tr>\n",
       "  </thead>\n",
       "  <tbody>\n",
       "    <tr>\n",
       "      <th>total</th>\n",
       "      <td>3623.276685</td>\n",
       "    </tr>\n",
       "    <tr>\n",
       "      <th>NAI3</th>\n",
       "      <td>1754.281374</td>\n",
       "    </tr>\n",
       "    <tr>\n",
       "      <th>BGO0</th>\n",
       "      <td>1868.995311</td>\n",
       "    </tr>\n",
       "  </tbody>\n",
       "</table>\n",
       "</div>"
      ],
      "text/plain": [
       "       -log(likelihood)\n",
       "total       3623.276685\n",
       "NAI3        1754.281374\n",
       "BGO0        1868.995311"
      ]
     },
     "metadata": {},
     "output_type": "display_data"
    }
   ],
   "source": [
    "jl = JointLikelihood( model, data_list, verbose=False )\n",
    "\n",
    "res = jl.fit()"
   ]
  },
  {
   "cell_type": "code",
   "execution_count": 9,
   "metadata": {
    "collapsed": false
   },
   "outputs": [
    {
     "data": {
      "text/html": [
       "<table id=\"table4717990736\">\n",
       "<thead><tr><th>Name</th><th>Value</th><th>Unit</th></tr></thead>\n",
       "<tr><td>bn080916009.spectrum.main.Band.K</td><td>2.67 -0.07 +0.08</td><td>1 / (cm2 keV s)</td></tr>\n",
       "<tr><td>bn080916009.spectrum.main.Band.alpha</td><td>-0.926 -0.026 +0.027</td><td></td></tr>\n",
       "<tr><td>bn080916009.spectrum.main.Band.xp</td><td>(8.5 -0.8 +1.0)e+02</td><td>keV</td></tr>\n",
       "<tr><td>bn080916009.spectrum.main.Band.beta</td><td>-2.12 -0.08 +0.06</td><td></td></tr>\n",
       "</table>"
      ],
      "text/plain": [
       "                Name                        Value               Unit     \n",
       "------------------------------------ -------------------- ---------------\n",
       "    bn080916009.spectrum.main.Band.K     2.67 -0.07 +0.08 1 / (cm2 keV s)\n",
       "bn080916009.spectrum.main.Band.alpha -0.926 -0.026 +0.027                \n",
       "   bn080916009.spectrum.main.Band.xp  (8.5 -0.8 +1.0)e+02             keV\n",
       " bn080916009.spectrum.main.Band.beta    -2.12 -0.08 +0.06                "
      ]
     },
     "metadata": {},
     "output_type": "display_data"
    }
   ],
   "source": [
    "res = jl.get_errors()"
   ]
  },
  {
   "cell_type": "code",
   "execution_count": 10,
   "metadata": {
    "collapsed": false
   },
   "outputs": [
    {
     "data": {
      "image/png": "[encoded data removed]",
      "text/plain": [
       "<matplotlib.figure.Figure at 0x11896b890>"
      ]
     },
     "metadata": {},
     "output_type": "display_data"
    }
   ],
   "source": [
    "res = jl.get_contours(band.xp,400,1700,20)"
   ]
  },
  {
   "cell_type": "code",
   "execution_count": 11,
   "metadata": {
    "collapsed": false
   },
   "outputs": [
    {
     "data": {
      "image/png": "[encoded data removed]",
      "text/plain": [
       "<matplotlib.figure.Figure at 0x1182d7610>"
      ]
     },
     "metadata": {},
     "output_type": "display_data"
    }
   ],
   "source": [
    "res = jl.get_contours(band.xp,300,1700,25,band.alpha,-1.1,-0.8,25)"
   ]
  },
  {
   "cell_type": "markdown",
   "metadata": {},
   "source": [
    "## And if you really want to be sure => Go Bayesian!"
   ]
  },
  {
   "cell_type": "code",
   "execution_count": 19,
   "metadata": {
    "collapsed": false
   },
   "outputs": [],
   "source": [
    "# First define priors\n",
    "# We can do it explicitly like this:\n",
    "# (be careful not to choose the boundaries outside of the allowed value\n",
    "# for the parameter, according to the min_value and max_value properties)\n",
    "\n",
    "band.K.prior = Log_uniform_prior(lower_bound=1e-4, upper_bound=3)\n",
    "band.xp.prior = Log_uniform_prior(lower_bound=10, upper_bound=1e5)\n",
    "\n",
    "# or use the set_uninformative_prior method, which will use as lower_bound\n",
    "# and upper_bound the current boundaries for the parameter. Such boundaries\n",
    "# must exists and be finite\n",
    "\n",
    "band.alpha.set_uninformative_prior(Uniform_prior)\n",
    "band.beta.set_uninformative_prior(Uniform_prior)\n",
    "\n",
    "bayes = BayesianAnalysis(model, data_list)"
   ]
  },
  {
   "cell_type": "markdown",
   "metadata": {},
   "source": [
    "### Sample with Affine Invariant Sampling"
   ]
  },
  {
   "cell_type": "code",
   "execution_count": null,
   "metadata": {
    "collapsed": false,
    "scrolled": true
   },
   "outputs": [
    {
     "name": "stdout",
     "output_type": "stream",
     "text": [
      "Running burn-in of 200 samples...\n",
      "\n",
      "\n",
      "Sampling...\n",
      "\n",
      "\n",
      "Mean acceptance fraction: 0.5779\n"
     ]
    }
   ],
   "source": [
    "samples = bayes.sample(n_walkers=50,burn_in=200, n_samples=1000)"
   ]
  },
  {
   "cell_type": "code",
   "execution_count": null,
   "metadata": {
    "collapsed": false
   },
   "outputs": [],
   "source": [
    "fig = bayes.corner_plot(plot_contours=True, plot_density=False)"
   ]
  },
  {
   "cell_type": "markdown",
   "metadata": {},
   "source": [
    "### Sample with Nested Sampling (MULTINEST)\n",
    "\n",
    "(see parallel demo for tips on parallel sampling with MPI)"
   ]
  },
  {
   "cell_type": "code",
   "execution_count": null,
   "metadata": {
    "collapsed": false
   },
   "outputs": [],
   "source": [
    "samples = bayes.sample_multinest(n_live_points=400,resume=False)"
   ]
  },
  {
   "cell_type": "code",
   "execution_count": null,
   "metadata": {
    "collapsed": false
   },
   "outputs": [],
   "source": [
    "fig = bayes.corner_plot(plot_contours=True, plot_density=False)"
   ]
  },
  {
   "cell_type": "markdown",
   "metadata": {},
   "source": [
    "#### Credible Regions"
   ]
  },
  {
   "cell_type": "code",
   "execution_count": 28,
   "metadata": {
    "collapsed": false
   },
   "outputs": [
    {
     "data": {
      "text/html": [
       "<table id=\"table4750374160\">\n",
       "<thead><tr><th>Name</th><th>Value</th><th>Unit</th></tr></thead>\n",
       "<tr><td>bn080916009.spectrum.main.Band.K</td><td>0.0295 -0.0006 +0.0007</td><td>1 / (cm2 keV s)</td></tr>\n",
       "<tr><td>bn080916009.spectrum.main.Band.alpha</td><td>-0.987 -0.018 +0.020</td><td></td></tr>\n",
       "<tr><td>bn080916009.spectrum.main.Band.xp</td><td>(8.8 -0.7 +0.7)e+02</td><td>keV</td></tr>\n",
       "<tr><td>bn080916009.spectrum.main.Band.beta</td><td>-2.23 -0.08 +0.07</td><td></td></tr>\n",
       "</table>"
      ],
      "text/plain": [
       "                Name                         Value                Unit     \n",
       "------------------------------------ ---------------------- ---------------\n",
       "    bn080916009.spectrum.main.Band.K 0.0295 -0.0006 +0.0007 1 / (cm2 keV s)\n",
       "bn080916009.spectrum.main.Band.alpha   -0.987 -0.018 +0.020                \n",
       "   bn080916009.spectrum.main.Band.xp    (8.8 -0.7 +0.7)e+02             keV\n",
       " bn080916009.spectrum.main.Band.beta      -2.23 -0.08 +0.07                "
      ]
     },
     "metadata": {},
     "output_type": "display_data"
    },
    {
     "name": "stdout",
     "output_type": "stream",
     "text": [
      "\n",
      "(probability 68)\n"
     ]
    }
   ],
   "source": [
    "# equal-tailed credible regions\n",
    "eq_tail = bayes.get_credible_intervals()\n"
   ]
  },
  {
   "cell_type": "code",
   "execution_count": 29,
   "metadata": {
    "collapsed": false
   },
   "outputs": [
    {
     "data": {
      "text/html": [
       "<table id=\"table4798129744\">\n",
       "<thead><tr><th>Name</th><th>Value</th><th>Unit</th></tr></thead>\n",
       "<tr><td>bn080916009.spectrum.main.Band.K</td><td>0.0295 -0.0025 +0.0026</td><td>1 / (cm2 keV s)</td></tr>\n",
       "<tr><td>bn080916009.spectrum.main.Band.alpha</td><td>-0.99 -0.07 +0.08</td><td></td></tr>\n",
       "<tr><td>bn080916009.spectrum.main.Band.xp</td><td>(8.8 -2.7 +3.3)e+02</td><td>keV</td></tr>\n",
       "<tr><td>bn080916009.spectrum.main.Band.beta</td><td>-2.2 -0.4 +0.26</td><td></td></tr>\n",
       "</table>"
      ],
      "text/plain": [
       "                Name                         Value                Unit     \n",
       "------------------------------------ ---------------------- ---------------\n",
       "    bn080916009.spectrum.main.Band.K 0.0295 -0.0025 +0.0026 1 / (cm2 keV s)\n",
       "bn080916009.spectrum.main.Band.alpha      -0.99 -0.07 +0.08                \n",
       "   bn080916009.spectrum.main.Band.xp    (8.8 -2.7 +3.3)e+02             keV\n",
       " bn080916009.spectrum.main.Band.beta        -2.2 -0.4 +0.26                "
      ]
     },
     "metadata": {},
     "output_type": "display_data"
    }
   ],
   "source": [
    "# highest denisty intervals\n",
    "hdi = bayes.get_highest_density_interval()"
   ]
  },
  {
   "cell_type": "markdown",
   "metadata": {},
   "source": [
    "#### Effective free parameters (experimental)\n",
    "\n",
    "Determine the complexity of your model and data \n"
   ]
  },
  {
   "cell_type": "code",
   "execution_count": 30,
   "metadata": {
    "collapsed": false
   },
   "outputs": [
    {
     "data": {
      "text/plain": [
       "4.2874807768384926"
      ]
     },
     "execution_count": 30,
     "metadata": {},
     "output_type": "execute_result"
    }
   ],
   "source": [
    "bayes.get_effective_free_parameters()"
   ]
  },
  {
   "cell_type": "markdown",
   "metadata": {},
   "source": [
    "# TODO\n",
    "\n",
    "* Export TTE selections to PHA files for XSPEC\n",
    "* Handling RSP2 files correctly\n",
    "* Your suggestions!"
   ]
  },
  {
   "cell_type": "code",
   "execution_count": 15,
   "metadata": {
    "collapsed": true
   },
   "outputs": [],
   "source": [
    "\n",
    "import copy\n",
    "def intervals_overlap(tmin,tmax):\n",
    "\n",
    "\n",
    "\n",
    "\n",
    "    n_intervals = len(tmin)\n",
    "\n",
    "    # Check that\n",
    "    for i in range(n_intervals):\n",
    "        throw_away_tmin = copy.copy(tmin)\n",
    "        throw_away_tmax = copy.copy(tmax)\n",
    "\n",
    "\n",
    "        this_min = throw_away_tmin.pop(i)\n",
    "        this_max = throw_away_tmax.pop(i)\n",
    "\n",
    "        for mn,mx in zip(throw_away_tmin,throw_away_tmax):\n",
    "\n",
    "            if this_min < mn < this_max:\n",
    "                raise RuntimeError('fuck')\n",
    "                print 'here'\n",
    "                return True\n",
    "\n",
    "            elif this_min < mx < this_max:\n",
    "\n",
    "                return True\n",
    "\n",
    "        return False\n"
   ]
  },
  {
   "cell_type": "code",
   "execution_count": 16,
   "metadata": {
    "collapsed": false
   },
   "outputs": [
    {
     "ename": "RuntimeError",
     "evalue": "fuck",
     "output_type": "error",
     "traceback": [
      "\u001b[0;31m---------------------------------------------------------------------------\u001b[0m",
      "\u001b[0;31mRuntimeError\u001b[0m                              Traceback (most recent call last)",
      "\u001b[0;32m<ipython-input-16-a97f5cba838b>\u001b[0m in \u001b[0;36m<module>\u001b[0;34m()\u001b[0m\n\u001b[0;32m----> 1\u001b[0;31m \u001b[0mintervals_overlap\u001b[0m\u001b[0;34m(\u001b[0m\u001b[0;34m[\u001b[0m\u001b[0;36m0\u001b[0m\u001b[0;34m,\u001b[0m\u001b[0;36m20\u001b[0m\u001b[0;34m]\u001b[0m\u001b[0;34m,\u001b[0m\u001b[0;34m[\u001b[0m\u001b[0;36m25\u001b[0m\u001b[0;34m,\u001b[0m\u001b[0;36m50\u001b[0m\u001b[0;34m]\u001b[0m\u001b[0;34m)\u001b[0m\u001b[0;34m\u001b[0m\u001b[0m\n\u001b[0m",
      "\u001b[0;32m<ipython-input-15-ef7569251f2d>\u001b[0m in \u001b[0;36mintervals_overlap\u001b[0;34m(tmin, tmax)\u001b[0m\n\u001b[1;32m     20\u001b[0m \u001b[0;34m\u001b[0m\u001b[0m\n\u001b[1;32m     21\u001b[0m             \u001b[0;32mif\u001b[0m \u001b[0mthis_min\u001b[0m \u001b[0;34m<\u001b[0m \u001b[0mmn\u001b[0m \u001b[0;34m<\u001b[0m \u001b[0mthis_max\u001b[0m\u001b[0;34m:\u001b[0m\u001b[0;34m\u001b[0m\u001b[0m\n\u001b[0;32m---> 22\u001b[0;31m                 \u001b[0;32mraise\u001b[0m \u001b[0mRuntimeError\u001b[0m\u001b[0;34m(\u001b[0m\u001b[0;34m'fuck'\u001b[0m\u001b[0;34m)\u001b[0m\u001b[0;34m\u001b[0m\u001b[0m\n\u001b[0m\u001b[1;32m     23\u001b[0m                 \u001b[0;32mprint\u001b[0m \u001b[0;34m'here'\u001b[0m\u001b[0;34m\u001b[0m\u001b[0m\n\u001b[1;32m     24\u001b[0m                 \u001b[0;32mreturn\u001b[0m \u001b[0mTrue\u001b[0m\u001b[0;34m\u001b[0m\u001b[0m\n",
      "\u001b[0;31mRuntimeError\u001b[0m: fuck"
     ]
    }
   ],
   "source": [
    "intervals_overlap([0,20],[25,50])"
   ]
  },
  {
   "cell_type": "code",
   "execution_count": null,
   "metadata": {
    "collapsed": true
   },
   "outputs": [],
   "source": []
  }
 ],
 "metadata": {
  "kernelspec": {
   "display_name": "Python 2",
   "language": "python",
   "name": "python2"
  },
  "language_info": {
   "codemirror_mode": {
    "name": "ipython",
    "version": 2
   },
   "file_extension": ".py",
   "mimetype": "text/x-python",
   "name": "python",
   "nbconvert_exporter": "python",
   "pygments_lexer": "ipython2",
   "version": "2.7.12+"
  },
  "widgets": {
   "state": {
    "26a0326d889c4c93b26a8b3b29aaecf5": {
     "views": [
      {
       "cell_index": 18
      }
     ]
    },
    "50863909a4af4a8fa8321c7df357ef50": {
     "views": [
      {
       "cell_index": 23
      }
     ]
    },
    "5a23839adace4d8dbc1d6162f1d68a52": {
     "views": [
      {
       "cell_index": 23
      }
     ]
    },
    "5ba4cb82aad24d34a096d5476bf66acf": {
     "views": [
      {
       "cell_index": 23
      }
     ]
    },
    "8015fa5e43034836b82ed837e8692e28": {
     "views": [
      {
       "cell_index": 19
      }
     ]
    },
    "a56965b0ac354e9cb71801e29d579d36": {
     "views": [
      {
       "cell_index": 23
      }
     ]
    }
   },
   "version": "1.2.0"
  }
 },
 "nbformat": 4,
 "nbformat_minor": 0
}
