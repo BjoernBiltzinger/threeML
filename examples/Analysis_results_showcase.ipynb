{
 "cells": [
  {
   "cell_type": "code",
   "execution_count": 1,
   "metadata": {
    "collapsed": false
   },
   "outputs": [
    {
     "name": "stderr",
     "output_type": "stream",
     "text": [
      "\n",
      "WARNING ShimWarning: The `IPython.kernel` package has been deprecated. You should import from ipykernel or jupyter_client instead.\n",
      "\n",
      "\n",
      "WARNING RuntimeWarning: to-Python converter for std::vector<double, std::allocator<double> > already registered; second conversion method ignored.\n",
      "\n",
      "\n",
      "WARNING UserWarning: Using default configuration from /home/giacomov/work_env/local/lib/python2.7/site-packages/threeML/data/threeML_config.yml. You might want to copy it to /home/giacomov/.threeML/threeML_config.yml to customize it and avoid this warning.\n",
      "\n"
     ]
    }
   ],
   "source": [
    "from threeML import *\n",
    "\n",
    "from threeML.analysis_results import *\n",
    "\n",
    "from threeML.io.progress_bar import progress_bar\n",
    "\n",
    "import matplotlib.pyplot as plt\n",
    "\n",
    "%matplotlib inline"
   ]
  },
  {
   "cell_type": "code",
   "execution_count": 2,
   "metadata": {
    "collapsed": true
   },
   "outputs": [],
   "source": [
    "# These are the same simulated dataset we use in the test of the XY plugin\n",
    "\n",
    "x = np.linspace(0, 10, 50)\n",
    "\n",
    "poiss_sig = [44, 43, 38, 25, 51, 37, 46, 47, 55, 36, 40, 32, 46, 37, 44, 42, 50, 48, 52, 47, 39, 55, 80, 93, 123, 135,\n",
    "             96, 74, 43, 49, 43, 51, 27, 32, 35, 42, 43, 49, 38, 43, 59, 54, 50, 40, 50, 57, 55, 47, 38, 64]"
   ]
  },
  {
   "cell_type": "code",
   "execution_count": 3,
   "metadata": {
    "collapsed": false
   },
   "outputs": [
    {
     "name": "stdout",
     "output_type": "stream",
     "text": [
      "Using Poisson log-likelihood\n"
     ]
    },
    {
     "name": "stderr",
     "output_type": "stream",
     "text": [
      "\n",
      "WARNING NotANumberInLikelihood: These parameters returned a logLike = Nan: [  1.00000000e+00  -3.99890797e-03   6.00000000e+01   5.00000000e+00\n",
      "   1.00000000e+00]\n",
      "\n",
      "\n",
      "WARNING NotANumberInLikelihood: These parameters returned a logLike = Nan: [  1.00000000e+00  -3.99890797e-04   6.00000000e+01   5.00000000e+00\n",
      "   1.00000000e+00]\n",
      "\n",
      "\n",
      "WARNING NotANumberInLikelihood: These parameters returned a logLike = Nan: [  2.74689426e+00  -8.44189284e+01   1.99947409e+02   7.02357208e+01\n",
      "   8.83576553e-02]\n",
      "\n",
      "\n",
      "WARNING NotANumberInLikelihood: These parameters returned a logLike = Nan: [  5.99090526e+00  -7.25788207e+01   1.90297891e+02   2.28576945e+00\n",
      "   5.99229188e-03]\n",
      "\n",
      "\n",
      "WARNING NotANumberInLikelihood: These parameters returned a logLike = Nan: [  6.37129911 -21.56341203  66.87827585   9.68134519   6.37340368]\n",
      "\n",
      "\n",
      "WARNING NotANumberInLikelihood: These parameters returned a logLike = Nan: [  5.79708816 -20.66950233  25.77003195  12.02397563   0.64058501]\n",
      "\n",
      "\n",
      "WARNING NotANumberInLikelihood: These parameters returned a logLike = Nan: [ -3.42628549 -95.33063396  21.79702097  28.2329106    4.92960456]\n",
      "\n",
      "\n",
      "WARNING NotANumberInLikelihood: These parameters returned a logLike = Nan: [   5.8257588    -5.20203032  127.43596899    2.97105981    1.26807908]\n",
      "\n"
     ]
    },
    {
     "name": "stdout",
     "output_type": "stream",
     "text": [
      "Best fit values:\n",
      "\n"
     ]
    },
    {
     "data": {
      "text/html": [
       "<div>\n",
       "<table border=\"1\" class=\"dataframe\">\n",
       "  <thead>\n",
       "    <tr style=\"text-align: right;\">\n",
       "      <th></th>\n",
       "      <th>Value</th>\n",
       "      <th>Unit</th>\n",
       "    </tr>\n",
       "  </thead>\n",
       "  <tbody>\n",
       "    <tr>\n",
       "      <th>fake.spectrum.main.composite.a_1</th>\n",
       "      <td>(7.8 +/- 3.2) x 10^-1</td>\n",
       "      <td>1 / (cm2 keV2 s)</td>\n",
       "    </tr>\n",
       "    <tr>\n",
       "      <th>fake.spectrum.main.composite.b_1</th>\n",
       "      <td>(4.04 +/- 0.18) x 10</td>\n",
       "      <td>1 / (cm2 keV s)</td>\n",
       "    </tr>\n",
       "    <tr>\n",
       "      <th>fake.spectrum.main.composite.F_2</th>\n",
       "      <td>(7.2 +/- 0.6) x 10</td>\n",
       "      <td>1 / (cm2 s)</td>\n",
       "    </tr>\n",
       "    <tr>\n",
       "      <th>fake.spectrum.main.composite.mu_2</th>\n",
       "      <td>4.990 +/- 0.030</td>\n",
       "      <td>keV</td>\n",
       "    </tr>\n",
       "    <tr>\n",
       "      <th>fake.spectrum.main.composite.sigma_2</th>\n",
       "      <td>(3.31 +/- 0.27) x 10^-1</td>\n",
       "      <td>keV</td>\n",
       "    </tr>\n",
       "  </tbody>\n",
       "</table>\n",
       "</div>"
      ],
      "text/plain": [
       "                                                        Value  \\\n",
       "fake.spectrum.main.composite.a_1        (7.8 +/- 3.2) x 10^-1   \n",
       "fake.spectrum.main.composite.b_1         (4.04 +/- 0.18) x 10   \n",
       "fake.spectrum.main.composite.F_2           (7.2 +/- 0.6) x 10   \n",
       "fake.spectrum.main.composite.mu_2             4.990 +/- 0.030   \n",
       "fake.spectrum.main.composite.sigma_2  (3.31 +/- 0.27) x 10^-1   \n",
       "\n",
       "                                                  Unit  \n",
       "fake.spectrum.main.composite.a_1      1 / (cm2 keV2 s)  \n",
       "fake.spectrum.main.composite.b_1       1 / (cm2 keV s)  \n",
       "fake.spectrum.main.composite.F_2           1 / (cm2 s)  \n",
       "fake.spectrum.main.composite.mu_2                  keV  \n",
       "fake.spectrum.main.composite.sigma_2               keV  "
      ]
     },
     "metadata": {},
     "output_type": "display_data"
    },
    {
     "name": "stdout",
     "output_type": "stream",
     "text": [
      "\n",
      "Correlation matrix:\n",
      "\n"
     ]
    },
    {
     "data": {
      "text/html": [
       "<table id=\"table140607560457616\">\n",
       "<tr><td>1.00</td><td>-0.83</td><td>-0.01</td><td>-0.05</td><td>-0.01</td></tr>\n",
       "<tr><td>-0.83</td><td>1.00</td><td>-0.17</td><td>0.05</td><td>-0.12</td></tr>\n",
       "<tr><td>-0.01</td><td>-0.17</td><td>1.00</td><td>-0.04</td><td>0.41</td></tr>\n",
       "<tr><td>-0.05</td><td>0.05</td><td>-0.04</td><td>1.00</td><td>-0.08</td></tr>\n",
       "<tr><td>-0.01</td><td>-0.12</td><td>0.41</td><td>-0.08</td><td>1.00</td></tr>\n",
       "</table>"
      ],
      "text/plain": [
       " 1.00 -0.83 -0.01 -0.05 -0.01\n",
       "-0.83  1.00 -0.17  0.05 -0.12\n",
       "-0.01 -0.17  1.00 -0.04  0.41\n",
       "-0.05  0.05 -0.04  1.00 -0.08\n",
       "-0.01 -0.12  0.41 -0.08  1.00"
      ]
     },
     "metadata": {},
     "output_type": "display_data"
    },
    {
     "name": "stdout",
     "output_type": "stream",
     "text": [
      "\n",
      "Values of -log(likelihood) at the minimum:\n",
      "\n"
     ]
    },
    {
     "data": {
      "text/html": [
       "<div>\n",
       "<table border=\"1\" class=\"dataframe\">\n",
       "  <thead>\n",
       "    <tr style=\"text-align: right;\">\n",
       "      <th></th>\n",
       "      <th>-log(likelihood)</th>\n",
       "    </tr>\n",
       "  </thead>\n",
       "  <tbody>\n",
       "    <tr>\n",
       "      <th>test</th>\n",
       "      <td>175.307004</td>\n",
       "    </tr>\n",
       "    <tr>\n",
       "      <th>total</th>\n",
       "      <td>175.307004</td>\n",
       "    </tr>\n",
       "  </tbody>\n",
       "</table>\n",
       "</div>"
      ],
      "text/plain": [
       "       -log(likelihood)\n",
       "test         175.307004\n",
       "total        175.307004"
      ]
     },
     "metadata": {},
     "output_type": "display_data"
    }
   ],
   "source": [
    "# A simple test of the likelihood minimization\n",
    "\n",
    "y = np.array(poiss_sig)\n",
    "\n",
    "xy = XYLike(\"test\", x, y, poisson_data=True)\n",
    "\n",
    "fitfun = Line() + Gaussian()\n",
    "\n",
    "fitfun.a_1.bounds = (-10, 10.0)\n",
    "fitfun.b_1.bounds = (-100, 100.0)\n",
    "fitfun.F_2 = 60.0\n",
    "fitfun.F_2.bounds = (1e-3, 200.0)\n",
    "fitfun.mu_2 = 5.0\n",
    "fitfun.mu_2.bounds = (0.0, 100.0)\n",
    "fitfun.sigma_2.bounds = (1e-3, 10.0)\n",
    "\n",
    "model = Model(PointSource('fake',0.0, 0.0, fitfun))\n",
    "\n",
    "data = DataList(xy)\n",
    "\n",
    "jl = JointLikelihood(model, DataList(xy))\n",
    "_ = jl.fit()"
   ]
  },
  {
   "cell_type": "code",
   "execution_count": 4,
   "metadata": {
    "collapsed": false
   },
   "outputs": [
    {
     "data": {
      "text/html": [
       "<table id=\"table140608706776080\">\n",
       "<thead><tr><th>Name</th><th>Value</th><th>Unit</th></tr></thead>\n",
       "<tr><td>fake.spectrum.main.composite.a_1</td><td>(7.8 +/- 3.2) x 10^-1</td><td>1 / (cm2 keV2 s)</td></tr>\n",
       "<tr><td>fake.spectrum.main.composite.b_1</td><td>(4.04 -0.18 +0.19) x 10</td><td>1 / (cm2 keV s)</td></tr>\n",
       "<tr><td>fake.spectrum.main.composite.F_2</td><td>(7.2 +/- 0.6) x 10</td><td>1 / (cm2 s)</td></tr>\n",
       "<tr><td>fake.spectrum.main.composite.mu_2</td><td>4.990 +/- 0.030</td><td>keV</td></tr>\n",
       "<tr><td>fake.spectrum.main.composite.sigma_2</td><td>(3.31 -0.26 +0.28) x 10^-1</td><td>keV</td></tr>\n",
       "</table>"
      ],
      "text/plain": [
       "                Name                           Value                  Unit      \n",
       "------------------------------------ -------------------------- ----------------\n",
       "    fake.spectrum.main.composite.a_1      (7.8 +/- 3.2) x 10^-1 1 / (cm2 keV2 s)\n",
       "    fake.spectrum.main.composite.b_1    (4.04 -0.18 +0.19) x 10  1 / (cm2 keV s)\n",
       "    fake.spectrum.main.composite.F_2         (7.2 +/- 0.6) x 10      1 / (cm2 s)\n",
       "   fake.spectrum.main.composite.mu_2            4.990 +/- 0.030              keV\n",
       "fake.spectrum.main.composite.sigma_2 (3.31 -0.26 +0.28) x 10^-1              keV"
      ]
     },
     "metadata": {},
     "output_type": "display_data"
    }
   ],
   "source": [
    "# This functionality is still there, although it cannot be propagated\n",
    "# (error propagation assume Gaussian errors, i.e., symmetric errors)\n",
    "# In this case though errors are pretty symmetric, so we are likely in the case\n",
    "# where the MLE is actually normally distributed\n",
    "\n",
    "_ = jl.get_errors()"
   ]
  },
  {
   "cell_type": "code",
   "execution_count": 5,
   "metadata": {
    "collapsed": false
   },
   "outputs": [],
   "source": [
    "# This is the novelty. This access the new class of the results\n",
    "ar = jl.results"
   ]
  },
  {
   "cell_type": "code",
   "execution_count": 6,
   "metadata": {
    "collapsed": false
   },
   "outputs": [],
   "source": [
    "ar.write_to(\"test_mle.fits\", overwrite=True)"
   ]
  },
  {
   "cell_type": "code",
   "execution_count": 7,
   "metadata": {
    "collapsed": false
   },
   "outputs": [],
   "source": [
    "ar_reloaded = load_analysis_results(\"test_mle.fits\")"
   ]
  },
  {
   "cell_type": "code",
   "execution_count": 8,
   "metadata": {
    "collapsed": false
   },
   "outputs": [
    {
     "data": {
      "text/html": [
       "<div>\n",
       "<table border=\"1\" class=\"dataframe\">\n",
       "  <thead>\n",
       "    <tr style=\"text-align: right;\">\n",
       "      <th></th>\n",
       "      <th>-log(likelihood)</th>\n",
       "    </tr>\n",
       "  </thead>\n",
       "  <tbody>\n",
       "    <tr>\n",
       "      <th>test</th>\n",
       "      <td>175.307004</td>\n",
       "    </tr>\n",
       "    <tr>\n",
       "      <th>total</th>\n",
       "      <td>175.307004</td>\n",
       "    </tr>\n",
       "  </tbody>\n",
       "</table>\n",
       "</div>"
      ],
      "text/plain": [
       "       -log(likelihood)\n",
       "test         175.307004\n",
       "total        175.307004"
      ]
     },
     "execution_count": 8,
     "metadata": {},
     "output_type": "execute_result"
    }
   ],
   "source": [
    "ar_reloaded.get_statistic_frame()"
   ]
  },
  {
   "cell_type": "code",
   "execution_count": 9,
   "metadata": {
    "collapsed": false
   },
   "outputs": [
    {
     "data": {
      "text/html": [
       "<div>\n",
       "<table border=\"1\" class=\"dataframe\">\n",
       "  <thead>\n",
       "    <tr style=\"text-align: right;\">\n",
       "      <th></th>\n",
       "      <th>value</th>\n",
       "      <th>negative_error</th>\n",
       "      <th>positive_error</th>\n",
       "      <th>error</th>\n",
       "      <th>unit</th>\n",
       "    </tr>\n",
       "  </thead>\n",
       "  <tbody>\n",
       "    <tr>\n",
       "      <th>fake.spectrum.main.composite.a_1</th>\n",
       "      <td>0.781044</td>\n",
       "      <td>-0.313664</td>\n",
       "      <td>0.311006</td>\n",
       "      <td>0.312335</td>\n",
       "      <td>1 / (cm2 keV2 s)</td>\n",
       "    </tr>\n",
       "    <tr>\n",
       "      <th>fake.spectrum.main.composite.b_1</th>\n",
       "      <td>40.361891</td>\n",
       "      <td>-1.776136</td>\n",
       "      <td>1.846146</td>\n",
       "      <td>1.811141</td>\n",
       "      <td>1 / (cm2 keV s)</td>\n",
       "    </tr>\n",
       "    <tr>\n",
       "      <th>fake.spectrum.main.composite.F_2</th>\n",
       "      <td>71.570184</td>\n",
       "      <td>-6.042059</td>\n",
       "      <td>5.830326</td>\n",
       "      <td>5.936193</td>\n",
       "      <td>1 / (cm2 s)</td>\n",
       "    </tr>\n",
       "    <tr>\n",
       "      <th>fake.spectrum.main.composite.mu_2</th>\n",
       "      <td>4.989757</td>\n",
       "      <td>-0.029314</td>\n",
       "      <td>0.029406</td>\n",
       "      <td>0.029360</td>\n",
       "      <td>keV</td>\n",
       "    </tr>\n",
       "    <tr>\n",
       "      <th>fake.spectrum.main.composite.sigma_2</th>\n",
       "      <td>0.330629</td>\n",
       "      <td>-0.026538</td>\n",
       "      <td>0.026201</td>\n",
       "      <td>0.026370</td>\n",
       "      <td>keV</td>\n",
       "    </tr>\n",
       "  </tbody>\n",
       "</table>\n",
       "</div>"
      ],
      "text/plain": [
       "                                          value  negative_error  \\\n",
       "fake.spectrum.main.composite.a_1       0.781044       -0.313664   \n",
       "fake.spectrum.main.composite.b_1      40.361891       -1.776136   \n",
       "fake.spectrum.main.composite.F_2      71.570184       -6.042059   \n",
       "fake.spectrum.main.composite.mu_2      4.989757       -0.029314   \n",
       "fake.spectrum.main.composite.sigma_2   0.330629       -0.026538   \n",
       "\n",
       "                                      positive_error     error  \\\n",
       "fake.spectrum.main.composite.a_1            0.311006  0.312335   \n",
       "fake.spectrum.main.composite.b_1            1.846146  1.811141   \n",
       "fake.spectrum.main.composite.F_2            5.830326  5.936193   \n",
       "fake.spectrum.main.composite.mu_2           0.029406  0.029360   \n",
       "fake.spectrum.main.composite.sigma_2        0.026201  0.026370   \n",
       "\n",
       "                                                  unit  \n",
       "fake.spectrum.main.composite.a_1      1 / (cm2 keV2 s)  \n",
       "fake.spectrum.main.composite.b_1       1 / (cm2 keV s)  \n",
       "fake.spectrum.main.composite.F_2           1 / (cm2 s)  \n",
       "fake.spectrum.main.composite.mu_2                  keV  \n",
       "fake.spectrum.main.composite.sigma_2               keV  "
      ]
     },
     "execution_count": 9,
     "metadata": {},
     "output_type": "execute_result"
    }
   ],
   "source": [
    "# You can get a DataFrame with the results\n",
    "ar_reloaded.get_data_frame()"
   ]
  },
  {
   "cell_type": "code",
   "execution_count": 10,
   "metadata": {
    "collapsed": false
   },
   "outputs": [],
   "source": [
    "from threeML.analysis_results import AnalysisResultsSet\n",
    "\n",
    "analysis_set = AnalysisResultsSet([ar, ar_reloaded])\n",
    "\n",
    "analysis_set.set_bins(\"testing\", [-1, 1], [3, 5], unit = 's')\n",
    "\n",
    "analysis_set.write_to(\"analysis_set_test.fits\", overwrite=True)"
   ]
  },
  {
   "cell_type": "code",
   "execution_count": 11,
   "metadata": {
    "collapsed": false
   },
   "outputs": [],
   "source": [
    "analysis_set = load_analysis_results(\"analysis_set_test.fits\")"
   ]
  },
  {
   "cell_type": "code",
   "execution_count": 12,
   "metadata": {
    "collapsed": false
   },
   "outputs": [
    {
     "name": "stdout",
     "output_type": "stream",
     "text": [
      "Best fit values:\n",
      "\n"
     ]
    },
    {
     "data": {
      "text/html": [
       "<div>\n",
       "<table border=\"1\" class=\"dataframe\">\n",
       "  <thead>\n",
       "    <tr style=\"text-align: right;\">\n",
       "      <th></th>\n",
       "      <th>Value</th>\n",
       "      <th>Unit</th>\n",
       "    </tr>\n",
       "  </thead>\n",
       "  <tbody>\n",
       "    <tr>\n",
       "      <th>fake.spectrum.main.composite.a_1</th>\n",
       "      <td>(7.8 +/- 3.2) x 10^-1</td>\n",
       "      <td>1 / (cm2 keV2 s)</td>\n",
       "    </tr>\n",
       "    <tr>\n",
       "      <th>fake.spectrum.main.composite.b_1</th>\n",
       "      <td>(4.04 +/- 0.18) x 10</td>\n",
       "      <td>1 / (cm2 keV s)</td>\n",
       "    </tr>\n",
       "    <tr>\n",
       "      <th>fake.spectrum.main.composite.F_2</th>\n",
       "      <td>(7.2 +/- 0.6) x 10</td>\n",
       "      <td>1 / (cm2 s)</td>\n",
       "    </tr>\n",
       "    <tr>\n",
       "      <th>fake.spectrum.main.composite.mu_2</th>\n",
       "      <td>4.990 +/- 0.030</td>\n",
       "      <td>keV</td>\n",
       "    </tr>\n",
       "    <tr>\n",
       "      <th>fake.spectrum.main.composite.sigma_2</th>\n",
       "      <td>(3.31 +/- 0.27) x 10^-1</td>\n",
       "      <td>keV</td>\n",
       "    </tr>\n",
       "  </tbody>\n",
       "</table>\n",
       "</div>"
      ],
      "text/plain": [
       "                                                        Value  \\\n",
       "fake.spectrum.main.composite.a_1        (7.8 +/- 3.2) x 10^-1   \n",
       "fake.spectrum.main.composite.b_1         (4.04 +/- 0.18) x 10   \n",
       "fake.spectrum.main.composite.F_2           (7.2 +/- 0.6) x 10   \n",
       "fake.spectrum.main.composite.mu_2             4.990 +/- 0.030   \n",
       "fake.spectrum.main.composite.sigma_2  (3.31 +/- 0.27) x 10^-1   \n",
       "\n",
       "                                                  Unit  \n",
       "fake.spectrum.main.composite.a_1      1 / (cm2 keV2 s)  \n",
       "fake.spectrum.main.composite.b_1       1 / (cm2 keV s)  \n",
       "fake.spectrum.main.composite.F_2           1 / (cm2 s)  \n",
       "fake.spectrum.main.composite.mu_2                  keV  \n",
       "fake.spectrum.main.composite.sigma_2               keV  "
      ]
     },
     "metadata": {},
     "output_type": "display_data"
    },
    {
     "name": "stdout",
     "output_type": "stream",
     "text": [
      "\n",
      "Correlation matrix:\n",
      "\n"
     ]
    },
    {
     "data": {
      "text/html": [
       "<table id=\"table140607559984400\">\n",
       "<tr><td>1.00</td><td>-0.83</td><td>-0.01</td><td>-0.05</td><td>-0.01</td></tr>\n",
       "<tr><td>-0.83</td><td>1.00</td><td>-0.17</td><td>0.05</td><td>-0.12</td></tr>\n",
       "<tr><td>-0.01</td><td>-0.17</td><td>1.00</td><td>-0.04</td><td>0.41</td></tr>\n",
       "<tr><td>-0.05</td><td>0.05</td><td>-0.04</td><td>1.00</td><td>-0.08</td></tr>\n",
       "<tr><td>-0.01</td><td>-0.12</td><td>0.41</td><td>-0.08</td><td>1.00</td></tr>\n",
       "</table>"
      ],
      "text/plain": [
       " 1.00 -0.83 -0.01 -0.05 -0.01\n",
       "-0.83  1.00 -0.17  0.05 -0.12\n",
       "-0.01 -0.17  1.00 -0.04  0.41\n",
       "-0.05  0.05 -0.04  1.00 -0.08\n",
       "-0.01 -0.12  0.41 -0.08  1.00"
      ]
     },
     "metadata": {},
     "output_type": "display_data"
    },
    {
     "name": "stdout",
     "output_type": "stream",
     "text": [
      "\n",
      "Values of -log(likelihood) at the minimum:\n",
      "\n"
     ]
    },
    {
     "data": {
      "text/html": [
       "<div>\n",
       "<table border=\"1\" class=\"dataframe\">\n",
       "  <thead>\n",
       "    <tr style=\"text-align: right;\">\n",
       "      <th></th>\n",
       "      <th>-log(likelihood)</th>\n",
       "    </tr>\n",
       "  </thead>\n",
       "  <tbody>\n",
       "    <tr>\n",
       "      <th>test</th>\n",
       "      <td>175.307004</td>\n",
       "    </tr>\n",
       "    <tr>\n",
       "      <th>total</th>\n",
       "      <td>175.307004</td>\n",
       "    </tr>\n",
       "  </tbody>\n",
       "</table>\n",
       "</div>"
      ],
      "text/plain": [
       "       -log(likelihood)\n",
       "test         175.307004\n",
       "total        175.307004"
      ]
     },
     "metadata": {},
     "output_type": "display_data"
    }
   ],
   "source": [
    "analysis_set[0].display()"
   ]
  },
  {
   "cell_type": "code",
   "execution_count": 13,
   "metadata": {
    "collapsed": false
   },
   "outputs": [
    {
     "name": "stdout",
     "output_type": "stream",
     "text": [
      "Best fit values:\n",
      "\n"
     ]
    },
    {
     "data": {
      "text/html": [
       "<div>\n",
       "<table border=\"1\" class=\"dataframe\">\n",
       "  <thead>\n",
       "    <tr style=\"text-align: right;\">\n",
       "      <th></th>\n",
       "      <th>Value</th>\n",
       "      <th>Unit</th>\n",
       "    </tr>\n",
       "  </thead>\n",
       "  <tbody>\n",
       "    <tr>\n",
       "      <th>fake.spectrum.main.composite.a_1</th>\n",
       "      <td>(7.8 +/- 3.2) x 10^-1</td>\n",
       "      <td>1 / (cm2 keV2 s)</td>\n",
       "    </tr>\n",
       "    <tr>\n",
       "      <th>fake.spectrum.main.composite.b_1</th>\n",
       "      <td>(4.04 +/- 0.18) x 10</td>\n",
       "      <td>1 / (cm2 keV s)</td>\n",
       "    </tr>\n",
       "    <tr>\n",
       "      <th>fake.spectrum.main.composite.F_2</th>\n",
       "      <td>(7.2 +/- 0.6) x 10</td>\n",
       "      <td>1 / (cm2 s)</td>\n",
       "    </tr>\n",
       "    <tr>\n",
       "      <th>fake.spectrum.main.composite.mu_2</th>\n",
       "      <td>4.990 +/- 0.030</td>\n",
       "      <td>keV</td>\n",
       "    </tr>\n",
       "    <tr>\n",
       "      <th>fake.spectrum.main.composite.sigma_2</th>\n",
       "      <td>(3.31 +/- 0.27) x 10^-1</td>\n",
       "      <td>keV</td>\n",
       "    </tr>\n",
       "  </tbody>\n",
       "</table>\n",
       "</div>"
      ],
      "text/plain": [
       "                                                        Value  \\\n",
       "fake.spectrum.main.composite.a_1        (7.8 +/- 3.2) x 10^-1   \n",
       "fake.spectrum.main.composite.b_1         (4.04 +/- 0.18) x 10   \n",
       "fake.spectrum.main.composite.F_2           (7.2 +/- 0.6) x 10   \n",
       "fake.spectrum.main.composite.mu_2             4.990 +/- 0.030   \n",
       "fake.spectrum.main.composite.sigma_2  (3.31 +/- 0.27) x 10^-1   \n",
       "\n",
       "                                                  Unit  \n",
       "fake.spectrum.main.composite.a_1      1 / (cm2 keV2 s)  \n",
       "fake.spectrum.main.composite.b_1       1 / (cm2 keV s)  \n",
       "fake.spectrum.main.composite.F_2           1 / (cm2 s)  \n",
       "fake.spectrum.main.composite.mu_2                  keV  \n",
       "fake.spectrum.main.composite.sigma_2               keV  "
      ]
     },
     "metadata": {},
     "output_type": "display_data"
    },
    {
     "name": "stdout",
     "output_type": "stream",
     "text": [
      "\n",
      "Correlation matrix:\n",
      "\n"
     ]
    },
    {
     "data": {
      "text/html": [
       "<table id=\"table140607559512016\">\n",
       "<tr><td>1.00</td><td>-0.83</td><td>-0.01</td><td>-0.05</td><td>-0.01</td></tr>\n",
       "<tr><td>-0.83</td><td>1.00</td><td>-0.17</td><td>0.05</td><td>-0.12</td></tr>\n",
       "<tr><td>-0.01</td><td>-0.17</td><td>1.00</td><td>-0.04</td><td>0.41</td></tr>\n",
       "<tr><td>-0.05</td><td>0.05</td><td>-0.04</td><td>1.00</td><td>-0.08</td></tr>\n",
       "<tr><td>-0.01</td><td>-0.12</td><td>0.41</td><td>-0.08</td><td>1.00</td></tr>\n",
       "</table>"
      ],
      "text/plain": [
       " 1.00 -0.83 -0.01 -0.05 -0.01\n",
       "-0.83  1.00 -0.17  0.05 -0.12\n",
       "-0.01 -0.17  1.00 -0.04  0.41\n",
       "-0.05  0.05 -0.04  1.00 -0.08\n",
       "-0.01 -0.12  0.41 -0.08  1.00"
      ]
     },
     "metadata": {},
     "output_type": "display_data"
    },
    {
     "name": "stdout",
     "output_type": "stream",
     "text": [
      "\n",
      "Values of -log(likelihood) at the minimum:\n",
      "\n"
     ]
    },
    {
     "data": {
      "text/html": [
       "<div>\n",
       "<table border=\"1\" class=\"dataframe\">\n",
       "  <thead>\n",
       "    <tr style=\"text-align: right;\">\n",
       "      <th></th>\n",
       "      <th>-log(likelihood)</th>\n",
       "    </tr>\n",
       "  </thead>\n",
       "  <tbody>\n",
       "    <tr>\n",
       "      <th>test</th>\n",
       "      <td>175.307004</td>\n",
       "    </tr>\n",
       "    <tr>\n",
       "      <th>total</th>\n",
       "      <td>175.307004</td>\n",
       "    </tr>\n",
       "  </tbody>\n",
       "</table>\n",
       "</div>"
      ],
      "text/plain": [
       "       -log(likelihood)\n",
       "test         175.307004\n",
       "total        175.307004"
      ]
     },
     "metadata": {},
     "output_type": "display_data"
    }
   ],
   "source": [
    "# or display again the results. However, this time I choose to display\n",
    "# hpd intervals\n",
    "ar.display(\"hpd\")"
   ]
  },
  {
   "cell_type": "code",
   "execution_count": 14,
   "metadata": {
    "collapsed": false
   },
   "outputs": [
    {
     "name": "stdout",
     "output_type": "stream",
     "text": [
      "Propagating a+b, with a and b respectively:\n",
      "equal-tail: (7.7 -3.2 +3.3) x 10^-1, hpd: (7.7 -2.7 +4) x 10^-1\n",
      "equal-tail: (4.04 +/- 0.18) x 10, hpd: (4.04 -0.17 +0.19) x 10\n",
      "\n",
      "This is the result (with errors):\n",
      "equal-tail: (4.12 +/- 0.15) x 10, hpd: (4.12 -0.16 +0.15) x 10\n",
      "(39.638568818019145, 42.71795302598299)\n",
      "\n",
      "This is 50 * a/a:\n",
      "equal-tail: (5.0 +/- 0) x 10, hpd: (5.0 +/- 0) x 10\n",
      "\n",
      "This is arcsinh(a + 5*b) / np.log10(b) (why not?)\n",
      "equal-tail: 3.738 -0.018 +0.019, hpd: 3.738 +/- 0.018\n",
      "\n",
      "Ratio a/b:\n",
      "equal-tail: (5.2 -1.7 +4) x 10, hpd: (5.2 -2.4 +1.7) x 10\n",
      "\n",
      "Propagating using a custom function:\n",
      "equal-tail: (7.7 -1.6 +2.0) x 10, hpd: (7.7 -2.0 +1.4) x 10\n"
     ]
    }
   ],
   "source": [
    "# You can use the results for propagating errors non-linearly for analytical functions\n",
    "p1 = ar.get_variates(\"fake.spectrum.main.composite.a_1\")\n",
    "p2 = ar.get_variates(\"fake.spectrum.main.composite.b_1\")\n",
    "\n",
    "print(\"Propagating a+b, with a and b respectively:\")\n",
    "print(p1)\n",
    "print(p2)\n",
    "\n",
    "print(\"\\nThis is the result (with errors):\")\n",
    "res = p1 + p2\n",
    "print(res)\n",
    "\n",
    "print res.equal_tail_confidence_interval()\n",
    "\n",
    "# The propagation accounts for covariances, so for example this\n",
    "# has error of zero (of course) since there is perfect covariance\n",
    "print(\"\\nThis is 50 * a/a:\")\n",
    "print(50 * p1/p1)\n",
    "\n",
    "# You can use arbitrary (np) functions\n",
    "print(\"\\nThis is arcsinh(a + 5*b) / np.log10(b) (why not?)\")\n",
    "print(np.arcsinh(p1 + 5*p2) / np.log10(p2))\n",
    "\n",
    "# Errors can become asymmetric. For example, the ratio of two gaussians is\n",
    "# asymmetric notoriously:\n",
    "print(\"\\nRatio a/b:\")\n",
    "print(p2/p1)\n",
    "\n",
    "# You can always use it with arbitrary functions like:\n",
    "def my_function(x, a, b):\n",
    "    \n",
    "    return b*x**a\n",
    "\n",
    "print(\"\\nPropagating using a custom function:\")\n",
    "print(my_function(2.3, p1, p2))"
   ]
  },
  {
   "cell_type": "code",
   "execution_count": 15,
   "metadata": {
    "collapsed": false
   },
   "outputs": [
    {
     "name": "stdout",
     "output_type": "stream",
     "text": [
      "equal-tail: (1.30 -0.10 +0.11) x 10^2, hpd: (1.30 +/- 0.10) x 10^2\n"
     ]
    },
    {
     "data": {
      "image/png": "[encoded data removed]",
      "text/plain": [
       "<matplotlib.figure.Figure at 0x7fe1bfb199d0>"
      ]
     },
     "metadata": {},
     "output_type": "display_data"
    }
   ],
   "source": [
    "# This is an example of an error propagation to get the plot of the model with its errors\n",
    "# (which are propagated without assuming linearity on parameters)\n",
    "\n",
    "def go(fitfun, ar, model):\n",
    "    \n",
    "    # Gather the parameter variates\n",
    "    \n",
    "    arguments = {}\n",
    "\n",
    "    for par in fitfun.parameters.values():\n",
    "\n",
    "        if par.free:\n",
    "\n",
    "            this_name = par.name\n",
    "            \n",
    "            this_variate = ar.get_variates(par.path)\n",
    "            \n",
    "            # Do not use more than 1000 values (would make computation too slow for nothing)\n",
    "            \n",
    "            if len(this_variate) > 1000:\n",
    "                \n",
    "                this_variate = np.random.choice(this_variate, size=1000)\n",
    "            \n",
    "            arguments[this_name] = this_variate\n",
    "    \n",
    "    # Prepare the error propagator function\n",
    "    \n",
    "    pp = ar.propagate(ar.optimized_model.fake.spectrum.main.shape.evaluate_at, **arguments)\n",
    "    \n",
    "    # You can just use it as:\n",
    "    \n",
    "    print(pp(5.0))\n",
    "    \n",
    "    #Make the plot\n",
    "    \n",
    "    energies = np.linspace(0, 10, 100)\n",
    "\n",
    "    low_curve = np.zeros_like(energies)\n",
    "    middle_curve = np.zeros_like(energies)\n",
    "    hi_curve = np.zeros_like(energies)\n",
    "\n",
    "    free_parameters = model.free_parameters\n",
    "    \n",
    "    with progress_bar(len(energies), title=\"Propagating errors\") as p:\n",
    "        \n",
    "        with use_astromodels_memoization(False):\n",
    "        \n",
    "            for i, e in enumerate(energies):\n",
    "\n",
    "                this_flux = pp(e)\n",
    "                \n",
    "                low_bound, hi_bound = this_flux.equal_tail_confidence_interval()\n",
    "                \n",
    "                low_curve[i], middle_curve[i], hi_curve[i] = (low_bound, this_flux.median, hi_bound)\n",
    "\n",
    "                p.increase()\n",
    "\n",
    "    plt.plot(energies, middle_curve, '--', color='black')\n",
    "    plt.fill_between(energies, low_curve, hi_curve, alpha=0.5, color='blue')\n",
    "\n",
    "go(fitfun, ar, model)"
   ]
  },
  {
   "cell_type": "code",
   "execution_count": 16,
   "metadata": {
    "collapsed": false
   },
   "outputs": [
    {
     "name": "stdout",
     "output_type": "stream",
     "text": [
      "\n",
      "Mean acceptance fraction: 0.5499\n",
      "\n",
      "Maximum a posteriori probability (MAP) point:\n",
      "\n"
     ]
    },
    {
     "data": {
      "text/html": [
       "<div>\n",
       "<table border=\"1\" class=\"dataframe\">\n",
       "  <thead>\n",
       "    <tr style=\"text-align: right;\">\n",
       "      <th></th>\n",
       "      <th>Value</th>\n",
       "      <th>Unit</th>\n",
       "    </tr>\n",
       "  </thead>\n",
       "  <tbody>\n",
       "    <tr>\n",
       "      <th>fake.spectrum.main.composite.a_1</th>\n",
       "      <td>(8.1 -3.5 +2.8) x 10^-1</td>\n",
       "      <td>1 / (cm2 keV2 s)</td>\n",
       "    </tr>\n",
       "    <tr>\n",
       "      <th>fake.spectrum.main.composite.b_1</th>\n",
       "      <td>(4.03 -0.17 +0.20) x 10</td>\n",
       "      <td>1 / (cm2 keV s)</td>\n",
       "    </tr>\n",
       "    <tr>\n",
       "      <th>fake.spectrum.main.composite.F_2</th>\n",
       "      <td>(7.1 -0.5 +0.7) x 10</td>\n",
       "      <td>1 / (cm2 s)</td>\n",
       "    </tr>\n",
       "    <tr>\n",
       "      <th>fake.spectrum.main.composite.mu_2</th>\n",
       "      <td>4.987 -0.029 +0.031</td>\n",
       "      <td>keV</td>\n",
       "    </tr>\n",
       "    <tr>\n",
       "      <th>fake.spectrum.main.composite.sigma_2</th>\n",
       "      <td>(3.31 -0.27 +0.30) x 10^-1</td>\n",
       "      <td>keV</td>\n",
       "    </tr>\n",
       "  </tbody>\n",
       "</table>\n",
       "</div>"
      ],
      "text/plain": [
       "                                                           Value  \\\n",
       "fake.spectrum.main.composite.a_1         (8.1 -3.5 +2.8) x 10^-1   \n",
       "fake.spectrum.main.composite.b_1         (4.03 -0.17 +0.20) x 10   \n",
       "fake.spectrum.main.composite.F_2            (7.1 -0.5 +0.7) x 10   \n",
       "fake.spectrum.main.composite.mu_2            4.987 -0.029 +0.031   \n",
       "fake.spectrum.main.composite.sigma_2  (3.31 -0.27 +0.30) x 10^-1   \n",
       "\n",
       "                                                  Unit  \n",
       "fake.spectrum.main.composite.a_1      1 / (cm2 keV2 s)  \n",
       "fake.spectrum.main.composite.b_1       1 / (cm2 keV s)  \n",
       "fake.spectrum.main.composite.F_2           1 / (cm2 s)  \n",
       "fake.spectrum.main.composite.mu_2                  keV  \n",
       "fake.spectrum.main.composite.sigma_2               keV  "
      ]
     },
     "metadata": {},
     "output_type": "display_data"
    },
    {
     "name": "stdout",
     "output_type": "stream",
     "text": [
      "\n",
      "Values of -log(posterior) at the minimum:\n",
      "\n"
     ]
    },
    {
     "data": {
      "text/html": [
       "<div>\n",
       "<table border=\"1\" class=\"dataframe\">\n",
       "  <thead>\n",
       "    <tr style=\"text-align: right;\">\n",
       "      <th></th>\n",
       "      <th>-log(posterior)</th>\n",
       "    </tr>\n",
       "  </thead>\n",
       "  <tbody>\n",
       "    <tr>\n",
       "      <th>test</th>\n",
       "      <td>-176.698279</td>\n",
       "    </tr>\n",
       "    <tr>\n",
       "      <th>total</th>\n",
       "      <td>-176.698279</td>\n",
       "    </tr>\n",
       "  </tbody>\n",
       "</table>\n",
       "</div>"
      ],
      "text/plain": [
       "       -log(posterior)\n",
       "test       -176.698279\n",
       "total      -176.698279"
      ]
     },
     "metadata": {},
     "output_type": "display_data"
    }
   ],
   "source": [
    "# Exactly the same can be done for a Bayesian analysis\n",
    "# Let's run it first\n",
    "\n",
    "for parameter in ar.optimized_model:\n",
    "    \n",
    "    model[parameter.path].value = parameter.value\n",
    "\n",
    "model.fake.spectrum.main.composite.a_1.set_uninformative_prior(Uniform_prior)\n",
    "model.fake.spectrum.main.composite.b_1.set_uninformative_prior(Uniform_prior)\n",
    "model.fake.spectrum.main.composite.F_2.set_uninformative_prior(Log_uniform_prior)\n",
    "model.fake.spectrum.main.composite.mu_2.set_uninformative_prior(Uniform_prior)\n",
    "model.fake.spectrum.main.composite.sigma_2.set_uninformative_prior(Log_uniform_prior)\n",
    "\n",
    "bs = BayesianAnalysis(model, data)\n",
    "\n",
    "samples = bs.sample(20, 100, 1000)"
   ]
  },
  {
   "cell_type": "code",
   "execution_count": 17,
   "metadata": {
    "collapsed": false
   },
   "outputs": [],
   "source": [
    "ar2 = bs.results"
   ]
  },
  {
   "cell_type": "code",
   "execution_count": 18,
   "metadata": {
    "collapsed": false
   },
   "outputs": [],
   "source": [
    "ar2.write_to(\"test_bayes.fits\", overwrite=True)"
   ]
  },
  {
   "cell_type": "code",
   "execution_count": 19,
   "metadata": {
    "collapsed": true
   },
   "outputs": [],
   "source": [
    "ar2_reloaded = load_analysis_results(\"test_bayes.fits\")"
   ]
  },
  {
   "cell_type": "code",
   "execution_count": 20,
   "metadata": {
    "collapsed": false
   },
   "outputs": [
    {
     "data": {
      "text/plain": [
       "True"
      ]
     },
     "execution_count": 20,
     "metadata": {},
     "output_type": "execute_result"
    }
   ],
   "source": [
    "np.allclose(ar2_reloaded.samples, ar2.samples)"
   ]
  },
  {
   "cell_type": "code",
   "execution_count": 21,
   "metadata": {
    "collapsed": false
   },
   "outputs": [
    {
     "data": {
      "text/html": [
       "<div>\n",
       "<table border=\"1\" class=\"dataframe\">\n",
       "  <thead>\n",
       "    <tr style=\"text-align: right;\">\n",
       "      <th></th>\n",
       "      <th>value</th>\n",
       "      <th>negative_error</th>\n",
       "      <th>positive_error</th>\n",
       "      <th>error</th>\n",
       "      <th>unit</th>\n",
       "    </tr>\n",
       "  </thead>\n",
       "  <tbody>\n",
       "    <tr>\n",
       "      <th>fake.spectrum.main.composite.a_1</th>\n",
       "      <td>0.810175</td>\n",
       "      <td>-0.352269</td>\n",
       "      <td>0.281939</td>\n",
       "      <td>0.317104</td>\n",
       "      <td>1 / (cm2 keV2 s)</td>\n",
       "    </tr>\n",
       "    <tr>\n",
       "      <th>fake.spectrum.main.composite.b_1</th>\n",
       "      <td>40.266060</td>\n",
       "      <td>-1.714355</td>\n",
       "      <td>1.968567</td>\n",
       "      <td>1.841461</td>\n",
       "      <td>1 / (cm2 keV s)</td>\n",
       "    </tr>\n",
       "    <tr>\n",
       "      <th>fake.spectrum.main.composite.F_2</th>\n",
       "      <td>70.624725</td>\n",
       "      <td>-4.970925</td>\n",
       "      <td>6.588271</td>\n",
       "      <td>5.779598</td>\n",
       "      <td>1 / (cm2 s)</td>\n",
       "    </tr>\n",
       "    <tr>\n",
       "      <th>fake.spectrum.main.composite.mu_2</th>\n",
       "      <td>4.987446</td>\n",
       "      <td>-0.029302</td>\n",
       "      <td>0.030792</td>\n",
       "      <td>0.030047</td>\n",
       "      <td>keV</td>\n",
       "    </tr>\n",
       "    <tr>\n",
       "      <th>fake.spectrum.main.composite.sigma_2</th>\n",
       "      <td>0.330793</td>\n",
       "      <td>-0.026754</td>\n",
       "      <td>0.029881</td>\n",
       "      <td>0.028317</td>\n",
       "      <td>keV</td>\n",
       "    </tr>\n",
       "  </tbody>\n",
       "</table>\n",
       "</div>"
      ],
      "text/plain": [
       "                                          value  negative_error  \\\n",
       "fake.spectrum.main.composite.a_1       0.810175       -0.352269   \n",
       "fake.spectrum.main.composite.b_1      40.266060       -1.714355   \n",
       "fake.spectrum.main.composite.F_2      70.624725       -4.970925   \n",
       "fake.spectrum.main.composite.mu_2      4.987446       -0.029302   \n",
       "fake.spectrum.main.composite.sigma_2   0.330793       -0.026754   \n",
       "\n",
       "                                      positive_error     error  \\\n",
       "fake.spectrum.main.composite.a_1            0.281939  0.317104   \n",
       "fake.spectrum.main.composite.b_1            1.968567  1.841461   \n",
       "fake.spectrum.main.composite.F_2            6.588271  5.779598   \n",
       "fake.spectrum.main.composite.mu_2           0.030792  0.030047   \n",
       "fake.spectrum.main.composite.sigma_2        0.029881  0.028317   \n",
       "\n",
       "                                                  unit  \n",
       "fake.spectrum.main.composite.a_1      1 / (cm2 keV2 s)  \n",
       "fake.spectrum.main.composite.b_1       1 / (cm2 keV s)  \n",
       "fake.spectrum.main.composite.F_2           1 / (cm2 s)  \n",
       "fake.spectrum.main.composite.mu_2                  keV  \n",
       "fake.spectrum.main.composite.sigma_2               keV  "
      ]
     },
     "execution_count": 21,
     "metadata": {},
     "output_type": "execute_result"
    }
   ],
   "source": [
    "ar2.get_data_frame(\"equal tail\")"
   ]
  },
  {
   "cell_type": "code",
   "execution_count": 22,
   "metadata": {
    "collapsed": false
   },
   "outputs": [
    {
     "name": "stdout",
     "output_type": "stream",
     "text": [
      "equal-tail: (7.8 +/- 3.2) x 10^-1, hpd: (7.8 -3.1 +3.3) x 10^-1\n",
      "equal-tail: (4.03 -0.18 +0.19) x 10, hpd: (4.03 -0.21 +0.15) x 10\n",
      "equal-tail: (4.11 -0.15 +0.16) x 10, hpd: (4.11 -0.17 +0.14) x 10\n"
     ]
    }
   ],
   "source": [
    "p1 = ar2.get_variates(\"fake.spectrum.main.composite.a_1\")\n",
    "p2 = ar2.get_variates(\"fake.spectrum.main.composite.b_1\")\n",
    "\n",
    "print(p1)\n",
    "print(p2)\n",
    "\n",
    "res = p1 + p2\n",
    "\n",
    "print(res)\n"
   ]
  },
  {
   "cell_type": "code",
   "execution_count": 23,
   "metadata": {
    "collapsed": false
   },
   "outputs": [
    {
     "name": "stdout",
     "output_type": "stream",
     "text": [
      "equal-tail: (1.30 -0.10 +0.11) x 10^2, hpd: (1.30 -0.11 +0.08) x 10^2\n"
     ]
    },
    {
     "data": {
      "image/png": "[encoded data removed]",
      "text/plain": [
       "<matplotlib.figure.Figure at 0x7fe1bfa05f50>"
      ]
     },
     "metadata": {},
     "output_type": "display_data"
    }
   ],
   "source": [
    "go(fitfun, ar2, model)"
   ]
  },
  {
   "cell_type": "code",
   "execution_count": null,
   "metadata": {
    "collapsed": true
   },
   "outputs": [],
   "source": []
  }
 ],
 "metadata": {
  "kernelspec": {
   "display_name": "Python 2",
   "language": "python",
   "name": "python2"
  },
  "language_info": {
   "codemirror_mode": {
    "name": "ipython",
    "version": 2
   },
   "file_extension": ".py",
   "mimetype": "text/x-python",
   "name": "python",
   "nbconvert_exporter": "python",
   "pygments_lexer": "ipython2",
   "version": "2.7.12"
  },
  "widgets": {
   "state": {
    "0154dec4fe4542bda705b4a06a3d5624": {
     "views": [
      {
       "cell_index": 15
      }
     ]
    },
    "16e49fe0322e4a70a2a1c5f2c9f4c95d": {
     "views": [
      {
       "cell_index": 15
      }
     ]
    },
    "32ae20276e084368aca6ef8a11129639": {
     "views": [
      {
       "cell_index": 22
      }
     ]
    },
    "620778f2e65d4e96b8c8025857291143": {
     "views": [
      {
       "cell_index": 15
      }
     ]
    },
    "8ea20696901e4a1185c3a20767d7d325": {
     "views": [
      {
       "cell_index": 14
      }
     ]
    },
    "d47fd6cc742444308ac4d19c458e6fe5": {
     "views": [
      {
       "cell_index": 15
      }
     ]
    },
    "df763ecbd6514689a1348f30ac310aff": {
     "views": [
      {
       "cell_index": 11
      }
     ]
    },
    "dfdcabaa87f5441b997aa3168ca9cd38": {
     "views": [
      {
       "cell_index": 15
      }
     ]
    },
    "e3fdd0398200466e9d1316616670d740": {
     "views": [
      {
       "cell_index": 12
      }
     ]
    },
    "f873cf5613664fd3a3d5bb0edf56f7f7": {
     "views": [
      {
       "cell_index": 15
      }
     ]
    }
   },
   "version": "1.2.0"
  }
 },
 "nbformat": 4,
 "nbformat_minor": 1
}
