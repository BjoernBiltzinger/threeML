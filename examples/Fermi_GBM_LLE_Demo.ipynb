{
 "cells": [
  {
   "cell_type": "markdown",
   "metadata": {},
   "source": [
    "# 3ML with Fermi GBM TTE  and LAT LLE Data\n",
    "### Purpose\n",
    "\n",
    "This demonstrates of you can use LLE data directly in 3ML\n",
    "\n",
    "For more detail on the Fermi TTE plugin, check out its demo.\n",
    "\n",
    "#### Let's check it out!"
   ]
  },
  {
   "cell_type": "markdown",
   "metadata": {},
   "source": [
    "Import **3ML** as always to make sure you have the plugin."
   ]
  },
  {
   "cell_type": "code",
   "execution_count": 1,
   "metadata": {
    "collapsed": false
   },
   "outputs": [
    {
     "name": "stdout",
     "output_type": "stream",
     "text": [
      "Configuration read from /Users/jburgess/.threeML/threeML_config.yml\n"
     ]
    },
    {
     "ename": "ImportError",
     "evalue": "cannot import name cleanup_downloaded_LLE_datapy",
     "output_type": "error",
     "traceback": [
      "\u001b[0;31m---------------------------------------------------------------------------\u001b[0m",
      "\u001b[0;31mImportError\u001b[0m                               Traceback (most recent call last)",
      "\u001b[0;32m<ipython-input-1-5588384ed325>\u001b[0m in \u001b[0;36m<module>\u001b[0;34m()\u001b[0m\n\u001b[1;32m      2\u001b[0m \u001b[0mget_ipython\u001b[0m\u001b[0;34m(\u001b[0m\u001b[0;34m)\u001b[0m\u001b[0;34m.\u001b[0m\u001b[0mmagic\u001b[0m\u001b[0;34m(\u001b[0m\u001b[0;34mu'matplotlib notebook'\u001b[0m\u001b[0;34m)\u001b[0m\u001b[0;34m\u001b[0m\u001b[0m\n\u001b[1;32m      3\u001b[0m \u001b[0;32mimport\u001b[0m \u001b[0mnumpy\u001b[0m \u001b[0;32mas\u001b[0m \u001b[0mnp\u001b[0m\u001b[0;34m\u001b[0m\u001b[0m\n\u001b[0;32m----> 4\u001b[0;31m \u001b[0;32mfrom\u001b[0m \u001b[0mthreeML\u001b[0m \u001b[0;32mimport\u001b[0m \u001b[0;34m*\u001b[0m\u001b[0;34m\u001b[0m\u001b[0m\n\u001b[0m\u001b[1;32m      5\u001b[0m \u001b[0;34m\u001b[0m\u001b[0m\n\u001b[1;32m      6\u001b[0m \u001b[0mget_available_plugins\u001b[0m\u001b[0;34m(\u001b[0m\u001b[0;34m)\u001b[0m\u001b[0;34m\u001b[0m\u001b[0m\n",
      "\u001b[0;32m/Users/jburgess/.environs/3ml/lib/python2.7/site-packages/threeML-0.3.2-py2.7.egg/threeML/__init__.py\u001b[0m in \u001b[0;36m<module>\u001b[0;34m()\u001b[0m\n\u001b[1;32m    196\u001b[0m \u001b[0;34m\u001b[0m\u001b[0m\n\u001b[1;32m    197\u001b[0m \u001b[0;31m# Import LLE downloader\u001b[0m\u001b[0;34m\u001b[0m\u001b[0;34m\u001b[0m\u001b[0m\n\u001b[0;32m--> 198\u001b[0;31m \u001b[0;32mfrom\u001b[0m \u001b[0mthreeML\u001b[0m\u001b[0;34m.\u001b[0m\u001b[0mplugins\u001b[0m\u001b[0;34m.\u001b[0m\u001b[0mFermi_LAT\u001b[0m\u001b[0;34m.\u001b[0m\u001b[0mdownload_LLE_data\u001b[0m \u001b[0;32mimport\u001b[0m \u001b[0mdownload_LLE_trigger_data\u001b[0m\u001b[0;34m,\u001b[0m \u001b[0mcleanup_downloaded_LLE_datapy\u001b[0m\u001b[0;34m\u001b[0m\u001b[0m\n\u001b[0m\u001b[1;32m    199\u001b[0m \u001b[0;34m\u001b[0m\u001b[0m\n\u001b[1;32m    200\u001b[0m \u001b[0;31m# Now read the configuration and make it available as threeML_config\u001b[0m\u001b[0;34m\u001b[0m\u001b[0;34m\u001b[0m\u001b[0m\n",
      "\u001b[0;31mImportError\u001b[0m: cannot import name cleanup_downloaded_LLE_datapy"
     ]
    }
   ],
   "source": [
    "%matplotlib inline\n",
    "%matplotlib notebook\n",
    "import numpy as np\n",
    "from threeML import *\n",
    "\n",
    "get_available_plugins()"
   ]
  },
  {
   "cell_type": "code",
   "execution_count": null,
   "metadata": {
    "collapsed": false,
    "scrolled": false
   },
   "outputs": [],
   "source": [
    "# os.path.join is a way to generate system-independent\n",
    "# paths (good for unix, windows, Mac...)\n",
    "trigger_number = 'bn080916009'\n",
    "\n",
    "data_dir_gbm = os.path.join('gbm',trigger_number)\n",
    "gbm_data = download_GBM_trigger_data(trigger_number,detectors=['n3','n4','b0'],destination_directory=data_dir_gbm,compress_tte=True)\n",
    "\n",
    "\n",
    "data_dir_lle = os.path.join('lat','lle',trigger_number)\n",
    "\n",
    "lle_data = download_LLE_trigger_data(trigger=trigger_number,destination_directory=data_dir_lle)\n",
    "\n",
    "src_selection = \"0.-71.\"\n",
    "\n",
    "\n",
    "# We start out with a bad background interval to demonstrate a few features\n",
    "\n",
    "nai3 = FermiGBMTTELike('NAI3',\n",
    "                         os.path.join(data_dir_gbm, \"glg_tte_n3_bn080916009_v01.fit.gz\"),\n",
    "                         \"-10-0,100-200\",\n",
    "                         src_selection,\n",
    "                         rsp_file=os.path.join(data_dir_gbm, \"glg_cspec_n3_bn080916009_v00.rsp2\"),poly_order=-1,verbose=False)\n",
    "\n",
    "nai4 = FermiGBMTTELike('NAI4',\n",
    "                         os.path.join(data_dir_gbm, \"glg_tte_n4_bn080916009_v01.fit.gz\"),\n",
    "                         \"-10-0,100-200\",\n",
    "                         src_selection,\n",
    "                         rsp_file=os.path.join(data_dir_gbm, \"glg_cspec_n4_bn080916009_v00.rsp2\"),poly_order=-1,verbose=False)\n",
    "\n",
    "bgo0 = FermiGBMTTELike('BGO0',\n",
    "                         os.path.join(data_dir_gbm, \"glg_tte_b0_bn080916009_v01.fit.gz\"),\n",
    "                         \"-10-0,100-200\",\n",
    "                         src_selection,\n",
    "                         rsp_file=os.path.join(data_dir_gbm, \"glg_cspec_b0_bn080916009_v00.rsp2\"))\n",
    "\n",
    "\n",
    "lle = FermiLATLLELike(\"LLE\",\n",
    "                      os.path.join(data_dir_lle, \"gll_lle_bn080916009_v10.fit\"),\n",
    "                      os.path.join(data_dir_lle, \"gll_pt_bn080916009_v10.fit\"),\n",
    "                      \"-100-0,100-200\",\n",
    "                      src_selection,\n",
    "                      rsp_file=os.path.join(data_dir_lle, \"gll_cspec_bn080916009_v10.rsp\"),poly_order=-1)"
   ]
  },
  {
   "cell_type": "code",
   "execution_count": null,
   "metadata": {
    "collapsed": false
   },
   "outputs": [],
   "source": [
    "lle.peek()"
   ]
  },
  {
   "cell_type": "markdown",
   "metadata": {},
   "source": [
    "Let's look at the lightcurve of NAI3 to check out background fit:"
   ]
  },
  {
   "cell_type": "code",
   "execution_count": null,
   "metadata": {
    "collapsed": false
   },
   "outputs": [],
   "source": [
    "nai3.view_lightcurve(-10,100.,.5)"
   ]
  },
  {
   "cell_type": "code",
   "execution_count": null,
   "metadata": {
    "collapsed": false
   },
   "outputs": [],
   "source": [
    "lle.view_lightcurve(-10,100,dt=.5)"
   ]
  },
  {
   "cell_type": "markdown",
   "metadata": {},
   "source": [
    "### Energy selection\n",
    "\n"
   ]
  },
  {
   "cell_type": "code",
   "execution_count": null,
   "metadata": {
    "collapsed": false
   },
   "outputs": [],
   "source": [
    "nai3.set_active_measurements(\"10.0-30.0\", \"40.0-900.0\")\n",
    "nai3.view_count_spectrum()"
   ]
  },
  {
   "cell_type": "code",
   "execution_count": null,
   "metadata": {
    "collapsed": false
   },
   "outputs": [],
   "source": [
    "nai4.set_active_measurements(\"10.0-30.0\", \"40.0-900.0\")\n",
    "nai4.view_count_spectrum()"
   ]
  },
  {
   "cell_type": "code",
   "execution_count": null,
   "metadata": {
    "collapsed": false
   },
   "outputs": [],
   "source": [
    "bgo0.set_active_measurements(\"250-43000\")\n",
    "bgo0.view_count_spectrum()"
   ]
  },
  {
   "cell_type": "code",
   "execution_count": null,
   "metadata": {
    "collapsed": false
   },
   "outputs": [],
   "source": [
    "lle.set_active_measurements(\"50000-100000\")\n",
    "lle.view_count_spectrum()"
   ]
  },
  {
   "cell_type": "markdown",
   "metadata": {},
   "source": [
    "## Fitting!\n",
    "\n",
    "We are now ready for the standard **3ML** process:\n"
   ]
  },
  {
   "cell_type": "code",
   "execution_count": null,
   "metadata": {
    "collapsed": false
   },
   "outputs": [],
   "source": [
    "\n",
    "ra = 121.8\n",
    "dec = -61.3\n",
    "\n",
    "data_list = DataList(nai3,nai4,bgo0,lle )\n",
    "\n",
    "band= Band()\n",
    "\n",
    "GRB = PointSource( trigger_number, ra, dec, spectral_shape=band )\n",
    "\n",
    "model = Model( GRB )\n"
   ]
  },
  {
   "cell_type": "code",
   "execution_count": null,
   "metadata": {
    "collapsed": false
   },
   "outputs": [],
   "source": [
    "jl = JointLikelihood( model, data_list, verbose=False )\n",
    "\n",
    "res = jl.fit()"
   ]
  },
  {
   "cell_type": "code",
   "execution_count": null,
   "metadata": {
    "collapsed": false
   },
   "outputs": [],
   "source": [
    "sp = SpectralPlotter(jl)\n",
    "\n",
    "_=sp.plot_model(y_unit='erg2/(cm2 s keV)', num_ene=200,x_max=1E5)"
   ]
  },
  {
   "cell_type": "markdown",
   "metadata": {},
   "source": [
    "We can examine our fit with the data:"
   ]
  },
  {
   "cell_type": "code",
   "execution_count": null,
   "metadata": {
    "collapsed": false
   },
   "outputs": [],
   "source": [
    "_ = display_ogip_model_counts(jl,min_rate=1,step=False)"
   ]
  },
  {
   "cell_type": "code",
   "execution_count": null,
   "metadata": {
    "collapsed": false
   },
   "outputs": [],
   "source": [
    "res = jl.get_errors()"
   ]
  },
  {
   "cell_type": "code",
   "execution_count": null,
   "metadata": {
    "collapsed": false
   },
   "outputs": [],
   "source": [
    "res = jl.get_contours(band.xp,200,900,20)"
   ]
  },
  {
   "cell_type": "code",
   "execution_count": null,
   "metadata": {
    "collapsed": false
   },
   "outputs": [],
   "source": [
    "res = jl.get_contours(band.xp,250,900,50,band.alpha,-1.2,-0.9,50)"
   ]
  },
  {
   "cell_type": "code",
   "execution_count": null,
   "metadata": {
    "collapsed": true
   },
   "outputs": [],
   "source": []
  }
 ],
 "metadata": {
  "kernelspec": {
   "display_name": "Python 2",
   "language": "python",
   "name": "python2"
  },
  "language_info": {
   "codemirror_mode": {
    "name": "ipython",
    "version": 2
   },
   "file_extension": ".py",
   "mimetype": "text/x-python",
   "name": "python",
   "nbconvert_exporter": "python",
   "pygments_lexer": "ipython2",
   "version": "2.7.13"
  },
  "widgets": {
   "state": {
    "2e6b92af9f234e23a17c43a09e24f7c2": {
     "views": [
      {
       "cell_index": 3
      }
     ]
    },
    "35502e4900ea42c4a4312f8e8d7ef84d": {
     "views": [
      {
       "cell_index": 3
      }
     ]
    },
    "414aa80d4be146698b44f68869dc5c7e": {
     "views": [
      {
       "cell_index": 21
      }
     ]
    },
    "5f0639280e6347ec926e0926ceee4b77": {
     "views": [
      {
       "cell_index": 3
      }
     ]
    },
    "6864ece303a14d3b8ad7a334a774693c": {
     "views": [
      {
       "cell_index": 3
      }
     ]
    },
    "72ff5d26264947a98d72e6f2f8f3f826": {
     "views": [
      {
       "cell_index": 20
      }
     ]
    },
    "7d5f8e85cc6c4b6989f89e683148279f": {
     "views": [
      {
       "cell_index": 3
      }
     ]
    },
    "bde6e38e8ef44f7288832dffa9be9e51": {
     "views": [
      {
       "cell_index": 3
      }
     ]
    },
    "c42026fae7cf49889d60e150d9a0fdba": {
     "views": [
      {
       "cell_index": 16
      }
     ]
    },
    "c784f2dd218e4b728f70937112efe503": {
     "views": [
      {
       "cell_index": 3
      }
     ]
    },
    "e80e4726d0014e5da0817c083b22b19f": {
     "views": [
      {
       "cell_index": 16
      }
     ]
    }
   },
   "version": "1.2.0"
  }
 },
 "nbformat": 4,
 "nbformat_minor": 0
}
