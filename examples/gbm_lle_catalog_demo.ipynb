{
 "cells": [
  {
   "cell_type": "markdown",
   "metadata": {},
   "source": [
    "# GBM, LAT LLE and Swift Catalogs\n",
    "\n",
    "\n",
    "Using **3ML's** catalog and data downloading tools, it is easy to build an analysis for either a single or multiple GRBs from start to finish. \n",
    "\n",
    "Here, we demostrate how we can search the catalogs for trigger information and then use this to perform analysis. Currently, Swift analysis is performed with the Generic **OGIPLike** or **XRTLike** plugin only and no data dowloaders are provided. In the future, a more capable Swift plugin can be included. "
   ]
  },
  {
   "cell_type": "code",
   "execution_count": 1,
   "metadata": {
    "collapsed": false
   },
   "outputs": [
    {
     "name": "stdout",
     "output_type": "stream",
     "text": [
      "Configuration read from /Users/jburgess/.threeML/threeML_config.yml\n",
      "Available plugins:\n",
      "\n",
      "FermiGBMTTELike for Fermi GBM TTE (all detectors)\n",
      "FermiLATLLELike for Fermi LAT LLE\n",
      "OGIPLike for All OGIP-compliant instruments\n",
      "EventListLike for Generic EventList data\n",
      "SwiftXRTLike for Swift XRT\n",
      "VERITASLike for VERITAS\n"
     ]
    }
   ],
   "source": [
    "%matplotlib inline\n",
    "%matplotlib notebook\n",
    "\n",
    "from astropy.time import Time\n",
    "\n",
    "from threeML import *\n",
    "\n",
    "get_available_plugins()"
   ]
  },
  {
   "cell_type": "markdown",
   "metadata": {},
   "source": [
    "## GBM catalog\n",
    "\n",
    "The **3ML** GBM catalog allows you to search via cones on the sky, trigger names, T90s, date ranges and model parameters."
   ]
  },
  {
   "cell_type": "code",
   "execution_count": 2,
   "metadata": {
    "collapsed": false
   },
   "outputs": [],
   "source": [
    "gbm_catalog = FermiGBMBurstCatalog()"
   ]
  },
  {
   "cell_type": "markdown",
   "metadata": {},
   "source": [
    "### Searching cones on the sky\n",
    "\n",
    "We can perform a cone search for a given Ra and Dec to see what GRBs are in this region of the sky."
   ]
  },
  {
   "cell_type": "code",
   "execution_count": 3,
   "metadata": {
    "collapsed": false
   },
   "outputs": [
    {
     "name": "stdout",
     "output_type": "stream",
     "text": [
      "Trying http://heasarc.gsfc.nasa.gov/cgi-bin/vo/cone/coneGet.pl?table=fermigbrst&\n",
      "Downloading http://heasarc.gsfc.nasa.gov/cgi-bin/vo/cone/coneGet.pl?table=fermigbrst&SR=10.0&DEC=0.0&RA=0.0&VERB=3 [Done]\n"
     ]
    },
    {
     "data": {
      "text/html": [
       "&lt;Table masked=True length=17&gt;\n",
       "<table id=\"table4620706064\" class=\"table-striped table-bordered table-condensed\">\n",
       "<thead><tr><th>name</th><th>ra</th><th>dec</th><th>trigger_time</th><th>t90</th></tr></thead>\n",
       "<thead><tr><th></th><th>deg</th><th>deg</th><th>mjd</th><th>s</th></tr></thead>\n",
       "<thead><tr><th>object</th><th>float64</th><th>float64</th><th>float64</th><th>float64</th></tr></thead>\n",
       "<tr><td>GRB080810549</td><td>356.800</td><td>0.320</td><td>54688.5487567</td><td>107.457</td></tr>\n",
       "<tr><td>GRB090703329</td><td>0.770</td><td>9.680</td><td>55015.3291953</td><td>8.960</td></tr>\n",
       "<tr><td>GRB100612726</td><td>352.000</td><td>-1.830</td><td>55359.7264598</td><td>8.576</td></tr>\n",
       "<tr><td>GRB100924165</td><td>0.672</td><td>7.004</td><td>55463.1653740</td><td>9.024</td></tr>\n",
       "<tr><td>GRB110729142</td><td>353.390</td><td>4.970</td><td>55771.1424297</td><td>408.582</td></tr>\n",
       "<tr><td>GRB110921444</td><td>6.090</td><td>-5.830</td><td>55825.4436135</td><td>149.507</td></tr>\n",
       "<tr><td>GRB111113410</td><td>4.320</td><td>-7.520</td><td>55878.4098583</td><td>15.360</td></tr>\n",
       "<tr><td>GRB120624309</td><td>4.773</td><td>7.167</td><td>56102.3086266</td><td>0.640</td></tr>\n",
       "<tr><td>GRB121122870</td><td>355.450</td><td>6.340</td><td>56253.8700119</td><td>125.439</td></tr>\n",
       "<tr><td>GRB130628531</td><td>6.290</td><td>-5.070</td><td>56471.5305801</td><td>21.504</td></tr>\n",
       "<tr><td>GRB140106345</td><td>2.340</td><td>-8.750</td><td>56663.3449463</td><td>33.024</td></tr>\n",
       "<tr><td>GRB140406120</td><td>357.550</td><td>5.630</td><td>56753.1196037</td><td>109.312</td></tr>\n",
       "<tr><td>GRB140918379</td><td>356.180</td><td>-0.540</td><td>56918.3791791</td><td>165.632</td></tr>\n",
       "<tr><td>GRB150724782</td><td>351.920</td><td>3.670</td><td>57227.7816865</td><td>37.889</td></tr>\n",
       "<tr><td>GRB150911315</td><td>355.280</td><td>-2.900</td><td>57276.3145181</td><td>41.728</td></tr>\n",
       "<tr><td>GRB160215773</td><td>356.790</td><td>1.730</td><td>57433.7732684</td><td>141.314</td></tr>\n",
       "<tr><td>GRB160503567</td><td>0.540</td><td>-1.930</td><td>57511.5670371</td><td>59.392</td></tr>\n",
       "</table>"
      ],
      "text/plain": [
       "<Table masked=True length=17>\n",
       "    name        ra     dec    trigger_time   t90   \n",
       "               deg     deg        mjd         s    \n",
       "   object    float64 float64    float64    float64 \n",
       "------------ ------- ------- ------------- --------\n",
       "GRB080810549 356.800   0.320 54688.5487567  107.457\n",
       "GRB090703329   0.770   9.680 55015.3291953    8.960\n",
       "GRB100612726 352.000  -1.830 55359.7264598    8.576\n",
       "GRB100924165   0.672   7.004 55463.1653740    9.024\n",
       "GRB110729142 353.390   4.970 55771.1424297  408.582\n",
       "GRB110921444   6.090  -5.830 55825.4436135  149.507\n",
       "GRB111113410   4.320  -7.520 55878.4098583   15.360\n",
       "GRB120624309   4.773   7.167 56102.3086266    0.640\n",
       "GRB121122870 355.450   6.340 56253.8700119  125.439\n",
       "GRB130628531   6.290  -5.070 56471.5305801   21.504\n",
       "GRB140106345   2.340  -8.750 56663.3449463   33.024\n",
       "GRB140406120 357.550   5.630 56753.1196037  109.312\n",
       "GRB140918379 356.180  -0.540 56918.3791791  165.632\n",
       "GRB150724782 351.920   3.670 57227.7816865   37.889\n",
       "GRB150911315 355.280  -2.900 57276.3145181   41.728\n",
       "GRB160215773 356.790   1.730 57433.7732684  141.314\n",
       "GRB160503567   0.540  -1.930 57511.5670371   59.392"
      ]
     },
     "execution_count": 3,
     "metadata": {},
     "output_type": "execute_result"
    }
   ],
   "source": [
    "gbm_catalog.cone_search(ra=0,dec=0,radius=10)"
   ]
  },
  {
   "cell_type": "markdown",
   "metadata": {},
   "source": [
    "Or perhaps we want to know the GRBs around the Crab nebula:"
   ]
  },
  {
   "cell_type": "code",
   "execution_count": 4,
   "metadata": {
    "collapsed": false
   },
   "outputs": [
    {
     "name": "stdout",
     "output_type": "stream",
     "text": [
      "Trying http://heasarc.gsfc.nasa.gov/cgi-bin/vo/cone/coneGet.pl?table=fermigbrst&\n",
      "Downloading http://heasarc.gsfc.nasa.gov/cgi-bin/vo/cone/coneGet.pl?table=fermigbrst&SR=5.0&DEC=22.0144947866&RA=83.6330906247&VERB=3 [Done]\n"
     ]
    },
    {
     "data": {
      "text/plain": [
       "(83.63309062468973, 22.014494786634714, <Table masked=True length=4>\n",
       "     name        ra     dec    trigger_time   t90   \n",
       "                deg     deg        mjd         s    \n",
       "    object    float64 float64    float64    float64 \n",
       " ------------ ------- ------- ------------- --------\n",
       " GRB090612619  81.030  17.710 54994.6186400   42.433\n",
       " GRB090907808  81.060  20.500 55081.8081884    0.832\n",
       " GRB100130777  78.570  20.830 55226.7767993   86.018\n",
       " GRB100915243  85.394  25.095 55454.2428196    7.936)"
      ]
     },
     "execution_count": 4,
     "metadata": {},
     "output_type": "execute_result"
    }
   ],
   "source": [
    "gbm_catalog.search_around_source('Crab',radius=5)"
   ]
  },
  {
   "cell_type": "markdown",
   "metadata": {},
   "source": [
    "### Searching on T90 and time\n",
    "\n",
    "Perhaps we want to analyze all short GRBs or GRBs in a specific date range.\n",
    "\n",
    "First let's search on T90:"
   ]
  },
  {
   "cell_type": "code",
   "execution_count": 5,
   "metadata": {
    "collapsed": false
   },
   "outputs": [
    {
     "data": {
      "text/html": [
       "&lt;Table masked=True length=353&gt;\n",
       "<table id=\"table4643904016\" class=\"table-striped table-bordered table-condensed\">\n",
       "<thead><tr><th>name</th><th>ra</th><th>dec</th><th>trigger_time</th><th>t90</th></tr></thead>\n",
       "<thead><tr><th>object</th><th>float64</th><th>float64</th><th>float64</th><th>float64</th></tr></thead>\n",
       "<tr><td>GRB080714086</td><td>41.900</td><td>8.500</td><td>54661.0862506</td><td>5.376</td></tr>\n",
       "<tr><td>GRB080715950</td><td>214.700</td><td>9.900</td><td>54662.9504649</td><td>7.872</td></tr>\n",
       "<tr><td>GRB080806584</td><td>94.600</td><td>57.800</td><td>54684.5841575</td><td>2.304</td></tr>\n",
       "<tr><td>GRB080808451</td><td>107.400</td><td>-33.800</td><td>54686.4514267</td><td>4.352</td></tr>\n",
       "<tr><td>GRB080816989</td><td>289.500</td><td>-6.800</td><td>54694.9888274</td><td>4.608</td></tr>\n",
       "<tr><td>GRB080817720</td><td>80.200</td><td>-17.100</td><td>54695.7202259</td><td>4.416</td></tr>\n",
       "<tr><td>GRB080821332</td><td>238.600</td><td>32.600</td><td>54699.3315565</td><td>5.888</td></tr>\n",
       "<tr><td>GRB080824909</td><td>122.400</td><td>-2.800</td><td>54702.9089668</td><td>7.424</td></tr>\n",
       "<tr><td>GRB080828189</td><td>221.300</td><td>-12.300</td><td>54706.1890193</td><td>3.008</td></tr>\n",
       "<tr><td>GRB080829790</td><td>221.900</td><td>3.200</td><td>54707.7900049</td><td>7.68</td></tr>\n",
       "<tr><td>...</td><td>...</td><td>...</td><td>...</td><td>...</td></tr>\n",
       "<tr><td>GRB160929529</td><td>340.230</td><td>22.790</td><td>57660.5288005</td><td>4.864</td></tr>\n",
       "<tr><td>GRB161001045</td><td>79.150</td><td>-55.360</td><td>57662.0453324</td><td>2.24</td></tr>\n",
       "<tr><td>GRB161012637</td><td>160.430</td><td>-74.280</td><td>57673.6369775</td><td>6.4</td></tr>\n",
       "<tr><td>GRB161128216</td><td>262.430</td><td>-46.050</td><td>57720.2164965</td><td>6.912</td></tr>\n",
       "<tr><td>GRB161207224</td><td>294.810</td><td>-9.930</td><td>57729.2241632</td><td>8.192</td></tr>\n",
       "<tr><td>GRB161210524</td><td>283.120</td><td>63.050</td><td>57732.5235458</td><td>2.304</td></tr>\n",
       "<tr><td>GRB161212652</td><td>24.940</td><td>68.230</td><td>57734.6520761</td><td>2.816</td></tr>\n",
       "<tr><td>GRB161217128</td><td>216.630</td><td>51.980</td><td>57739.1276133</td><td>3.584</td></tr>\n",
       "<tr><td>GRB161227498</td><td>79.500</td><td>39.150</td><td>57749.4981275</td><td>2.56</td></tr>\n",
       "<tr><td>GRB170101374</td><td>157.490</td><td>28.900</td><td>57754.3740036</td><td>2.304</td></tr>\n",
       "</table>"
      ],
      "text/plain": [
       "<Table masked=True length=353>\n",
       "    name        ra     dec    trigger_time   t90  \n",
       "   object    float64 float64    float64    float64\n",
       "------------ ------- ------- ------------- -------\n",
       "GRB080714086  41.900   8.500 54661.0862506   5.376\n",
       "GRB080715950 214.700   9.900 54662.9504649   7.872\n",
       "GRB080806584  94.600  57.800 54684.5841575   2.304\n",
       "GRB080808451 107.400 -33.800 54686.4514267   4.352\n",
       "GRB080816989 289.500  -6.800 54694.9888274   4.608\n",
       "GRB080817720  80.200 -17.100 54695.7202259   4.416\n",
       "GRB080821332 238.600  32.600 54699.3315565   5.888\n",
       "GRB080824909 122.400  -2.800 54702.9089668   7.424\n",
       "GRB080828189 221.300 -12.300 54706.1890193   3.008\n",
       "GRB080829790 221.900   3.200 54707.7900049    7.68\n",
       "         ...     ...     ...           ...     ...\n",
       "GRB160929529 340.230  22.790 57660.5288005   4.864\n",
       "GRB161001045  79.150 -55.360 57662.0453324    2.24\n",
       "GRB161012637 160.430 -74.280 57673.6369775     6.4\n",
       "GRB161128216 262.430 -46.050 57720.2164965   6.912\n",
       "GRB161207224 294.810  -9.930 57729.2241632   8.192\n",
       "GRB161210524 283.120  63.050 57732.5235458   2.304\n",
       "GRB161212652  24.940  68.230 57734.6520761   2.816\n",
       "GRB161217128 216.630  51.980 57739.1276133   3.584\n",
       "GRB161227498  79.500  39.150 57749.4981275    2.56\n",
       "GRB170101374 157.490  28.900 57754.3740036   2.304"
      ]
     },
     "execution_count": 5,
     "metadata": {},
     "output_type": "execute_result"
    }
   ],
   "source": [
    "gbm_catalog.query(\"2<t90<10\")"
   ]
  },
  {
   "cell_type": "markdown",
   "metadata": {},
   "source": [
    "We can also search MJD or UTC. The GBM catalog uses MJD to index time. We can use astroy's time module to convert from UTC to MJD:"
   ]
  },
  {
   "cell_type": "code",
   "execution_count": 6,
   "metadata": {
    "collapsed": false
   },
   "outputs": [
    {
     "data": {
      "text/html": [
       "&lt;Table masked=True length=242&gt;\n",
       "<table id=\"table4645657680\" class=\"table-striped table-bordered table-condensed\">\n",
       "<thead><tr><th>name</th><th>ra</th><th>dec</th><th>trigger_time</th><th>t90</th></tr></thead>\n",
       "<thead><tr><th>object</th><th>float64</th><th>float64</th><th>float64</th><th>float64</th></tr></thead>\n",
       "<tr><td>GRB100101028</td><td>307.320</td><td>-27.000</td><td>55197.0276543</td><td>2.816</td></tr>\n",
       "<tr><td>GRB100101988</td><td>70.660</td><td>18.690</td><td>55197.9876757</td><td>1.984</td></tr>\n",
       "<tr><td>GRB100107074</td><td>6.310</td><td>-21.240</td><td>55203.0739799</td><td>0.576</td></tr>\n",
       "<tr><td>GRB100111176</td><td>247.048</td><td>15.551</td><td>55207.1755752</td><td>19.52</td></tr>\n",
       "<tr><td>GRB100112418</td><td>240.140</td><td>-75.100</td><td>55208.4175643</td><td>23.04</td></tr>\n",
       "<tr><td>GRB100116897</td><td>305.020</td><td>14.450</td><td>55212.8965306</td><td>102.53</td></tr>\n",
       "<tr><td>GRB100117879</td><td>11.260</td><td>-1.594</td><td>55213.8793943</td><td>0.256</td></tr>\n",
       "<tr><td>GRB100118100</td><td>9.260</td><td>-37.370</td><td>55214.0996956</td><td>9.216</td></tr>\n",
       "<tr><td>GRB100122616</td><td>79.200</td><td>-2.710</td><td>55218.6164041</td><td>22.529</td></tr>\n",
       "<tr><td>GRB100126460</td><td>338.370</td><td>-18.740</td><td>55222.460476</td><td>10.624</td></tr>\n",
       "<tr><td>...</td><td>...</td><td>...</td><td>...</td><td>...</td></tr>\n",
       "<tr><td>GRB101223834</td><td>250.550</td><td>48.220</td><td>55553.8335428</td><td>56.065</td></tr>\n",
       "<tr><td>GRB101224227</td><td>285.926</td><td>45.715</td><td>55554.2272438</td><td>1.728</td></tr>\n",
       "<tr><td>GRB101224578</td><td>289.140</td><td>-55.250</td><td>55554.5784517</td><td>44.737</td></tr>\n",
       "<tr><td>GRB101224614</td><td>290.160</td><td>34.460</td><td>55554.6135756</td><td>25.601</td></tr>\n",
       "<tr><td>GRB101224998</td><td>325.170</td><td>-38.660</td><td>55554.9983211</td><td>18.688</td></tr>\n",
       "<tr><td>GRB101225377</td><td>60.680</td><td>32.770</td><td>55555.3770081</td><td>81.218</td></tr>\n",
       "<tr><td>GRB101227195</td><td>186.790</td><td>-83.550</td><td>55557.1947768</td><td>95.488</td></tr>\n",
       "<tr><td>GRB101227406</td><td>240.500</td><td>-24.500</td><td>55557.406326</td><td>153.347</td></tr>\n",
       "<tr><td>GRB101227536</td><td>150.870</td><td>-49.440</td><td>55557.5359513</td><td>28.864</td></tr>\n",
       "<tr><td>GRB101231067</td><td>191.710</td><td>17.640</td><td>55561.0672524</td><td>23.613</td></tr>\n",
       "</table>"
      ],
      "text/plain": [
       "<Table masked=True length=242>\n",
       "    name        ra     dec    trigger_time   t90  \n",
       "   object    float64 float64    float64    float64\n",
       "------------ ------- ------- ------------- -------\n",
       "GRB100101028 307.320 -27.000 55197.0276543   2.816\n",
       "GRB100101988  70.660  18.690 55197.9876757   1.984\n",
       "GRB100107074   6.310 -21.240 55203.0739799   0.576\n",
       "GRB100111176 247.048  15.551 55207.1755752   19.52\n",
       "GRB100112418 240.140 -75.100 55208.4175643   23.04\n",
       "GRB100116897 305.020  14.450 55212.8965306  102.53\n",
       "GRB100117879  11.260  -1.594 55213.8793943   0.256\n",
       "GRB100118100   9.260 -37.370 55214.0996956   9.216\n",
       "GRB100122616  79.200  -2.710 55218.6164041  22.529\n",
       "GRB100126460 338.370 -18.740  55222.460476  10.624\n",
       "         ...     ...     ...           ...     ...\n",
       "GRB101223834 250.550  48.220 55553.8335428  56.065\n",
       "GRB101224227 285.926  45.715 55554.2272438   1.728\n",
       "GRB101224578 289.140 -55.250 55554.5784517  44.737\n",
       "GRB101224614 290.160  34.460 55554.6135756  25.601\n",
       "GRB101224998 325.170 -38.660 55554.9983211  18.688\n",
       "GRB101225377  60.680  32.770 55555.3770081  81.218\n",
       "GRB101227195 186.790 -83.550 55557.1947768  95.488\n",
       "GRB101227406 240.500 -24.500  55557.406326 153.347\n",
       "GRB101227536 150.870 -49.440 55557.5359513  28.864\n",
       "GRB101231067 191.710  17.640 55561.0672524  23.613"
      ]
     },
     "execution_count": 6,
     "metadata": {},
     "output_type": "execute_result"
    }
   ],
   "source": [
    "mjd = Time(['2010-01-01T00:00:00','2011-01-01T00:00:00']).mjd\n",
    "gbm_catalog.query(' %f <trigger_time < %f' % tuple(mjd))"
   ]
  },
  {
   "cell_type": "markdown",
   "metadata": {},
   "source": [
    "## Searching on parameter space\n",
    "\n",
    "We can also make selections on energy fluxes or model parameters.\n",
    "\n",
    "GBM catalog fluxes depend on the model and the interval in which that model was fitted. "
   ]
  },
  {
   "cell_type": "code",
   "execution_count": 7,
   "metadata": {
    "collapsed": false
   },
   "outputs": [
    {
     "data": {
      "text/html": [
       "&lt;Table length=23&gt;\n",
       "<table id=\"table4646034064\" class=\"table-striped table-bordered table-condensed\">\n",
       "<thead><tr><th>name</th><th>ra</th><th>dec</th><th>trigger_time</th><th>t90</th></tr></thead>\n",
       "<thead><tr><th>object</th><th>float64</th><th>float64</th><th>float64</th><th>float64</th></tr></thead>\n",
       "<tr><td>GRB090424592</td><td>189.500</td><td>16.800</td><td>54945.591767</td><td>14.144</td></tr>\n",
       "<tr><td>GRB090618353</td><td>293.990</td><td>78.358</td><td>55000.3530863</td><td>112.386</td></tr>\n",
       "<tr><td>GRB090902462</td><td>264.939</td><td>27.325</td><td>55076.4619018</td><td>19.328</td></tr>\n",
       "<tr><td>GRB101014175</td><td>26.940</td><td>-51.070</td><td>55483.1749146</td><td>449.415</td></tr>\n",
       "<tr><td>GRB110301214</td><td>229.350</td><td>29.400</td><td>55621.2143874</td><td>5.693</td></tr>\n",
       "<tr><td>GRB110529034</td><td>118.330</td><td>67.910</td><td>55710.0338295</td><td>0.512</td></tr>\n",
       "<tr><td>GRB110825102</td><td>44.896</td><td>15.407</td><td>55798.1019784</td><td>62.465</td></tr>\n",
       "<tr><td>GRB111222619</td><td>179.193</td><td>69.036</td><td>55917.6193868</td><td>0.32</td></tr>\n",
       "<tr><td>GRB120624309</td><td>4.773</td><td>7.167</td><td>56102.3086266</td><td>0.64</td></tr>\n",
       "<tr><td>GRB130504978</td><td>91.630</td><td>3.834</td><td>56416.9784435</td><td>73.217</td></tr>\n",
       "<tr><td>...</td><td>...</td><td>...</td><td>...</td><td>...</td></tr>\n",
       "<tr><td>GRB140329295</td><td>145.698</td><td>-32.229</td><td>56745.2948881</td><td>21.504</td></tr>\n",
       "<tr><td>GRB150118409</td><td>240.240</td><td>-35.750</td><td>57040.408539</td><td>40.193</td></tr>\n",
       "<tr><td>GRB150213001</td><td>95.290</td><td>-4.850</td><td>57066.0012581</td><td>4.096</td></tr>\n",
       "<tr><td>GRB150330828</td><td>329.260</td><td>49.970</td><td>57111.8280239</td><td>153.859</td></tr>\n",
       "<tr><td>GRB150627183</td><td>117.490</td><td>-51.560</td><td>57200.182913</td><td>64.577</td></tr>\n",
       "<tr><td>GRB160422499</td><td>41.260</td><td>-58.220</td><td>57500.4993149</td><td>12.288</td></tr>\n",
       "<tr><td>GRB160509374</td><td>310.100</td><td>76.000</td><td>57517.3741461</td><td>369.67</td></tr>\n",
       "<tr><td>GRB160625945</td><td>308.300</td><td>6.900</td><td>57564.9446328</td><td>454.665</td></tr>\n",
       "<tr><td>GRB160720767</td><td>42.650</td><td>75.680</td><td>57589.7666319</td><td>78.849</td></tr>\n",
       "<tr><td>GRB160821857</td><td>171.248</td><td>42.343</td><td>57621.8572921</td><td>43.009</td></tr>\n",
       "</table>"
      ],
      "text/plain": [
       "<Table length=23>\n",
       "    name        ra     dec    trigger_time   t90  \n",
       "   object    float64 float64    float64    float64\n",
       "------------ ------- ------- ------------- -------\n",
       "GRB090424592 189.500  16.800  54945.591767  14.144\n",
       "GRB090618353 293.990  78.358 55000.3530863 112.386\n",
       "GRB090902462 264.939  27.325 55076.4619018  19.328\n",
       "GRB101014175  26.940 -51.070 55483.1749146 449.415\n",
       "GRB110301214 229.350  29.400 55621.2143874   5.693\n",
       "GRB110529034 118.330  67.910 55710.0338295   0.512\n",
       "GRB110825102  44.896  15.407 55798.1019784  62.465\n",
       "GRB111222619 179.193  69.036 55917.6193868    0.32\n",
       "GRB120624309   4.773   7.167 56102.3086266    0.64\n",
       "GRB130504978  91.630   3.834 56416.9784435  73.217\n",
       "         ...     ...     ...           ...     ...\n",
       "GRB140329295 145.698 -32.229 56745.2948881  21.504\n",
       "GRB150118409 240.240 -35.750  57040.408539  40.193\n",
       "GRB150213001  95.290  -4.850 57066.0012581   4.096\n",
       "GRB150330828 329.260  49.970 57111.8280239 153.859\n",
       "GRB150627183 117.490 -51.560  57200.182913  64.577\n",
       "GRB160422499  41.260 -58.220 57500.4993149  12.288\n",
       "GRB160509374 310.100  76.000 57517.3741461  369.67\n",
       "GRB160625945 308.300   6.900 57564.9446328 454.665\n",
       "GRB160720767  42.650  75.680 57589.7666319  78.849\n",
       "GRB160821857 171.248  42.343 57621.8572921  43.009"
      ]
     },
     "execution_count": 7,
     "metadata": {},
     "output_type": "execute_result"
    }
   ],
   "source": [
    "gbm_catalog.query(\"pflx_band_alpha < -2./3. & pflx_band_ergflux > 1E-5\")#flux_greater=1E-5,model='band',interval='fluence')"
   ]
  },
  {
   "cell_type": "markdown",
   "metadata": {},
   "source": [
    "### Searching for triggers\n",
    "\n",
    "We can also search for specific triggers"
   ]
  },
  {
   "cell_type": "code",
   "execution_count": 8,
   "metadata": {
    "collapsed": false
   },
   "outputs": [
    {
     "data": {
      "text/html": [
       "&lt;Table length=2&gt;\n",
       "<table id=\"table4646083984\" class=\"table-striped table-bordered table-condensed\">\n",
       "<thead><tr><th>name</th><th>ra</th><th>dec</th><th>trigger_time</th><th>t90</th></tr></thead>\n",
       "<thead><tr><th>object</th><th>float64</th><th>float64</th><th>float64</th><th>float64</th></tr></thead>\n",
       "<tr><td>GRB080916009</td><td>119.800</td><td>-56.600</td><td>54725.0088613</td><td>62.977</td></tr>\n",
       "<tr><td>GRB100204024</td><td>50.780</td><td>-47.890</td><td>55231.0235364</td><td>136.195</td></tr>\n",
       "</table>"
      ],
      "text/plain": [
       "<Table length=2>\n",
       "    name        ra     dec    trigger_time   t90  \n",
       "   object    float64 float64    float64    float64\n",
       "------------ ------- ------- ------------- -------\n",
       "GRB080916009 119.800 -56.600 54725.0088613  62.977\n",
       "GRB100204024  50.780 -47.890 55231.0235364 136.195"
      ]
     },
     "execution_count": 8,
     "metadata": {},
     "output_type": "execute_result"
    }
   ],
   "source": [
    "gbm_catalog.query_sources(\"GRB080916009\",'GRB100204024')"
   ]
  },
  {
   "cell_type": "markdown",
   "metadata": {},
   "source": [
    "#### Let's look at what a search can give us. \n",
    "\n",
    "The matching criteria can be used to extract information about the analysis as well as for setting up your own analysis.\n",
    "\n",
    "For example, we can look at the duration information from each GRB in our last search:"
   ]
  },
  {
   "cell_type": "code",
   "execution_count": 9,
   "metadata": {
    "collapsed": false
   },
   "outputs": [
    {
     "data": {
      "text/html": [
       "<div>\n",
       "<table border=\"1\" class=\"dataframe\">\n",
       "  <thead>\n",
       "    <tr style=\"text-align: right;\">\n",
       "      <th></th>\n",
       "      <th>t90</th>\n",
       "      <th>t50</th>\n",
       "    </tr>\n",
       "    <tr>\n",
       "      <th>name</th>\n",
       "      <th></th>\n",
       "      <th></th>\n",
       "    </tr>\n",
       "  </thead>\n",
       "  <tbody>\n",
       "    <tr>\n",
       "      <th>GRB080916009</th>\n",
       "      <td>62.977</td>\n",
       "      <td>32.000</td>\n",
       "    </tr>\n",
       "    <tr>\n",
       "      <th>GRB100204024</th>\n",
       "      <td>136.195</td>\n",
       "      <td>21.504</td>\n",
       "    </tr>\n",
       "  </tbody>\n",
       "</table>\n",
       "</div>"
      ],
      "text/plain": [
       "                  t90     t50\n",
       "name                         \n",
       "GRB080916009   62.977  32.000\n",
       "GRB100204024  136.195  21.504"
      ]
     },
     "execution_count": 9,
     "metadata": {},
     "output_type": "execute_result"
    }
   ],
   "source": [
    "gbm_catalog.result[['t90','t50']]"
   ]
  },
  {
   "cell_type": "markdown",
   "metadata": {},
   "source": [
    "To automate or repeat an analysis, it is good to know the values of source/background selections that were used in the catalog. These are extracted into a dictionary."
   ]
  },
  {
   "cell_type": "code",
   "execution_count": 10,
   "metadata": {
    "collapsed": false
   },
   "outputs": [],
   "source": [
    "det_info = gbm_catalog.get_detector_information()"
   ]
  },
  {
   "cell_type": "markdown",
   "metadata": {},
   "source": [
    "Let's examine what we have for GRB080916C.\n",
    "\n",
    "We'll find the background selections and source (both peak and fluence) stored in a format readable by 3ML.\n",
    "\n",
    "Additonally, we have the detectors used for catalog spectral analysis."
   ]
  },
  {
   "cell_type": "code",
   "execution_count": 11,
   "metadata": {
    "collapsed": false
   },
   "outputs": [
    {
     "data": {
      "text/plain": [
       "{'background': {'full': '-40.100000--6.250000,105.210000-146.350000',\n",
       "  'post': '105.210000-146.350000',\n",
       "  'pre': '-40.100000--6.250000'},\n",
       " 'best fit model': {'fluence': 'sbpl', 'peak': 'comp'},\n",
       " 'detectors': array(['n3', 'n4', 'b0'], \n",
       "       dtype='|S2'),\n",
       " 'source': {'fluence': '1.280000-64.257000', 'peak': '2.048000-3.072000'},\n",
       " 'trigger': 'bn080916009'}"
      ]
     },
     "execution_count": 11,
     "metadata": {},
     "output_type": "execute_result"
    }
   ],
   "source": [
    "det_info['GRB080916009']"
   ]
  },
  {
   "cell_type": "markdown",
   "metadata": {},
   "source": [
    "## Downloading data\n",
    "\n",
    "We can now get the data now and have a look ourselves. Using the information from the search, we can get the TTE and RSP files needed via the GBM data downloader."
   ]
  },
  {
   "cell_type": "code",
   "execution_count": 12,
   "metadata": {
    "collapsed": false
   },
   "outputs": [
    {
     "name": "stdout",
     "output_type": "stream",
     "text": [
      "\n",
      "Downloading TTE and RSP files...\n",
      "\n"
     ]
    },
    {
     "name": "stderr",
     "output_type": "stream",
     "text": [
      "\n",
      "WARNING FutureWarning: comparison to `None` will result in an elementwise object comparison in the future.\n",
      "\n"
     ]
    },
    {
     "name": "stdout",
     "output_type": "stream",
     "text": [
      "Compressing: glg_tte_n3_bn080916009_v01.fit\n",
      "Compressing: glg_tte_n4_bn080916009_v01.fit\n",
      "Compressing: glg_tte_b0_bn080916009_v01.fit\n"
     ]
    }
   ],
   "source": [
    "gbm_data = download_GBM_trigger_data(trigger=det_info['GRB080916009']['trigger'],\n",
    "                                      detectors=det_info['GRB080916009']['detectors'],\n",
    "                                      destination_directory='gbm/bn080916009',\n",
    "                                      compress_tte=True)"
   ]
  },
  {
   "cell_type": "markdown",
   "metadata": {},
   "source": [
    "We now have our data locally downloaded from the HEASARC servers. This gets the most current version of the files and prefers RSP2 to RSP. You can of course use other methods to obtain earlier versions or differnt DRM types.\n",
    "\n",
    "We can see where they are stored:"
   ]
  },
  {
   "cell_type": "code",
   "execution_count": 13,
   "metadata": {
    "collapsed": false
   },
   "outputs": [
    {
     "data": {
      "text/plain": [
       "{'b0': {'rsp': '/Users/jburgess/coding/3ML/examples/gbm/bn080916009/glg_cspec_b0_bn080916009_v00.rsp2',\n",
       "  'tte': '/Users/jburgess/coding/3ML/examples/gbm/bn080916009/glg_tte_b0_bn080916009_v01.fit.gz'},\n",
       " 'n3': {'rsp': '/Users/jburgess/coding/3ML/examples/gbm/bn080916009/glg_cspec_n3_bn080916009_v00.rsp2',\n",
       "  'tte': '/Users/jburgess/coding/3ML/examples/gbm/bn080916009/glg_tte_n3_bn080916009_v01.fit.gz'},\n",
       " 'n4': {'rsp': '/Users/jburgess/coding/3ML/examples/gbm/bn080916009/glg_cspec_n4_bn080916009_v00.rsp2',\n",
       "  'tte': '/Users/jburgess/coding/3ML/examples/gbm/bn080916009/glg_tte_n4_bn080916009_v01.fit.gz'}}"
      ]
     },
     "execution_count": 13,
     "metadata": {},
     "output_type": "execute_result"
    }
   ],
   "source": [
    "gbm_data"
   ]
  },
  {
   "cell_type": "markdown",
   "metadata": {},
   "source": [
    "If the data already exist in that location, the downloader will skip them."
   ]
  },
  {
   "cell_type": "markdown",
   "metadata": {},
   "source": [
    "## Making an analysis\n",
    "\n",
    "Now we have everything we need to make an analysis. We just need to create our plugins and set our models.\n",
    "\n",
    "### Getting a model from the selection\n",
    "\n",
    "3ML's GBM catalog will build a model for you from the HEASARC values. We simply choose the model and interval we want, i.e., Band, Comt, PL, SBPL and either peak or fluence interval.\n",
    "\n",
    "\n",
    "Here we will use the best fit model (SBPL) for the fluence interval."
   ]
  },
  {
   "cell_type": "code",
   "execution_count": 14,
   "metadata": {
    "collapsed": false
   },
   "outputs": [],
   "source": [
    "interval = 'fluence'\n",
    "\n",
    "models = gbm_catalog.get_model(model=det_info['GRB080916009']['best fit model'][interval],interval=interval)"
   ]
  },
  {
   "cell_type": "code",
   "execution_count": null,
   "metadata": {
    "collapsed": false
   },
   "outputs": [
    {
     "data": {
      "text/html": [
       "Model summary:<br><br><div>\n",
       "<table border=\"1\" class=\"dataframe\">\n",
       "  <thead>\n",
       "    <tr style=\"text-align: right;\">\n",
       "      <th></th>\n",
       "      <th>N</th>\n",
       "    </tr>\n",
       "  </thead>\n",
       "  <tbody>\n",
       "    <tr>\n",
       "      <th>Point sources</th>\n",
       "      <td>1</td>\n",
       "    </tr>\n",
       "    <tr>\n",
       "      <th>Extended sources</th>\n",
       "      <td>0</td>\n",
       "    </tr>\n",
       "    <tr>\n",
       "      <th>Particle sources</th>\n",
       "      <td>0</td>\n",
       "    </tr>\n",
       "  </tbody>\n",
       "</table>\n",
       "</div><br><br>Free parameters (5):<br><br><div>\n",
       "<table border=\"1\" class=\"dataframe\">\n",
       "  <thead>\n",
       "    <tr style=\"text-align: right;\">\n",
       "      <th></th>\n",
       "      <th>value</th>\n",
       "      <th>min_value</th>\n",
       "      <th>max_value</th>\n",
       "      <th>unit</th>\n",
       "    </tr>\n",
       "  </thead>\n",
       "  <tbody>\n",
       "    <tr>\n",
       "      <th>GRB080916009.spectrum.main.SmoothlyBrokenPowerLaw.K</th>\n",
       "      <td>0.0122397</td>\n",
       "      <td>0</td>\n",
       "      <td>None</td>\n",
       "      <td>1 / (cm2 keV s)</td>\n",
       "    </tr>\n",
       "    <tr>\n",
       "      <th>GRB080916009.spectrum.main.SmoothlyBrokenPowerLaw.alpha</th>\n",
       "      <td>-1.13938</td>\n",
       "      <td>-1.5</td>\n",
       "      <td>2</td>\n",
       "      <td></td>\n",
       "    </tr>\n",
       "    <tr>\n",
       "      <th>GRB080916009.spectrum.main.SmoothlyBrokenPowerLaw.break_energy</th>\n",
       "      <td>301.647</td>\n",
       "      <td>10</td>\n",
       "      <td>None</td>\n",
       "      <td>keV</td>\n",
       "    </tr>\n",
       "    <tr>\n",
       "      <th>GRB080916009.spectrum.main.SmoothlyBrokenPowerLaw.break_scale</th>\n",
       "      <td>0.3</td>\n",
       "      <td>0</td>\n",
       "      <td>10</td>\n",
       "      <td></td>\n",
       "    </tr>\n",
       "    <tr>\n",
       "      <th>GRB080916009.spectrum.main.SmoothlyBrokenPowerLaw.beta</th>\n",
       "      <td>-2.08541</td>\n",
       "      <td>-5</td>\n",
       "      <td>-1.6</td>\n",
       "      <td></td>\n",
       "    </tr>\n",
       "  </tbody>\n",
       "</table>\n",
       "</div><br><br>Fixed parameters (3):<br>(abridged. Use complete=True to see all fixed parameters)<br><br><br>Linked parameters (0):<br><br>(none)<br>"
      ],
      "text/plain": [
       "Model summary:\n",
       "==============\n",
       "\n",
       "                  N\n",
       "Point sources     1\n",
       "Extended sources  0\n",
       "Particle sources  0\n",
       "\n",
       "Free parameters (5):\n",
       "--------------------\n",
       "\n",
       "                                 value min_value max_value             unit\n",
       "GRB080916009...K             0.0122397         0      None  1 / (cm2 keV s)\n",
       "GRB080916009...alpha          -1.13938      -1.5         2                 \n",
       "GRB080916009...break_energy    301.647        10      None              keV\n",
       "GRB080916009...break_scale         0.3         0        10                 \n",
       "GRB080916009...beta           -2.08541        -5      -1.6                 \n",
       "\n",
       "Fixed parameters (3):\n",
       "(abridged. Use complete=True to see all fixed parameters)\n",
       "\n",
       "\n",
       "Linked parameters (0):\n",
       "----------------------\n",
       "\n",
       "(none)"
      ]
     },
     "execution_count": 15,
     "metadata": {},
     "output_type": "execute_result"
    }
   ],
   "source": [
    "models['GRB080916009']"
   ]
  },
  {
   "cell_type": "markdown",
   "metadata": {},
   "source": [
    "### 3ML Analysis\n",
    "\n",
    "#### Plugin setup\n",
    "\n",
    "Let's build some plugins"
   ]
  },
  {
   "cell_type": "code",
   "execution_count": null,
   "metadata": {
    "collapsed": false
   },
   "outputs": [
    {
     "name": "stdout",
     "output_type": "stream",
     "text": [
      "Auto-determined polynomial order: 0\n",
      "\n",
      "\n",
      "Unbinned 0-order polynomial fit with the Nelder-Mead method\n",
      "\n",
      "\n",
      "Auto-probed noise models:\n",
      "- observation: poisson\n",
      "- background: gaussian\n"
     ]
    },
    {
     "name": "stderr",
     "output_type": "stream",
     "text": [
      "\n",
      "WARNING UserWarning: No TLMIN keyword found. This DRM does not follow OGIP standards. Assuming TLMIN=1\n",
      "\n",
      "\n",
      "WARNING VisibleDeprecationWarning: converting an array with ndim > 0 to an index will result in an error in the future\n",
      "\n"
     ]
    }
   ],
   "source": [
    "det = 'n3'\n",
    "\n",
    "nai3 = FermiGBMTTELike(name=det,\n",
    "                       source_intervals=det_info['GRB080916009']['source']['fluence'],\n",
    "                       background_selections=det_info['GRB080916009']['background']['full'],\n",
    "                       tte_file=gbm_data[det]['tte'],\n",
    "                       rsp_file=gbm_data[det]['rsp'])\n",
    "\n",
    "det = 'n4'\n",
    "\n",
    "nai4 = FermiGBMTTELike(name=det,\n",
    "                       source_intervals=det_info['GRB080916009']['source']['fluence'],\n",
    "                       background_selections=det_info['GRB080916009']['background']['full'],\n",
    "                       tte_file=gbm_data[det]['tte'],\n",
    "                       rsp_file=gbm_data[det]['rsp'])\n",
    "\n",
    "det = 'b0'\n",
    "\n",
    "bgo0 = FermiGBMTTELike(name=det,\n",
    "                       source_intervals=det_info['GRB080916009']['source']['fluence'],\n",
    "                       background_selections=det_info['GRB080916009']['background']['full'],\n",
    "                       tte_file=gbm_data[det]['tte'],\n",
    "                       rsp_file=gbm_data[det]['rsp'])\n",
    "\n",
    "\n",
    "nai3.set_active_measurements('8-900')\n",
    "nai4.set_active_measurements('8-900')\n",
    "bgo0.set_active_measurements('250-42000')"
   ]
  },
  {
   "cell_type": "code",
   "execution_count": null,
   "metadata": {
    "collapsed": false
   },
   "outputs": [],
   "source": [
    "nai3.view_lightcurve(stop=100)"
   ]
  },
  {
   "cell_type": "markdown",
   "metadata": {},
   "source": [
    "#### Model setup\n",
    "\n",
    "We can use the model from the catalog and combine with the data into a JointLikelihood."
   ]
  },
  {
   "cell_type": "code",
   "execution_count": null,
   "metadata": {
    "collapsed": false
   },
   "outputs": [],
   "source": [
    "\n",
    "data_list = DataList(nai3,nai4,bgo0)\n",
    "\n",
    "jl = JointLikelihood(models['GRB080916009'], data_list=data_list)\n",
    "\n",
    "# Now we can fit\n",
    "\n",
    "res = jl.fit()"
   ]
  },
  {
   "cell_type": "code",
   "execution_count": null,
   "metadata": {
    "collapsed": false
   },
   "outputs": [],
   "source": [
    "_ = display_ogip_model_counts(jl,min_rate=5,step=False)"
   ]
  },
  {
   "cell_type": "markdown",
   "metadata": {},
   "source": [
    "## LLE Catalog\n",
    "\n",
    "### Searching\n",
    "Similar to the GBM catalog, we can search LAT LLE triggers with the LLE catalog:\n"
   ]
  },
  {
   "cell_type": "code",
   "execution_count": null,
   "metadata": {
    "collapsed": false
   },
   "outputs": [],
   "source": [
    "lle_catalog = FermiLLEBurstCatalog()"
   ]
  },
  {
   "cell_type": "markdown",
   "metadata": {},
   "source": [
    "We can perform cone, time, and trigger searches just like as with the GBM catalog. Currently, no T90 searches are available."
   ]
  },
  {
   "cell_type": "code",
   "execution_count": null,
   "metadata": {
    "collapsed": false
   },
   "outputs": [],
   "source": [
    "lle_catalog.cone_search(0,0,300)"
   ]
  },
  {
   "cell_type": "code",
   "execution_count": null,
   "metadata": {
    "collapsed": false
   },
   "outputs": [],
   "source": [
    "lle_catalog.query_sources('GRB080916009')"
   ]
  },
  {
   "cell_type": "code",
   "execution_count": null,
   "metadata": {
    "collapsed": false
   },
   "outputs": [],
   "source": [
    "lle_catalog.result.loc['GRB080916009']['trigger_name']"
   ]
  },
  {
   "cell_type": "markdown",
   "metadata": {},
   "source": [
    "## Downloading LLE data\n",
    "\n",
    "With the 3ML LLE plugin, we no longer need PHA files. Therefore, the 3ML LLE downloader will get the LLE event file and associated LLE RSP (if it exists) as well as the FT2 file."
   ]
  },
  {
   "cell_type": "code",
   "execution_count": null,
   "metadata": {
    "collapsed": false
   },
   "outputs": [],
   "source": [
    "lle_data_info = download_LLE_trigger_data(lle_catalog.result.loc['GRB080916009']['trigger_name'],destination_directory='lat')"
   ]
  },
  {
   "cell_type": "code",
   "execution_count": null,
   "metadata": {
    "collapsed": false
   },
   "outputs": [],
   "source": [
    "lle_data_info"
   ]
  },
  {
   "cell_type": "markdown",
   "metadata": {},
   "source": [
    "## Analysis with GBM and LLE data\n",
    "\n",
    "Analyze the LLE data you have just downloaded along with GBM data"
   ]
  },
  {
   "cell_type": "code",
   "execution_count": null,
   "metadata": {
    "collapsed": false
   },
   "outputs": [],
   "source": [
    "lle = FermiLATLLELike('LLE',\n",
    "                      lle_file=lle_data_info['lle'],\n",
    "                      rsp_file=lle_data_info['rsp'],\n",
    "                      ft2_file=lle_data_info['ft2'],\n",
    "                      background_selections=det_info['GRB080916009']['background']['full'],\n",
    "                      source_intervals=det_info['GRB080916009']['source']['fluence']\n",
    "                     )"
   ]
  },
  {
   "cell_type": "code",
   "execution_count": null,
   "metadata": {
    "collapsed": false
   },
   "outputs": [],
   "source": [
    "lle.view_lightcurve(stop=100)\n",
    "\n",
    "lle.set_active_measurements('50000-100000')"
   ]
  },
  {
   "cell_type": "code",
   "execution_count": null,
   "metadata": {
    "collapsed": false
   },
   "outputs": [],
   "source": [
    "data_list = DataList(nai3,nai4,bgo0,lle)\n",
    "\n",
    "jl = JointLikelihood(models['GRB080916009'], data_list=data_list)\n",
    "\n",
    "# Now we can fit\n",
    "\n",
    "res = jl.fit()"
   ]
  },
  {
   "cell_type": "code",
   "execution_count": null,
   "metadata": {
    "collapsed": false
   },
   "outputs": [],
   "source": [
    "_ = display_ogip_model_counts(jl,min_rate=5,step=False)"
   ]
  },
  {
   "cell_type": "markdown",
   "metadata": {
    "collapsed": true
   },
   "source": [
    "## Swift Catalog\n",
    "\n",
    "We can also examine the Swift GRB catalog. In the spirit of **3ML**, it is linked to other instruments so that we can know which triggers were seen by multiple missions.\n"
   ]
  },
  {
   "cell_type": "code",
   "execution_count": null,
   "metadata": {
    "collapsed": false
   },
   "outputs": [],
   "source": [
    "swift_catalog = SwiftGRBCatalog()"
   ]
  },
  {
   "cell_type": "markdown",
   "metadata": {},
   "source": [
    "### Cone, time, T90, and trigger seraches\n",
    "\n",
    "Just as before, we can search on cones, time ranges, and triggers. Thanks to the Swift team, we can immediately see if there were other detections:"
   ]
  },
  {
   "cell_type": "code",
   "execution_count": null,
   "metadata": {
    "collapsed": false
   },
   "outputs": [],
   "source": [
    "swift_catalog.cone_search(0,0,10)"
   ]
  },
  {
   "cell_type": "code",
   "execution_count": null,
   "metadata": {
    "collapsed": false
   },
   "outputs": [],
   "source": [
    "swift_catalog.query('\"2005-09-22T15:02:00.257060\" < trigger_time < \"2005-10-22T15:02:00.257060\"')"
   ]
  },
  {
   "cell_type": "markdown",
   "metadata": {},
   "source": [
    "### Searching redshift (z) and other observations\n",
    "\n",
    "Thanks to the detail in the Swift GRB catalog, we can easily find information out about other instruments.\n",
    "\n",
    "\n",
    "#### Redshift\n",
    "Let's first look at a reshift search. Want to know about really high-z GRBs?\n"
   ]
  },
  {
   "cell_type": "code",
   "execution_count": null,
   "metadata": {
    "collapsed": false
   },
   "outputs": [],
   "source": [
    "swift_catalog.query('redshift > 7')"
   ]
  },
  {
   "cell_type": "markdown",
   "metadata": {},
   "source": [
    "Great! Now lets get those redshifts and learn more:"
   ]
  },
  {
   "cell_type": "code",
   "execution_count": null,
   "metadata": {
    "collapsed": false,
    "scrolled": true
   },
   "outputs": [],
   "source": [
    "swift_catalog.get_redshift()"
   ]
  },
  {
   "cell_type": "markdown",
   "metadata": {},
   "source": [
    "We can even simply click on the links and pull up the reference when we call that column:"
   ]
  },
  {
   "cell_type": "code",
   "execution_count": null,
   "metadata": {
    "collapsed": false
   },
   "outputs": [],
   "source": [
    "swift_catalog.get_redshift()['reference']"
   ]
  },
  {
   "cell_type": "markdown",
   "metadata": {},
   "source": [
    "#### Other observations\n",
    "\n",
    "There are several instruments observing GRBs. We can see all the instruments that co-observe with Swift:"
   ]
  },
  {
   "cell_type": "code",
   "execution_count": null,
   "metadata": {
    "collapsed": false
   },
   "outputs": [],
   "source": [
    "swift_catalog.other_observing_instruments"
   ]
  },
  {
   "cell_type": "markdown",
   "metadata": {},
   "source": [
    "Let's look at all those that are also seen by Integral and/or Chandra:"
   ]
  },
  {
   "cell_type": "code",
   "execution_count": null,
   "metadata": {
    "collapsed": false
   },
   "outputs": [],
   "source": [
    "swift_catalog.query_other_observing_instruments('Integral','Chandra')"
   ]
  },
  {
   "cell_type": "markdown",
   "metadata": {},
   "source": [
    "We can then obtain the informatrion from all the observing instruments from this (or any other) search:"
   ]
  },
  {
   "cell_type": "code",
   "execution_count": null,
   "metadata": {
    "collapsed": false
   },
   "outputs": [],
   "source": [
    "other_instruments = swift_catalog.get_other_instrument_information()\n",
    "other_instruments"
   ]
  },
  {
   "cell_type": "markdown",
   "metadata": {},
   "source": [
    "In particular, for Fermi-GBM, we can view the trigger number. In the future, other instruments will have this feature\n",
    "\n",
    "It is then very simple to use the GBM catalog and downloader to obtain the proper information and data to perform analysis with **3ML**"
   ]
  },
  {
   "cell_type": "code",
   "execution_count": null,
   "metadata": {
    "collapsed": false,
    "scrolled": true
   },
   "outputs": [],
   "source": [
    "other_instruments['Fermi-GBM']"
   ]
  },
  {
   "cell_type": "markdown",
   "metadata": {},
   "source": [
    "#### Other observations\n",
    "\n",
    "It is also possible to investigate optical, radio, etc. other observations and their references:"
   ]
  },
  {
   "cell_type": "code",
   "execution_count": null,
   "metadata": {
    "collapsed": false,
    "scrolled": true
   },
   "outputs": [],
   "source": [
    "swift_catalog.get_other_observation_information()"
   ]
  },
  {
   "cell_type": "markdown",
   "metadata": {},
   "source": [
    "## Clean up\n",
    "\n",
    "If you want to tidy up and remove the data you just downloaded, simply use the cleanup functions provided:"
   ]
  },
  {
   "cell_type": "code",
   "execution_count": null,
   "metadata": {
    "collapsed": false
   },
   "outputs": [],
   "source": [
    "cleanup_downloaded_GBM_data(gbm_data)\n",
    "\n",
    "cleanup_downloaded_LLE_data(lle_data_info)"
   ]
  },
  {
   "cell_type": "code",
   "execution_count": null,
   "metadata": {
    "collapsed": true
   },
   "outputs": [],
   "source": []
  }
 ],
 "metadata": {
  "kernelspec": {
   "display_name": "Python 2",
   "language": "python",
   "name": "python2"
  },
  "language_info": {
   "codemirror_mode": {
    "name": "ipython",
    "version": 2
   },
   "file_extension": ".py",
   "mimetype": "text/x-python",
   "name": "python",
   "nbconvert_exporter": "python",
   "pygments_lexer": "ipython2",
   "version": "2.7.13"
  },
  "widgets": {
   "state": {
    "26479df38bfd4a6581865b17e8057c07": {
     "views": [
      {
       "cell_index": 31
      }
     ]
    },
    "98d735ff50c841a2b4bbaba1be326979": {
     "views": [
      {
       "cell_index": 31
      }
     ]
    },
    "adea732f5402483aa25b07e66e1077ca": {
     "views": [
      {
       "cell_index": 23
      }
     ]
    },
    "bc4164e8e3b540a78fe179fbb158ffde": {
     "views": [
      {
       "cell_index": 31
      }
     ]
    },
    "bc7660f7b46d41a0a852304644cb9634": {
     "views": [
      {
       "cell_index": 31
      }
     ]
    }
   },
   "version": "1.2.0"
  }
 },
 "nbformat": 4,
 "nbformat_minor": 1
}
