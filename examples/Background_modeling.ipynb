{
 "cells": [
  {
   "cell_type": "markdown",
   "metadata": {},
   "source": [
    "# Background Modeling\n",
    "\n",
    "When fitting a spectrum with a background, it is invalid to simply subtract off the background if the background is part of the data's generative model. Therefore, we are often left with the task of modeling the statistical process of the background along with our source. \n",
    "\n",
    "In typical spectral modeling, we find a few common cases when background is involved. If we have total counts ($S_i$) in $i^{\\rm th}$ on $N$ bins observed for an exposure of $t_{\\rm s}$ and also a measurement of $B_i$ background counts from looking off source for $t_{\\rm b}$ seconds, we can then suppose a model for the source rate ($m_i$) and background rate ($b_i$).\n",
    "\n",
    "**Poisson source with Poisson background**\n",
    "\n",
    "This is described by a likelihood of the following form:\n",
    "\n",
    "$$ L = \\prod^N_{i=1} \\frac{(t_{\\rm s}(m_i+b_i))^{S_i} e^{-t_{\\rm s}(m_i+b_i)}}{S_i!} \\times \\frac{(t_{\\rm b} b_i)^{B_i} e^{-t_{\\rm b}b_i}}{B_i!}  $$\n",
    "\n",
    "which is a Poisson likelihood for the total model ($m_i +b_i$) conditional on the Poisson background observation. This is the typical case for e.g. apeture x-ray instruments that observe a source region and then a background region. Both observations are Poisson distributed.\n",
    "\n",
    "**Poisson source with Gaussian background**\n",
    "\n",
    "This likelihood is similar, but the conditonal background distribution is described by Gaussian:\n",
    "\n",
    "$$ L = \\prod^N_{i=1} \\frac{(t_{\\rm s}(m_i+b_i))^{S_i} e^{-t_{\\rm s}(m_i+b_i)}}{S_i!} \\times \\frac{1}{\\sigma_{b,i}\\sqrt{2 \\pi}} \\exp \\left[ \\frac{({B_i} - t_{\\rm b} b_i)^2} {2 \\sigma_{b,i}^2} \\right] $$\n",
    "\n",
    "where the $\\sigma_{b,i}$ are the measured errors on $B_i$. This situation occurs e.g. when the background counts are estimated from a fitted model.\n",
    "\n",
    "In 3ML, we can fit a background model along with the the source model which allows for arbitrarily low background counts (in fact zero) in channels. The alternative is to use profile likelihoods where we first differentiate the likelihood with respect to the background model\n",
    "\n",
    "$$ \\frac{ \\partial L}{{\\partial b_i}} = 0$$\n",
    "\n",
    "and solve for the $b_i$ that maximize the likelihood. Both the Poisson and Gaussian background profile likelihoods are described in the [XSPEC statistics guide](https://heasarc.gsfc.nasa.gov/xanadu/xspec/manual/XSappendixStatistics.html). This implicitly yields $N$ parameters to the model thus requiring at least one background count per channel. These likelihoods are the default in 3ML when a background model is not used with a SpectrumLike plugin.\n",
    "\n",
    "Let's examine how to hanlde both cases.\n"
   ]
  },
  {
   "cell_type": "code",
   "execution_count": 18,
   "metadata": {
    "ExecuteTime": {
     "end_time": "2017-07-29T02:17:39.024434Z",
     "start_time": "2017-07-29T02:17:39.019065Z"
    }
   },
   "outputs": [],
   "source": [
    "from threeML import *\n",
    "\n",
    "%matplotlib inline\n",
    "\n",
    "import warnings\n",
    "\n",
    "warnings.simplefilter('ignore')"
   ]
  },
  {
   "cell_type": "markdown",
   "metadata": {},
   "source": [
    "First we will simulate an observation where we have a simulated broken power law source spectrum along with an observed background spectrum that is a continuum background with a Gaussian line."
   ]
  },
  {
   "cell_type": "code",
   "execution_count": 22,
   "metadata": {
    "ExecuteTime": {
     "end_time": "2017-07-29T02:20:17.237096Z",
     "start_time": "2017-07-29T02:20:15.741592Z"
    }
   },
   "outputs": [
    {
     "data": {
      "image/png": "[encoded data removed]",
      "text/plain": [
       "<matplotlib.figure.Figure at 0x1253b1ed0>"
      ]
     },
     "metadata": {},
     "output_type": "display_data"
    }
   ],
   "source": [
    "\n",
    "# create the simulated observation\n",
    "\n",
    "energies = np.logspace(1,4,151)\n",
    "\n",
    "low_edge = energies[:-1]\n",
    "high_edge = energies[1:]\n",
    "\n",
    "# get a BPL source function\n",
    "source_function = Broken_powerlaw(K=2,xb=300,piv=300, alpha=0., beta=-3.)\n",
    "\n",
    "# power law background function\n",
    "background_function = Powerlaw(K=.5,index=-1.5, piv=100.) + Gaussian(F=50,mu=511,sigma=20)\n",
    "\n",
    "spectrum_generator = SpectrumLike.from_function('fake',\n",
    "                                               source_function=source_function,\n",
    "                                               background_function=background_function,\n",
    "                                               energy_min=low_edge,\n",
    "                                               energy_max=high_edge)\n",
    "\n",
    "\n",
    "spectrum_generator.view_count_spectrum()"
   ]
  },
  {
   "cell_type": "markdown",
   "metadata": {},
   "source": [
    "## Using a profile likelihood\n",
    "\n",
    "We have very few counts counts in some channels (in fact sometimes zero), but let's assume we do not know the model for the background. In this case, we will use the profile Poisson likelihood."
   ]
  },
  {
   "cell_type": "code",
   "execution_count": 23,
   "metadata": {
    "ExecuteTime": {
     "end_time": "2017-07-29T02:20:39.814339Z",
     "start_time": "2017-07-29T02:20:23.547528Z"
    }
   },
   "outputs": [
    {
     "name": "stdout",
     "output_type": "stream",
     "text": [
      "Best fit values:\n",
      "\n"
     ]
    },
    {
     "data": {
      "text/html": [
       "<div>\n",
       "<table border=\"1\" class=\"dataframe\">\n",
       "  <thead>\n",
       "    <tr style=\"text-align: right;\">\n",
       "      <th></th>\n",
       "      <th>result</th>\n",
       "      <th>unit</th>\n",
       "    </tr>\n",
       "    <tr>\n",
       "      <th>parameter</th>\n",
       "      <th></th>\n",
       "      <th></th>\n",
       "    </tr>\n",
       "  </thead>\n",
       "  <tbody>\n",
       "    <tr>\n",
       "      <th>source.spectrum.main.Broken_powerlaw.K</th>\n",
       "      <td>2.190 +/- 0.16</td>\n",
       "      <td>1 / (cm2 keV s)</td>\n",
       "    </tr>\n",
       "    <tr>\n",
       "      <th>source.spectrum.main.Broken_powerlaw.xb</th>\n",
       "      <td>(2.860 +/- 0.11) x 10^2</td>\n",
       "      <td>keV</td>\n",
       "    </tr>\n",
       "    <tr>\n",
       "      <th>source.spectrum.main.Broken_powerlaw.alpha</th>\n",
       "      <td>(4.000 +/- 8) x 10^-2</td>\n",
       "      <td></td>\n",
       "    </tr>\n",
       "    <tr>\n",
       "      <th>source.spectrum.main.Broken_powerlaw.beta</th>\n",
       "      <td>-2.880 +/- 0.13</td>\n",
       "      <td></td>\n",
       "    </tr>\n",
       "  </tbody>\n",
       "</table>\n",
       "</div>"
      ],
      "text/plain": [
       "                                                             result  \\\n",
       "parameter                                                             \n",
       "source.spectrum.main.Broken_powerlaw.K               2.190 +/- 0.16   \n",
       "source.spectrum.main.Broken_powerlaw.xb     (2.860 +/- 0.11) x 10^2   \n",
       "source.spectrum.main.Broken_powerlaw.alpha    (4.000 +/- 8) x 10^-2   \n",
       "source.spectrum.main.Broken_powerlaw.beta           -2.880 +/- 0.13   \n",
       "\n",
       "                                                       unit  \n",
       "parameter                                                    \n",
       "source.spectrum.main.Broken_powerlaw.K      1 / (cm2 keV s)  \n",
       "source.spectrum.main.Broken_powerlaw.xb                 keV  \n",
       "source.spectrum.main.Broken_powerlaw.alpha                   \n",
       "source.spectrum.main.Broken_powerlaw.beta                    "
      ]
     },
     "metadata": {},
     "output_type": "display_data"
    },
    {
     "name": "stdout",
     "output_type": "stream",
     "text": [
      "\n",
      "Correlation matrix:\n",
      "\n"
     ]
    },
    {
     "data": {
      "text/html": [
       "<table id=\"table4927964688\">\n",
       "<tr><td>1.00</td><td>-0.64</td><td>0.78</td><td>0.02</td></tr>\n",
       "<tr><td>-0.64</td><td>1.00</td><td>-0.49</td><td>-0.57</td></tr>\n",
       "<tr><td>0.78</td><td>-0.49</td><td>1.00</td><td>0.01</td></tr>\n",
       "<tr><td>0.02</td><td>-0.57</td><td>0.01</td><td>1.00</td></tr>\n",
       "</table>"
      ],
      "text/plain": [
       " 1.00 -0.64  0.78  0.02\n",
       "-0.64  1.00 -0.49 -0.57\n",
       " 0.78 -0.49  1.00  0.01\n",
       " 0.02 -0.57  0.01  1.00"
      ]
     },
     "metadata": {},
     "output_type": "display_data"
    },
    {
     "name": "stdout",
     "output_type": "stream",
     "text": [
      "\n",
      "Values of -log(likelihood) at the minimum:\n",
      "\n"
     ]
    },
    {
     "data": {
      "text/html": [
       "<div>\n",
       "<table border=\"1\" class=\"dataframe\">\n",
       "  <thead>\n",
       "    <tr style=\"text-align: right;\">\n",
       "      <th></th>\n",
       "      <th>-log(likelihood)</th>\n",
       "    </tr>\n",
       "  </thead>\n",
       "  <tbody>\n",
       "    <tr>\n",
       "      <th>fake</th>\n",
       "      <td>402.309993</td>\n",
       "    </tr>\n",
       "    <tr>\n",
       "      <th>total</th>\n",
       "      <td>402.309993</td>\n",
       "    </tr>\n",
       "  </tbody>\n",
       "</table>\n",
       "</div>"
      ],
      "text/plain": [
       "       -log(likelihood)\n",
       "fake         402.309993\n",
       "total        402.309993"
      ]
     },
     "metadata": {},
     "output_type": "display_data"
    },
    {
     "name": "stdout",
     "output_type": "stream",
     "text": [
      "\n",
      "Values of statistical measures:\n",
      "\n"
     ]
    },
    {
     "data": {
      "text/html": [
       "<div>\n",
       "<table border=\"1\" class=\"dataframe\">\n",
       "  <thead>\n",
       "    <tr style=\"text-align: right;\">\n",
       "      <th></th>\n",
       "      <th>statistical measures</th>\n",
       "    </tr>\n",
       "  </thead>\n",
       "  <tbody>\n",
       "    <tr>\n",
       "      <th>AIC</th>\n",
       "      <td>812.895848</td>\n",
       "    </tr>\n",
       "    <tr>\n",
       "      <th>BIC</th>\n",
       "      <td>824.662527</td>\n",
       "    </tr>\n",
       "  </tbody>\n",
       "</table>\n",
       "</div>"
      ],
      "text/plain": [
       "     statistical measures\n",
       "AIC            812.895848\n",
       "BIC            824.662527"
      ]
     },
     "metadata": {},
     "output_type": "display_data"
    },
    {
     "data": {
      "image/png": "[encoded data removed]",
      "text/plain": [
       "<matplotlib.figure.Figure at 0x125b40dd0>"
      ]
     },
     "metadata": {},
     "output_type": "display_data"
    }
   ],
   "source": [
    "bpl = Broken_powerlaw(piv=300,xb=500)\n",
    "\n",
    "ps_src = PointSource('source',0,0,spectral_shape=bpl)\n",
    "\n",
    "src_model = Model(ps_src)\n",
    "\n",
    "jl_profile = JointLikelihood(src_model,DataList(spectrum_generator))\n",
    "\n",
    "jl_profile.set_minimizer('ROOT')\n",
    "\n",
    "_ = jl_profile.fit()\n",
    "\n",
    "_ = spectrum_generator.display_model(step=False) "
   ]
  },
  {
   "cell_type": "markdown",
   "metadata": {
    "ExecuteTime": {
     "end_time": "2017-07-28T18:55:20.978038Z",
     "start_time": "2017-07-28T18:55:12.994464Z"
    }
   },
   "source": [
    "Our fit recovers the simulated parameters. However, we should have binned the spectrum up such that there is at least one background count per spectral bin for the profile to be valid."
   ]
  },
  {
   "cell_type": "code",
   "execution_count": 24,
   "metadata": {
    "ExecuteTime": {
     "end_time": "2017-07-29T02:20:56.289813Z",
     "start_time": "2017-07-29T02:20:46.586177Z"
    }
   },
   "outputs": [
    {
     "name": "stdout",
     "output_type": "stream",
     "text": [
      "Best fit values:\n",
      "\n"
     ]
    },
    {
     "data": {
      "text/html": [
       "<div>\n",
       "<table border=\"1\" class=\"dataframe\">\n",
       "  <thead>\n",
       "    <tr style=\"text-align: right;\">\n",
       "      <th></th>\n",
       "      <th>result</th>\n",
       "      <th>unit</th>\n",
       "    </tr>\n",
       "    <tr>\n",
       "      <th>parameter</th>\n",
       "      <th></th>\n",
       "      <th></th>\n",
       "    </tr>\n",
       "  </thead>\n",
       "  <tbody>\n",
       "    <tr>\n",
       "      <th>source.spectrum.main.Broken_powerlaw.K</th>\n",
       "      <td>2.200 +/- 0.13</td>\n",
       "      <td>1 / (cm2 keV s)</td>\n",
       "    </tr>\n",
       "    <tr>\n",
       "      <th>source.spectrum.main.Broken_powerlaw.xb</th>\n",
       "      <td>(2.820 +/- 0.04) x 10^2</td>\n",
       "      <td>keV</td>\n",
       "    </tr>\n",
       "    <tr>\n",
       "      <th>source.spectrum.main.Broken_powerlaw.alpha</th>\n",
       "      <td>(6.000 +/- 7) x 10^-2</td>\n",
       "      <td></td>\n",
       "    </tr>\n",
       "    <tr>\n",
       "      <th>source.spectrum.main.Broken_powerlaw.beta</th>\n",
       "      <td>-2.810 +/- 0.11</td>\n",
       "      <td></td>\n",
       "    </tr>\n",
       "  </tbody>\n",
       "</table>\n",
       "</div>"
      ],
      "text/plain": [
       "                                                             result  \\\n",
       "parameter                                                             \n",
       "source.spectrum.main.Broken_powerlaw.K               2.200 +/- 0.13   \n",
       "source.spectrum.main.Broken_powerlaw.xb     (2.820 +/- 0.04) x 10^2   \n",
       "source.spectrum.main.Broken_powerlaw.alpha    (6.000 +/- 7) x 10^-2   \n",
       "source.spectrum.main.Broken_powerlaw.beta           -2.810 +/- 0.11   \n",
       "\n",
       "                                                       unit  \n",
       "parameter                                                    \n",
       "source.spectrum.main.Broken_powerlaw.K      1 / (cm2 keV s)  \n",
       "source.spectrum.main.Broken_powerlaw.xb                 keV  \n",
       "source.spectrum.main.Broken_powerlaw.alpha                   \n",
       "source.spectrum.main.Broken_powerlaw.beta                    "
      ]
     },
     "metadata": {},
     "output_type": "display_data"
    },
    {
     "name": "stdout",
     "output_type": "stream",
     "text": [
      "\n",
      "Correlation matrix:\n",
      "\n"
     ]
    },
    {
     "data": {
      "text/html": [
       "<table id=\"table4915809232\">\n",
       "<tr><td>1.00</td><td>-0.27</td><td>0.71</td><td>-0.46</td></tr>\n",
       "<tr><td>-0.27</td><td>1.00</td><td>-0.18</td><td>-0.23</td></tr>\n",
       "<tr><td>0.71</td><td>-0.18</td><td>1.00</td><td>-0.30</td></tr>\n",
       "<tr><td>-0.46</td><td>-0.23</td><td>-0.30</td><td>1.00</td></tr>\n",
       "</table>"
      ],
      "text/plain": [
       " 1.00 -0.27  0.71 -0.46\n",
       "-0.27  1.00 -0.18 -0.23\n",
       " 0.71 -0.18  1.00 -0.30\n",
       "-0.46 -0.23 -0.30  1.00"
      ]
     },
     "metadata": {},
     "output_type": "display_data"
    },
    {
     "name": "stdout",
     "output_type": "stream",
     "text": [
      "\n",
      "Values of -log(likelihood) at the minimum:\n",
      "\n"
     ]
    },
    {
     "data": {
      "text/html": [
       "<div>\n",
       "<table border=\"1\" class=\"dataframe\">\n",
       "  <thead>\n",
       "    <tr style=\"text-align: right;\">\n",
       "      <th></th>\n",
       "      <th>-log(likelihood)</th>\n",
       "    </tr>\n",
       "  </thead>\n",
       "  <tbody>\n",
       "    <tr>\n",
       "      <th>fake</th>\n",
       "      <td>288.063976</td>\n",
       "    </tr>\n",
       "    <tr>\n",
       "      <th>total</th>\n",
       "      <td>288.063976</td>\n",
       "    </tr>\n",
       "  </tbody>\n",
       "</table>\n",
       "</div>"
      ],
      "text/plain": [
       "       -log(likelihood)\n",
       "fake         288.063976\n",
       "total        288.063976"
      ]
     },
     "metadata": {},
     "output_type": "display_data"
    },
    {
     "name": "stdout",
     "output_type": "stream",
     "text": [
      "\n",
      "Values of statistical measures:\n",
      "\n"
     ]
    },
    {
     "data": {
      "text/html": [
       "<div>\n",
       "<table border=\"1\" class=\"dataframe\">\n",
       "  <thead>\n",
       "    <tr style=\"text-align: right;\">\n",
       "      <th></th>\n",
       "      <th>statistical measures</th>\n",
       "    </tr>\n",
       "  </thead>\n",
       "  <tbody>\n",
       "    <tr>\n",
       "      <th>AIC</th>\n",
       "      <td>584.403813</td>\n",
       "    </tr>\n",
       "    <tr>\n",
       "      <th>BIC</th>\n",
       "      <td>596.170493</td>\n",
       "    </tr>\n",
       "  </tbody>\n",
       "</table>\n",
       "</div>"
      ],
      "text/plain": [
       "     statistical measures\n",
       "AIC            584.403813\n",
       "BIC            596.170493"
      ]
     },
     "metadata": {},
     "output_type": "display_data"
    },
    {
     "data": {
      "image/png": "[encoded data removed]",
      "text/plain": [
       "<matplotlib.figure.Figure at 0x125956ad0>"
      ]
     },
     "metadata": {},
     "output_type": "display_data"
    },
    {
     "data": {
      "image/png": "[encoded data removed]",
      "text/plain": [
       "<matplotlib.figure.Figure at 0x11e994a10>"
      ]
     },
     "metadata": {},
     "output_type": "display_data"
    }
   ],
   "source": [
    "spectrum_generator.rebin_on_background(1)\n",
    "\n",
    "spectrum_generator.view_count_spectrum()\n",
    "\n",
    "_ = jl_profile.fit()\n",
    "\n",
    "_ = spectrum_generator.display_model(step=False) "
   ]
  },
  {
   "cell_type": "markdown",
   "metadata": {},
   "source": [
    "## Modeling the background\n",
    "\n",
    "Now let's try to model the background assuming we know that the background is a power law with a Gaussian line. We can extract a background plugin from the data by passing the original plugin to a classmethod of spectrum like."
   ]
  },
  {
   "cell_type": "code",
   "execution_count": 26,
   "metadata": {
    "ExecuteTime": {
     "end_time": "2017-07-29T02:21:24.011639Z",
     "start_time": "2017-07-29T02:21:23.999912Z"
    }
   },
   "outputs": [
    {
     "name": "stdout",
     "output_type": "stream",
     "text": [
      "Auto-probed noise models:\n",
      "- observation: poisson\n",
      "- background: None\n"
     ]
    }
   ],
   "source": [
    "background_plugin = SpectrumLike.from_background('bkg',spectrum_generator)"
   ]
  },
  {
   "cell_type": "markdown",
   "metadata": {},
   "source": [
    "This constructs a new plugin with only the observed background so that we have first model it."
   ]
  },
  {
   "cell_type": "code",
   "execution_count": 27,
   "metadata": {
    "ExecuteTime": {
     "end_time": "2017-07-29T02:21:26.348062Z",
     "start_time": "2017-07-29T02:21:25.158307Z"
    }
   },
   "outputs": [
    {
     "data": {
      "image/png": "[encoded data removed]",
      "text/plain": [
       "<matplotlib.figure.Figure at 0x126a39a50>"
      ]
     },
     "metadata": {},
     "output_type": "display_data"
    }
   ],
   "source": [
    "background_plugin.view_count_spectrum()"
   ]
  },
  {
   "cell_type": "markdown",
   "metadata": {},
   "source": [
    "We now construct our background model and fit it to the data. Let's assume we know that the line occurs at 511 keV, but we are unsure of its strength an width. We do not need to bin the data up because we are using a simple Poisson likelihood which is valid even when we have zero counts."
   ]
  },
  {
   "cell_type": "code",
   "execution_count": 29,
   "metadata": {
    "ExecuteTime": {
     "end_time": "2017-07-29T02:21:49.222994Z",
     "start_time": "2017-07-29T02:21:39.498468Z"
    }
   },
   "outputs": [
    {
     "name": "stdout",
     "output_type": "stream",
     "text": [
      "Best fit values:\n",
      "\n"
     ]
    },
    {
     "data": {
      "text/html": [
       "<div>\n",
       "<table border=\"1\" class=\"dataframe\">\n",
       "  <thead>\n",
       "    <tr style=\"text-align: right;\">\n",
       "      <th></th>\n",
       "      <th>result</th>\n",
       "      <th>unit</th>\n",
       "    </tr>\n",
       "    <tr>\n",
       "      <th>parameter</th>\n",
       "      <th></th>\n",
       "      <th></th>\n",
       "    </tr>\n",
       "  </thead>\n",
       "  <tbody>\n",
       "    <tr>\n",
       "      <th>bkg.spectrum.main.composite.K_1</th>\n",
       "      <td>(3.07 -0.23 +0.24) x 10^-1</td>\n",
       "      <td>1 / (cm2 keV s)</td>\n",
       "    </tr>\n",
       "    <tr>\n",
       "      <th>bkg.spectrum.main.composite.index_1</th>\n",
       "      <td>-1.390 +/- 0.04</td>\n",
       "      <td></td>\n",
       "    </tr>\n",
       "    <tr>\n",
       "      <th>bkg.spectrum.main.composite.F_2</th>\n",
       "      <td>(4.400 +/- 0.7) x 10</td>\n",
       "      <td>1 / (cm2 s)</td>\n",
       "    </tr>\n",
       "    <tr>\n",
       "      <th>bkg.spectrum.main.composite.sigma_2</th>\n",
       "      <td>(1.740 +/- 0.25) x 10</td>\n",
       "      <td>keV</td>\n",
       "    </tr>\n",
       "  </tbody>\n",
       "</table>\n",
       "</div>"
      ],
      "text/plain": [
       "                                                         result  \\\n",
       "parameter                                                         \n",
       "bkg.spectrum.main.composite.K_1      (3.07 -0.23 +0.24) x 10^-1   \n",
       "bkg.spectrum.main.composite.index_1             -1.390 +/- 0.04   \n",
       "bkg.spectrum.main.composite.F_2            (4.400 +/- 0.7) x 10   \n",
       "bkg.spectrum.main.composite.sigma_2       (1.740 +/- 0.25) x 10   \n",
       "\n",
       "                                                unit  \n",
       "parameter                                             \n",
       "bkg.spectrum.main.composite.K_1      1 / (cm2 keV s)  \n",
       "bkg.spectrum.main.composite.index_1                   \n",
       "bkg.spectrum.main.composite.F_2          1 / (cm2 s)  \n",
       "bkg.spectrum.main.composite.sigma_2              keV  "
      ]
     },
     "metadata": {},
     "output_type": "display_data"
    },
    {
     "name": "stdout",
     "output_type": "stream",
     "text": [
      "\n",
      "Correlation matrix:\n",
      "\n"
     ]
    },
    {
     "data": {
      "text/html": [
       "<table id=\"table4924850128\">\n",
       "<tr><td>1.00</td><td>0.17</td><td>-0.04</td><td>-0.05</td></tr>\n",
       "<tr><td>0.17</td><td>1.00</td><td>-0.04</td><td>-0.04</td></tr>\n",
       "<tr><td>-0.04</td><td>-0.04</td><td>1.00</td><td>0.08</td></tr>\n",
       "<tr><td>-0.05</td><td>-0.04</td><td>0.08</td><td>1.00</td></tr>\n",
       "</table>"
      ],
      "text/plain": [
       " 1.00  0.17 -0.04 -0.05\n",
       " 0.17  1.00 -0.04 -0.04\n",
       "-0.04 -0.04  1.00  0.08\n",
       "-0.05 -0.04  0.08  1.00"
      ]
     },
     "metadata": {},
     "output_type": "display_data"
    },
    {
     "name": "stdout",
     "output_type": "stream",
     "text": [
      "\n",
      "Values of -log(likelihood) at the minimum:\n",
      "\n"
     ]
    },
    {
     "data": {
      "text/html": [
       "<div>\n",
       "<table border=\"1\" class=\"dataframe\">\n",
       "  <thead>\n",
       "    <tr style=\"text-align: right;\">\n",
       "      <th></th>\n",
       "      <th>-log(likelihood)</th>\n",
       "    </tr>\n",
       "  </thead>\n",
       "  <tbody>\n",
       "    <tr>\n",
       "      <th>bkg</th>\n",
       "      <td>213.580385</td>\n",
       "    </tr>\n",
       "    <tr>\n",
       "      <th>total</th>\n",
       "      <td>213.580385</td>\n",
       "    </tr>\n",
       "  </tbody>\n",
       "</table>\n",
       "</div>"
      ],
      "text/plain": [
       "       -log(likelihood)\n",
       "bkg          213.580385\n",
       "total        213.580385"
      ]
     },
     "metadata": {},
     "output_type": "display_data"
    },
    {
     "name": "stdout",
     "output_type": "stream",
     "text": [
      "\n",
      "Values of statistical measures:\n",
      "\n"
     ]
    },
    {
     "data": {
      "text/html": [
       "<div>\n",
       "<table border=\"1\" class=\"dataframe\">\n",
       "  <thead>\n",
       "    <tr style=\"text-align: right;\">\n",
       "      <th></th>\n",
       "      <th>statistical measures</th>\n",
       "    </tr>\n",
       "  </thead>\n",
       "  <tbody>\n",
       "    <tr>\n",
       "      <th>AIC</th>\n",
       "      <td>435.436631</td>\n",
       "    </tr>\n",
       "    <tr>\n",
       "      <th>BIC</th>\n",
       "      <td>447.203310</td>\n",
       "    </tr>\n",
       "  </tbody>\n",
       "</table>\n",
       "</div>"
      ],
      "text/plain": [
       "     statistical measures\n",
       "AIC            435.436631\n",
       "BIC            447.203310"
      ]
     },
     "metadata": {},
     "output_type": "display_data"
    },
    {
     "data": {
      "image/png": "[encoded data removed]",
      "text/plain": [
       "<matplotlib.figure.Figure at 0x1258b3150>"
      ]
     },
     "metadata": {},
     "output_type": "display_data"
    }
   ],
   "source": [
    "bkg_spectrum = Powerlaw(piv=100) +  Gaussian(F=50,mu=511)\n",
    "\n",
    "bkg_spectrum.mu_2.fix = True\n",
    "bkg_spectrum.K_1.bounds = (1E-4, 10)\n",
    "bkg_spectrum.F_2.bounds = (0., 1000)\n",
    "bkg_spectrum.sigma_2.bounds = (2,30)\n",
    "\n",
    "ps_bkg = PointSource('bkg',0,0,spectral_shape=bkg_spectrum)\n",
    "\n",
    "bkg_model = Model(ps_bkg)\n",
    "\n",
    "\n",
    "jl_bkg = JointLikelihood(bkg_model,DataList(background_plugin))\n",
    "\n",
    "jl_bkg.set_minimizer('ROOT')\n",
    "\n",
    "_ = jl_bkg.fit()\n",
    "\n",
    "_ = background_plugin.display_model(step=False, data_color='#1A68F0', model_color='#FF9700')"
   ]
  },
  {
   "cell_type": "markdown",
   "metadata": {
    "ExecuteTime": {
     "end_time": "2017-07-28T23:04:22.090100Z",
     "start_time": "2017-07-28T23:04:22.086588Z"
    }
   },
   "source": [
    "We now have a model and estimate for the background which we can use when fitting with the source spectrum. We now create a new plugin with just the total observation and pass our background plugin as the background argument."
   ]
  },
  {
   "cell_type": "code",
   "execution_count": 30,
   "metadata": {
    "ExecuteTime": {
     "end_time": "2017-07-29T02:22:02.124482Z",
     "start_time": "2017-07-29T02:22:02.118921Z"
    }
   },
   "outputs": [
    {
     "name": "stdout",
     "output_type": "stream",
     "text": [
      "Background modeled from plugin: bkg\n",
      "Auto-probed noise models:\n",
      "- observation: poisson\n",
      "- background: poisson\n"
     ]
    }
   ],
   "source": [
    "modeled_background_plugin = SpectrumLike('full',\n",
    "                                         # here we use the original observation\n",
    "                                         observation=spectrum_generator.observed_spectrum,\n",
    "                                         background=background_plugin)"
   ]
  },
  {
   "cell_type": "markdown",
   "metadata": {},
   "source": [
    "When we look at out count spectrum now, we will see the *predicted* background, rather than the measured one:"
   ]
  },
  {
   "cell_type": "code",
   "execution_count": 31,
   "metadata": {
    "ExecuteTime": {
     "end_time": "2017-07-29T02:22:07.184909Z",
     "start_time": "2017-07-29T02:22:05.818033Z"
    }
   },
   "outputs": [
    {
     "data": {
      "image/png": "[encoded data removed]",
      "text/plain": [
       "<matplotlib.figure.Figure at 0x126b05d90>"
      ]
     },
     "metadata": {},
     "output_type": "display_data"
    }
   ],
   "source": [
    "modeled_background_plugin.view_count_spectrum()"
   ]
  },
  {
   "cell_type": "markdown",
   "metadata": {},
   "source": [
    "Now we simply fit the spectrum as we did in the profiled case. The background plugin's parameters are stored in our new plugin as nuissance parameters:"
   ]
  },
  {
   "cell_type": "code",
   "execution_count": 32,
   "metadata": {
    "ExecuteTime": {
     "end_time": "2017-07-29T02:22:16.701653Z",
     "start_time": "2017-07-29T02:22:16.694312Z"
    }
   },
   "outputs": [
    {
     "data": {
      "text/plain": [
       "OrderedDict([('cons_full', Parameter cons_full = 1.0 []\n",
       "              (min_value = 0.8, max_value = 1.2, delta = 0.05, free = False)),\n",
       "             ('bkg_bkg_position_ra_full', Parameter ra = 0.0 [deg]\n",
       "              (min_value = 0.0, max_value = 360.0, delta = 0.1, free = False)),\n",
       "             ('bkg_bkg_position_dec_full', Parameter dec = 0.0 [deg]\n",
       "              (min_value = -90.0, max_value = 90.0, delta = 0.1, free = False)),\n",
       "             ('bkg_bkg_spectrum_main_composite_K_1_full',\n",
       "              Parameter K_1 = 0.306988996628 [1 / (cm2 keV s)]\n",
       "              (min_value = 0.0001, max_value = 10.0, delta = 0.1, free = True)),\n",
       "             ('bkg_bkg_spectrum_main_composite_piv_1_full',\n",
       "              Parameter piv_1 = 100.0 [keV]\n",
       "              (min_value = None, max_value = None, delta = 0.1, free = False)),\n",
       "             ('bkg_bkg_spectrum_main_composite_index_1_full',\n",
       "              Parameter index_1 = -1.39330438822 []\n",
       "              (min_value = -10.0, max_value = 10.0, delta = 0.2, free = True)),\n",
       "             ('bkg_bkg_spectrum_main_composite_F_2_full',\n",
       "              Parameter F_2 = 43.6951492017 [1 / (cm2 s)]\n",
       "              (min_value = 0.0, max_value = 1000.0, delta = 0.1, free = True)),\n",
       "             ('bkg_bkg_spectrum_main_composite_mu_2_full',\n",
       "              Parameter mu_2 = 511.0 [keV]\n",
       "              (min_value = None, max_value = None, delta = 0.1, free = False)),\n",
       "             ('bkg_bkg_spectrum_main_composite_sigma_2_full',\n",
       "              Parameter sigma_2 = 17.3966283147 [keV]\n",
       "              (min_value = 2.0, max_value = 30.0, delta = 0.1, free = True)),\n",
       "             ('bkg_cons_bkg_full', Parameter cons_bkg = 1.0 []\n",
       "              (min_value = 0.8, max_value = 1.2, delta = 0.05, free = False))])"
      ]
     },
     "execution_count": 32,
     "metadata": {},
     "output_type": "execute_result"
    }
   ],
   "source": [
    "modeled_background_plugin.nuisance_parameters"
   ]
  },
  {
   "cell_type": "markdown",
   "metadata": {},
   "source": [
    "and the fitting engine will use them in the fit. The parameters will still be connected to the background plugin and its model and thus we can free/fix them there as well as set priors on them."
   ]
  },
  {
   "cell_type": "code",
   "execution_count": 33,
   "metadata": {
    "ExecuteTime": {
     "end_time": "2017-07-29T02:22:18.158283Z",
     "start_time": "2017-07-29T02:22:18.148775Z"
    },
    "collapsed": true
   },
   "outputs": [],
   "source": [
    "bpl = Broken_powerlaw(piv=300,xb=500)\n",
    "\n",
    "bpl.K.bounds = (1E-5,1E1)\n",
    "bpl.xb.bounds = (1E1,1E4)\n",
    "\n",
    "\n",
    "\n",
    "ps_src = PointSource('source',0,0,bpl)\n",
    "\n",
    "src_model = Model(ps_src)\n",
    "\n",
    "\n",
    "jl_src = JointLikelihood(src_model,DataList(modeled_background_plugin))"
   ]
  },
  {
   "cell_type": "code",
   "execution_count": 34,
   "metadata": {
    "ExecuteTime": {
     "end_time": "2017-07-29T02:22:19.504009Z",
     "start_time": "2017-07-29T02:22:19.500865Z"
    },
    "collapsed": true
   },
   "outputs": [],
   "source": [
    "\n",
    "\n",
    "jl_src.set_minimizer(\"ROOT\")"
   ]
  },
  {
   "cell_type": "code",
   "execution_count": 35,
   "metadata": {
    "ExecuteTime": {
     "end_time": "2017-07-29T02:23:20.203746Z",
     "start_time": "2017-07-29T02:22:20.963729Z"
    }
   },
   "outputs": [
    {
     "name": "stdout",
     "output_type": "stream",
     "text": [
      "Best fit values:\n",
      "\n"
     ]
    },
    {
     "data": {
      "text/html": [
       "<div>\n",
       "<table border=\"1\" class=\"dataframe\">\n",
       "  <thead>\n",
       "    <tr style=\"text-align: right;\">\n",
       "      <th></th>\n",
       "      <th>result</th>\n",
       "      <th>unit</th>\n",
       "    </tr>\n",
       "    <tr>\n",
       "      <th>parameter</th>\n",
       "      <th></th>\n",
       "      <th></th>\n",
       "    </tr>\n",
       "  </thead>\n",
       "  <tbody>\n",
       "    <tr>\n",
       "      <th>source.spectrum.main.Broken_powerlaw.K</th>\n",
       "      <td>2.090 +/- 0.12</td>\n",
       "      <td>1 / (cm2 keV s)</td>\n",
       "    </tr>\n",
       "    <tr>\n",
       "      <th>source.spectrum.main.Broken_powerlaw.xb</th>\n",
       "      <td>(2.884 +/- 0.013) x 10^2</td>\n",
       "      <td>keV</td>\n",
       "    </tr>\n",
       "    <tr>\n",
       "      <th>source.spectrum.main.Broken_powerlaw.alpha</th>\n",
       "      <td>(-6.000 +/- 10) x 10^-2</td>\n",
       "      <td></td>\n",
       "    </tr>\n",
       "    <tr>\n",
       "      <th>source.spectrum.main.Broken_powerlaw.beta</th>\n",
       "      <td>-2.890 +/- 0.14</td>\n",
       "      <td></td>\n",
       "    </tr>\n",
       "    <tr>\n",
       "      <th>K_1</th>\n",
       "      <td>(2.500 +/- 1.3) x 10^-1</td>\n",
       "      <td>1 / (cm2 keV s)</td>\n",
       "    </tr>\n",
       "    <tr>\n",
       "      <th>index_1</th>\n",
       "      <td>-1.280 +/- 0.08</td>\n",
       "      <td></td>\n",
       "    </tr>\n",
       "    <tr>\n",
       "      <th>F_2</th>\n",
       "      <td>(3.200 +/- 1.0) x 10</td>\n",
       "      <td>1 / (cm2 s)</td>\n",
       "    </tr>\n",
       "    <tr>\n",
       "      <th>sigma_2</th>\n",
       "      <td>(1.800 +/- 0.8) x 10</td>\n",
       "      <td>keV</td>\n",
       "    </tr>\n",
       "  </tbody>\n",
       "</table>\n",
       "</div>"
      ],
      "text/plain": [
       "                                                              result  \\\n",
       "parameter                                                              \n",
       "source.spectrum.main.Broken_powerlaw.K                2.090 +/- 0.12   \n",
       "source.spectrum.main.Broken_powerlaw.xb     (2.884 +/- 0.013) x 10^2   \n",
       "source.spectrum.main.Broken_powerlaw.alpha   (-6.000 +/- 10) x 10^-2   \n",
       "source.spectrum.main.Broken_powerlaw.beta            -2.890 +/- 0.14   \n",
       "K_1                                          (2.500 +/- 1.3) x 10^-1   \n",
       "index_1                                              -1.280 +/- 0.08   \n",
       "F_2                                             (3.200 +/- 1.0) x 10   \n",
       "sigma_2                                         (1.800 +/- 0.8) x 10   \n",
       "\n",
       "                                                       unit  \n",
       "parameter                                                    \n",
       "source.spectrum.main.Broken_powerlaw.K      1 / (cm2 keV s)  \n",
       "source.spectrum.main.Broken_powerlaw.xb                 keV  \n",
       "source.spectrum.main.Broken_powerlaw.alpha                   \n",
       "source.spectrum.main.Broken_powerlaw.beta                    \n",
       "K_1                                         1 / (cm2 keV s)  \n",
       "index_1                                                      \n",
       "F_2                                             1 / (cm2 s)  \n",
       "sigma_2                                                 keV  "
      ]
     },
     "metadata": {},
     "output_type": "display_data"
    },
    {
     "name": "stdout",
     "output_type": "stream",
     "text": [
      "\n",
      "Correlation matrix:\n",
      "\n"
     ]
    },
    {
     "data": {
      "text/html": [
       "<table id=\"table4953349008\">\n",
       "<tr><td>1.00</td><td>-0.09</td><td>0.67</td><td>-0.49</td><td>0.35</td><td>-0.20</td><td>-0.10</td><td>-0.08</td></tr>\n",
       "<tr><td>-0.09</td><td>1.00</td><td>-0.06</td><td>-0.06</td><td>-0.02</td><td>0.04</td><td>-0.01</td><td>-0.01</td></tr>\n",
       "<tr><td>0.67</td><td>-0.06</td><td>1.00</td><td>-0.50</td><td>0.79</td><td>-0.42</td><td>-0.04</td><td>-0.03</td></tr>\n",
       "<tr><td>-0.49</td><td>-0.06</td><td>-0.50</td><td>1.00</td><td>-0.55</td><td>-0.20</td><td>-0.21</td><td>-0.17</td></tr>\n",
       "<tr><td>0.35</td><td>-0.02</td><td>0.79</td><td>-0.55</td><td>1.00</td><td>-0.24</td><td>0.04</td><td>0.03</td></tr>\n",
       "<tr><td>-0.20</td><td>0.04</td><td>-0.42</td><td>-0.20</td><td>-0.24</td><td>1.00</td><td>0.11</td><td>0.09</td></tr>\n",
       "<tr><td>-0.10</td><td>-0.01</td><td>-0.04</td><td>-0.21</td><td>0.04</td><td>0.11</td><td>1.00</td><td>0.54</td></tr>\n",
       "<tr><td>-0.08</td><td>-0.01</td><td>-0.03</td><td>-0.17</td><td>0.03</td><td>0.09</td><td>0.54</td><td>1.00</td></tr>\n",
       "</table>"
      ],
      "text/plain": [
       " 1.00 -0.09  0.67 -0.49  0.35 -0.20 -0.10 -0.08\n",
       "-0.09  1.00 -0.06 -0.06 -0.02  0.04 -0.01 -0.01\n",
       " 0.67 -0.06  1.00 -0.50  0.79 -0.42 -0.04 -0.03\n",
       "-0.49 -0.06 -0.50  1.00 -0.55 -0.20 -0.21 -0.17\n",
       " 0.35 -0.02  0.79 -0.55  1.00 -0.24  0.04  0.03\n",
       "-0.20  0.04 -0.42 -0.20 -0.24  1.00  0.11  0.09\n",
       "-0.10 -0.01 -0.04 -0.21  0.04  0.11  1.00  0.54\n",
       "-0.08 -0.01 -0.03 -0.17  0.03  0.09  0.54  1.00"
      ]
     },
     "metadata": {},
     "output_type": "display_data"
    },
    {
     "name": "stdout",
     "output_type": "stream",
     "text": [
      "\n",
      "Values of -log(likelihood) at the minimum:\n",
      "\n"
     ]
    },
    {
     "data": {
      "text/html": [
       "<div>\n",
       "<table border=\"1\" class=\"dataframe\">\n",
       "  <thead>\n",
       "    <tr style=\"text-align: right;\">\n",
       "      <th></th>\n",
       "      <th>-log(likelihood)</th>\n",
       "    </tr>\n",
       "  </thead>\n",
       "  <tbody>\n",
       "    <tr>\n",
       "      <th>full</th>\n",
       "      <td>294.571515</td>\n",
       "    </tr>\n",
       "    <tr>\n",
       "      <th>total</th>\n",
       "      <td>294.571515</td>\n",
       "    </tr>\n",
       "  </tbody>\n",
       "</table>\n",
       "</div>"
      ],
      "text/plain": [
       "       -log(likelihood)\n",
       "full         294.571515\n",
       "total        294.571515"
      ]
     },
     "metadata": {},
     "output_type": "display_data"
    },
    {
     "name": "stdout",
     "output_type": "stream",
     "text": [
      "\n",
      "Values of statistical measures:\n",
      "\n"
     ]
    },
    {
     "data": {
      "text/html": [
       "<div>\n",
       "<table border=\"1\" class=\"dataframe\">\n",
       "  <thead>\n",
       "    <tr style=\"text-align: right;\">\n",
       "      <th></th>\n",
       "      <th>statistical measures</th>\n",
       "    </tr>\n",
       "  </thead>\n",
       "  <tbody>\n",
       "    <tr>\n",
       "      <th>AIC</th>\n",
       "      <td>606.164306</td>\n",
       "    </tr>\n",
       "    <tr>\n",
       "      <th>BIC</th>\n",
       "      <td>629.228112</td>\n",
       "    </tr>\n",
       "  </tbody>\n",
       "</table>\n",
       "</div>"
      ],
      "text/plain": [
       "     statistical measures\n",
       "AIC            606.164306\n",
       "BIC            629.228112"
      ]
     },
     "metadata": {},
     "output_type": "display_data"
    }
   ],
   "source": [
    "_ = jl_src.fit()"
   ]
  },
  {
   "cell_type": "code",
   "execution_count": 36,
   "metadata": {
    "ExecuteTime": {
     "end_time": "2017-07-29T02:23:39.006154Z",
     "start_time": "2017-07-29T02:23:36.535456Z"
    }
   },
   "outputs": [
    {
     "data": {
      "image/png": "[encoded data removed]",
      "text/plain": [
       "<matplotlib.figure.Figure at 0x127458790>"
      ]
     },
     "metadata": {},
     "output_type": "display_data"
    }
   ],
   "source": [
    "fig = modeled_background_plugin.display_model(step=False)\n",
    "\n",
    "_ = background_plugin.display_model(data_color='#1A68F0', model_color='#FF9700',model_subplot=fig.axes,step=False)"
   ]
  },
  {
   "cell_type": "code",
   "execution_count": null,
   "metadata": {
    "collapsed": true
   },
   "outputs": [],
   "source": []
  }
 ],
 "metadata": {
  "kernelspec": {
   "display_name": "Python 2",
   "language": "python",
   "name": "python2"
  },
  "language_info": {
   "codemirror_mode": {
    "name": "ipython",
    "version": 2
   },
   "file_extension": ".py",
   "mimetype": "text/x-python",
   "name": "python",
   "nbconvert_exporter": "python",
   "pygments_lexer": "ipython2",
   "version": "2.7.13"
  },
  "toc": {
   "colors": {
    "hover_highlight": "#DAA520",
    "navigate_num": "#000000",
    "navigate_text": "#333333",
    "running_highlight": "#FF0000",
    "selected_highlight": "#FFD700",
    "sidebar_border": "#EEEEEE",
    "wrapper_background": "#FFFFFF"
   },
   "moveMenuLeft": true,
   "nav_menu": {
    "height": "70px",
    "width": "254px"
   },
   "navigate_menu": true,
   "number_sections": true,
   "sideBar": true,
   "threshold": 4,
   "toc_cell": false,
   "toc_section_display": "block",
   "toc_window_display": false,
   "widenNotebook": false
  },
  "varInspector": {
   "cols": {
    "lenName": 16,
    "lenType": 16,
    "lenVar": 40
   },
   "kernels_config": {
    "python": {
     "delete_cmd_postfix": "",
     "delete_cmd_prefix": "del ",
     "library": "var_list.py",
     "varRefreshCmd": "print(var_dic_list())"
    },
    "r": {
     "delete_cmd_postfix": ") ",
     "delete_cmd_prefix": "rm(",
     "library": "var_list.r",
     "varRefreshCmd": "cat(var_dic_list()) "
    }
   },
   "types_to_exclude": [
    "module",
    "function",
    "builtin_function_or_method",
    "instance",
    "_Feature"
   ],
   "window_display": false
  }
 },
 "nbformat": 4,
 "nbformat_minor": 2
}
