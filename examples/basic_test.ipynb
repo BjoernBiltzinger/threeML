{
 "cells": [
  {
   "cell_type": "code",
   "execution_count": 1,
   "metadata": {
    "collapsed": false
   },
   "outputs": [
    {
     "name": "stderr",
     "output_type": "stream",
     "text": [
      "\n",
      "WARNING CppInterfaceNotAvailable: The cthreeML package is not installed. You will not be able to use plugins which require the C/C++ interface (currently HAWC)\n",
      "\n",
      "\n",
      "WARNING NaimaNotAvailable: The naima package is not available. Models that depend on it will not be available\n",
      "\n",
      "\n",
      "WARNING GSLNotAvailable: The GSL library or the pygsl wrapper cannot be loaded. Models that depend on it will not be available.\n",
      "\n"
     ]
    },
    {
     "name": "stdout",
     "output_type": "stream",
     "text": [
      "\n",
      "Did you try to import pygsl in the build directory?\n",
      "\n",
      "Well, that does not work out of the box. If you want to do that, please\n",
      "use\n",
      "      python setup.py build_ext -i\n",
      "to add the necessary extension module in the local pygsl/ directory!\n",
      "\n",
      "Please read the README first! Any further questions or missing information\n",
      "please post to pygsl-discuss@lists.sourceforge.net!\n",
      "\n",
      "Loading xspec models..."
     ]
    },
    {
     "name": "stderr",
     "output_type": "stream",
     "text": [
      "\n",
      "WARNING RuntimeWarning: The current value of the parameter switch was above the new maximum 1.0.\n",
      "\n",
      "\n",
      "WARNING RuntimeWarning: The current value of the parameter specfile was above the new maximum 1.0.\n",
      "\n"
     ]
    },
    {
     "name": "stdout",
     "output_type": "stream",
     "text": [
      "done\n"
     ]
    },
    {
     "name": "stderr",
     "output_type": "stream",
     "text": [
      "\n",
      "WARNING UserWarning: ROOT minimizer not available\n",
      "\n"
     ]
    },
    {
     "name": "stdout",
     "output_type": "stream",
     "text": [
      "Configuration read from /Users/jburgess/.threeML/threeML_config.yml\n"
     ]
    },
    {
     "name": "stderr",
     "output_type": "stream",
     "text": [
      "\n",
      "WARNING CannotImportPlugin: Could not import plugin /usr/local/Cellar/python/HEAD/Frameworks/Python.framework/Versions/2.7/lib/python2.7/site-packages/threeML-0.3.2-py2.7.egg/threeML/plugins/FermiGBM_TTE_Like.py. Do you have the relative instrument software installed and configured?\n",
      "\n",
      "\n",
      "WARNING CannotImportPlugin: Could not import plugin /usr/local/Cellar/python/HEAD/Frameworks/Python.framework/Versions/2.7/lib/python2.7/site-packages/threeML-0.3.2-py2.7.egg/threeML/plugins/FermiLATLike.py. Do you have the relative instrument software installed and configured?\n",
      "\n",
      "\n",
      "WARNING CannotImportPlugin: Could not import plugin /usr/local/Cellar/python/HEAD/Frameworks/Python.framework/Versions/2.7/lib/python2.7/site-packages/threeML-0.3.2-py2.7.egg/threeML/plugins/HAWCLike.py. Do you have the relative instrument software installed and configured?\n",
      "\n",
      "\n",
      "WARNING CannotImportPlugin: Could not import plugin /usr/local/Cellar/python/HEAD/Frameworks/Python.framework/Versions/2.7/lib/python2.7/site-packages/threeML-0.3.2-py2.7.egg/threeML/plugins/SherpaLike.py. Do you have the relative instrument software installed and configured?\n",
      "\n"
     ]
    }
   ],
   "source": [
    "from threeML import *\n",
    "\n",
    "import matplotlib.pyplot as plt\n",
    "\n",
    "%matplotlib inline"
   ]
  },
  {
   "cell_type": "code",
   "execution_count": 2,
   "metadata": {
    "collapsed": false
   },
   "outputs": [
    {
     "name": "stdout",
     "output_type": "stream",
     "text": [
      "Auto-probed noise models:\n",
      "- observation: poisson\n",
      "- background: gaussian\n",
      "Range 10.0-30.0 translates to channels 4-20\n",
      "Range 40.0-950.0 translates to channels 26-125\n",
      "Now using 117 channels out of 128\n"
     ]
    }
   ],
   "source": [
    "triggerName = 'bn090217206'\n",
    "ra = 204.9\n",
    "dec = -8.4\n",
    "\n",
    "#Data are in the current directory\n",
    "\n",
    "datadir = os.path.abspath('.')\n",
    "\n",
    "#Create an instance of the GBM plugin for each detector\n",
    "#Data files\n",
    "obsSpectrum = os.path.join( datadir, \"bn090217206_n6_srcspectra.pha{1}\" )\n",
    "bakSpectrum = os.path.join( datadir, \"bn090217206_n6_bkgspectra.bak{1}\" )\n",
    "rspFile     = os.path.join( datadir, \"bn090217206_n6_weightedrsp.rsp{1}\" )\n",
    "\n",
    "#Plugin instance\n",
    "NaI6 = OGIPLike( \"NaI6\", obsSpectrum, bakSpectrum, rspFile )\n",
    "\n",
    "#Choose energies to use (in this case, I exclude the energy\n",
    "#range from 30 to 40 keV to avoid the k-edge, as well as anything above\n",
    "#950 keV, where the calibration is uncertain)\n",
    "NaI6.set_active_measurements( \"10.0-30.0\", \"40.0-950.0\" )\n"
   ]
  },
  {
   "cell_type": "code",
   "execution_count": 3,
   "metadata": {
    "collapsed": true
   },
   "outputs": [],
   "source": [
    "#This declares which data we want to use. In our case, all that we have already created.\n",
    "\n",
    "data_list = DataList( NaI6 )"
   ]
  },
  {
   "cell_type": "code",
   "execution_count": 4,
   "metadata": {
    "collapsed": false
   },
   "outputs": [],
   "source": [
    "powerlaw = Powerlaw()\n",
    "cpl= Cutoff_powerlaw()"
   ]
  },
  {
   "cell_type": "code",
   "execution_count": 5,
   "metadata": {
    "collapsed": false
   },
   "outputs": [],
   "source": [
    "GRB = PointSource( triggerName, ra, dec, spectral_shape=powerlaw )\n",
    "GRB2 = PointSource( triggerName, ra, dec, spectral_shape=cpl )"
   ]
  },
  {
   "cell_type": "code",
   "execution_count": 6,
   "metadata": {
    "collapsed": true
   },
   "outputs": [],
   "source": [
    "model = Model( GRB )\n",
    "model2 = Model( GRB2 )"
   ]
  },
  {
   "cell_type": "code",
   "execution_count": 13,
   "metadata": {
    "collapsed": false,
    "scrolled": false
   },
   "outputs": [
    {
     "name": "stdout",
     "output_type": "stream",
     "text": [
      "Best fit values:\n",
      "\n"
     ]
    },
    {
     "data": {
      "text/html": [
       "<table id=\"table4804279248\">\n",
       "<thead><tr><th>#</th><th>Name</th><th>Best fit value</th><th>Unit</th></tr></thead>\n",
       "<tr><td>0</td><td>bn090217206.spectrum.main.Powerlaw.K</td><td>2.53 +/- 0.17</td><td>1 / (cm2 keV s)</td></tr>\n",
       "<tr><td>1</td><td>bn090217206.spectrum.main.Powerlaw.index</td><td>-1.183 +/- 0.013</td><td></td></tr>\n",
       "</table>"
      ],
      "text/plain": [
       " #                    Name                    Best fit value        Unit     \n",
       "--- ---------------------------------------- ---------------- ---------------\n",
       "  0     bn090217206.spectrum.main.Powerlaw.K    2.53 +/- 0.17 1 / (cm2 keV s)\n",
       "  1 bn090217206.spectrum.main.Powerlaw.index -1.183 +/- 0.013                "
      ]
     },
     "metadata": {},
     "output_type": "display_data"
    },
    {
     "name": "stdout",
     "output_type": "stream",
     "text": [
      "\n",
      "NOTE: errors on parameters are approximate. Use get_errors().\n",
      "\n",
      "(no nuisance parameters)\n",
      "\n",
      "Correlation matrix:\n",
      "\n"
     ]
    },
    {
     "data": {
      "text/html": [
       "<table id=\"table4538653456\">\n",
       "<tr><td>1.00</td><td>-0.97</td></tr>\n",
       "<tr><td>-0.97</td><td>1.00</td></tr>\n",
       "</table>"
      ],
      "text/plain": [
       " 1.00 -0.97\n",
       "-0.97  1.00"
      ]
     },
     "metadata": {},
     "output_type": "display_data"
    },
    {
     "name": "stdout",
     "output_type": "stream",
     "text": [
      "\n",
      "Values of -log(likelihood) at the minimum:\n",
      "\n"
     ]
    },
    {
     "data": {
      "text/html": [
       "<div>\n",
       "<table border=\"1\" class=\"dataframe\">\n",
       "  <thead>\n",
       "    <tr style=\"text-align: right;\">\n",
       "      <th></th>\n",
       "      <th>-log(likelihood)</th>\n",
       "    </tr>\n",
       "  </thead>\n",
       "  <tbody>\n",
       "    <tr>\n",
       "      <th>total</th>\n",
       "      <td>869.098922</td>\n",
       "    </tr>\n",
       "    <tr>\n",
       "      <th>NaI6</th>\n",
       "      <td>869.098922</td>\n",
       "    </tr>\n",
       "  </tbody>\n",
       "</table>\n",
       "</div>"
      ],
      "text/plain": [
       "       -log(likelihood)\n",
       "total        869.098922\n",
       "NaI6         869.098922"
      ]
     },
     "metadata": {},
     "output_type": "display_data"
    },
    {
     "name": "stdout",
     "output_type": "stream",
     "text": [
      "Best fit values:\n",
      "\n"
     ]
    },
    {
     "data": {
      "text/html": [
       "<table id=\"table4804278032\">\n",
       "<thead><tr><th>#</th><th>Name</th><th>Best fit value</th><th>Unit</th></tr></thead>\n",
       "<tr><td>0</td><td>bn090217206.spectrum.main.Cutoff_powerlaw.K</td><td>0.5 +/- 1.2</td><td>1 / (cm2 keV s)</td></tr>\n",
       "<tr><td>1</td><td>bn090217206.spectrum.main.Cutoff_powerlaw.index</td><td>-0.7 +/- 0.7</td><td></td></tr>\n",
       "<tr><td>2</td><td>bn090217206.spectrum.main.Cutoff_powerlaw.xc</td><td>(4 +/- 4)e+02</td><td>keV</td></tr>\n",
       "</table>"
      ],
      "text/plain": [
       " #                        Name                      ...       Unit     \n",
       "--- ----------------------------------------------- ... ---------------\n",
       "  0     bn090217206.spectrum.main.Cutoff_powerlaw.K ... 1 / (cm2 keV s)\n",
       "  1 bn090217206.spectrum.main.Cutoff_powerlaw.index ...                \n",
       "  2    bn090217206.spectrum.main.Cutoff_powerlaw.xc ...             keV"
      ]
     },
     "metadata": {},
     "output_type": "display_data"
    },
    {
     "name": "stdout",
     "output_type": "stream",
     "text": [
      "\n",
      "NOTE: errors on parameters are approximate. Use get_errors().\n",
      "\n",
      "(no nuisance parameters)\n",
      "\n",
      "Correlation matrix:\n",
      "\n"
     ]
    },
    {
     "data": {
      "text/html": [
       "<table id=\"table4539096464\">\n",
       "<tr><td>1.00</td><td>-1.00</td><td>1.00</td></tr>\n",
       "<tr><td>-1.00</td><td>1.00</td><td>-1.00</td></tr>\n",
       "<tr><td>1.00</td><td>-1.00</td><td>1.00</td></tr>\n",
       "</table>"
      ],
      "text/plain": [
       " 1.00 -1.00  1.00\n",
       "-1.00  1.00 -1.00\n",
       " 1.00 -1.00  1.00"
      ]
     },
     "metadata": {},
     "output_type": "display_data"
    },
    {
     "name": "stdout",
     "output_type": "stream",
     "text": [
      "\n",
      "Values of -log(likelihood) at the minimum:\n",
      "\n"
     ]
    },
    {
     "data": {
      "text/html": [
       "<div>\n",
       "<table border=\"1\" class=\"dataframe\">\n",
       "  <thead>\n",
       "    <tr style=\"text-align: right;\">\n",
       "      <th></th>\n",
       "      <th>-log(likelihood)</th>\n",
       "    </tr>\n",
       "  </thead>\n",
       "  <tbody>\n",
       "    <tr>\n",
       "      <th>total</th>\n",
       "      <td>815.409956</td>\n",
       "    </tr>\n",
       "    <tr>\n",
       "      <th>NaI6</th>\n",
       "      <td>815.409956</td>\n",
       "    </tr>\n",
       "  </tbody>\n",
       "</table>\n",
       "</div>"
      ],
      "text/plain": [
       "       -log(likelihood)\n",
       "total        815.409956\n",
       "NaI6         815.409956"
      ]
     },
     "metadata": {},
     "output_type": "display_data"
    }
   ],
   "source": [
    "jl = JointLikelihood( model, data_list, verbose=False )\n",
    "\n",
    "res = jl.fit()\n",
    "\n",
    "\n",
    "jl2 = JointLikelihood( model2, data_list, verbose=False )\n",
    "\n",
    "res = jl2.fit()"
   ]
  },
  {
   "cell_type": "code",
   "execution_count": 8,
   "metadata": {
    "collapsed": false
   },
   "outputs": [
    {
     "data": {
      "text/html": [
       "<table id=\"table4402000784\">\n",
       "<thead><tr><th>Name</th><th>Value</th><th>Unit</th></tr></thead>\n",
       "<tr><td>bn090217206.spectrum.main.Powerlaw.K</td><td>2.53 -0.20 +0.20</td><td>1 / (cm2 keV s)</td></tr>\n",
       "<tr><td>bn090217206.spectrum.main.Powerlaw.index</td><td>-1.183 -0.015 +0.015</td><td></td></tr>\n",
       "</table>"
      ],
      "text/plain": [
       "                  Name                          Value               Unit     \n",
       "---------------------------------------- -------------------- ---------------\n",
       "    bn090217206.spectrum.main.Powerlaw.K     2.53 -0.20 +0.20 1 / (cm2 keV s)\n",
       "bn090217206.spectrum.main.Powerlaw.index -1.183 -0.015 +0.015                "
      ]
     },
     "metadata": {},
     "output_type": "display_data"
    }
   ],
   "source": [
    "#bn090217206.spectrum.main.Powerlaw.K\t2.57 -0.19 +0.22\t1 / (cm2 keV s)\n",
    "#bn090217206.spectrum.main.Powerlaw.index\t-1.185 -0.015 +0.014\t\n",
    "\n",
    "\n",
    "res = jl.get_errors()"
   ]
  },
  {
   "cell_type": "code",
   "execution_count": 14,
   "metadata": {
    "collapsed": false
   },
   "outputs": [
    {
     "name": "stdout",
     "output_type": "stream",
     "text": [
      "Found a better minimum: 815.413403469 with bn090217206.spectrum.main.Powerlaw.index = -1.3. Run again your fit starting from here.\n"
     ]
    },
    {
     "data": {
      "image/png": "[encoded data removed]",
      "text/plain": [
       "<matplotlib.figure.Figure at 0x1188b1850>"
      ]
     },
     "metadata": {},
     "output_type": "display_data"
    }
   ],
   "source": [
    "res = jl.get_contours(powerlaw.index,-1.3,-1.1,20)"
   ]
  },
  {
   "cell_type": "code",
   "execution_count": 8,
   "metadata": {
    "collapsed": false
   },
   "outputs": [],
   "source": [
    "from threeML.utils.stats_tools import ModelComparison"
   ]
  },
  {
   "cell_type": "code",
   "execution_count": 9,
   "metadata": {
    "collapsed": false
   },
   "outputs": [],
   "source": [
    "m=ModelComparison(jl,jl2)"
   ]
  },
  {
   "cell_type": "code",
   "execution_count": 12,
   "metadata": {
    "collapsed": false
   },
   "outputs": [
    {
     "data": {
      "text/html": [
       "<div>\n",
       "<table border=\"1\" class=\"dataframe\">\n",
       "  <thead>\n",
       "    <tr style=\"text-align: right;\">\n",
       "      <th></th>\n",
       "      <th>Model</th>\n",
       "      <th>-2 ln(like)</th>\n",
       "      <th>AIC</th>\n",
       "      <th>BIC</th>\n",
       "      <th>N. Free Parameters</th>\n",
       "      <th>dof</th>\n",
       "    </tr>\n",
       "  </thead>\n",
       "  <tbody>\n",
       "    <tr>\n",
       "      <th>0</th>\n",
       "      <td>Powerlaw</td>\n",
       "      <td>1738.19882</td>\n",
       "      <td>1742.19882</td>\n",
       "      <td>1747.72317</td>\n",
       "      <td>2</td>\n",
       "      <td>115</td>\n",
       "    </tr>\n",
       "    <tr>\n",
       "      <th>1</th>\n",
       "      <td>Cutoff_powerlaw</td>\n",
       "      <td>1630.83221</td>\n",
       "      <td>1636.83221</td>\n",
       "      <td>1645.11873</td>\n",
       "      <td>3</td>\n",
       "      <td>114</td>\n",
       "    </tr>\n",
       "  </tbody>\n",
       "</table>\n",
       "</div>"
      ],
      "text/plain": [
       "             Model  -2 ln(like)        AIC        BIC  N. Free Parameters  dof\n",
       "0         Powerlaw   1738.19882 1742.19882 1747.72317                   2  115\n",
       "1  Cutoff_powerlaw   1630.83221 1636.83221 1645.11873                   3  114"
      ]
     },
     "metadata": {},
     "output_type": "display_data"
    }
   ],
   "source": [
    "m.report(precision=5)"
   ]
  },
  {
   "cell_type": "code",
   "execution_count": 14,
   "metadata": {
    "collapsed": false
   },
   "outputs": [
    {
     "data": {
      "text/html": [
       "<div>\n",
       "<table border=\"1\" class=\"dataframe\">\n",
       "  <thead>\n",
       "    <tr style=\"text-align: right;\">\n",
       "      <th></th>\n",
       "      <th>-2 ln(like)</th>\n",
       "      <th>AIC</th>\n",
       "      <th>BIC</th>\n",
       "      <th>Model</th>\n",
       "      <th>N. Free Parameters</th>\n",
       "      <th>dof</th>\n",
       "    </tr>\n",
       "  </thead>\n",
       "  <tbody>\n",
       "    <tr>\n",
       "      <th>0</th>\n",
       "      <td>1738.198821</td>\n",
       "      <td>1742.198821</td>\n",
       "      <td>1747.723169</td>\n",
       "      <td>Powerlaw</td>\n",
       "      <td>2</td>\n",
       "      <td>115</td>\n",
       "    </tr>\n",
       "    <tr>\n",
       "      <th>1</th>\n",
       "      <td>1630.832205</td>\n",
       "      <td>1636.832205</td>\n",
       "      <td>1645.118727</td>\n",
       "      <td>Cutoff_powerlaw</td>\n",
       "      <td>3</td>\n",
       "      <td>114</td>\n",
       "    </tr>\n",
       "  </tbody>\n",
       "</table>\n",
       "</div>"
      ],
      "text/plain": [
       "   -2 ln(like)          AIC          BIC            Model  N. Free Parameters  \\\n",
       "0  1738.198821  1742.198821  1747.723169         Powerlaw                   2   \n",
       "1  1630.832205  1636.832205  1645.118727  Cutoff_powerlaw                   3   \n",
       "\n",
       "   dof  \n",
       "0  115  \n",
       "1  114  "
      ]
     },
     "execution_count": 14,
     "metadata": {},
     "output_type": "execute_result"
    }
   ],
   "source": [
    "m.statistical_dataframe"
   ]
  },
  {
   "cell_type": "code",
   "execution_count": 16,
   "metadata": {
    "collapsed": false
   },
   "outputs": [
    {
     "data": {
      "text/plain": [
       "128"
      ]
     },
     "execution_count": 16,
     "metadata": {},
     "output_type": "execute_result"
    }
   ],
   "source": [
    "np.sum( [ data.get_number_of_data_points()    for data in jl.data_list.values()  ]  )"
   ]
  },
  {
   "cell_type": "code",
   "execution_count": 19,
   "metadata": {
    "collapsed": false
   },
   "outputs": [
    {
     "data": {
      "text/html": [
       "<div>\n",
       "<table border=\"1\" class=\"dataframe\">\n",
       "  <thead>\n",
       "    <tr style=\"text-align: right;\">\n",
       "      <th></th>\n",
       "      <th>-2 ln(like)</th>\n",
       "      <th>AIC</th>\n",
       "      <th>BIC</th>\n",
       "      <th>Model</th>\n",
       "      <th>dof</th>\n",
       "    </tr>\n",
       "  </thead>\n",
       "  <tbody>\n",
       "    <tr>\n",
       "      <th>0</th>\n",
       "      <td>1738.197778</td>\n",
       "      <td>1742.197778</td>\n",
       "      <td>1747.901839</td>\n",
       "      <td>Powerlaw</td>\n",
       "      <td>126</td>\n",
       "    </tr>\n",
       "    <tr>\n",
       "      <th>1</th>\n",
       "      <td>1630.826807</td>\n",
       "      <td>1636.826807</td>\n",
       "      <td>1645.382898</td>\n",
       "      <td>Cutoff_powerlaw</td>\n",
       "      <td>125</td>\n",
       "    </tr>\n",
       "  </tbody>\n",
       "</table>\n",
       "</div>"
      ],
      "text/plain": [
       "   -2 ln(like)          AIC          BIC            Model  dof\n",
       "0  1738.197778  1742.197778  1747.901839         Powerlaw  126\n",
       "1  1630.826807  1636.826807  1645.382898  Cutoff_powerlaw  125"
      ]
     },
     "metadata": {},
     "output_type": "display_data"
    }
   ],
   "source": [
    "m._compute_mle_statistcs()"
   ]
  },
  {
   "cell_type": "code",
   "execution_count": 11,
   "metadata": {
    "collapsed": false
   },
   "outputs": [
    {
     "data": {
      "image/png": "[encoded data removed]",
      "text/plain": [
       "<matplotlib.figure.Figure at 0x7f44444ef190>"
      ]
     },
     "metadata": {},
     "output_type": "display_data"
    }
   ],
   "source": [
    "res = jl.get_contours(powerlaw.index,-1.25,-1.1,50,powerlaw.K,1.9,3.2,50)"
   ]
  },
  {
   "cell_type": "code",
   "execution_count": 8,
   "metadata": {
    "collapsed": false
   },
   "outputs": [],
   "source": [
    "powerlaw.index.prior = Uniform_prior(lower_bound=-5.0, upper_bound=5.0)\n",
    "powerlaw.K.prior = Log_uniform_prior(lower_bound=1.0, upper_bound=10)\n",
    "\n",
    "bayes = BayesianAnalysis(model, data_list)\n",
    "\n",
    "\n",
    "cpl.index.prior = Uniform_prior(lower_bound=-5.0, upper_bound=5.0)\n",
    "cpl.K.prior = Log_uniform_prior(lower_bound=1.0, upper_bound=10)\n",
    "cpl.xc.prior = Log_uniform_prior(lower_bound=1.0, upper_bound=1e4)\n",
    "\n",
    "\n",
    "bayes2 = BayesianAnalysis(model2, data_list)"
   ]
  },
  {
   "cell_type": "code",
   "execution_count": 23,
   "metadata": {
    "collapsed": false
   },
   "outputs": [
    {
     "name": "stdout",
     "output_type": "stream",
     "text": [
      "Running burn-in of 100 samples...\n",
      "\n",
      "\n",
      "Sampling...\n",
      "\n",
      "\n",
      "Mean acceptance fraction: 0.71304\n"
     ]
    }
   ],
   "source": [
    "samples = bayes.sample(n_walkers=50,burn_in=100, n_samples=1000)\n",
    "\n",
    "#Running burn-in of 100 samples...\n",
    "\n",
    "# [*********************100%***********************]  100 of 100 completed in 2.4 s\n",
    "\n",
    "#Sampling...\n",
    "\n",
    "# [*********************100%***********************]  1000 of 1000 completed in 22.6 s\n",
    "#Mean acceptance fraction: 0.71655"
   ]
  },
  {
   "cell_type": "code",
   "execution_count": 21,
   "metadata": {
    "collapsed": false
   },
   "outputs": [
    {
     "ename": "NameError",
     "evalue": "name 'bayes' is not defined",
     "output_type": "error",
     "traceback": [
      "\u001b[0;31m---------------------------------------------------------------------------\u001b[0m",
      "\u001b[0;31mNameError\u001b[0m                                 Traceback (most recent call last)",
      "\u001b[0;32m<ipython-input-21-f267a90d1d47>\u001b[0m in \u001b[0;36m<module>\u001b[0;34m()\u001b[0m\n\u001b[0;32m----> 1\u001b[0;31m \u001b[0mfig\u001b[0m \u001b[0;34m=\u001b[0m \u001b[0mbayes\u001b[0m\u001b[0;34m.\u001b[0m\u001b[0mcorner_plot\u001b[0m\u001b[0;34m(\u001b[0m\u001b[0mplot_contours\u001b[0m\u001b[0;34m=\u001b[0m\u001b[0mFalse\u001b[0m\u001b[0;34m,\u001b[0m \u001b[0mplot_density\u001b[0m\u001b[0;34m=\u001b[0m\u001b[0mFalse\u001b[0m\u001b[0;34m)\u001b[0m\u001b[0;34m\u001b[0m\u001b[0m\n\u001b[0m",
      "\u001b[0;31mNameError\u001b[0m: name 'bayes' is not defined"
     ]
    }
   ],
   "source": [
    "fig = bayes.corner_plot(plot_contours=False, plot_density=False)"
   ]
  },
  {
   "cell_type": "code",
   "execution_count": 14,
   "metadata": {
    "collapsed": false
   },
   "outputs": [],
   "source": [
    "mean_deviance = -2 * np.mean(bayes.log_probability)"
   ]
  },
  {
   "cell_type": "code",
   "execution_count": 14,
   "metadata": {
    "collapsed": false
   },
   "outputs": [
    {
     "name": "stdout",
     "output_type": "stream",
     "text": [
      "Running burn-in of 100 samples...\n",
      "\n",
      "\n",
      "Sampling...\n",
      "\n"
     ]
    },
    {
     "data": {
      "text/plain": [
       "OrderedDict([('bn090217206.spectrum.main.Powerlaw.K',\n",
       "              array([ 2.16922465,  2.68187449,  2.87440999, ...,  2.64968976,\n",
       "                      3.07540871,  6.22876715])),\n",
       "             ('bn090217206.spectrum.main.Powerlaw.index',\n",
       "              array([-1.15339414, -1.20014062, -1.20575372, ..., -0.07864501,\n",
       "                     -3.88067342, -3.57469592]))])"
      ]
     },
     "execution_count": 14,
     "metadata": {},
     "output_type": "execute_result"
    }
   ],
   "source": [
    "bayes.sample_parallel_tempering(10,50,100,1000)"
   ]
  },
  {
   "cell_type": "code",
   "execution_count": 16,
   "metadata": {
    "collapsed": false
   },
   "outputs": [
    {
     "data": {
      "text/plain": [
       "(-873.3626247332686, 1.6227027360201873)"
      ]
     },
     "execution_count": 16,
     "metadata": {},
     "output_type": "execute_result"
    }
   ],
   "source": [
    "bayes.sampler.thermodynamic_integration_log_evidence()"
   ]
  },
  {
   "cell_type": "code",
   "execution_count": 12,
   "metadata": {
    "collapsed": false
   },
   "outputs": [
    {
     "name": "stdout",
     "output_type": "stream",
     "text": [
      "\n",
      "Sampling...\n",
      "\n",
      "MULTINEST has its own convergence criteria... you will have to wait blindly for it to finish\n",
      "If INS is enabled, one can monitor the likelihood in the terminal for completion information\n",
      "  analysing data from chains/fit-.txt\n"
     ]
    }
   ],
   "source": [
    "_=bayes.sample_multinest(400, resume=False)"
   ]
  },
  {
   "cell_type": "code",
   "execution_count": 13,
   "metadata": {
    "collapsed": false
   },
   "outputs": [
    {
     "name": "stdout",
     "output_type": "stream",
     "text": [
      "\n",
      "Sampling...\n",
      "\n",
      "MULTINEST has its own convergence criteria... you will have to wait blindly for it to finish\n",
      "If INS is enabled, one can monitor the likelihood in the terminal for completion information\n",
      "  analysing data from chains/fit-.txt\n"
     ]
    }
   ],
   "source": [
    "_=bayes2.sample_multinest(400, resume=False)"
   ]
  },
  {
   "cell_type": "code",
   "execution_count": 14,
   "metadata": {
    "collapsed": false
   },
   "outputs": [],
   "source": [
    "m = ModelComparison(bayes,bayes2)"
   ]
  },
  {
   "cell_type": "code",
   "execution_count": 16,
   "metadata": {
    "collapsed": false
   },
   "outputs": [
    {
     "data": {
      "text/html": [
       "<div>\n",
       "<table border=\"1\" class=\"dataframe\">\n",
       "  <thead>\n",
       "    <tr style=\"text-align: right;\">\n",
       "      <th></th>\n",
       "      <th>Model</th>\n",
       "      <th>-2 ln(like)</th>\n",
       "      <th>AIC</th>\n",
       "      <th>BIC</th>\n",
       "      <th>DIC</th>\n",
       "      <th>log10 (Z)</th>\n",
       "      <th>N. Free Parameters</th>\n",
       "      <th>Eff. N. Free Parameters</th>\n",
       "      <th>dof</th>\n",
       "    </tr>\n",
       "  </thead>\n",
       "  <tbody>\n",
       "    <tr>\n",
       "      <th>1</th>\n",
       "      <td>Cutoff_powerlaw</td>\n",
       "      <td>1,643.70</td>\n",
       "      <td>1,649.70</td>\n",
       "      <td>1,657.99</td>\n",
       "      <td>1,655.24</td>\n",
       "      <td>-363.10</td>\n",
       "      <td>3</td>\n",
       "      <td>3.88</td>\n",
       "      <td>114</td>\n",
       "    </tr>\n",
       "    <tr>\n",
       "      <th>0</th>\n",
       "      <td>Powerlaw</td>\n",
       "      <td>1,630.83</td>\n",
       "      <td>1,634.83</td>\n",
       "      <td>1,640.36</td>\n",
       "      <td>1,618.23</td>\n",
       "      <td>-354.13</td>\n",
       "      <td>2</td>\n",
       "      <td>-0.00</td>\n",
       "      <td>115</td>\n",
       "    </tr>\n",
       "  </tbody>\n",
       "</table>\n",
       "</div>"
      ],
      "text/plain": [
       "             Model  -2 ln(like)      AIC      BIC      DIC  log10 (Z)  \\\n",
       "1  Cutoff_powerlaw     1,643.70 1,649.70 1,657.99 1,655.24    -363.10   \n",
       "0         Powerlaw     1,630.83 1,634.83 1,640.36 1,618.23    -354.13   \n",
       "\n",
       "   N. Free Parameters  Eff. N. Free Parameters  dof  \n",
       "1                   3                     3.88  114  \n",
       "0                   2                    -0.00  115  "
      ]
     },
     "metadata": {},
     "output_type": "display_data"
    }
   ],
   "source": [
    "m.report(precision=3,sort='dof')"
   ]
  },
  {
   "cell_type": "code",
   "execution_count": 28,
   "metadata": {
    "collapsed": false
   },
   "outputs": [
    {
     "data": {
      "text/plain": [
       "'bayesian'"
      ]
     },
     "execution_count": 28,
     "metadata": {},
     "output_type": "execute_result"
    }
   ],
   "source": [
    "bayes._analysis_type"
   ]
  },
  {
   "cell_type": "code",
   "execution_count": 31,
   "metadata": {
    "collapsed": false
   },
   "outputs": [
    {
     "data": {
      "text/plain": [
       "array(['bayesian', 'crap'], \n",
       "      dtype='|S8')"
      ]
     },
     "execution_count": 31,
     "metadata": {},
     "output_type": "execute_result"
    }
   ],
   "source": [
    "np.unique([bayes._analysis_type,bayes._analysis_type,'crap'])"
   ]
  },
  {
   "cell_type": "code",
   "execution_count": 39,
   "metadata": {
    "collapsed": false
   },
   "outputs": [
    {
     "data": {
      "text/plain": [
       "2"
      ]
     },
     "execution_count": 39,
     "metadata": {},
     "output_type": "execute_result"
    }
   ],
   "source": [
    "len(bayes._free_parameters.values())"
   ]
  },
  {
   "cell_type": "code",
   "execution_count": 43,
   "metadata": {
    "collapsed": false
   },
   "outputs": [
    {
     "data": {
      "text/html": [
       "<ul>\n",
       "\n",
       "<li>bn090217206 (point source): \n",
       "<ul>\n",
       "\n",
       "<li>position: \n",
       "<ul>\n",
       "\n",
       "<li>ra: \n",
       "<ul>\n",
       "\n",
       "<li>value: 204.9</li>\n",
       "\n",
       "<li>desc: Right Ascension</li>\n",
       "\n",
       "<li>min_value: 0.0</li>\n",
       "\n",
       "<li>max_value: 360.0</li>\n",
       "\n",
       "<li>unit: deg</li>\n",
       "\n",
       "</ul>\n",
       "\n",
       "</li>\n",
       "\n",
       "<li>dec: \n",
       "<ul>\n",
       "\n",
       "<li>value: -8.4</li>\n",
       "\n",
       "<li>desc: Declination</li>\n",
       "\n",
       "<li>min_value: -90.0</li>\n",
       "\n",
       "<li>max_value: 90.0</li>\n",
       "\n",
       "<li>unit: deg</li>\n",
       "\n",
       "</ul>\n",
       "\n",
       "</li>\n",
       "\n",
       "<li>equinox: J2000</li>\n",
       "\n",
       "</ul>\n",
       "\n",
       "</li>\n",
       "\n",
       "<li>spectrum: \n",
       "<ul>\n",
       "\n",
       "<li>main: \n",
       "<ul>\n",
       "\n",
       "<li>Powerlaw: \n",
       "<ul>\n",
       "\n",
       "<li>K: \n",
       "<ul>\n",
       "\n",
       "<li>value: 2.0</li>\n",
       "\n",
       "<li>desc: Normalization (differential flux at the pivot value)</li>\n",
       "\n",
       "<li>min_value: None</li>\n",
       "\n",
       "<li>max_value: None</li>\n",
       "\n",
       "<li>unit: 1 / (cm2 keV s)</li>\n",
       "\n",
       "</ul>\n",
       "\n",
       "</li>\n",
       "\n",
       "<li>piv: \n",
       "<ul>\n",
       "\n",
       "<li>value: 1.0</li>\n",
       "\n",
       "<li>desc: Pivot value</li>\n",
       "\n",
       "<li>min_value: None</li>\n",
       "\n",
       "<li>max_value: None</li>\n",
       "\n",
       "<li>unit: keV</li>\n",
       "\n",
       "</ul>\n",
       "\n",
       "</li>\n",
       "\n",
       "<li>index: \n",
       "<ul>\n",
       "\n",
       "<li>value: -1.0</li>\n",
       "\n",
       "<li>desc: Photon index</li>\n",
       "\n",
       "<li>min_value: -10.0</li>\n",
       "\n",
       "<li>max_value: 10.0</li>\n",
       "\n",
       "<li>unit: </li>\n",
       "\n",
       "</ul>\n",
       "\n",
       "</li>\n",
       "\n",
       "</ul>\n",
       "\n",
       "</li>\n",
       "\n",
       "</ul>\n",
       "\n",
       "</li>\n",
       "\n",
       "</ul>\n",
       "\n",
       "</li>\n",
       "\n",
       "</ul>\n",
       "\n",
       "</li>\n",
       "\n",
       "</ul>\n"
      ],
      "text/plain": [
       "  * bn090217206 (point source): \n",
       "    * position: \n",
       "      * ra: \n",
       "        * value: 204.9\n",
       "        * desc: Right Ascension\n",
       "        * min_value: 0.0\n",
       "        * max_value: 360.0\n",
       "        * unit: deg\n",
       "      * dec: \n",
       "        * value: -8.4\n",
       "        * desc: Declination\n",
       "        * min_value: -90.0\n",
       "        * max_value: 90.0\n",
       "        * unit: deg\n",
       "      * equinox: J2000\n",
       "    * spectrum: \n",
       "      * main: \n",
       "        * Powerlaw: \n",
       "          * K: \n",
       "            * value: 2.0\n",
       "            * desc: Normalization (differential flux at the pivot value)\n",
       "            * min_value: None\n",
       "            * max_value: None\n",
       "            * unit: 1 / (cm2 keV s)\n",
       "          * piv: \n",
       "            * value: 1.0\n",
       "            * desc: Pivot value\n",
       "            * min_value: None\n",
       "            * max_value: None\n",
       "            * unit: keV\n",
       "          * index: \n",
       "            * value: -1.0\n",
       "            * desc: Photon index\n",
       "            * min_value: -10.0\n",
       "            * max_value: 10.0\n",
       "            * unit: \n"
      ]
     },
     "execution_count": 43,
     "metadata": {},
     "output_type": "execute_result"
    }
   ],
   "source": [
    "bayes._likelihood_model."
   ]
  },
  {
   "cell_type": "code",
   "execution_count": 53,
   "metadata": {
    "collapsed": false
   },
   "outputs": [
    {
     "name": "stdout",
     "output_type": "stream",
     "text": [
      "['bn090217206', 'spectrum', 'main', 'composite', 'K_1']\n",
      "['bn090217206', 'spectrum', 'main', 'composite', 'index_1']\n",
      "['bn090217206', 'spectrum', 'main', 'composite', 'K_2']\n",
      "['bn090217206', 'spectrum', 'main', 'composite', 'kT_2']\n"
     ]
    }
   ],
   "source": [
    "for i, (parameter_name, parameter) in enumerate(jl._free_parameters.iteritems()):\n",
    "    \n",
    "    print parameter_name.split('.')\n",
    "\n"
   ]
  },
  {
   "cell_type": "code",
   "execution_count": 57,
   "metadata": {
    "collapsed": false
   },
   "outputs": [
    {
     "data": {
      "text/plain": [
       "'(Powerlaw{1} + Blackbody{2})'"
      ]
     },
     "execution_count": 57,
     "metadata": {},
     "output_type": "execute_result"
    }
   ],
   "source": [
    "powerlaw.description"
   ]
  },
  {
   "cell_type": "code",
   "execution_count": 62,
   "metadata": {
    "collapsed": false
   },
   "outputs": [
    {
     "data": {
      "text/plain": [
       "830.4545887183152"
      ]
     },
     "execution_count": 62,
     "metadata": {},
     "output_type": "execute_result"
    }
   ],
   "source": [
    "jl.current_minimum"
   ]
  },
  {
   "cell_type": "code",
   "execution_count": 63,
   "metadata": {
    "collapsed": false
   },
   "outputs": [
    {
     "name": "stdout",
     "output_type": "stream",
     "text": [
      "Best fit values:\n",
      "\n"
     ]
    },
    {
     "data": {
      "text/html": [
       "<table id=\"table4656642128\">\n",
       "<thead><tr><th>#</th><th>Name</th><th>Best fit value</th><th>Unit</th></tr></thead>\n",
       "<tr><td>0</td><td>bn090217206.spectrum.main.composite.K_1</td><td>1.88 +/- 0.22</td><td>1 / (cm2 keV s)</td></tr>\n",
       "<tr><td>1</td><td>bn090217206.spectrum.main.composite.index_1</td><td>-1.200 +/- 0.023</td><td></td></tr>\n",
       "<tr><td>2</td><td>bn090217206.spectrum.main.composite.K_2</td><td>(6.4 +/- 1.3)e-06</td><td>1 / (cm2 keV3 s)</td></tr>\n",
       "<tr><td>3</td><td>bn090217206.spectrum.main.composite.kT_2</td><td>43.8 +/- 2.8</td><td>keV</td></tr>\n",
       "</table>"
      ],
      "text/plain": [
       " #                      Name                    ...       Unit      \n",
       "--- ------------------------------------------- ... ----------------\n",
       "  0     bn090217206.spectrum.main.composite.K_1 ...  1 / (cm2 keV s)\n",
       "  1 bn090217206.spectrum.main.composite.index_1 ...                 \n",
       "  2     bn090217206.spectrum.main.composite.K_2 ... 1 / (cm2 keV3 s)\n",
       "  3    bn090217206.spectrum.main.composite.kT_2 ...              keV"
      ]
     },
     "metadata": {},
     "output_type": "display_data"
    },
    {
     "name": "stdout",
     "output_type": "stream",
     "text": [
      "\n",
      "NOTE: errors on parameters are approximate. Use get_errors().\n",
      "\n",
      "(no nuisance parameters)\n",
      "\n",
      "Correlation matrix:\n",
      "\n"
     ]
    },
    {
     "data": {
      "text/html": [
       "<table id=\"table4667007056\">\n",
       "<tr><td>1.00</td><td>-0.89</td><td>-0.51</td><td>0.42</td></tr>\n",
       "<tr><td>-0.89</td><td>1.00</td><td>0.42</td><td>-0.55</td></tr>\n",
       "<tr><td>-0.51</td><td>0.42</td><td>1.00</td><td>-0.86</td></tr>\n",
       "<tr><td>0.42</td><td>-0.55</td><td>-0.86</td><td>1.00</td></tr>\n",
       "</table>"
      ],
      "text/plain": [
       " 1.00 -0.89 -0.51  0.42\n",
       "-0.89  1.00  0.42 -0.55\n",
       "-0.51  0.42  1.00 -0.86\n",
       " 0.42 -0.55 -0.86  1.00"
      ]
     },
     "metadata": {},
     "output_type": "display_data"
    },
    {
     "name": "stdout",
     "output_type": "stream",
     "text": [
      "\n",
      "Values of -log(likelihood) at the minimum:\n",
      "\n"
     ]
    },
    {
     "data": {
      "text/html": [
       "<div>\n",
       "<table border=\"1\" class=\"dataframe\">\n",
       "  <thead>\n",
       "    <tr style=\"text-align: right;\">\n",
       "      <th></th>\n",
       "      <th>-log(likelihood)</th>\n",
       "    </tr>\n",
       "  </thead>\n",
       "  <tbody>\n",
       "    <tr>\n",
       "      <th>total</th>\n",
       "      <td>823.882309</td>\n",
       "    </tr>\n",
       "    <tr>\n",
       "      <th>NaI6</th>\n",
       "      <td>823.882309</td>\n",
       "    </tr>\n",
       "  </tbody>\n",
       "</table>\n",
       "</div>"
      ],
      "text/plain": [
       "       -log(likelihood)\n",
       "total        823.882309\n",
       "NaI6         823.882309"
      ]
     },
     "metadata": {},
     "output_type": "display_data"
    },
    {
     "data": {
      "text/plain": [
       "(                                                 value     error\n",
       " bn090217206.spectrum.main.composite.K_1       1.876095  0.218240\n",
       " bn090217206.spectrum.main.composite.index_1  -1.200024  0.022677\n",
       " bn090217206.spectrum.main.composite.K_2       0.000006  0.000001\n",
       " bn090217206.spectrum.main.composite.kT_2     43.822694  2.794546,\n",
       "        -log(likelihood)\n",
       " total        823.882309\n",
       " NaI6         823.882309)"
      ]
     },
     "execution_count": 63,
     "metadata": {},
     "output_type": "execute_result"
    }
   ],
   "source": [
    "jl.fit()"
   ]
  },
  {
   "cell_type": "code",
   "execution_count": 20,
   "metadata": {
    "collapsed": false
   },
   "outputs": [
    {
     "data": {
      "text/plain": [
       "'mle'"
      ]
     },
     "execution_count": 20,
     "metadata": {},
     "output_type": "execute_result"
    }
   ],
   "source": [
    "jl._analysis_type"
   ]
  },
  {
   "cell_type": "code",
   "execution_count": 16,
   "metadata": {
    "collapsed": true
   },
   "outputs": [],
   "source": [
    "a=[]"
   ]
  },
  {
   "cell_type": "code",
   "execution_count": 17,
   "metadata": {
    "collapsed": true
   },
   "outputs": [],
   "source": [
    "a.append(None)"
   ]
  },
  {
   "cell_type": "code",
   "execution_count": 18,
   "metadata": {
    "collapsed": false
   },
   "outputs": [
    {
     "data": {
      "text/plain": [
       "[None]"
      ]
     },
     "execution_count": 18,
     "metadata": {},
     "output_type": "execute_result"
    }
   ],
   "source": [
    "a"
   ]
  },
  {
   "cell_type": "code",
   "execution_count": null,
   "metadata": {
    "collapsed": true
   },
   "outputs": [],
   "source": []
  }
 ],
 "metadata": {
  "kernelspec": {
   "display_name": "Python 2",
   "language": "python",
   "name": "python2"
  },
  "language_info": {
   "codemirror_mode": {
    "name": "ipython",
    "version": 2
   },
   "file_extension": ".py",
   "mimetype": "text/x-python",
   "name": "python",
   "nbconvert_exporter": "python",
   "pygments_lexer": "ipython2",
   "version": "2.7.12+"
  },
  "widgets": {
   "state": {
    "05e99709cac046cf9e9f503b36e4f74c": {
     "views": [
      {
       "cell_index": 13
      }
     ]
    },
    "271c814b85ea469f900a0d47c522b6c1": {
     "views": [
      {
       "cell_index": 18
      }
     ]
    },
    "5958ed6bb78e48ff88ecc9d398303d7d": {
     "views": [
      {
       "cell_index": 15
      }
     ]
    },
    "79d1e5201476426a9b769a9d892868fe": {
     "views": [
      {
       "cell_index": 8
      }
     ]
    },
    "8819fc362e3746a49ae045d42993a479": {
     "views": [
      {
       "cell_index": 12
      }
     ]
    },
    "92f10cc5a0144b7ca4bb448a1ef18d77": {
     "views": [
      {
       "cell_index": 15
      }
     ]
    },
    "a1536ce7e9884362a5630ba5ca13e09c": {
     "views": [
      {
       "cell_index": 18
      }
     ]
    }
   },
   "version": "1.2.0"
  }
 },
 "nbformat": 4,
 "nbformat_minor": 0
}
