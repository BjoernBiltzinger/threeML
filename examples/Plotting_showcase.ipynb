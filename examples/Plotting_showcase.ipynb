{
 "cells": [
  {
   "cell_type": "code",
   "execution_count": 1,
   "metadata": {
    "collapsed": true
   },
   "outputs": [
    {
     "name": "stdout",
     "output_type": "stream",
     "text": [
      "Populating the interactive namespace from numpy and matplotlib\n"
     ]
    },
    {
     "name": "stderr",
     "output_type": "stream",
     "text": [
      "\n",
      "WARNING CppInterfaceNotAvailable: The cthreeML package is not installed. You will not be able to use plugins which require the C/C++ interface (currently HAWC)\n",
      "\n",
      "\n",
      "WARNING NaimaNotAvailable: The naima package is not available. Models that depend on it will not be available\n",
      "\n"
     ]
    },
    {
     "name": "stdout",
     "output_type": "stream",
     "text": [
      "Loading xspec models..."
     ]
    },
    {
     "name": "stderr",
     "output_type": "stream",
     "text": [
      "\n",
      "WARNING RuntimeWarning: The current value of the parameter switch was above the new maximum 1.0.\n",
      "\n",
      "\n",
      "WARNING RuntimeWarning: The current value of the parameter specfile was above the new maximum 1.0.\n",
      "\n"
     ]
    },
    {
     "name": "stdout",
     "output_type": "stream",
     "text": [
      "done\n"
     ]
    },
    {
     "name": "stderr",
     "output_type": "stream",
     "text": [
      "\n",
      "WARNING UserWarning: ROOT minimizer not available\n",
      "\n"
     ]
    },
    {
     "name": "stdout",
     "output_type": "stream",
     "text": [
      "Configuration read from /Users/jburgess/.threeML/threeML_config.yml\n"
     ]
    },
    {
     "name": "stderr",
     "output_type": "stream",
     "text": [
      "\n",
      "WARNING RuntimeWarning: numpy.dtype size changed, may indicate binary incompatibility\n",
      "\n",
      "\n",
      "WARNING RuntimeWarning: numpy.ufunc size changed, may indicate binary incompatibility\n",
      "\n",
      "\n",
      "WARNING RuntimeWarning: numpy.dtype size changed, may indicate binary incompatibility. Expected 96, got 88\n",
      "\n",
      "\n",
      "WARNING RuntimeWarning: numpy.ufunc size changed, may indicate binary incompatibility. Expected 192, got 176\n",
      "\n",
      "\n",
      "WARNING RuntimeWarning: numpy.dtype size changed, may indicate binary incompatibility. Expected 96, got 88\n",
      "\n",
      "\n",
      "WARNING RuntimeWarning: numpy.ufunc size changed, may indicate binary incompatibility. Expected 192, got 176\n",
      "\n",
      "\n",
      "WARNING RuntimeWarning: numpy.dtype size changed, may indicate binary incompatibility. Expected 96, got 88\n",
      "\n",
      "\n",
      "WARNING RuntimeWarning: numpy.ufunc size changed, may indicate binary incompatibility. Expected 192, got 176\n",
      "\n",
      "\n",
      "WARNING RuntimeWarning: numpy.dtype size changed, may indicate binary incompatibility\n",
      "\n",
      "\n",
      "WARNING RuntimeWarning: numpy.ufunc size changed, may indicate binary incompatibility\n",
      "\n",
      "\n",
      "WARNING RuntimeWarning: numpy.dtype size changed, may indicate binary incompatibility\n",
      "\n",
      "\n",
      "WARNING RuntimeWarning: numpy.ufunc size changed, may indicate binary incompatibility\n",
      "\n",
      "\n",
      "WARNING CannotImportPlugin: Could not import plugin /usr/local/Cellar/python/HEAD/Frameworks/Python.framework/Versions/2.7/lib/python2.7/site-packages/threeML-0.3.2-py2.7.egg/threeML/plugins/FermiGBM_TTE_Like.py. Do you have the relative instrument software installed and configured?\n",
      "\n",
      "\n",
      "WARNING CannotImportPlugin: Could not import plugin /usr/local/Cellar/python/HEAD/Frameworks/Python.framework/Versions/2.7/lib/python2.7/site-packages/threeML-0.3.2-py2.7.egg/threeML/plugins/FermiLATLike.py. Do you have the relative instrument software installed and configured?\n",
      "\n",
      "\n",
      "WARNING CannotImportPlugin: Could not import plugin /usr/local/Cellar/python/HEAD/Frameworks/Python.framework/Versions/2.7/lib/python2.7/site-packages/threeML-0.3.2-py2.7.egg/threeML/plugins/HAWCLike.py. Do you have the relative instrument software installed and configured?\n",
      "\n",
      "\n",
      "WARNING CannotImportPlugin: Could not import plugin /usr/local/Cellar/python/HEAD/Frameworks/Python.framework/Versions/2.7/lib/python2.7/site-packages/threeML-0.3.2-py2.7.egg/threeML/plugins/SherpaLike.py. Do you have the relative instrument software installed and configured?\n",
      "\n"
     ]
    }
   ],
   "source": [
    "%pylab inline\n",
    "from threeML import *"
   ]
  },
  {
   "cell_type": "code",
   "execution_count": null,
   "metadata": {
    "collapsed": true
   },
   "outputs": [],
   "source": []
  },
  {
   "cell_type": "code",
   "execution_count": 2,
   "metadata": {
    "collapsed": false
   },
   "outputs": [
    {
     "name": "stdout",
     "output_type": "stream",
     "text": [
      "Now using 117 channels out of 128\n",
      "Now using 115 channels out of 128\n",
      "Now using 88 channels out of 128\n"
     ]
    }
   ],
   "source": [
    "triggerName = 'bn090217206'\n",
    "ra = 204.9\n",
    "dec = -8.4\n",
    "\n",
    "#Data are in the current directory\n",
    "\n",
    "datadir = os.path.abspath('.')\n",
    "\n",
    "\n",
    "#The .pha, .bak and .rsp files have been prepared with the Fermi\n",
    "#official software. In the future it will be possible to create\n",
    "#them directly from the plugin\n",
    "\n",
    "#Create an instance of the GBM plugin for each detector\n",
    "#Data files\n",
    "obsSpectrum = os.path.join( datadir, \"bn090217206_n6_srcspectra.pha{1}\" )\n",
    "bakSpectrum = os.path.join( datadir, \"bn090217206_n6_bkgspectra.bak{1}\" )\n",
    "rspFile     = os.path.join( datadir, \"bn090217206_n6_weightedrsp.rsp{1}\" )\n",
    "\n",
    "#Plugin instance\n",
    "NaI6 = FermiGBMLike( \"NaI6\", obsSpectrum, bakSpectrum, rspFile )\n",
    "\n",
    "#Choose energies to use (in this case, I exclude the energy\n",
    "#range from 30 to 40 keV to avoid the k-edge, as well as anything above\n",
    "#950 keV, where the calibration is uncertain)\n",
    "NaI6.set_active_measurements( \"10.0-30.0\", \"40.0-950.0\" )\n",
    "\n",
    "#Now repeat for the other GBM detectors\n",
    "\n",
    "obsSpectrum = os.path.join( datadir, \"bn090217206_n9_srcspectra.pha{1}\" )\n",
    "bakSpectrum = os.path.join( datadir, \"bn090217206_n9_bkgspectra.bak{1}\" )\n",
    "rspFile     = os.path.join( datadir, \"bn090217206_n9_weightedrsp.rsp{1}\" )\n",
    "#Plugin instance\n",
    "NaI9 = FermiGBMLike( \"NaI9\", obsSpectrum, bakSpectrum, rspFile )\n",
    "#Choose chanels to use\n",
    "NaI9.set_active_measurements( \"10.0-30.0\", \"40.0-950.0\" )\n",
    "\n",
    "\n",
    "obsSpectrum = os.path.join( datadir, \"bn090217206_b1_srcspectra.pha{1}\" )\n",
    "bakSpectrum = os.path.join( datadir, \"bn090217206_b1_bkgspectra.bak{1}\" )\n",
    "rspFile     = os.path.join( datadir, \"bn090217206_b1_weightedrsp.rsp{1}\" )\n",
    "#Plugin instance\n",
    "BGO1 = FermiGBMLike( \"BGO1\", obsSpectrum, bakSpectrum, rspFile )\n",
    "#Choose chanels to use (in this case, from 200 keV to 10 MeV)\n",
    "BGO1.set_active_measurements( \"200-10000\" )\n",
    "\n",
    "\n",
    "data_list = DataList( NaI6, NaI9, BGO1 )"
   ]
  },
  {
   "cell_type": "code",
   "execution_count": 3,
   "metadata": {
    "collapsed": false
   },
   "outputs": [],
   "source": [
    "#Let's use a Band model, a phenomenological model typically used for GRBs\n",
    "bb = Blackbody()\n",
    "\n",
    "pl  = Powerlaw()\n",
    "\n",
    "comp_model = bb+pl\n",
    "\n",
    "\n",
    "\n",
    "\n",
    "\n"
   ]
  },
  {
   "cell_type": "code",
   "execution_count": 4,
   "metadata": {
    "collapsed": false
   },
   "outputs": [
    {
     "name": "stdout",
     "output_type": "stream",
     "text": [
      "Fixing units of component 1 (Powerlaw) to dimensionless\n"
     ]
    },
    {
     "name": "stderr",
     "output_type": "stream",
     "text": [
      "\n",
      "WARNING CannotConvertValueToNewUnits: Cannot convert the value 1.0 from 1 / (cm2 keV s) to the new units (dimensionless)\n",
      "\n"
     ]
    },
    {
     "name": "stdout",
     "output_type": "stream",
     "text": [
      "Best fit values:\n",
      "\n"
     ]
    },
    {
     "data": {
      "text/html": [
       "<table id=\"table4377270544\">\n",
       "<thead><tr><th>#</th><th>Name</th><th>Best fit value</th><th>Unit</th></tr></thead>\n",
       "<tr><td>0</td><td>bn090217206.spectrum.main.composite.K_1</td><td>(5.13 +/- 0.08)e-06</td><td>1 / (cm2 keV3 s)</td></tr>\n",
       "<tr><td>1</td><td>bn090217206.spectrum.main.composite.kT_1</td><td>65.97 +/- 0.23</td><td>keV</td></tr>\n",
       "<tr><td>2</td><td>bn090217206.spectrum.main.composite.K_2</td><td>150.05 +/- 0.25</td><td></td></tr>\n",
       "<tr><td>3</td><td>bn090217206.spectrum.main.composite.index_2</td><td>-6 +/- 11</td><td></td></tr>\n",
       "</table>"
      ],
      "text/plain": [
       " #                      Name                    ...       Unit      \n",
       "--- ------------------------------------------- ... ----------------\n",
       "  0     bn090217206.spectrum.main.composite.K_1 ... 1 / (cm2 keV3 s)\n",
       "  1    bn090217206.spectrum.main.composite.kT_1 ...              keV\n",
       "  2     bn090217206.spectrum.main.composite.K_2 ...                 \n",
       "  3 bn090217206.spectrum.main.composite.index_2 ...                 "
      ]
     },
     "metadata": {},
     "output_type": "display_data"
    },
    {
     "name": "stdout",
     "output_type": "stream",
     "text": [
      "\n",
      "NOTE: errors on parameters are approximate. Use get_errors().\n",
      "\n",
      "Nuisance parameters:\n",
      "\n"
     ]
    },
    {
     "data": {
      "text/html": [
       "<table id=\"table4651678288\">\n",
       "<thead><tr><th>Name</th><th>Value</th><th>Unit</th></tr></thead>\n",
       "<tr><td>InterCalib_of_NaI6</td><td>1</td><td></td></tr>\n",
       "<tr><td>InterCalib_of_NaI9</td><td>1</td><td></td></tr>\n",
       "<tr><td>InterCalib_of_BGO1</td><td>1</td><td></td></tr>\n",
       "</table>"
      ],
      "text/plain": [
       "       Name        Value Unit\n",
       "------------------ ----- ----\n",
       "InterCalib_of_NaI6     1     \n",
       "InterCalib_of_NaI9     1     \n",
       "InterCalib_of_BGO1     1     "
      ]
     },
     "metadata": {},
     "output_type": "display_data"
    },
    {
     "name": "stdout",
     "output_type": "stream",
     "text": [
      "\n",
      "Correlation matrix:\n",
      "\n"
     ]
    },
    {
     "data": {
      "text/html": [
       "<table id=\"table4651215952\">\n",
       "<tr><td>1.00</td><td>-0.72</td><td>0.00</td><td>-0.01</td></tr>\n",
       "<tr><td>-0.72</td><td>1.00</td><td>-0.00</td><td>0.00</td></tr>\n",
       "<tr><td>0.00</td><td>-0.00</td><td>1.00</td><td>0.00</td></tr>\n",
       "<tr><td>-0.01</td><td>0.00</td><td>0.00</td><td>1.00</td></tr>\n",
       "</table>"
      ],
      "text/plain": [
       " 1.00 -0.72  0.00 -0.01\n",
       "-0.72  1.00 -0.00  0.00\n",
       " 0.00 -0.00  1.00  0.00\n",
       "-0.01  0.00  0.00  1.00"
      ]
     },
     "metadata": {},
     "output_type": "display_data"
    },
    {
     "name": "stdout",
     "output_type": "stream",
     "text": [
      "\n",
      "Values of -log(likelihood) at the minimum:\n",
      "\n"
     ]
    },
    {
     "data": {
      "text/html": [
       "<div>\n",
       "<table border=\"1\" class=\"dataframe\">\n",
       "  <thead>\n",
       "    <tr style=\"text-align: right;\">\n",
       "      <th></th>\n",
       "      <th>-log(likelihood)</th>\n",
       "    </tr>\n",
       "  </thead>\n",
       "  <tbody>\n",
       "    <tr>\n",
       "      <th>total</th>\n",
       "      <td>2912.688734</td>\n",
       "    </tr>\n",
       "    <tr>\n",
       "      <th>NaI6</th>\n",
       "      <td>1031.535386</td>\n",
       "    </tr>\n",
       "    <tr>\n",
       "      <th>NaI9</th>\n",
       "      <td>1135.399418</td>\n",
       "    </tr>\n",
       "    <tr>\n",
       "      <th>BGO1</th>\n",
       "      <td>745.753930</td>\n",
       "    </tr>\n",
       "  </tbody>\n",
       "</table>\n",
       "</div>"
      ],
      "text/plain": [
       "       -log(likelihood)\n",
       "total       2912.688734\n",
       "NaI6        1031.535386\n",
       "NaI9        1135.399418\n",
       "BGO1         745.753930"
      ]
     },
     "metadata": {},
     "output_type": "display_data"
    }
   ],
   "source": [
    "GRB = PointSource( triggerName, ra, dec, spectral_shape=comp_model )\n",
    "\n",
    "model = Model( GRB )\n",
    "\n",
    "jl = JointLikelihood( model, data_list )\n",
    "\n",
    "res = jl.fit()"
   ]
  },
  {
   "cell_type": "code",
   "execution_count": 5,
   "metadata": {
    "collapsed": false
   },
   "outputs": [
    {
     "ename": "UnitConversionError",
     "evalue": "Can only apply 'add' function to quantities with compatible dimensions",
     "output_type": "error",
     "traceback": [
      "\u001b[0;31m---------------------------------------------------------------------------\u001b[0m",
      "\u001b[0;31mUnitConversionError\u001b[0m                       Traceback (most recent call last)",
      "\u001b[0;32m<ipython-input-5-6e8c40ff1620>\u001b[0m in \u001b[0;36m<module>\u001b[0;34m()\u001b[0m\n\u001b[1;32m      6\u001b[0m                          \u001b[0mloc\u001b[0m\u001b[0;34m=\u001b[0m\u001b[0;34m'lower left'\u001b[0m\u001b[0;34m,\u001b[0m\u001b[0;34m\u001b[0m\u001b[0m\n\u001b[1;32m      7\u001b[0m                          \u001b[0mlw\u001b[0m\u001b[0;34m=\u001b[0m\u001b[0;36m.5\u001b[0m\u001b[0;34m,\u001b[0m\u001b[0;34m\u001b[0m\u001b[0m\n\u001b[0;32m----> 8\u001b[0;31m                          ls='-')\n\u001b[0m",
      "\u001b[0;32m/usr/local/Cellar/python/HEAD/Frameworks/Python.framework/Versions/2.7/lib/python2.7/site-packages/threeML-0.3.2-py2.7.egg/threeML/io/model_plot.pyc\u001b[0m in \u001b[0;36mplot_model\u001b[0;34m(self, x_unit, y_unit, sources_to_plot, summed, ene_min, ene_max, num_ene, plot_num, thin, alpha, legend, fit_cmap, contour_cmap, contour_alpha, lw, ls, **kwargs)\u001b[0m\n\u001b[1;32m     65\u001b[0m             self._plot_mle(x_unit, y_unit, sources_to_plot, summed, ene_min, ene_max, num_ene, plot_num, legend,\n\u001b[1;32m     66\u001b[0m                            \u001b[0mfit_cmap\u001b[0m\u001b[0;34m,\u001b[0m\u001b[0;34m\u001b[0m\u001b[0m\n\u001b[0;32m---> 67\u001b[0;31m                            contour_cmap, contour_alpha, lw, ls, **kwargs)\n\u001b[0m\u001b[1;32m     68\u001b[0m \u001b[0;34m\u001b[0m\u001b[0m\n\u001b[1;32m     69\u001b[0m         \u001b[0;32melif\u001b[0m \u001b[0mself\u001b[0m\u001b[0;34m.\u001b[0m\u001b[0m_analysis_type\u001b[0m \u001b[0;34m==\u001b[0m \u001b[0;34m\"bayesian\"\u001b[0m\u001b[0;34m:\u001b[0m\u001b[0;34m\u001b[0m\u001b[0m\n",
      "\u001b[0;32m/usr/local/Cellar/python/HEAD/Frameworks/Python.framework/Versions/2.7/lib/python2.7/site-packages/threeML-0.3.2-py2.7.egg/threeML/io/model_plot.pyc\u001b[0m in \u001b[0;36m_plot_mle\u001b[0;34m(self, x_unit, y_unit, sources_to_plot, summed, ene_min, ene_max, num_ene, plot_num, legend, fit_cmap, contour_cmap, contour_alpha, lw, ls, **kwargs)\u001b[0m\n\u001b[1;32m    260\u001b[0m             \u001b[0mflux_function\u001b[0m \u001b[0;34m=\u001b[0m \u001b[0mself\u001b[0m\u001b[0;34m.\u001b[0m\u001b[0m_get_flux_function\u001b[0m\u001b[0;34m(\u001b[0m\u001b[0mspectrum_type\u001b[0m\u001b[0;34m,\u001b[0m \u001b[0mmodel\u001b[0m\u001b[0;34m,\u001b[0m \u001b[0my_unit\u001b[0m\u001b[0;34m)\u001b[0m\u001b[0;34m\u001b[0m\u001b[0m\n\u001b[1;32m    261\u001b[0m \u001b[0;34m\u001b[0m\u001b[0m\n\u001b[0;32m--> 262\u001b[0;31m             \u001b[0merr\u001b[0m \u001b[0;34m=\u001b[0m \u001b[0mself\u001b[0m\u001b[0;34m.\u001b[0m\u001b[0m_propagate_full\u001b[0m\u001b[0;34m(\u001b[0m\u001b[0msource\u001b[0m\u001b[0;34m,\u001b[0m \u001b[0mflux_function\u001b[0m\u001b[0;34m,\u001b[0m \u001b[0mx_range\u001b[0m\u001b[0;34m)\u001b[0m\u001b[0;34m\u001b[0m\u001b[0m\n\u001b[0m\u001b[1;32m    263\u001b[0m \u001b[0;34m\u001b[0m\u001b[0m\n\u001b[1;32m    264\u001b[0m             \u001b[0my_values\u001b[0m\u001b[0;34m.\u001b[0m\u001b[0mappend\u001b[0m\u001b[0;34m(\u001b[0m\u001b[0mflux_function\u001b[0m\u001b[0;34m(\u001b[0m\u001b[0mx_range\u001b[0m\u001b[0;34m)\u001b[0m\u001b[0;34m)\u001b[0m\u001b[0;34m\u001b[0m\u001b[0m\n",
      "\u001b[0;32m/usr/local/Cellar/python/HEAD/Frameworks/Python.framework/Versions/2.7/lib/python2.7/site-packages/threeML-0.3.2-py2.7.egg/threeML/io/model_plot.pyc\u001b[0m in \u001b[0;36m_propagate_full\u001b[0;34m(self, source, flux_function, energy)\u001b[0m\n\u001b[1;32m    610\u001b[0m                 \u001b[0mthis_derivate\u001b[0m \u001b[0;34m=\u001b[0m \u001b[0mself\u001b[0m\u001b[0;34m.\u001b[0m\u001b[0m_derivative\u001b[0m\u001b[0;34m(\u001b[0m\u001b[0mtmpflux\u001b[0m\u001b[0;34m)\u001b[0m\u001b[0;34m\u001b[0m\u001b[0m\n\u001b[1;32m    611\u001b[0m \u001b[0;34m\u001b[0m\u001b[0m\n\u001b[0;32m--> 612\u001b[0;31m                 \u001b[0mfirst_derivatives\u001b[0m\u001b[0;34m.\u001b[0m\u001b[0mappend\u001b[0m\u001b[0;34m(\u001b[0m\u001b[0mthis_derivate\u001b[0m\u001b[0;34m(\u001b[0m\u001b[0mparameter_best_fit_value\u001b[0m\u001b[0;34m)\u001b[0m\u001b[0;34m)\u001b[0m\u001b[0;34m\u001b[0m\u001b[0m\n\u001b[0m\u001b[1;32m    613\u001b[0m \u001b[0;34m\u001b[0m\u001b[0m\n\u001b[1;32m    614\u001b[0m             \u001b[0mfirst_derivatives\u001b[0m \u001b[0;34m=\u001b[0m \u001b[0mnp\u001b[0m\u001b[0;34m.\u001b[0m\u001b[0marray\u001b[0m\u001b[0;34m(\u001b[0m\u001b[0mfirst_derivatives\u001b[0m\u001b[0;34m)\u001b[0m\u001b[0;34m\u001b[0m\u001b[0m\n",
      "\u001b[0;32m/usr/local/Cellar/python/HEAD/Frameworks/Python.framework/Versions/2.7/lib/python2.7/site-packages/threeML-0.3.2-py2.7.egg/threeML/io/model_plot.pyc\u001b[0m in \u001b[0;36mdf\u001b[0;34m(x)\u001b[0m\n\u001b[1;32m    586\u001b[0m         \u001b[0;32mdef\u001b[0m \u001b[0mdf\u001b[0m\u001b[0;34m(\u001b[0m\u001b[0mx\u001b[0m\u001b[0;34m)\u001b[0m\u001b[0;34m:\u001b[0m\u001b[0;34m\u001b[0m\u001b[0m\n\u001b[1;32m    587\u001b[0m             \u001b[0mh\u001b[0m \u001b[0;34m=\u001b[0m \u001b[0;36m0.1e-7\u001b[0m\u001b[0;34m\u001b[0m\u001b[0m\n\u001b[0;32m--> 588\u001b[0;31m             \u001b[0;32mreturn\u001b[0m \u001b[0;34m(\u001b[0m\u001b[0mf\u001b[0m\u001b[0;34m(\u001b[0m\u001b[0mx\u001b[0m \u001b[0;34m+\u001b[0m \u001b[0mh\u001b[0m \u001b[0;34m/\u001b[0m \u001b[0;36m2\u001b[0m\u001b[0;34m)\u001b[0m \u001b[0;34m-\u001b[0m \u001b[0mf\u001b[0m\u001b[0;34m(\u001b[0m\u001b[0mx\u001b[0m \u001b[0;34m-\u001b[0m \u001b[0mh\u001b[0m \u001b[0;34m/\u001b[0m \u001b[0;36m2\u001b[0m\u001b[0;34m)\u001b[0m\u001b[0;34m)\u001b[0m \u001b[0;34m/\u001b[0m \u001b[0mh\u001b[0m\u001b[0;34m\u001b[0m\u001b[0m\n\u001b[0m\u001b[1;32m    589\u001b[0m \u001b[0;34m\u001b[0m\u001b[0m\n\u001b[1;32m    590\u001b[0m         \u001b[0;32mreturn\u001b[0m \u001b[0mdf\u001b[0m\u001b[0;34m\u001b[0m\u001b[0m\n",
      "\u001b[0;32m/usr/local/Cellar/python/HEAD/Frameworks/Python.framework/Versions/2.7/lib/python2.7/site-packages/threeML-0.3.2-py2.7.egg/threeML/io/model_plot.pyc\u001b[0m in \u001b[0;36mtmpflux\u001b[0;34m(current_value)\u001b[0m\n\u001b[1;32m    606\u001b[0m                     \u001b[0mmodel\u001b[0m\u001b[0;34m.\u001b[0m\u001b[0mspectrum\u001b[0m\u001b[0;34m.\u001b[0m\u001b[0mmain\u001b[0m\u001b[0;34m.\u001b[0m\u001b[0mshape\u001b[0m\u001b[0;34m.\u001b[0m\u001b[0mfree_parameters\u001b[0m\u001b[0;34m[\u001b[0m\u001b[0mpar\u001b[0m\u001b[0;34m]\u001b[0m\u001b[0;34m.\u001b[0m\u001b[0mvalue\u001b[0m \u001b[0;34m=\u001b[0m \u001b[0mcurrent_value\u001b[0m\u001b[0;34m\u001b[0m\u001b[0m\n\u001b[1;32m    607\u001b[0m \u001b[0;34m\u001b[0m\u001b[0m\n\u001b[0;32m--> 608\u001b[0;31m                     \u001b[0;32mreturn\u001b[0m \u001b[0mflux_function\u001b[0m\u001b[0;34m(\u001b[0m\u001b[0mene\u001b[0m\u001b[0;34m)\u001b[0m\u001b[0;34m.\u001b[0m\u001b[0mvalue\u001b[0m\u001b[0;34m\u001b[0m\u001b[0m\n\u001b[0m\u001b[1;32m    609\u001b[0m \u001b[0;34m\u001b[0m\u001b[0m\n\u001b[1;32m    610\u001b[0m                 \u001b[0mthis_derivate\u001b[0m \u001b[0;34m=\u001b[0m \u001b[0mself\u001b[0m\u001b[0;34m.\u001b[0m\u001b[0m_derivative\u001b[0m\u001b[0;34m(\u001b[0m\u001b[0mtmpflux\u001b[0m\u001b[0;34m)\u001b[0m\u001b[0;34m\u001b[0m\u001b[0m\n",
      "\u001b[0;32m/usr/local/Cellar/python/HEAD/Frameworks/Python.framework/Versions/2.7/lib/python2.7/site-packages/threeML-0.3.2-py2.7.egg/threeML/io/model_plot.pyc\u001b[0m in \u001b[0;36m<lambda>\u001b[0;34m(x)\u001b[0m\n\u001b[1;32m    647\u001b[0m         \u001b[0;32melif\u001b[0m \u001b[0mspectrum_type\u001b[0m \u001b[0;34m==\u001b[0m \u001b[0;34m\"vfvflux\"\u001b[0m\u001b[0;34m:\u001b[0m\u001b[0;34m\u001b[0m\u001b[0m\n\u001b[1;32m    648\u001b[0m \u001b[0;34m\u001b[0m\u001b[0m\n\u001b[0;32m--> 649\u001b[0;31m             \u001b[0mflux_function\u001b[0m \u001b[0;34m=\u001b[0m \u001b[0;32mlambda\u001b[0m \u001b[0mx\u001b[0m\u001b[0;34m:\u001b[0m \u001b[0;34m(\u001b[0m\u001b[0mx\u001b[0m \u001b[0;34m**\u001b[0m \u001b[0;36m2\u001b[0m \u001b[0;34m*\u001b[0m \u001b[0mmodel\u001b[0m\u001b[0;34m(\u001b[0m\u001b[0mx\u001b[0m\u001b[0;34m)\u001b[0m\u001b[0;34m)\u001b[0m\u001b[0;34m.\u001b[0m\u001b[0mto\u001b[0m\u001b[0;34m(\u001b[0m\u001b[0my_unit\u001b[0m\u001b[0;34m)\u001b[0m\u001b[0;34m\u001b[0m\u001b[0m\n\u001b[0m\u001b[1;32m    650\u001b[0m \u001b[0;34m\u001b[0m\u001b[0m\n\u001b[1;32m    651\u001b[0m         \u001b[0;32mreturn\u001b[0m \u001b[0mflux_function\u001b[0m\u001b[0;34m\u001b[0m\u001b[0m\n",
      "\u001b[0;32m/usr/local/Cellar/python/HEAD/Frameworks/Python.framework/Versions/2.7/lib/python2.7/site-packages/astromodels-0.2.3-py2.7-macosx-10.11-x86_64.egg/astromodels/functions/function.pyc\u001b[0m in \u001b[0;36m__call__\u001b[0;34m(self, *args, **kwargs)\u001b[0m\n\u001b[1;32m   1614\u001b[0m     \u001b[0;32mdef\u001b[0m \u001b[0m__call__\u001b[0m\u001b[0;34m(\u001b[0m\u001b[0mself\u001b[0m\u001b[0;34m,\u001b[0m \u001b[0;34m*\u001b[0m\u001b[0margs\u001b[0m\u001b[0;34m,\u001b[0m \u001b[0;34m**\u001b[0m\u001b[0mkwargs\u001b[0m\u001b[0;34m)\u001b[0m\u001b[0;34m:\u001b[0m\u001b[0;34m\u001b[0m\u001b[0m\n\u001b[1;32m   1615\u001b[0m \u001b[0;34m\u001b[0m\u001b[0m\n\u001b[0;32m-> 1616\u001b[0;31m         \u001b[0;32mreturn\u001b[0m \u001b[0mself\u001b[0m\u001b[0;34m.\u001b[0m\u001b[0mevaluate\u001b[0m\u001b[0;34m(\u001b[0m\u001b[0;34m*\u001b[0m\u001b[0margs\u001b[0m\u001b[0;34m,\u001b[0m \u001b[0;34m**\u001b[0m\u001b[0mkwargs\u001b[0m\u001b[0;34m)\u001b[0m\u001b[0;34m\u001b[0m\u001b[0m\n\u001b[0m\u001b[1;32m   1617\u001b[0m \u001b[0;34m\u001b[0m\u001b[0m\n\u001b[1;32m   1618\u001b[0m     \u001b[0;31m# Override the to_dict method of the Node class to add the expression to re-build this\u001b[0m\u001b[0;34m\u001b[0m\u001b[0;34m\u001b[0m\u001b[0m\n",
      "\u001b[0;32m/usr/local/Cellar/python/HEAD/Frameworks/Python.framework/Versions/2.7/lib/python2.7/site-packages/astromodels-0.2.3-py2.7-macosx-10.11-x86_64.egg/astromodels/functions/function.pyc\u001b[0m in \u001b[0;36mnew_evaluate\u001b[0;34m(*args)\u001b[0m\n\u001b[1;32m   1562\u001b[0m \u001b[0;34m\u001b[0m\u001b[0m\n\u001b[1;32m   1563\u001b[0m                     return numpy_operator(first_instance.__call__(*args),\n\u001b[0;32m-> 1564\u001b[0;31m                                           second_instance.__call__(*args))\n\u001b[0m\u001b[1;32m   1565\u001b[0m \u001b[0;34m\u001b[0m\u001b[0m\n\u001b[1;32m   1566\u001b[0m                 \u001b[0;32mreturn\u001b[0m \u001b[0mnew_evaluate\u001b[0m\u001b[0;34m\u001b[0m\u001b[0m\n",
      "\u001b[0;32m/usr/local/Cellar/python/HEAD/Frameworks/Python.framework/Versions/2.7/lib/python2.7/site-packages/astropy/units/quantity.pyc\u001b[0m in \u001b[0;36m__array_prepare__\u001b[0;34m(self, obj, context)\u001b[0m\n\u001b[1;32m    321\u001b[0m         \u001b[0;31m# the unit the output from the ufunc will have.\u001b[0m\u001b[0;34m\u001b[0m\u001b[0;34m\u001b[0m\u001b[0m\n\u001b[1;32m    322\u001b[0m         \u001b[0;32mif\u001b[0m \u001b[0mfunction\u001b[0m \u001b[0;32min\u001b[0m \u001b[0mUFUNC_HELPERS\u001b[0m\u001b[0;34m:\u001b[0m\u001b[0;34m\u001b[0m\u001b[0m\n\u001b[0;32m--> 323\u001b[0;31m             \u001b[0mconverters\u001b[0m\u001b[0;34m,\u001b[0m \u001b[0mresult_unit\u001b[0m \u001b[0;34m=\u001b[0m \u001b[0mUFUNC_HELPERS\u001b[0m\u001b[0;34m[\u001b[0m\u001b[0mfunction\u001b[0m\u001b[0;34m]\u001b[0m\u001b[0;34m(\u001b[0m\u001b[0mfunction\u001b[0m\u001b[0;34m,\u001b[0m \u001b[0;34m*\u001b[0m\u001b[0munits\u001b[0m\u001b[0;34m)\u001b[0m\u001b[0;34m\u001b[0m\u001b[0m\n\u001b[0m\u001b[1;32m    324\u001b[0m         \u001b[0;32melse\u001b[0m\u001b[0;34m:\u001b[0m\u001b[0;34m\u001b[0m\u001b[0m\n\u001b[1;32m    325\u001b[0m             raise TypeError(\"Unknown ufunc {0}.  Please raise issue on \"\n",
      "\u001b[0;32m/usr/local/Cellar/python/HEAD/Frameworks/Python.framework/Versions/2.7/lib/python2.7/site-packages/astropy/units/quantity_helper.pyc\u001b[0m in \u001b[0;36mhelper_twoarg_invariant\u001b[0;34m(f, unit1, unit2)\u001b[0m\n\u001b[1;32m    289\u001b[0m \u001b[0;34m\u001b[0m\u001b[0m\n\u001b[1;32m    290\u001b[0m \u001b[0;32mdef\u001b[0m \u001b[0mhelper_twoarg_invariant\u001b[0m\u001b[0;34m(\u001b[0m\u001b[0mf\u001b[0m\u001b[0;34m,\u001b[0m \u001b[0munit1\u001b[0m\u001b[0;34m,\u001b[0m \u001b[0munit2\u001b[0m\u001b[0;34m)\u001b[0m\u001b[0;34m:\u001b[0m\u001b[0;34m\u001b[0m\u001b[0m\n\u001b[0;32m--> 291\u001b[0;31m     \u001b[0;32mreturn\u001b[0m \u001b[0mget_converters_and_unit\u001b[0m\u001b[0;34m(\u001b[0m\u001b[0mf\u001b[0m\u001b[0;34m,\u001b[0m \u001b[0munit1\u001b[0m\u001b[0;34m,\u001b[0m \u001b[0munit2\u001b[0m\u001b[0;34m)\u001b[0m\u001b[0;34m\u001b[0m\u001b[0m\n\u001b[0m\u001b[1;32m    292\u001b[0m \u001b[0;34m\u001b[0m\u001b[0m\n\u001b[1;32m    293\u001b[0m \u001b[0mUFUNC_HELPERS\u001b[0m\u001b[0;34m[\u001b[0m\u001b[0mnp\u001b[0m\u001b[0;34m.\u001b[0m\u001b[0madd\u001b[0m\u001b[0;34m]\u001b[0m \u001b[0;34m=\u001b[0m \u001b[0mhelper_twoarg_invariant\u001b[0m\u001b[0;34m\u001b[0m\u001b[0m\n",
      "\u001b[0;32m/usr/local/Cellar/python/HEAD/Frameworks/Python.framework/Versions/2.7/lib/python2.7/site-packages/astropy/units/quantity_helper.pyc\u001b[0m in \u001b[0;36mget_converters_and_unit\u001b[0;34m(f, *units)\u001b[0m\n\u001b[1;32m    283\u001b[0m                 \u001b[0;34m\"Can only apply '{0}' function to quantities \"\u001b[0m\u001b[0;34m\u001b[0m\u001b[0m\n\u001b[1;32m    284\u001b[0m                 \u001b[0;34m\"with compatible dimensions\"\u001b[0m\u001b[0;34m\u001b[0m\u001b[0m\n\u001b[0;32m--> 285\u001b[0;31m                 .format(f.__name__))\n\u001b[0m\u001b[1;32m    286\u001b[0m \u001b[0;34m\u001b[0m\u001b[0m\n\u001b[1;32m    287\u001b[0m         \u001b[0;32mreturn\u001b[0m \u001b[0mconverters\u001b[0m\u001b[0;34m,\u001b[0m \u001b[0munits\u001b[0m\u001b[0;34m[\u001b[0m\u001b[0mfixed\u001b[0m\u001b[0;34m]\u001b[0m\u001b[0;34m\u001b[0m\u001b[0m\n",
      "\u001b[0;31mUnitConversionError\u001b[0m: Can only apply 'add' function to quantities with compatible dimensions"
     ]
    },
    {
     "data": {
      "image/png": "[encoded data removed]",
      "text/plain": [
       "<matplotlib.figure.Figure at 0x1153f1a50>"
      ]
     },
     "metadata": {},
     "output_type": "display_data"
    }
   ],
   "source": [
    "spec_plot_mle = SpectralPlotter(jl)\n",
    "spec_plot_mle.plot_model(x_unit='keV',\n",
    "                         y_unit='erg2/(cm2 keV s)',\n",
    "                         ene_min=10.,\n",
    "                         ene_max=1E4,\n",
    "                         loc='lower left',\n",
    "                         lw=.5,\n",
    "                         ls='-')"
   ]
  },
  {
   "cell_type": "code",
   "execution_count": 41,
   "metadata": {
    "collapsed": false
   },
   "outputs": [
    {
     "data": {
      "image/png": "[encoded data removed]",
      "text/plain": [
       "<matplotlib.figure.Figure at 0x11a4cf810>"
      ]
     },
     "metadata": {},
     "output_type": "display_data"
    }
   ],
   "source": [
    "\n",
    "spec_plot_mle.plot_model(x_unit='MeV',\n",
    "                         y_unit='1/(cm2 keV s)',\n",
    "                         ene_min=1.E-1,\n",
    "                         ene_max=4E1,\n",
    "                         loc='upper right',\n",
    "                         lw=.5,\n",
    "                         ls='--')"
   ]
  },
  {
   "cell_type": "code",
   "execution_count": 42,
   "metadata": {
    "collapsed": false
   },
   "outputs": [
    {
     "data": {
      "image/png": "[encoded data removed]",
      "text/plain": [
       "<matplotlib.figure.Figure at 0x11a5e3fd0>"
      ]
     },
     "metadata": {},
     "output_type": "display_data"
    }
   ],
   "source": [
    "fit_cmap = plt.cm.jet\n",
    "contour_cmap = plt.cm.Set3\n",
    "\n",
    "spec_plot_mle.plot_components(x_unit='keV',\n",
    "                         y_unit='erg2/(cm2 keV s)',\n",
    "                         ene_min=10,\n",
    "                         ene_max=1E4,\n",
    "                         loc='lower left',\n",
    "                         lw=.5,\n",
    "                         ls='-',\n",
    "                         fit_cmap=fit_cmap,\n",
    "                         contour_cmap=contour_cmap,\n",
    "                         contour_alpha=.6  )"
   ]
  },
  {
   "cell_type": "code",
   "execution_count": 49,
   "metadata": {
    "collapsed": false
   },
   "outputs": [
    {
     "name": "stdout",
     "output_type": "stream",
     "text": [
      "Running burn-in of 100 samples...\n",
      "\n",
      " [*********************100%***********************]  completed in 11.7 s\n",
      "\n",
      "Sampling...\n",
      "\n",
      " [**********************99%***********************]  497 / 500 in 55.6 s (0:00:00 remaining)\n",
      "Mean acceptance fraction: 0.5818\n"
     ]
    },
    {
     "data": {
      "text/plain": [
       "OrderedDict([('bn090217206.spectrum.main.composite.K_1',\n",
       "              array([  1.44518168e-06,   1.44518168e-06,   1.48216191e-06, ...,\n",
       "                       1.57960896e-06,   1.57960896e-06,   1.57960896e-06])),\n",
       "             ('bn090217206.spectrum.main.composite.kT_1',\n",
       "              array([ 80.00706193,  80.00706193,  79.96531886, ...,  80.59353867,\n",
       "                      80.59353867,  80.59353867])),\n",
       "             ('bn090217206.spectrum.main.composite.K_2',\n",
       "              array([ 6.68711158,  6.68711158,  6.59484287, ...,  7.46564542,\n",
       "                      7.46564542,  7.46564542])),\n",
       "             ('bn090217206.spectrum.main.composite.index_2',\n",
       "              array([-1.47993586, -1.47993586, -1.48221704, ..., -1.53113422,\n",
       "                     -1.53113422, -1.53113422]))])"
      ]
     },
     "execution_count": 49,
     "metadata": {},
     "output_type": "execute_result"
    }
   ],
   "source": [
    "comp_model.K_1.prior = Log_uniform_prior(lower_bound = 1E-7, upper_bound = 1E-5)\n",
    "comp_model.K_2.prior = Log_uniform_prior(lower_bound =1E-1,upper_bound = 1E2)\n",
    "comp_model.index_2.prior = Uniform_prior(lower_bound =-3,upper_bound = 3)\n",
    "comp_model.kT_1.prior = Log_uniform_prior(lower_bound =1E1,upper_bound = 1E4)\n",
    "\n",
    "bayes = BayesianAnalysis(model, data_list)\n",
    "\n",
    "res= bayes.sample(100,100,500)\n"
   ]
  },
  {
   "cell_type": "code",
   "execution_count": 50,
   "metadata": {
    "collapsed": true
   },
   "outputs": [],
   "source": [
    "bayes_plot = SpectralPlotter(bayes)"
   ]
  },
  {
   "cell_type": "code",
   "execution_count": 51,
   "metadata": {
    "collapsed": false
   },
   "outputs": [
    {
     "data": {
      "image/png": "[encoded data removed]",
      "text/plain": [
       "<matplotlib.figure.Figure at 0x119f47590>"
      ]
     },
     "metadata": {},
     "output_type": "display_data"
    }
   ],
   "source": [
    "bayes_plot.plot_model(x_unit='keV',\n",
    "                         y_unit='erg2/(cm2 keV s)',\n",
    "                         ene_min=10,\n",
    "                         ene_max=1E4,\n",
    "                         loc='lower left',\n",
    "                         lw=.5,\n",
    "                         ls='-',\n",
    "                         fit_cmap=fit_cmap,\n",
    "                         contour_cmap=contour_cmap,\n",
    "                         contour_alpha=.6)"
   ]
  },
  {
   "cell_type": "code",
   "execution_count": 55,
   "metadata": {
    "collapsed": false
   },
   "outputs": [
    {
     "data": {
      "text/plain": [
       "(1e-23, 1e-14)"
      ]
     },
     "execution_count": 55,
     "metadata": {},
     "output_type": "execute_result"
    },
    {
     "data": {
      "image/png": "[encoded data removed]",
      "text/plain": [
       "<matplotlib.figure.Figure at 0x11aa9ff10>"
      ]
     },
     "metadata": {},
     "output_type": "display_data"
    }
   ],
   "source": [
    "bayes_plot.plot_components(x_unit='keV',\n",
    "                           y_unit='erg2/(cm2 keV s)',\n",
    "                           ene_min=10,\n",
    "                           ene_max=1E4,\n",
    "                           lw=.5,\n",
    "                           ls='-',\n",
    "                           fit_cmap=fit_cmap,\n",
    "                           contour_alpha=.6,\n",
    "                           legend=False,\n",
    "                           thin=10)\n",
    "ylim(1E-23)"
   ]
  },
  {
   "cell_type": "code",
   "execution_count": null,
   "metadata": {
    "collapsed": true
   },
   "outputs": [],
   "source": []
  }
 ],
 "metadata": {
  "kernelspec": {
   "display_name": "Python 2",
   "language": "python",
   "name": "python2"
  },
  "language_info": {
   "codemirror_mode": {
    "name": "ipython",
    "version": 2
   },
   "file_extension": ".py",
   "mimetype": "text/x-python",
   "name": "python",
   "nbconvert_exporter": "python",
   "pygments_lexer": "ipython2",
   "version": "2.7.12+"
  }
 },
 "nbformat": 4,
 "nbformat_minor": 0
}
