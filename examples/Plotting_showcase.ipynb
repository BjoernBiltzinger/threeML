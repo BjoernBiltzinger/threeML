{
 "cells": [
  {
   "cell_type": "code",
   "execution_count": 2,
   "metadata": {
    "collapsed": false
   },
   "outputs": [],
   "source": [
    "%matplotlib inline\n",
    "from threeML import *"
   ]
  },
  {
   "cell_type": "code",
   "execution_count": 4,
   "metadata": {
    "collapsed": false
   },
   "outputs": [
    {
     "name": "stdout",
     "output_type": "stream",
     "text": [
      "Now using 117 channels out of 128\n",
      "Now using 115 channels out of 128\n",
      "Now using 88 channels out of 128\n"
     ]
    }
   ],
   "source": [
    "\n"
   ]
  },
  {
   "cell_type": "code",
   "execution_count": 13,
   "metadata": {
    "collapsed": false
   },
   "outputs": [
    {
     "name": "stdout",
     "output_type": "stream",
     "text": [
      "Best fit values:\n",
      "\n"
     ]
    },
    {
     "data": {
      "text/html": [
       "<table id=\"table4725828432\">\n",
       "<thead><tr><th>#</th><th>Name</th><th>Best fit value</th><th>Unit</th></tr></thead>\n",
       "<tr><td>0</td><td>bn090217206.spectrum.main.composite.K_1</td><td>0.0203 +/- 0.0005</td><td>1 / (cm2 keV s)</td></tr>\n",
       "<tr><td>1</td><td>bn090217206.spectrum.main.composite.alpha_1</td><td>-0.764 +/- 0.017</td><td></td></tr>\n",
       "<tr><td>2</td><td>bn090217206.spectrum.main.composite.xp_1</td><td>545.3 +/- 1.3</td><td>keV</td></tr>\n",
       "<tr><td>3</td><td>bn090217206.spectrum.main.composite.beta_1</td><td>-4.9 +/- 0.6</td><td></td></tr>\n",
       "<tr><td>4</td><td>bn090217206.spectrum.main.composite.K_2</td><td>(-1.6 +/- 0.5)e-06</td><td>1 / (cm2 keV3 s)</td></tr>\n",
       "<tr><td>5</td><td>bn090217206.spectrum.main.composite.kT_2</td><td>43.5 +/- 1.3</td><td>keV</td></tr>\n",
       "</table>"
      ],
      "text/plain": [
       " #                      Name                    ...       Unit      \n",
       "--- ------------------------------------------- ... ----------------\n",
       "  0     bn090217206.spectrum.main.composite.K_1 ...  1 / (cm2 keV s)\n",
       "  1 bn090217206.spectrum.main.composite.alpha_1 ...                 \n",
       "  2    bn090217206.spectrum.main.composite.xp_1 ...              keV\n",
       "  3  bn090217206.spectrum.main.composite.beta_1 ...                 \n",
       "  4     bn090217206.spectrum.main.composite.K_2 ... 1 / (cm2 keV3 s)\n",
       "  5    bn090217206.spectrum.main.composite.kT_2 ...              keV"
      ]
     },
     "metadata": {},
     "output_type": "display_data"
    },
    {
     "name": "stdout",
     "output_type": "stream",
     "text": [
      "\n",
      "NOTE: errors on parameters are approximate. Use get_errors().\n",
      "\n",
      "Nuisance parameters:\n",
      "\n"
     ]
    },
    {
     "data": {
      "text/html": [
       "<table id=\"table4711618320\">\n",
       "<thead><tr><th>Name</th><th>Value</th><th>Unit</th></tr></thead>\n",
       "<tr><td>InterCalib_of_NaI6</td><td>1</td><td></td></tr>\n",
       "<tr><td>InterCalib_of_NaI9</td><td>1</td><td></td></tr>\n",
       "<tr><td>InterCalib_of_BGO1</td><td>1</td><td></td></tr>\n",
       "</table>"
      ],
      "text/plain": [
       "       Name        Value Unit\n",
       "------------------ ----- ----\n",
       "InterCalib_of_NaI6     1     \n",
       "InterCalib_of_NaI9     1     \n",
       "InterCalib_of_BGO1     1     "
      ]
     },
     "metadata": {},
     "output_type": "display_data"
    },
    {
     "name": "stdout",
     "output_type": "stream",
     "text": [
      "\n",
      "Correlation matrix:\n",
      "\n"
     ]
    },
    {
     "data": {
      "text/html": [
       "<table id=\"table4725827536\">\n",
       "<tr><td>1.00</td><td>0.01</td><td>-0.09</td><td>-0.02</td><td>-0.86</td><td>0.10</td></tr>\n",
       "<tr><td>0.01</td><td>1.00</td><td>-0.07</td><td>-0.01</td><td>0.04</td><td>0.15</td></tr>\n",
       "<tr><td>-0.09</td><td>-0.07</td><td>1.00</td><td>-0.00</td><td>0.04</td><td>-0.00</td></tr>\n",
       "<tr><td>-0.02</td><td>-0.01</td><td>-0.00</td><td>1.00</td><td>0.01</td><td>-0.00</td></tr>\n",
       "<tr><td>-0.86</td><td>0.04</td><td>0.04</td><td>0.01</td><td>1.00</td><td>0.21</td></tr>\n",
       "<tr><td>0.10</td><td>0.15</td><td>-0.00</td><td>-0.00</td><td>0.21</td><td>1.00</td></tr>\n",
       "</table>"
      ],
      "text/plain": [
       " 1.00  0.01 -0.09 -0.02 -0.86  0.10\n",
       " 0.01  1.00 -0.07 -0.01  0.04  0.15\n",
       "-0.09 -0.07  1.00 -0.00  0.04 -0.00\n",
       "-0.02 -0.01 -0.00  1.00  0.01 -0.00\n",
       "-0.86  0.04  0.04  0.01  1.00  0.21\n",
       " 0.10  0.15 -0.00 -0.00  0.21  1.00"
      ]
     },
     "metadata": {},
     "output_type": "display_data"
    },
    {
     "name": "stdout",
     "output_type": "stream",
     "text": [
      "\n",
      "Values of -log(likelihood) at the minimum:\n",
      "\n"
     ]
    },
    {
     "data": {
      "text/html": [
       "<div>\n",
       "<table border=\"1\" class=\"dataframe\">\n",
       "  <thead>\n",
       "    <tr style=\"text-align: right;\">\n",
       "      <th></th>\n",
       "      <th>instrument</th>\n",
       "      <th>-log(likelihood)</th>\n",
       "    </tr>\n",
       "  </thead>\n",
       "  <tbody>\n",
       "    <tr>\n",
       "      <th>0</th>\n",
       "      <td>all</td>\n",
       "      <td>2133.473418</td>\n",
       "    </tr>\n",
       "    <tr>\n",
       "      <th>1</th>\n",
       "      <td>NaI6</td>\n",
       "      <td>824.437418</td>\n",
       "    </tr>\n",
       "    <tr>\n",
       "      <th>2</th>\n",
       "      <td>NaI9</td>\n",
       "      <td>732.527145</td>\n",
       "    </tr>\n",
       "    <tr>\n",
       "      <th>3</th>\n",
       "      <td>BGO1</td>\n",
       "      <td>576.508856</td>\n",
       "    </tr>\n",
       "  </tbody>\n",
       "</table>\n",
       "</div>"
      ],
      "text/plain": [
       "  instrument  -log(likelihood)\n",
       "0        all       2133.473418\n",
       "1       NaI6        824.437418\n",
       "2       NaI9        732.527145\n",
       "3       BGO1        576.508856"
      ]
     },
     "metadata": {},
     "output_type": "display_data"
    }
   ],
   "source": [
    "#Let's use a Band model, a phenomenological model typically used for GRBs\n",
    "band = Band()\n",
    "\n",
    "bb  = Blackbody()\n",
    "\n",
    "comp_model = band+bb\n",
    "\n",
    "\n",
    "comp_model.K_2=1E-5\n",
    "\n",
    "GRB = PointSource( triggerName, ra, dec, comp_model )\n",
    "\n",
    "\n",
    "model = Model( GRB )\n",
    "\n",
    "jl = JointLikelihood( model, data_list )\n",
    "\n",
    "res = jl.fit()"
   ]
  },
  {
   "cell_type": "code",
   "execution_count": 16,
   "metadata": {
    "collapsed": false
   },
   "outputs": [
    {
     "data": {
      "image/png": "[encoded data removed]",
      "text/plain": [
       "<matplotlib.figure.Figure at 0x11a265810>"
      ]
     },
     "metadata": {},
     "output_type": "display_data"
    }
   ],
   "source": [
    "spec_plot_mle = SpectralPlotter(jl)\n",
    "spec_plot_mle.plot_model(x_unit='keV',\n",
    "                         y_unit='erg2/(cm2 keV s)',\n",
    "                         ene_min=10.,\n",
    "                         ene_max=1E4,\n",
    "                         loc='lower left',\n",
    "                         lw=.5,\n",
    "                         ls='-')"
   ]
  },
  {
   "cell_type": "code",
   "execution_count": null,
   "metadata": {
    "collapsed": true
   },
   "outputs": [],
   "source": [
    "spec_plot_mle = SpectralPlotter(jl)\n",
    "spec_plot_mle.plot_model(x_unit='keV',\n",
    "                         y_unit='erg2/(cm2 keV s)',\n",
    "                         ene_min=10.,\n",
    "                         ene_max=1E4,\n",
    "                         loc='lower left',\n",
    "                         lw=.5,\n",
    "                         ls='-')"
   ]
  }
 ],
 "metadata": {
  "kernelspec": {
   "display_name": "Python 2",
   "language": "python",
   "name": "python2"
  },
  "language_info": {
   "codemirror_mode": {
    "name": "ipython",
    "version": 2
   },
   "file_extension": ".py",
   "mimetype": "text/x-python",
   "name": "python",
   "nbconvert_exporter": "python",
   "pygments_lexer": "ipython2",
   "version": "2.7.11"
  },
  "widgets": {
   "state": {},
   "version": "1.1.2"
  }
 },
 "nbformat": 4,
 "nbformat_minor": 0
}
