{
 "cells": [
  {
   "cell_type": "markdown",
   "metadata": {},
   "source": [
    "# Using Spectral Fits to Calculate Fluxes\n",
    "\n",
    "3ML provides a module to calculate the integral flux from a spectral fit and additionally uses the covariance matrix or posteror to calculate the error in the flux value for the integration range selected\n"
   ]
  },
  {
   "cell_type": "code",
   "execution_count": 1,
   "metadata": {
    "collapsed": false
   },
   "outputs": [
    {
     "name": "stdout",
     "output_type": "stream",
     "text": [
      "Populating the interactive namespace from numpy and matplotlib\n",
      "Configuration read from /Users/jburgess/.threeML/threeML_config.yml\n"
     ]
    }
   ],
   "source": [
    "%pylab inline\n",
    "\n",
    "from threeML import *\n"
   ]
  },
  {
   "cell_type": "markdown",
   "metadata": {},
   "source": [
    "## Data setup\n",
    "\n",
    "Using GRB 080916C as an example, we will fit two models to the time-integrated spectrum to demostrate the flux calculations capabilites."
   ]
  },
  {
   "cell_type": "code",
   "execution_count": 2,
   "metadata": {
    "collapsed": false
   },
   "outputs": [
    {
     "name": "stderr",
     "output_type": "stream",
     "text": [
      "\n",
      "WARNING UserWarning: No TLMIN keyword found. This DRM does not follow OGIP standards. Assuming TLMIN=1\n",
      "\n",
      "\n",
      "WARNING RuntimeWarning: Maximum MC energy is smaller than maximum EBOUNDS energy\n",
      "\n",
      "\n",
      "WARNING RuntimeWarning: Maximum MC energy is smaller than maximum EBOUNDS energy\n",
      "\n",
      "\n",
      "WARNING RuntimeWarning: Maximum MC energy is smaller than maximum EBOUNDS energy\n",
      "\n",
      "\n",
      "WARNING RuntimeWarning: Maximum MC energy is smaller than maximum EBOUNDS energy\n",
      "\n",
      "\n",
      "WARNING RuntimeWarning: Maximum MC energy is smaller than maximum EBOUNDS energy\n",
      "\n",
      "\n",
      "WARNING RuntimeWarning: Minimum MC energy is larger than minimum EBOUNDS energy\n",
      "\n",
      "\n",
      "WARNING RuntimeWarning: Maximum MC energy is smaller than maximum EBOUNDS energy\n",
      "\n",
      "\n",
      "WARNING RuntimeWarning: Minimum MC energy is larger than minimum EBOUNDS energy\n",
      "\n",
      "\n",
      "WARNING RuntimeWarning: Maximum MC energy is smaller than maximum EBOUNDS energy\n",
      "\n",
      "\n",
      "WARNING RuntimeWarning: Minimum MC energy is larger than minimum EBOUNDS energy\n",
      "\n",
      "\n",
      "WARNING RuntimeWarning: Maximum MC energy is smaller than maximum EBOUNDS energy\n",
      "\n",
      "\n",
      "WARNING RuntimeWarning: Minimum MC energy is larger than minimum EBOUNDS energy\n",
      "\n"
     ]
    }
   ],
   "source": [
    "# os.path.join is a way to generate system-independent\n",
    "# paths (good for unix, windows, Mac...)\n",
    "data_dir = os.path.join('gbm','bn080916009')\n",
    "trigger_number = 'bn080916009'\n",
    "\n",
    "# Download the data\n",
    "\n",
    "data_dir_gbm = os.path.join('gbm',trigger_number)\n",
    "gbm_data = download_GBM_trigger_data(trigger_number,detectors=['n3','b0'],destination_directory=data_dir_gbm,compress_tte=True)\n",
    "\n",
    "\n",
    "src_selection = '0-71'\n",
    "\n",
    "nai3 = FermiGBMTTELike('NAI3',\n",
    "                        os.path.join(data_dir, \"glg_tte_n3_bn080916009_v01.fit.gz\"),\n",
    "                        \"-10-0,100-200\",\n",
    "                        src_selection,\n",
    "                        rsp_file=os.path.join(data_dir, \"glg_cspec_n3_bn080916009_v00.rsp2\"),\n",
    "                        verbose=False)\n",
    "\n",
    "bgo0 = FermiGBMTTELike('BGO0',\n",
    "                       os.path.join(data_dir, \"glg_tte_b0_bn080916009_v01.fit.gz\"),\n",
    "                       \"-10-0,100-200\",\n",
    "                       src_selection,\n",
    "                       rsp_file=os.path.join(data_dir, \"glg_cspec_b0_bn080916009_v00.rsp2\"),\n",
    "                       verbose=False)\n",
    "\n",
    "\n",
    "nai3.set_active_measurements(\"8.0-30.0\", \"40.0-950.0\")\n",
    "bgo0.set_active_measurements(\"250-43000\")\n"
   ]
  },
  {
   "cell_type": "markdown",
   "metadata": {},
   "source": [
    "## Model setup\n",
    "\n",
    "We will fit two models: a Band function and a CPL+Blackbody\n"
   ]
  },
  {
   "cell_type": "code",
   "execution_count": 3,
   "metadata": {
    "collapsed": false,
    "scrolled": false
   },
   "outputs": [],
   "source": [
    "triggerName = 'bn080916009'\n",
    "ra = 121.8\n",
    "dec = -61.3\n",
    "\n",
    "\n",
    "data_list = DataList(nai3,bgo0 )\n",
    "\n",
    "band = Band()\n",
    "\n",
    "\n",
    "GRB1 = PointSource( triggerName, ra, dec, spectral_shape=band )\n",
    "\n",
    "model1 = Model( GRB1 )\n",
    "\n",
    "\n",
    "pl_bb= Powerlaw() + Blackbody()\n",
    "\n",
    "\n",
    "GRB2 = PointSource( triggerName, ra, dec, spectral_shape=pl_bb )\n",
    "\n",
    "model2 = Model( GRB2 )\n",
    "\n",
    "\n"
   ]
  },
  {
   "cell_type": "markdown",
   "metadata": {},
   "source": [
    "## Fitting"
   ]
  },
  {
   "cell_type": "markdown",
   "metadata": {},
   "source": [
    "### MLE \n",
    "\n",
    "We fit both models using MLE"
   ]
  },
  {
   "cell_type": "code",
   "execution_count": 4,
   "metadata": {
    "collapsed": false
   },
   "outputs": [
    {
     "name": "stdout",
     "output_type": "stream",
     "text": [
      "Best fit values:\n",
      "\n"
     ]
    },
    {
     "data": {
      "text/html": [
       "<div>\n",
       "<table border=\"1\" class=\"dataframe\">\n",
       "  <thead>\n",
       "    <tr style=\"text-align: right;\">\n",
       "      <th></th>\n",
       "      <th>Best fit value</th>\n",
       "      <th>Unit</th>\n",
       "    </tr>\n",
       "  </thead>\n",
       "  <tbody>\n",
       "    <tr>\n",
       "      <th>bn080916009.spectrum.main.Band.K</th>\n",
       "      <td>0.0149 +/- 0.0010</td>\n",
       "      <td>1 / (cm2 keV s)</td>\n",
       "    </tr>\n",
       "    <tr>\n",
       "      <th>bn080916009.spectrum.main.Band.alpha</th>\n",
       "      <td>-1.07 +/- 0.05</td>\n",
       "      <td></td>\n",
       "    </tr>\n",
       "    <tr>\n",
       "      <th>bn080916009.spectrum.main.Band.beta</th>\n",
       "      <td>-2.05 +/- 0.12</td>\n",
       "      <td></td>\n",
       "    </tr>\n",
       "    <tr>\n",
       "      <th>bn080916009.spectrum.main.Band.xp</th>\n",
       "      <td>(5.0 +/- 1.0)e+02</td>\n",
       "      <td>keV</td>\n",
       "    </tr>\n",
       "  </tbody>\n",
       "</table>\n",
       "</div>"
      ],
      "text/plain": [
       "                                         Best fit value             Unit\n",
       "bn080916009.spectrum.main.Band.K      0.0149 +/- 0.0010  1 / (cm2 keV s)\n",
       "bn080916009.spectrum.main.Band.alpha     -1.07 +/- 0.05                 \n",
       "bn080916009.spectrum.main.Band.beta      -2.05 +/- 0.12                 \n",
       "bn080916009.spectrum.main.Band.xp     (5.0 +/- 1.0)e+02              keV"
      ]
     },
     "metadata": {},
     "output_type": "display_data"
    },
    {
     "name": "stdout",
     "output_type": "stream",
     "text": [
      "\n",
      "NOTE: errors on parameters are approximate. Use get_errors().\n",
      "\n",
      "\n",
      "Correlation matrix:\n",
      "\n"
     ]
    },
    {
     "data": {
      "text/html": [
       "<table id=\"table4569438672\">\n",
       "<tr><td>1.00</td><td>0.93</td><td>-0.97</td><td>0.56</td></tr>\n",
       "<tr><td>0.93</td><td>1.00</td><td>-0.90</td><td>0.49</td></tr>\n",
       "<tr><td>-0.97</td><td>-0.90</td><td>1.00</td><td>-0.65</td></tr>\n",
       "<tr><td>0.56</td><td>0.49</td><td>-0.65</td><td>1.00</td></tr>\n",
       "</table>"
      ],
      "text/plain": [
       " 1.00  0.93 -0.97  0.56\n",
       " 0.93  1.00 -0.90  0.49\n",
       "-0.97 -0.90  1.00 -0.65\n",
       " 0.56  0.49 -0.65  1.00"
      ]
     },
     "metadata": {},
     "output_type": "display_data"
    },
    {
     "name": "stdout",
     "output_type": "stream",
     "text": [
      "\n",
      "Values of -log(likelihood) at the minimum:\n",
      "\n"
     ]
    },
    {
     "data": {
      "text/html": [
       "<div>\n",
       "<table border=\"1\" class=\"dataframe\">\n",
       "  <thead>\n",
       "    <tr style=\"text-align: right;\">\n",
       "      <th></th>\n",
       "      <th>-log(likelihood)</th>\n",
       "    </tr>\n",
       "  </thead>\n",
       "  <tbody>\n",
       "    <tr>\n",
       "      <th>total</th>\n",
       "      <td>2289.52224</td>\n",
       "    </tr>\n",
       "    <tr>\n",
       "      <th>NAI3</th>\n",
       "      <td>1091.76611</td>\n",
       "    </tr>\n",
       "    <tr>\n",
       "      <th>BGO0</th>\n",
       "      <td>1197.75613</td>\n",
       "    </tr>\n",
       "  </tbody>\n",
       "</table>\n",
       "</div>"
      ],
      "text/plain": [
       "       -log(likelihood)\n",
       "total        2289.52224\n",
       "NAI3         1091.76611\n",
       "BGO0         1197.75613"
      ]
     },
     "metadata": {},
     "output_type": "display_data"
    },
    {
     "name": "stdout",
     "output_type": "stream",
     "text": [
      "Best fit values:\n",
      "\n"
     ]
    },
    {
     "data": {
      "text/html": [
       "<div>\n",
       "<table border=\"1\" class=\"dataframe\">\n",
       "  <thead>\n",
       "    <tr style=\"text-align: right;\">\n",
       "      <th></th>\n",
       "      <th>Best fit value</th>\n",
       "      <th>Unit</th>\n",
       "    </tr>\n",
       "  </thead>\n",
       "  <tbody>\n",
       "    <tr>\n",
       "      <th>bn080916009...index_1</th>\n",
       "      <td>-1.553 +/- 0.017</td>\n",
       "      <td></td>\n",
       "    </tr>\n",
       "    <tr>\n",
       "      <th>bn080916009.spectrum.main.composite.K_1</th>\n",
       "      <td>8.1 +/- 0.6</td>\n",
       "      <td>1 / (cm2 keV s)</td>\n",
       "    </tr>\n",
       "    <tr>\n",
       "      <th>bn080916009.spectrum.main.composite.K_2</th>\n",
       "      <td>(6.4 +/- 0.9)e-06</td>\n",
       "      <td>1 / (cm2 keV3 s)</td>\n",
       "    </tr>\n",
       "    <tr>\n",
       "      <th>bn080916009.spectrum.main.composite.kT_2</th>\n",
       "      <td>44.4 +/- 1.9</td>\n",
       "      <td>keV</td>\n",
       "    </tr>\n",
       "  </tbody>\n",
       "</table>\n",
       "</div>"
      ],
      "text/plain": [
       "                                             Best fit value              Unit\n",
       "bn080916009...index_1                      -1.553 +/- 0.017                  \n",
       "bn080916009.spectrum.main.composite.K_1         8.1 +/- 0.6   1 / (cm2 keV s)\n",
       "bn080916009.spectrum.main.composite.K_2   (6.4 +/- 0.9)e-06  1 / (cm2 keV3 s)\n",
       "bn080916009.spectrum.main.composite.kT_2       44.4 +/- 1.9               keV"
      ]
     },
     "metadata": {},
     "output_type": "display_data"
    },
    {
     "name": "stdout",
     "output_type": "stream",
     "text": [
      "\n",
      "NOTE: errors on parameters are approximate. Use get_errors().\n",
      "\n",
      "\n",
      "Correlation matrix:\n",
      "\n"
     ]
    },
    {
     "data": {
      "text/html": [
       "<table id=\"table4632122256\">\n",
       "<tr><td>1.00</td><td>-0.89</td><td>-0.35</td><td>0.39</td></tr>\n",
       "<tr><td>-0.89</td><td>1.00</td><td>0.22</td><td>-0.40</td></tr>\n",
       "<tr><td>-0.35</td><td>0.22</td><td>1.00</td><td>-0.91</td></tr>\n",
       "<tr><td>0.39</td><td>-0.40</td><td>-0.91</td><td>1.00</td></tr>\n",
       "</table>"
      ],
      "text/plain": [
       " 1.00 -0.89 -0.35  0.39\n",
       "-0.89  1.00  0.22 -0.40\n",
       "-0.35  0.22  1.00 -0.91\n",
       " 0.39 -0.40 -0.91  1.00"
      ]
     },
     "metadata": {},
     "output_type": "display_data"
    },
    {
     "name": "stdout",
     "output_type": "stream",
     "text": [
      "\n",
      "Values of -log(likelihood) at the minimum:\n",
      "\n"
     ]
    },
    {
     "data": {
      "text/html": [
       "<div>\n",
       "<table border=\"1\" class=\"dataframe\">\n",
       "  <thead>\n",
       "    <tr style=\"text-align: right;\">\n",
       "      <th></th>\n",
       "      <th>-log(likelihood)</th>\n",
       "    </tr>\n",
       "  </thead>\n",
       "  <tbody>\n",
       "    <tr>\n",
       "      <th>total</th>\n",
       "      <td>2309.676061</td>\n",
       "    </tr>\n",
       "    <tr>\n",
       "      <th>NAI3</th>\n",
       "      <td>1098.221058</td>\n",
       "    </tr>\n",
       "    <tr>\n",
       "      <th>BGO0</th>\n",
       "      <td>1211.455003</td>\n",
       "    </tr>\n",
       "  </tbody>\n",
       "</table>\n",
       "</div>"
      ],
      "text/plain": [
       "       -log(likelihood)\n",
       "total       2309.676061\n",
       "NAI3        1098.221058\n",
       "BGO0        1211.455003"
      ]
     },
     "metadata": {},
     "output_type": "display_data"
    }
   ],
   "source": [
    "jl1 = JointLikelihood( model1, data_list, verbose=False )\n",
    "\n",
    "res = jl1.fit()\n",
    "\n",
    "\n",
    "\n",
    "jl2 = JointLikelihood( model2, data_list, verbose=False )\n",
    "\n",
    "res = jl2.fit()\n"
   ]
  },
  {
   "cell_type": "markdown",
   "metadata": {},
   "source": [
    "### Flux caluclation\n",
    "\n",
    "#### Total flux\n",
    "\n",
    "The **JointLikelihood** objects are passed to the **SpectralFlux** class.\n",
    "Then either **model_flux** or **component_flux** are called depending on the flux desired.\n",
    "\n",
    "The astropy system of units is used to specfiy flux units and an error is raised if the user selects an improper unit. The integration range is specified and the unit for this range can be altered.\n",
    "\n"
   ]
  },
  {
   "cell_type": "code",
   "execution_count": 5,
   "metadata": {
    "collapsed": false
   },
   "outputs": [
    {
     "data": {
      "text/html": [
       "<div>\n",
       "<table border=\"1\" class=\"dataframe\">\n",
       "  <thead>\n",
       "    <tr style=\"text-align: right;\">\n",
       "      <th></th>\n",
       "      <th>flux</th>\n",
       "      <th>error</th>\n",
       "    </tr>\n",
       "  </thead>\n",
       "  <tbody>\n",
       "    <tr>\n",
       "      <th>bn080916009: total</th>\n",
       "      <td>2.3940884793e-06 erg / (cm2 s)</td>\n",
       "      <td>3.19122698073e-07 erg / (cm2 s)</td>\n",
       "    </tr>\n",
       "    <tr>\n",
       "      <th>bn080916009_2: total</th>\n",
       "      <td>3.48977700089e-06 erg / (cm2 s)</td>\n",
       "      <td>2.94755574958e-07 erg / (cm2 s)</td>\n",
       "    </tr>\n",
       "  </tbody>\n",
       "</table>\n",
       "</div>"
      ],
      "text/plain": [
       "                                                 flux  \\\n",
       "bn080916009: total     2.3940884793e-06 erg / (cm2 s)   \n",
       "bn080916009_2: total  3.48977700089e-06 erg / (cm2 s)   \n",
       "\n",
       "                                                error  \n",
       "bn080916009: total    3.19122698073e-07 erg / (cm2 s)  \n",
       "bn080916009_2: total  2.94755574958e-07 erg / (cm2 s)  "
      ]
     },
     "metadata": {},
     "output_type": "display_data"
    }
   ],
   "source": [
    "\n",
    "res = calculate_point_source_flux(10,40000,jl1,jl2,flux_unit='erg/(s cm2)',energy_unit='keV')\n"
   ]
  },
  {
   "cell_type": "markdown",
   "metadata": {},
   "source": [
    "A panadas DataFrame is returned with the sources (a fitting object can have multiple sources) flux, and flux error.\n",
    "\n",
    "We can also change to photon fluxes by specifying the proper flux unit (here we changed to m^2). Here, the integration unit is also changed."
   ]
  },
  {
   "cell_type": "code",
   "execution_count": 6,
   "metadata": {
    "collapsed": false
   },
   "outputs": [
    {
     "data": {
      "text/html": [
       "<div>\n",
       "<table border=\"1\" class=\"dataframe\">\n",
       "  <thead>\n",
       "    <tr style=\"text-align: right;\">\n",
       "      <th></th>\n",
       "      <th>flux</th>\n",
       "      <th>error</th>\n",
       "    </tr>\n",
       "  </thead>\n",
       "  <tbody>\n",
       "    <tr>\n",
       "      <th>bn080916009: total</th>\n",
       "      <td>193.878502885 1 / (cm2 s)</td>\n",
       "      <td>441.59647488 1 / (cm2 s)</td>\n",
       "    </tr>\n",
       "    <tr>\n",
       "      <th>bn080916009_2: total</th>\n",
       "      <td>16622667554.4 1 / (cm2 s)</td>\n",
       "      <td>16831396018.1 1 / (cm2 s)</td>\n",
       "    </tr>\n",
       "  </tbody>\n",
       "</table>\n",
       "</div>"
      ],
      "text/plain": [
       "                                           flux                      error\n",
       "bn080916009: total    193.878502885 1 / (cm2 s)   441.59647488 1 / (cm2 s)\n",
       "bn080916009_2: total  16622667554.4 1 / (cm2 s)  16831396018.1 1 / (cm2 s)"
      ]
     },
     "metadata": {},
     "output_type": "display_data"
    }
   ],
   "source": [
    "res = calculate_point_source_flux(10,40000,jl1,jl2,flux_unit='1/(s cm2)',energy_unit='Hz')\n",
    "\n"
   ]
  },
  {
   "cell_type": "markdown",
   "metadata": {},
   "source": [
    "#### Components\n",
    "\n",
    "If we want to look at component fluxes, we examine our second fit. \n",
    "\n",
    "We can first look at the total flux:\n"
   ]
  },
  {
   "cell_type": "code",
   "execution_count": 7,
   "metadata": {
    "collapsed": false
   },
   "outputs": [
    {
     "data": {
      "text/html": [
       "<div>\n",
       "<table border=\"1\" class=\"dataframe\">\n",
       "  <thead>\n",
       "    <tr style=\"text-align: right;\">\n",
       "      <th></th>\n",
       "      <th>flux</th>\n",
       "      <th>error</th>\n",
       "    </tr>\n",
       "  </thead>\n",
       "  <tbody>\n",
       "    <tr>\n",
       "      <th>bn080916009: total</th>\n",
       "      <td>2.3940884793e-06 erg / (cm2 s)</td>\n",
       "      <td>3.19122698073e-07 erg / (cm2 s)</td>\n",
       "    </tr>\n",
       "    <tr>\n",
       "      <th>bn080916009_2: Blackbody</th>\n",
       "      <td>2.57522885973e-07 erg / (cm2 s)</td>\n",
       "      <td>1.88285626851e-08 erg / (cm2 s)</td>\n",
       "    </tr>\n",
       "    <tr>\n",
       "      <th>bn080916009_2: Powerlaw</th>\n",
       "      <td>3.23225411492e-06 erg / (cm2 s)</td>\n",
       "      <td>3.06857084505e-07 erg / (cm2 s)</td>\n",
       "    </tr>\n",
       "  </tbody>\n",
       "</table>\n",
       "</div>"
      ],
      "text/plain": [
       "                                                     flux  \\\n",
       "bn080916009: total         2.3940884793e-06 erg / (cm2 s)   \n",
       "bn080916009_2: Blackbody  2.57522885973e-07 erg / (cm2 s)   \n",
       "bn080916009_2: Powerlaw   3.23225411492e-06 erg / (cm2 s)   \n",
       "\n",
       "                                                    error  \n",
       "bn080916009: total        3.19122698073e-07 erg / (cm2 s)  \n",
       "bn080916009_2: Blackbody  1.88285626851e-08 erg / (cm2 s)  \n",
       "bn080916009_2: Powerlaw   3.06857084505e-07 erg / (cm2 s)  "
      ]
     },
     "metadata": {},
     "output_type": "display_data"
    }
   ],
   "source": [
    "res = calculate_point_source_flux(10,40000,jl1,jl2,flux_unit='erg/(s cm2)',energy_unit='keV',use_components=True)\n",
    "\n"
   ]
  },
  {
   "cell_type": "markdown",
   "metadata": {},
   "source": [
    "Then we can look at our component fluxes. The class automatically solves the error propagation equations to properly propagate the parameter errors into the components"
   ]
  },
  {
   "cell_type": "code",
   "execution_count": 8,
   "metadata": {
    "collapsed": false
   },
   "outputs": [
    {
     "data": {
      "text/html": [
       "<div>\n",
       "<table border=\"1\" class=\"dataframe\">\n",
       "  <thead>\n",
       "    <tr style=\"text-align: right;\">\n",
       "      <th></th>\n",
       "      <th>flux</th>\n",
       "      <th>error</th>\n",
       "    </tr>\n",
       "  </thead>\n",
       "  <tbody>\n",
       "    <tr>\n",
       "      <th>bn080916009: total</th>\n",
       "      <td>2.3940884793e-06 erg / (cm2 s)</td>\n",
       "      <td>3.19122698073e-07 erg / (cm2 s)</td>\n",
       "    </tr>\n",
       "    <tr>\n",
       "      <th>bn080916009_2: Blackbody</th>\n",
       "      <td>2.57522885973e-07 erg / (cm2 s)</td>\n",
       "      <td>1.88285626851e-08 erg / (cm2 s)</td>\n",
       "    </tr>\n",
       "    <tr>\n",
       "      <th>bn080916009_2: total</th>\n",
       "      <td>3.48977700089e-06 erg / (cm2 s)</td>\n",
       "      <td>2.94755574958e-07 erg / (cm2 s)</td>\n",
       "    </tr>\n",
       "  </tbody>\n",
       "</table>\n",
       "</div>"
      ],
      "text/plain": [
       "                                                     flux  \\\n",
       "bn080916009: total         2.3940884793e-06 erg / (cm2 s)   \n",
       "bn080916009_2: Blackbody  2.57522885973e-07 erg / (cm2 s)   \n",
       "bn080916009_2: total      3.48977700089e-06 erg / (cm2 s)   \n",
       "\n",
       "                                                    error  \n",
       "bn080916009: total        3.19122698073e-07 erg / (cm2 s)  \n",
       "bn080916009_2: Blackbody  1.88285626851e-08 erg / (cm2 s)  \n",
       "bn080916009_2: total      2.94755574958e-07 erg / (cm2 s)  "
      ]
     },
     "metadata": {},
     "output_type": "display_data"
    }
   ],
   "source": [
    "res = calculate_point_source_flux(10,40000,jl1,jl2,flux_unit='erg/(s cm2)',\n",
    "                                  energy_unit='keV',\n",
    "                                  use_components=True, components_to_use=['Blackbody','total'])"
   ]
  },
  {
   "cell_type": "markdown",
   "metadata": {},
   "source": [
    "A dictionary of sources is return that contains pandas DataFrames listing the fluxes and errors of each componenet. \n",
    "\n",
    "**NOTE**: *With proper error propagation, the total error is not always the sqrt of the sum of component errors squared!*"
   ]
  },
  {
   "cell_type": "markdown",
   "metadata": {},
   "source": [
    "### Bayesian fitting\n",
    "\n",
    "Now we will look at the results when a Bayesian fit is performed. \n",
    "\n",
    "We set our priors and then sample:"
   ]
  },
  {
   "cell_type": "code",
   "execution_count": 9,
   "metadata": {
    "collapsed": true
   },
   "outputs": [],
   "source": [
    "pl_bb.K_1.prior = Log_uniform_prior(lower_bound = 1E-1, upper_bound = 1E2)\n",
    "pl_bb.index_1.set_uninformative_prior(Uniform_prior)\n",
    "\n",
    "pl_bb.K_2.prior = Log_uniform_prior(lower_bound = 1E-6, upper_bound = 1E-3)\n",
    "pl_bb.kT_2.prior = Log_uniform_prior(lower_bound = 1E0, upper_bound = 1E4)\n",
    "\n"
   ]
  },
  {
   "cell_type": "code",
   "execution_count": 10,
   "metadata": {
    "collapsed": false
   },
   "outputs": [
    {
     "name": "stdout",
     "output_type": "stream",
     "text": [
      "Running burn-in of 100 samples...\n",
      "\n",
      "\n",
      "Sampling...\n",
      "\n",
      "\n",
      "Mean acceptance fraction: 0.586933333333\n"
     ]
    }
   ],
   "source": [
    "bayes = BayesianAnalysis(model2,data_list)\n",
    "_=bayes.sample(30,100,500)"
   ]
  },
  {
   "cell_type": "markdown",
   "metadata": {},
   "source": [
    "### Flux Calculation\n",
    "\n",
    "#### Total Flux\n",
    "\n",
    "Just as with MLE, we pass the **BayesianAnalysis** object to the **SpectralFlux** class.\n",
    "\n",
    "Now the propagation of fluxes is done using the posterior of the analysis."
   ]
  },
  {
   "cell_type": "code",
   "execution_count": 12,
   "metadata": {
    "collapsed": false
   },
   "outputs": [
    {
     "data": {
      "text/html": [
       "<div>\n",
       "<table border=\"1\" class=\"dataframe\">\n",
       "  <thead>\n",
       "    <tr style=\"text-align: right;\">\n",
       "      <th></th>\n",
       "      <th>flux</th>\n",
       "      <th>credible region</th>\n",
       "      <th>flux distribution</th>\n",
       "    </tr>\n",
       "  </thead>\n",
       "  <tbody>\n",
       "    <tr>\n",
       "      <th>bn080916009: total</th>\n",
       "      <td>3.18667335922e-06 erg / (cm2 s)</td>\n",
       "      <td>[2.9447159512e-06 erg / (cm2 s), 3.4813579592e...</td>\n",
       "      <td>[3.39367102424e-06 erg / (cm2 s), 3.5998202160...</td>\n",
       "    </tr>\n",
       "  </tbody>\n",
       "</table>\n",
       "</div>"
      ],
      "text/plain": [
       "                                               flux  \\\n",
       "bn080916009: total  3.18667335922e-06 erg / (cm2 s)   \n",
       "\n",
       "                                                      credible region  \\\n",
       "bn080916009: total  [2.9447159512e-06 erg / (cm2 s), 3.4813579592e...   \n",
       "\n",
       "                                                    flux distribution  \n",
       "bn080916009: total  [3.39367102424e-06 erg / (cm2 s), 3.5998202160...  "
      ]
     },
     "metadata": {},
     "output_type": "display_data"
    }
   ],
   "source": [
    "res = calculate_point_source_flux(10,40000,\n",
    "                                  bayes,\n",
    "                                  flux_unit='erg/(s cm2)',\n",
    "                                  energy_unit='keV')"
   ]
  },
  {
   "cell_type": "markdown",
   "metadata": {},
   "source": [
    "Once again, a DataFrame is returned. This time, it contains the mean flux from the distribution, the specfied level (default is 0.05) credible regions and the flux distribution itself. \n",
    "\n",
    "One can plot the distribtuion:"
   ]
  },
  {
   "cell_type": "code",
   "execution_count": 18,
   "metadata": {
    "collapsed": false
   },
   "outputs": [
    {
     "data": {
      "image/png": "[encoded data removed]",
      "text/plain": [
       "<matplotlib.figure.Figure at 0x113f10d90>"
      ]
     },
     "metadata": {},
     "output_type": "display_data"
    }
   ],
   "source": [
    "from astropy.visualization import quantity_support\n",
    "\n",
    "quantity_support()\n",
    "\n",
    "_=hist(res[0]['flux distribution'][0],bins=20)"
   ]
  },
  {
   "cell_type": "markdown",
   "metadata": {},
   "source": [
    "#### Components\n",
    "We can also look at components as before. A dictionary of sources is returned, each containing Dataframes of the components information and distributions.\n"
   ]
  },
  {
   "cell_type": "code",
   "execution_count": 19,
   "metadata": {
    "collapsed": false
   },
   "outputs": [
    {
     "data": {
      "text/html": [
       "<div>\n",
       "<table border=\"1\" class=\"dataframe\">\n",
       "  <thead>\n",
       "    <tr style=\"text-align: right;\">\n",
       "      <th></th>\n",
       "      <th>flux</th>\n",
       "      <th>credible region</th>\n",
       "      <th>flux distribution</th>\n",
       "    </tr>\n",
       "  </thead>\n",
       "  <tbody>\n",
       "    <tr>\n",
       "      <th>bn080916009: Blackbody</th>\n",
       "      <td>3.00238446749e-07 erg / (cm2 s)</td>\n",
       "      <td>[2.8252962943e-07 erg / (cm2 s), 3.23697805002...</td>\n",
       "      <td>[2.93050555509e-07 erg / (cm2 s), 2.8981600243...</td>\n",
       "    </tr>\n",
       "    <tr>\n",
       "      <th>bn080916009: Powerlaw</th>\n",
       "      <td>2.88643491247e-06 erg / (cm2 s)</td>\n",
       "      <td>[2.63384229093e-06 erg / (cm2 s), 3.1973404826...</td>\n",
       "      <td>[3.10062046873e-06 erg / (cm2 s), 3.3100042136...</td>\n",
       "    </tr>\n",
       "  </tbody>\n",
       "</table>\n",
       "</div>"
      ],
      "text/plain": [
       "                                                   flux  \\\n",
       "bn080916009: Blackbody  3.00238446749e-07 erg / (cm2 s)   \n",
       "bn080916009: Powerlaw   2.88643491247e-06 erg / (cm2 s)   \n",
       "\n",
       "                                                          credible region  \\\n",
       "bn080916009: Blackbody  [2.8252962943e-07 erg / (cm2 s), 3.23697805002...   \n",
       "bn080916009: Powerlaw   [2.63384229093e-06 erg / (cm2 s), 3.1973404826...   \n",
       "\n",
       "                                                        flux distribution  \n",
       "bn080916009: Blackbody  [2.93050555509e-07 erg / (cm2 s), 2.8981600243...  \n",
       "bn080916009: Powerlaw   [3.10062046873e-06 erg / (cm2 s), 3.3100042136...  "
      ]
     },
     "metadata": {},
     "output_type": "display_data"
    }
   ],
   "source": [
    "res = calculate_point_source_flux(10,40000,\n",
    "                                  bayes,\n",
    "                                  flux_unit='erg/(s cm2)',\n",
    "                                  energy_unit='keV',\n",
    "                                  use_components=True)"
   ]
  },
  {
   "cell_type": "markdown",
   "metadata": {},
   "source": [
    "We can easily now visulaize the flux distribtuions from the individual components."
   ]
  },
  {
   "cell_type": "code",
   "execution_count": 26,
   "metadata": {
    "collapsed": false
   },
   "outputs": [
    {
     "data": {
      "image/png": "[encoded data removed]",
      "text/plain": [
       "<matplotlib.figure.Figure at 0x118468390>"
      ]
     },
     "metadata": {},
     "output_type": "display_data"
    }
   ],
   "source": [
    "_=hist(log10(res[0]['flux distribution'][0].value),bins=20)\n",
    "_=hist(log10(res[0]['flux distribution'][1].value),bins=20)\n",
    "\n"
   ]
  },
  {
   "cell_type": "code",
   "execution_count": 27,
   "metadata": {
    "collapsed": false
   },
   "outputs": [
    {
     "name": "stdout",
     "output_type": "stream",
     "text": [
      "Removing: /Users/jburgess/coding/3ML/examples/gbm/bn080916009/glg_cspec_n3_bn080916009_v01.pha\n",
      "Removing: /Users/jburgess/coding/3ML/examples/gbm/bn080916009/glg_cspec_n3_bn080916009_v00.rsp2\n",
      "Removing: /Users/jburgess/coding/3ML/examples/gbm/bn080916009/glg_tte_n3_bn080916009_v01.fit.gz\n",
      "Removing: /Users/jburgess/coding/3ML/examples/gbm/bn080916009/glg_cspec_b0_bn080916009_v01.pha\n",
      "Removing: /Users/jburgess/coding/3ML/examples/gbm/bn080916009/glg_cspec_b0_bn080916009_v00.rsp2\n",
      "Removing: /Users/jburgess/coding/3ML/examples/gbm/bn080916009/glg_tte_b0_bn080916009_v01.fit.gz\n",
      "\n",
      "\n"
     ]
    }
   ],
   "source": [
    "cleanup_downloaded_GBM_data(gbm_data)"
   ]
  },
  {
   "cell_type": "code",
   "execution_count": null,
   "metadata": {
    "collapsed": true
   },
   "outputs": [],
   "source": []
  }
 ],
 "metadata": {
  "kernelspec": {
   "display_name": "Python 2",
   "language": "python",
   "name": "python2"
  },
  "language_info": {
   "codemirror_mode": {
    "name": "ipython",
    "version": 2
   },
   "file_extension": ".py",
   "mimetype": "text/x-python",
   "name": "python",
   "nbconvert_exporter": "python",
   "pygments_lexer": "ipython2",
   "version": "2.7.13"
  },
  "widgets": {
   "state": {
    "0c4b689696344c53b1438cb69b65f0a5": {
     "views": [
      {
       "cell_index": 3
      }
     ]
    },
    "0f73eef49582473d80e10f1d44161bcc": {
     "views": [
      {
       "cell_index": 3
      }
     ]
    },
    "1159b92c2b6146b1bdad34689c6c6ef7": {
     "views": [
      {
       "cell_index": 20
      }
     ]
    },
    "12024057cab24b10b779fec5fc14dd62": {
     "views": [
      {
       "cell_index": 3
      }
     ]
    },
    "1de55a737f604247a3fb36aa585eab30": {
     "views": [
      {
       "cell_index": 3
      }
     ]
    },
    "1f5dc2fb55a84fd18050cb9f47e9e9a2": {
     "views": [
      {
       "cell_index": 3
      }
     ]
    },
    "2a828783a31543949de9873bdda76957": {
     "views": [
      {
       "cell_index": 20
      }
     ]
    },
    "2d5c75d94d834b8792eb0441aef9346b": {
     "views": [
      {
       "cell_index": 3
      }
     ]
    },
    "30236a17cf254fca881034d36fec1dd3": {
     "views": [
      {
       "cell_index": 3
      }
     ]
    },
    "310e1073595544abaccfdcdca11fd5b3": {
     "views": [
      {
       "cell_index": 3
      }
     ]
    },
    "399d63f345584298bcdece98160bf176": {
     "views": [
      {
       "cell_index": 3
      }
     ]
    },
    "45bfb20a249445cf9740775238c8ee1a": {
     "views": [
      {
       "cell_index": 3
      }
     ]
    },
    "49d8a52125ba427f9f16dcab6e6bc2ce": {
     "views": [
      {
       "cell_index": 3
      }
     ]
    },
    "5020be1ed6d7459292874cd553cbae36": {
     "views": [
      {
       "cell_index": 3
      }
     ]
    },
    "5122cc6d312f42018cf3b0c410e90429": {
     "views": [
      {
       "cell_index": 3
      }
     ]
    },
    "65f6e86ef3fe41d1a409bb03180e494e": {
     "views": [
      {
       "cell_index": 3
      }
     ]
    },
    "6938da3ed28a46a8a9038985d5384aa2": {
     "views": [
      {
       "cell_index": 3
      }
     ]
    },
    "6ec57c6730a345809fed2049869a0947": {
     "views": [
      {
       "cell_index": 3
      }
     ]
    },
    "80a0136c672645e6bda1c582a2d35767": {
     "views": [
      {
       "cell_index": 20
      }
     ]
    },
    "8902b1735a2e4b998dfb503cfa7571c5": {
     "views": [
      {
       "cell_index": 3
      }
     ]
    },
    "8b626d74567a4eebb46e1f83db82974a": {
     "views": [
      {
       "cell_index": 3
      }
     ]
    },
    "94a685ea81e540fc8cfe98e1707f73a0": {
     "views": [
      {
       "cell_index": 3
      }
     ]
    },
    "983c3189da5a4dff929542b46f399ccb": {
     "views": [
      {
       "cell_index": 20
      }
     ]
    },
    "a6da49632a0d45879d658125b4eb4000": {
     "views": [
      {
       "cell_index": 3
      }
     ]
    },
    "b1ebbc7c8cda49e082813d38677b70fc": {
     "views": [
      {
       "cell_index": 3
      }
     ]
    },
    "b9af73bf3c784562bb8992816a93ddd1": {
     "views": [
      {
       "cell_index": 3
      }
     ]
    },
    "c505d7ced10c4e978d58367f4ec1678b": {
     "views": [
      {
       "cell_index": 3
      }
     ]
    },
    "f00673677f714b8b9ecd33605509514c": {
     "views": [
      {
       "cell_index": 3
      }
     ]
    },
    "f1265db2912f40bc81146fcbf80ea10f": {
     "views": [
      {
       "cell_index": 3
      }
     ]
    },
    "fa4f3f585963445195fde3362b88f422": {
     "views": [
      {
       "cell_index": 3
      }
     ]
    },
    "fae02a656d14478d8377194426f6275b": {
     "views": [
      {
       "cell_index": 3
      }
     ]
    }
   },
   "version": "1.2.0"
  }
 },
 "nbformat": 4,
 "nbformat_minor": 1
}
