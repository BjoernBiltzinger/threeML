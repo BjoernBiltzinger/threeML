{
 "metadata": {
  "name": "",
  "signature": "sha256:4876ab08ed869e1ef31bc95112a7d841f8b656cacdf033ccdcc68b994c325665"
 },
 "nbformat": 3,
 "nbformat_minor": 0,
 "worksheets": [
  {
   "cells": [
    {
     "cell_type": "code",
     "collapsed": false,
     "input": [
      "from threeML import *\n"
     ],
     "language": "python",
     "metadata": {},
     "outputs": [
      {
       "output_type": "stream",
       "stream": "stdout",
       "text": [
        "You don't have ROOT installed (or pyROOT configured). You cannot use the MINUIT minimizer.\n",
        "\n",
        "WARNING: Could not import plugin /usr/local/lib/python2.7/site-packages/threeML/plugins/FermiGBMLike.py. Do you have the relative instrument software installed and configured?"
       ]
      },
      {
       "output_type": "stream",
       "stream": "stdout",
       "text": [
        "\n",
        "\n",
        "WARNING: Could not import plugin /usr/local/lib/python2.7/site-packages/threeML/plugins/FermiLATLike.py. Do you have the relative instrument software installed and configured?\n",
        "\n",
        "WARNING: Could not import plugin /usr/local/lib/python2.7/site-packages/threeML/plugins/ogip.py. Do you have the relative instrument software installed and configured?\n"
       ]
      }
     ],
     "prompt_number": 1
    },
    {
     "cell_type": "code",
     "collapsed": false,
     "input": [
      "powerlaw1 = PowerLaw()\n",
      "ptsrc1 = PointSource(\"Source 1\",10.0,20.0,powerlaw1)\n",
      "\n",
      "powerlaw2 =\n",
      "ptsrc2 = PointSource(\"Source 2\",30.0,40.0,powerlaw2)"
     ],
     "language": "python",
     "metadata": {},
     "outputs": [
      {
       "ename": "SyntaxError",
       "evalue": "invalid syntax (<ipython-input-2-5a4332948884>, line 4)",
       "output_type": "pyerr",
       "traceback": [
        "\u001b[0;36m  File \u001b[0;32m\"<ipython-input-2-5a4332948884>\"\u001b[0;36m, line \u001b[0;32m4\u001b[0m\n\u001b[0;31m    powerlaw2 =\u001b[0m\n\u001b[0m               ^\u001b[0m\n\u001b[0;31mSyntaxError\u001b[0m\u001b[0;31m:\u001b[0m invalid syntax\n"
       ]
      }
     ],
     "prompt_number": 2
    },
    {
     "cell_type": "code",
     "collapsed": false,
     "input": [
      "doublePL = powerlaw1 * powerlaw2"
     ],
     "language": "python",
     "metadata": {},
     "outputs": [],
     "prompt_number": 14
    },
    {
     "cell_type": "code",
     "collapsed": false,
     "input": [
      "p = PowerLaw()\n",
      "co = ExponentialCutoff()"
     ],
     "language": "python",
     "metadata": {},
     "outputs": [],
     "prompt_number": 3
    },
    {
     "cell_type": "code",
     "collapsed": false,
     "input": [
      "cpl = p*co"
     ],
     "language": "python",
     "metadata": {},
     "outputs": [],
     "prompt_number": 4
    },
    {
     "cell_type": "code",
     "collapsed": false,
     "input": [
      "cpl"
     ],
     "language": "python",
     "metadata": {},
     "outputs": [
      {
       "output_type": "stream",
       "stream": "stdout",
       "text": [
        "Spectral model: ( Powerlaw * ExponentialCutoff )\n",
        "Formula:\n",
        "\n"
       ]
      },
      {
       "latex": [
        "(print the components by themselves to know their formulae)"
       ],
       "metadata": {},
       "output_type": "display_data",
       "text": [
        "<IPython.core.display.Latex at 0x10d52d9d0>"
       ]
      },
      {
       "output_type": "stream",
       "stream": "stdout",
       "text": [
        "\n",
        "Current parameters:\n",
        "\n"
       ]
      },
      {
       "metadata": {},
       "output_type": "display_data",
       "text": [
        "'<Table masked=False length=5>\\n  Name    Value  Minimum    Maximum     Delta   Status    Unit     Prior   \\nstring40 float64 float64    float64    float64 string40 string48  string80 \\n-------- ------- ------- ------------- ------- -------- -------- ----------\\n   gamma    -2.0   -10.0          10.0     0.1     free          UniformPri\\n       A     1.0   1e-10 10000000000.0    0.02     free          LogUniform\\n    Epiv     1.0   1e-10 10000000000.0     1.0    fixed          UniformPri\\n       A     1.0   1e-10 10000000000.0     0.1     free          LogUniform\\n   Efold   100.0     1.0     1000000.0     0.1     free          UniformPri'"
       ]
      },
      {
       "metadata": {},
       "output_type": "pyout",
       "prompt_number": 6,
       "text": []
      }
     ],
     "prompt_number": 6
    },
    {
     "cell_type": "code",
     "collapsed": false,
     "input": [
      "g.mu=1000\n",
      "g.sigma = 100"
     ],
     "language": "python",
     "metadata": {},
     "outputs": [],
     "prompt_number": 15
    },
    {
     "cell_type": "code",
     "collapsed": false,
     "input": [
      "g.display(fluxType='ph',logscale=False)\n",
      "#ylim(bottom=1E-1)"
     ],
     "language": "python",
     "metadata": {},
     "outputs": [
      {
       "metadata": {},
       "output_type": "display_data",
       "png": "[encoded data removed]",
       "text": [
        "<matplotlib.figure.Figure at 0x10ed843d0>"
       ]
      }
     ],
     "prompt_number": 16
    },
    {
     "cell_type": "code",
     "collapsed": false,
     "input": [
      "map(lambda x:len(x.name),p.parameters.values())"
     ],
     "language": "python",
     "metadata": {},
     "outputs": [
      {
       "metadata": {},
       "output_type": "pyout",
       "prompt_number": 9,
       "text": [
        "[5, 1, 4]"
       ]
      }
     ],
     "prompt_number": 9
    },
    {
     "cell_type": "code",
     "collapsed": false,
     "input": [
      "cpl.oneCall?"
     ],
     "language": "python",
     "metadata": {},
     "outputs": [
      {
       "output_type": "stream",
       "stream": "stdout",
       "text": [
        "Spectral model: ( Powerlaw * ExponentialCutoff )\n",
        "Formula:\n",
        "\n"
       ]
      },
      {
       "latex": [
        "(print the components by themselves to know their formulae)"
       ],
       "metadata": {},
       "output_type": "display_data",
       "text": [
        "<IPython.core.display.Latex at 0x10607ad10>"
       ]
      },
      {
       "output_type": "stream",
       "stream": "stdout",
       "text": [
        "\n",
        "Current parameters:\n",
        "\n"
       ]
      },
      {
       "html": [
        "<table>\n",
        "<tr><th>Name</th><th>Value</th><th>Minimum</th><th>Maximum</th><th>Delta</th><th>Status</th><th>Unit</th><th>Prior</th></tr>\n",
        "<tr><td>Efold</td><td>100.0</td><td>1.0</td><td>1000000.0</td><td>0.1</td><td>free</td><td></td><td>UniformPrior</td></tr>\n",
        "</table>"
       ],
       "metadata": {},
       "output_type": "display_data",
       "text": [
        "<IPython.core.display.HTML at 0x105f00590>"
       ]
      }
     ],
     "prompt_number": 15
    },
    {
     "cell_type": "code",
     "collapsed": false,
     "input": [
      "b.E0=100\n",
      "b.alpha = 0\n",
      "b.beta = -3\n",
      "b.display(10,1000)"
     ],
     "language": "python",
     "metadata": {},
     "outputs": [
      {
       "metadata": {},
       "output_type": "display_data",
       "png": "[encoded data removed]",
       "text": [
        "<matplotlib.figure.Figure at 0x10a64b290>"
       ]
      }
     ],
     "prompt_number": 11
    },
    {
     "cell_type": "code",
     "collapsed": false,
     "input": [
      "b.E0 = 300"
     ],
     "language": "python",
     "metadata": {},
     "outputs": [],
     "prompt_number": 14
    },
    {
     "cell_type": "code",
     "collapsed": false,
     "input": [
      "type(b.E0)"
     ],
     "language": "python",
     "metadata": {},
     "outputs": [
      {
       "metadata": {},
       "output_type": "pyout",
       "prompt_number": 16,
       "text": [
        "threeML.models.Parameter.Parameter"
       ]
      }
     ],
     "prompt_number": 16
    },
    {
     "cell_type": "code",
     "collapsed": false,
     "input": [],
     "language": "python",
     "metadata": {},
     "outputs": []
    },
    {
     "cell_type": "code",
     "collapsed": false,
     "input": [
      "powerlaw1.gamma"
     ],
     "language": "python",
     "metadata": {},
     "outputs": [
      {
       "metadata": {},
       "output_type": "pyout",
       "prompt_number": 4,
       "text": [
        "               gamma:         -2        -10         10        0.1 free "
       ]
      }
     ],
     "prompt_number": 4
    },
    {
     "cell_type": "code",
     "collapsed": false,
     "input": [
      "lm = LikelihoodModel(ptsrc1,ptsrc2)"
     ],
     "language": "python",
     "metadata": {},
     "outputs": [],
     "prompt_number": 4
    },
    {
     "cell_type": "code",
     "collapsed": false,
     "input": [
      "m = ModelInterface(lm)"
     ],
     "language": "python",
     "metadata": {},
     "outputs": [],
     "prompt_number": 6
    },
    {
     "cell_type": "code",
     "collapsed": false,
     "input": [
      "m.getNumberOfPointSources()"
     ],
     "language": "python",
     "metadata": {},
     "outputs": [
      {
       "metadata": {},
       "output_type": "pyout",
       "prompt_number": 7,
       "text": [
        "2"
       ]
      }
     ],
     "prompt_number": 7
    },
    {
     "cell_type": "code",
     "collapsed": false,
     "input": [
      "fakePlugin = FakePlugin(m)"
     ],
     "language": "python",
     "metadata": {},
     "outputs": [],
     "prompt_number": 8
    },
    {
     "cell_type": "code",
     "collapsed": false,
     "input": [
      "fakePlugin.createEnergies(10)"
     ],
     "language": "python",
     "metadata": {},
     "outputs": [],
     "prompt_number": 9
    },
    {
     "cell_type": "code",
     "collapsed": false,
     "input": [
      "fakePlugin.go()"
     ],
     "language": "python",
     "metadata": {},
     "outputs": [],
     "prompt_number": 10
    },
    {
     "cell_type": "code",
     "collapsed": false,
     "input": [
      "from astropy.table import Table"
     ],
     "language": "python",
     "metadata": {},
     "outputs": [],
     "prompt_number": 17
    },
    {
     "cell_type": "code",
     "collapsed": false,
     "input": [
      "t=Table()"
     ],
     "language": "python",
     "metadata": {},
     "outputs": [],
     "prompt_number": 18
    },
    {
     "cell_type": "code",
     "collapsed": false,
     "input": [
      "t.colnames"
     ],
     "language": "python",
     "metadata": {},
     "outputs": [
      {
       "metadata": {},
       "output_type": "pyout",
       "prompt_number": 19,
       "text": [
        "[]"
       ]
      }
     ],
     "prompt_number": 19
    },
    {
     "cell_type": "code",
     "collapsed": false,
     "input": [],
     "language": "python",
     "metadata": {},
     "outputs": []
    }
   ],
   "metadata": {}
  }
 ]
}