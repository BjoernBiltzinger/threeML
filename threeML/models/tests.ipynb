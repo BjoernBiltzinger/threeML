{
 "metadata": {
  "name": "",
  "signature": "sha256:e7c6ad74c85b361293502d6e5bee1cf5de5f7150f4440d448698ac5aac8a7787"
 },
 "nbformat": 3,
 "nbformat_minor": 0,
 "worksheets": [
  {
   "cells": [
    {
     "cell_type": "code",
     "collapsed": false,
     "input": [
      "from threeML import *\n"
     ],
     "language": "python",
     "metadata": {},
     "outputs": [
      {
       "output_type": "stream",
       "stream": "stdout",
       "text": [
        "You don't have ROOT installed (or pyROOT configured). You cannot use the MINUIT minimizer.\n",
        "\n",
        "WARNING: Could not import plugin /usr/local/lib/python2.7/site-packages/threeML/plugins/FermiGBMLike.py. Do you have the relative instrument software installed and configured?"
       ]
      },
      {
       "output_type": "stream",
       "stream": "stdout",
       "text": [
        "\n",
        "\n",
        "WARNING: Could not import plugin /usr/local/lib/python2.7/site-packages/threeML/plugins/FermiLATLike.py. Do you have the relative instrument software installed and configured?\n",
        "\n",
        "WARNING: Could not import plugin /usr/local/lib/python2.7/site-packages/threeML/plugins/ogip.py. Do you have the relative instrument software installed and configured?\n"
       ]
      }
     ],
     "prompt_number": 1
    },
    {
     "cell_type": "code",
     "collapsed": false,
     "input": [
      "powerlaw1 = PowerLaw()\n",
      "ptsrc1 = PointSource(\"Source 1\",10.0,20.0,powerlaw1)\n",
      "\n",
      "powerlaw2 = PowerLaw()\n",
      "ptsrc2 = PointSource(\"Source 2\",30.0,40.0,powerlaw2)"
     ],
     "language": "python",
     "metadata": {},
     "outputs": [],
     "prompt_number": 2
    },
    {
     "cell_type": "code",
     "collapsed": false,
     "input": [
      "b= Band()"
     ],
     "language": "python",
     "metadata": {},
     "outputs": [],
     "prompt_number": 5
    },
    {
     "cell_type": "code",
     "collapsed": false,
     "input": [
      "b.E0=100\n",
      "b.alpha = 0\n",
      "b.beta = -3\n",
      "b.display(10,1000)"
     ],
     "language": "python",
     "metadata": {},
     "outputs": [
      {
       "metadata": {},
       "output_type": "display_data",
       "png": "[encoded data removed]",
       "text": [
        "<matplotlib.figure.Figure at 0x10a64b290>"
       ]
      }
     ],
     "prompt_number": 11
    },
    {
     "cell_type": "code",
     "collapsed": false,
     "input": [
      "powerlaw1.A"
     ],
     "language": "python",
     "metadata": {},
     "outputs": [
      {
       "metadata": {},
       "output_type": "pyout",
       "prompt_number": 5,
       "text": [
        "                   A:         10      1e-10      1e+10       0.02 free "
       ]
      }
     ],
     "prompt_number": 5
    },
    {
     "cell_type": "code",
     "collapsed": false,
     "input": [
      "powerlaw1.gamma"
     ],
     "language": "python",
     "metadata": {},
     "outputs": [
      {
       "metadata": {},
       "output_type": "pyout",
       "prompt_number": 4,
       "text": [
        "               gamma:         -2        -10         10        0.1 free "
       ]
      }
     ],
     "prompt_number": 4
    },
    {
     "cell_type": "code",
     "collapsed": false,
     "input": [
      "lm = LikelihoodModel(ptsrc1,ptsrc2)"
     ],
     "language": "python",
     "metadata": {},
     "outputs": [],
     "prompt_number": 4
    },
    {
     "cell_type": "code",
     "collapsed": false,
     "input": [
      "m = ModelInterface(lm)"
     ],
     "language": "python",
     "metadata": {},
     "outputs": [],
     "prompt_number": 6
    },
    {
     "cell_type": "code",
     "collapsed": false,
     "input": [
      "m.getNumberOfPointSources()"
     ],
     "language": "python",
     "metadata": {},
     "outputs": [
      {
       "metadata": {},
       "output_type": "pyout",
       "prompt_number": 7,
       "text": [
        "2"
       ]
      }
     ],
     "prompt_number": 7
    },
    {
     "cell_type": "code",
     "collapsed": false,
     "input": [
      "fakePlugin = FakePlugin(m)"
     ],
     "language": "python",
     "metadata": {},
     "outputs": [],
     "prompt_number": 8
    },
    {
     "cell_type": "code",
     "collapsed": false,
     "input": [
      "fakePlugin.createEnergies(10)"
     ],
     "language": "python",
     "metadata": {},
     "outputs": [],
     "prompt_number": 9
    },
    {
     "cell_type": "code",
     "collapsed": false,
     "input": [
      "fakePlugin.go()"
     ],
     "language": "python",
     "metadata": {},
     "outputs": [],
     "prompt_number": 10
    }
   ],
   "metadata": {}
  }
 ]
}