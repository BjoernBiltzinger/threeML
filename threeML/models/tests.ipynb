{
 "cells": [
  {
   "cell_type": "code",
   "execution_count": 1,
   "metadata": {
    "collapsed": false
   },
   "outputs": [
    {
     "name": "stdout",
     "output_type": "stream",
     "text": [
      "Populating the interactive namespace from numpy and matplotlib\n",
      "You don't have ROOT installed (or pyROOT configured). You cannot use the MINUIT minimizer.\n",
      "\n",
      "WARNING: Could not import plugin /usr/local/lib/python2.7/site-packages/threeML/plugins/FermiGBMLike.py. Do you have the relative instrument software installed and configured?\n",
      "\n",
      "WARNING: Could not import plugin /usr/local/lib/python2.7/site-packages/threeML/plugins/FermiLATLike.py. Do you have the relative instrument software installed and configured?\n",
      "\n",
      "WARNING: Could not import plugin /usr/local/lib/python2.7/site-packages/threeML/plugins/ogip.py. Do you have the relative instrument software installed and configured?\n"
     ]
    }
   ],
   "source": [
    "#%matplotlib inline\n",
    "%pylab inline\n",
    "\n",
    "\n",
    "from threeML import *\n"
   ]
  },
  {
   "cell_type": "code",
   "execution_count": 28,
   "metadata": {
    "collapsed": false
   },
   "outputs": [],
   "source": [
    "powerlaw1 = PowerLaw()\n",
    "ptsrc1 = PointSource(\"Source 1\",10.0,20.0,powerlaw1)\n",
    "\n"
   ]
  },
  {
   "cell_type": "code",
   "execution_count": 29,
   "metadata": {
    "collapsed": false
   },
   "outputs": [
    {
     "name": "stdout",
     "output_type": "stream",
     "text": [
      "Spectral model: Powerlaw\n",
      "Formula:\n",
      "\n"
     ]
    },
    {
     "data": {
      "text/latex": [
       "\\begin{equation}f(E) = A E^{\\gamma}\\end{equation}"
      ],
      "text/plain": [
       "<IPython.core.display.Latex object>"
      ]
     },
     "metadata": {},
     "output_type": "display_data"
    },
    {
     "name": "stdout",
     "output_type": "stream",
     "text": [
      "\n",
      "Current parameters:\n",
      "\n"
     ]
    },
    {
     "data": {
      "text/html": [
       "&lt;Table masked=False length=3&gt;\n",
       "<table id=\"table4455500432\">\n",
       "<thead><tr><th>Name</th><th>Value</th><th>Minimum</th><th>Maximum</th><th>Delta</th><th>Status</th><th>Unit</th><th>Prior</th></tr></thead>\n",
       "<thead><tr><th>string40</th><th>float64</th><th>float64</th><th>float64</th><th>float64</th><th>string40</th><th>string48</th><th>string160</th></tr></thead>\n",
       "<tr><td>gamma</td><td>-2.0</td><td>-10.0</td><td>10.0</td><td>0.1</td><td>free</td><td></td><td>UniformPrior</td></tr>\n",
       "<tr><td>A</td><td>1.0</td><td>1e-10</td><td>10000000000.0</td><td>0.02</td><td>free</td><td></td><td>LogUniformPrior</td></tr>\n",
       "<tr><td>Epiv</td><td>1.0</td><td>1e-10</td><td>10000000000.0</td><td>1.0</td><td>fixed</td><td></td><td>UniformPrior</td></tr>\n",
       "</table>"
      ],
      "text/plain": [
       "<Table masked=False length=3>\n",
       "  Name    Value  Minimum    Maximum     Delta   Status    Unit        Prior     \n",
       "string40 float64 float64    float64    float64 string40 string48    string160   \n",
       "-------- ------- ------- ------------- ------- -------- -------- ---------------\n",
       "   gamma    -2.0   -10.0          10.0     0.1     free             UniformPrior\n",
       "       A     1.0   1e-10 10000000000.0    0.02     free          LogUniformPrior\n",
       "    Epiv     1.0   1e-10 10000000000.0     1.0    fixed             UniformPrior"
      ]
     },
     "metadata": {},
     "output_type": "display_data"
    },
    {
     "data": {
      "text/plain": []
     },
     "execution_count": 29,
     "metadata": {},
     "output_type": "execute_result"
    }
   ],
   "source": [
    "powerlaw1"
   ]
  },
  {
   "cell_type": "code",
   "execution_count": 27,
   "metadata": {
    "collapsed": false
   },
   "outputs": [],
   "source": [
    "asaf = AsafModel()"
   ]
  },
  {
   "cell_type": "code",
   "execution_count": 28,
   "metadata": {
    "collapsed": false
   },
   "outputs": [
    {
     "name": "stdout",
     "output_type": "stream",
     "text": [
      "Spectral model: SubPhotosphericDissipation\n",
      "Formula:\n",
      "\n"
     ]
    },
    {
     "data": {
      "text/latex": [
       "Pe'er (2005)"
      ],
      "text/plain": [
       "<IPython.core.display.Latex object>"
      ]
     },
     "metadata": {},
     "output_type": "display_data"
    },
    {
     "name": "stdout",
     "output_type": "stream",
     "text": [
      "\n",
      "Current parameters:\n",
      "\n"
     ]
    },
    {
     "data": {
      "text/html": [
       "&lt;Table masked=False length=4&gt;\n",
       "<table id=\"table4641946832\">\n",
       "<thead><tr><th>Name</th><th>Value</th><th>Minimum</th><th>Maximum</th><th>Delta</th><th>Status</th><th>Unit</th><th>Prior</th></tr></thead>\n",
       "<thead><tr><th>string72</th><th>float64</th><th>float64</th><th>float64</th><th>float64</th><th>string40</th><th>string48</th><th>string160</th></tr></thead>\n",
       "<tr><td>Tau</td><td>1.0</td><td>1.0</td><td>10.0</td><td>0.1</td><td>free</td><td></td><td>UniformPrior</td></tr>\n",
       "<tr><td>Gamma</td><td>50.0</td><td>50.0</td><td>500.0</td><td>0.02</td><td>free</td><td></td><td>UniformPrior</td></tr>\n",
       "<tr><td>LGRB</td><td>0.1</td><td>100.0</td><td>10000000000.0</td><td>1.0</td><td>free</td><td></td><td>UniformPrior</td></tr>\n",
       "<tr><td>epsilon_d</td><td>0.2</td><td>0.2</td><td>0.699999</td><td>1.0</td><td>free</td><td></td><td>UniformPrior</td></tr>\n",
       "</table>"
      ],
      "text/plain": [
       "<Table masked=False length=4>\n",
       "   Name    Value  Minimum    Maximum     Delta   Status    Unit      Prior    \n",
       " string72 float64 float64    float64    float64 string40 string48  string160  \n",
       "--------- ------- ------- ------------- ------- -------- -------- ------------\n",
       "      Tau     1.0     1.0          10.0     0.1     free          UniformPrior\n",
       "    Gamma    50.0    50.0         500.0    0.02     free          UniformPrior\n",
       "     LGRB     0.1   100.0 10000000000.0     1.0     free          UniformPrior\n",
       "epsilon_d     0.2     0.2      0.699999     1.0     free          UniformPrior"
      ]
     },
     "metadata": {},
     "output_type": "display_data"
    },
    {
     "data": {
      "text/plain": []
     },
     "execution_count": 28,
     "metadata": {},
     "output_type": "execute_result"
    }
   ],
   "source": [
    "asaf"
   ]
  },
  {
   "cell_type": "code",
   "execution_count": 32,
   "metadata": {
    "collapsed": false,
    "scrolled": true
   },
   "outputs": [
    {
     "data": {
      "image/png": "[encoded data removed]",
      "text/plain": [
       "<matplotlib.figure.Figure at 0x114e0bb50>"
      ]
     },
     "metadata": {},
     "output_type": "display_data"
    }
   ],
   "source": [
    "\n",
    "asaf.LGRB = 100.\n",
    "asaf.epsilon_d = .5\n",
    "asaf.Tau = 10\n",
    "asaf.Gamma = 400\n",
    "asaf.display(10,1E5,fluxType='vfv')"
   ]
  },
  {
   "cell_type": "code",
   "execution_count": 3,
   "metadata": {
    "collapsed": false
   },
   "outputs": [],
   "source": [
    "p = PowerLaw()\n",
    "co = ExponentialCutoff()"
   ]
  },
  {
   "cell_type": "code",
   "execution_count": 4,
   "metadata": {
    "collapsed": false
   },
   "outputs": [],
   "source": [
    "cpl = p*co"
   ]
  },
  {
   "cell_type": "code",
   "execution_count": 15,
   "metadata": {
    "collapsed": false
   },
   "outputs": [],
   "source": [
    "g.mu=1000\n",
    "g.sigma = 100"
   ]
  },
  {
   "cell_type": "code",
   "execution_count": 16,
   "metadata": {
    "collapsed": false
   },
   "outputs": [
    {
     "data": {
      "image/png": "[encoded data removed]",
      "text/plain": [
       "<matplotlib.figure.Figure at 0x10ed843d0>"
      ]
     },
     "metadata": {},
     "output_type": "display_data"
    }
   ],
   "source": [
    "g.display(fluxType='ph',logscale=False)\n",
    "#ylim(bottom=1E-1)"
   ]
  },
  {
   "cell_type": "code",
   "execution_count": 9,
   "metadata": {
    "collapsed": false
   },
   "outputs": [],
   "source": [
    "band = BandTable()"
   ]
  },
  {
   "cell_type": "code",
   "execution_count": 10,
   "metadata": {
    "collapsed": false
   },
   "outputs": [
    {
     "name": "stdout",
     "output_type": "stream",
     "text": [
      "Spectral model: Band function [Band et al. 1993]\n",
      "Formula:\n",
      "\n"
     ]
    },
    {
     "data": {
      "text/latex": [
       "\n",
       "        \\[f(E) = \\left\\{ \\begin{eqnarray}\n",
       "        K \\left(\\frac{E}{100 \\mbox{ keV}}\\right)^{\\alpha} & \\exp{\\left(\\frac{-E}{E_{c}}\\right)} & \\mbox{ if } E < (\\alpha-\\beta)E_{c} \\\\\n",
       "        K \\left[ (\\alpha-\\beta)\\frac{E_{c}}{100}\\right]^{\\alpha-\\beta}\\left(\\frac{E}{100 \\mbox{ keV}}\\right)^{\\beta} & \\exp{(\\beta-\\alpha)} & \\mbox{ if } E \\ge (\\alpha-\\beta)E_{c}\n",
       "        \\end{eqnarray}\n",
       "        \\right.\n",
       "        \\]\n",
       "        "
      ],
      "text/plain": [
       "<IPython.core.display.Latex object>"
      ]
     },
     "metadata": {},
     "output_type": "display_data"
    },
    {
     "name": "stdout",
     "output_type": "stream",
     "text": [
      "\n",
      "Current parameters:\n",
      "\n"
     ]
    },
    {
     "data": {
      "text/html": [
       "&lt;Table masked=False length=4&gt;\n",
       "<table id=\"table4367437328\">\n",
       "<thead><tr><th>Name</th><th>Value</th><th>Minimum</th><th>Maximum</th><th>Delta</th><th>Status</th><th>Unit</th><th>Prior</th></tr></thead>\n",
       "<thead><tr><th>string40</th><th>float64</th><th>float64</th><th>float64</th><th>float64</th><th>string40</th><th>string48</th><th>string160</th></tr></thead>\n",
       "<tr><td>alpha</td><td>-1.0</td><td>-10.0</td><td>10.0</td><td>0.1</td><td>free</td><td></td><td>UniformPrior</td></tr>\n",
       "<tr><td>beta</td><td>-2.0</td><td>-10.0</td><td>10.0</td><td>0.1</td><td>free</td><td></td><td>UniformPrior</td></tr>\n",
       "<tr><td>E0</td><td>500.0</td><td>10.0</td><td>100000.0</td><td>50.0</td><td>free</td><td>keV</td><td>UniformPrior</td></tr>\n",
       "<tr><td>K</td><td>1.0</td><td>0.0001</td><td>1000.0</td><td>0.1</td><td>free</td><td></td><td>LogUniformPrior</td></tr>\n",
       "</table>"
      ],
      "text/plain": [
       "<Table masked=False length=4>\n",
       "  Name    Value  Minimum Maximum   Delta   Status    Unit        Prior     \n",
       "string40 float64 float64 float64  float64 string40 string48    string160   \n",
       "-------- ------- ------- -------- ------- -------- -------- ---------------\n",
       "   alpha    -1.0   -10.0     10.0     0.1     free             UniformPrior\n",
       "    beta    -2.0   -10.0     10.0     0.1     free             UniformPrior\n",
       "      E0   500.0    10.0 100000.0    50.0     free      keV    UniformPrior\n",
       "       K     1.0  0.0001   1000.0     0.1     free          LogUniformPrior"
      ]
     },
     "metadata": {},
     "output_type": "display_data"
    },
    {
     "data": {
      "text/plain": []
     },
     "execution_count": 10,
     "metadata": {},
     "output_type": "execute_result"
    }
   ],
   "source": [
    "band"
   ]
  },
  {
   "cell_type": "code",
   "execution_count": 21,
   "metadata": {
    "collapsed": false
   },
   "outputs": [
    {
     "data": {
      "text/plain": [
       "(10, 100000.0)"
      ]
     },
     "execution_count": 21,
     "metadata": {},
     "output_type": "execute_result"
    },
    {
     "data": {
      "image/png": "[encoded data removed]",
      "text/plain": [
       "<matplotlib.figure.Figure at 0x10ba96650>"
      ]
     },
     "metadata": {},
     "output_type": "display_data"
    }
   ],
   "source": [
    "b=-2.5\n",
    "a=-1\n",
    "ep = 700\n",
    "aa=1.\n",
    "\n",
    "\n",
    "band.beta  = b\n",
    "band.alpha = a\n",
    "band.E0    = ep\n",
    "band.K = aa\n",
    "band.display(10,1E5,fluxType=\"vfv\")\n",
    "\n",
    "loglog(eGrid,eGrid**2 * BandF(eGrid,aa,ep,a,b))\n",
    "xlim(10,1E5)\n"
   ]
  },
  {
   "cell_type": "code",
   "execution_count": 11,
   "metadata": {
    "collapsed": false
   },
   "outputs": [
    {
     "data": {
      "image/png": "[encoded data removed]",
      "text/plain": [
       "<matplotlib.figure.Figure at 0x10a64b290>"
      ]
     },
     "metadata": {},
     "output_type": "display_data"
    }
   ],
   "source": [
    "b.E0=100\n",
    "b.alpha = 0\n",
    "b.beta = -3\n",
    "b.display(10,1000)"
   ]
  },
  {
   "cell_type": "code",
   "execution_count": 4,
   "metadata": {
    "collapsed": false
   },
   "outputs": [
    {
     "data": {
      "text/plain": [
       "               gamma:         -2        -10         10        0.1 free "
      ]
     },
     "execution_count": 4,
     "metadata": {},
     "output_type": "execute_result"
    }
   ],
   "source": [
    "powerlaw1.gamma"
   ]
  },
  {
   "cell_type": "code",
   "execution_count": 4,
   "metadata": {
    "collapsed": false
   },
   "outputs": [],
   "source": [
    "lm = LikelihoodModel(ptsrc1,ptsrc2)"
   ]
  },
  {
   "cell_type": "code",
   "execution_count": 6,
   "metadata": {
    "collapsed": false
   },
   "outputs": [],
   "source": [
    "m = ModelInterface(lm)"
   ]
  },
  {
   "cell_type": "code",
   "execution_count": 7,
   "metadata": {
    "collapsed": false
   },
   "outputs": [
    {
     "data": {
      "text/plain": [
       "2"
      ]
     },
     "execution_count": 7,
     "metadata": {},
     "output_type": "execute_result"
    }
   ],
   "source": [
    "m.getNumberOfPointSources()"
   ]
  },
  {
   "cell_type": "code",
   "execution_count": 8,
   "metadata": {
    "collapsed": false
   },
   "outputs": [],
   "source": [
    "fakePlugin = FakePlugin(m)"
   ]
  },
  {
   "cell_type": "code",
   "execution_count": 9,
   "metadata": {
    "collapsed": false
   },
   "outputs": [],
   "source": [
    "fakePlugin.createEnergies(10)"
   ]
  },
  {
   "cell_type": "code",
   "execution_count": 10,
   "metadata": {
    "collapsed": false
   },
   "outputs": [],
   "source": [
    "fakePlugin.go()"
   ]
  },
  {
   "cell_type": "code",
   "execution_count": 17,
   "metadata": {
    "collapsed": false
   },
   "outputs": [],
   "source": [
    "from astropy.table import Table"
   ]
  },
  {
   "cell_type": "code",
   "execution_count": 18,
   "metadata": {
    "collapsed": false
   },
   "outputs": [],
   "source": [
    "t=Table()"
   ]
  },
  {
   "cell_type": "code",
   "execution_count": 19,
   "metadata": {
    "collapsed": false
   },
   "outputs": [
    {
     "data": {
      "text/plain": [
       "[]"
      ]
     },
     "execution_count": 19,
     "metadata": {},
     "output_type": "execute_result"
    }
   ],
   "source": [
    "t.colnames"
   ]
  },
  {
   "cell_type": "markdown",
   "metadata": {
    "collapsed": false
   },
   "source": [
    "#  Testing pythonic Tables"
   ]
  },
  {
   "cell_type": "code",
   "execution_count": 2,
   "metadata": {
    "collapsed": true
   },
   "outputs": [],
   "source": [
    "def BandF( x, A, Ep, alpha, beta):\n",
    "\n",
    "\tcond1 = x < (alpha-beta)*Ep/(2+alpha)\n",
    "\tcond2 = x >= (alpha-beta)*Ep/(2+alpha)\n",
    "\n",
    "\n",
    "\n",
    "        band = np.piecewise(x, [cond1, cond2],\\\n",
    "\t\t\t\t    [lambda x: A*( power(x/100., alpha) * exp(-x*(2+alpha)/Ep) ), \\\n",
    "\t\t\t\t\t     lambda x:A* ( power( (alpha -beta)*Ep/(100.*(2+alpha)),alpha-beta)*exp(beta-alpha)*power(x/100.,beta))])\n",
    "\n",
    "        return band\n",
    "\n",
    "\n",
    "\n"
   ]
  },
  {
   "cell_type": "code",
   "execution_count": 3,
   "metadata": {
    "collapsed": false
   },
   "outputs": [],
   "source": [
    "ampGrid   = logspace(-2,2,4)\n",
    "epGrid    = logspace(1,3,5)\n",
    "alphaGrid = linspace(-1.5,0,10)\n",
    "betaGrid  = linspace(-4.,-2.,10)\n",
    "eGrid = logspace(-4,6,1E3)"
   ]
  },
  {
   "cell_type": "code",
   "execution_count": 4,
   "metadata": {
    "collapsed": false
   },
   "outputs": [],
   "source": [
    "params = [ampGrid,epGrid,alphaGrid,betaGrid]"
   ]
  },
  {
   "cell_type": "code",
   "execution_count": 5,
   "metadata": {
    "collapsed": false
   },
   "outputs": [],
   "source": [
    "tableModel = []\n",
    "for a in ampGrid:\n",
    "    tmp = []\n",
    "    for ep in epGrid:\n",
    "        tmp2 = []\n",
    "        \n",
    "        for alpha in alphaGrid:\n",
    "            tmp3 = []\n",
    "            \n",
    "            for beta in betaGrid:\n",
    "                tmp3.append(BandF(eGrid,a,ep,alpha,beta))\n",
    "            tmp2.append(tmp3)\n",
    "        tmp.append(tmp2)\n",
    "    tableModel.append(tmp)\n",
    "        \n",
    "            \n",
    "                \n",
    "                \n",
    "                \n",
    "tableModel = array(tableModel)        "
   ]
  },
  {
   "cell_type": "code",
   "execution_count": 6,
   "metadata": {
    "collapsed": false
   },
   "outputs": [],
   "source": [
    "from threeML.models.tablemodel import MakeNumpyTableModel"
   ]
  },
  {
   "cell_type": "code",
   "execution_count": 7,
   "metadata": {
    "collapsed": false
   },
   "outputs": [],
   "source": [
    "MakeNumpyTableModel(params,eGrid,tableModel,\"fluxModels/band.npz\")"
   ]
  },
  {
   "cell_type": "code",
   "execution_count": 8,
   "metadata": {
    "collapsed": false
   },
   "outputs": [],
   "source": [
    "\n",
    "test = numpy.load(\"test.npz\")"
   ]
  },
  {
   "cell_type": "code",
   "execution_count": 45,
   "metadata": {
    "collapsed": true
   },
   "outputs": [
    {
     "data": {
      "text/plain": [
       "array([  1.00000000e-04,   1.02331658e-04,   1.04717682e-04,\n",
       "         1.07159340e-04,   1.09657929e-04,   1.12214777e-04,\n",
       "         1.14831241e-04,   1.17508713e-04,   1.20248614e-04,\n",
       "         1.23052400e-04,   1.25921561e-04,   1.28857621e-04,\n",
       "         1.31862140e-04,   1.34936714e-04,   1.38082977e-04,\n",
       "         1.41302599e-04,   1.44597292e-04,   1.47968806e-04,\n",
       "         1.51418933e-04,   1.54949504e-04,   1.58562396e-04,\n",
       "         1.62259529e-04,   1.66042866e-04,   1.69914417e-04,\n",
       "         1.73876240e-04,   1.77930439e-04,   1.82079168e-04,\n",
       "         1.86324631e-04,   1.90669084e-04,   1.95114835e-04,\n",
       "         1.99664245e-04,   2.04319732e-04,   2.09083769e-04,\n",
       "         2.13958887e-04,   2.18947676e-04,   2.24052787e-04,\n",
       "         2.29276931e-04,   2.34622885e-04,   2.40093488e-04,\n",
       "         2.45691646e-04,   2.51420335e-04,   2.57282597e-04,\n",
       "         2.63281547e-04,   2.69420371e-04,   2.75702333e-04,\n",
       "         2.82130768e-04,   2.88709092e-04,   2.95440800e-04,\n",
       "         3.02329468e-04,   3.09378757e-04,   3.16592411e-04,\n",
       "         3.23974263e-04,   3.31528234e-04,   3.39258338e-04,\n",
       "         3.47168682e-04,   3.55263468e-04,   3.63546996e-04,\n",
       "         3.72023668e-04,   3.80697987e-04,   3.89574562e-04,\n",
       "         3.98658107e-04,   4.07953450e-04,   4.17465529e-04,\n",
       "         4.27199397e-04,   4.37160225e-04,   4.47353305e-04,\n",
       "         4.57784054e-04,   4.68458012e-04,   4.79380850e-04,\n",
       "         4.90558371e-04,   5.01996513e-04,   5.13701354e-04,\n",
       "         5.25679112e-04,   5.37936150e-04,   5.50478981e-04,\n",
       "         5.63314267e-04,   5.76448828e-04,   5.89889643e-04,\n",
       "         6.03643851e-04,   6.17718760e-04,   6.32121848e-04,\n",
       "         6.46860766e-04,   6.61943346e-04,   6.77377600e-04,\n",
       "         6.93171728e-04,   7.09334120e-04,   7.25873365e-04,\n",
       "         7.42798248e-04,   7.60117762e-04,   7.77841107e-04,\n",
       "         7.95977700e-04,   8.14537177e-04,   8.33529397e-04,\n",
       "         8.52964450e-04,   8.72852662e-04,   8.93204600e-04,\n",
       "         9.14031075e-04,   9.35343152e-04,   9.57152154e-04,\n",
       "         9.79469667e-04,   1.00230755e-03,   1.02567793e-03,\n",
       "         1.04959323e-03,   1.07406615e-03,   1.09910970e-03,\n",
       "         1.12473718e-03,   1.15096220e-03,   1.17779870e-03,\n",
       "         1.20526094e-03,   1.23336350e-03,   1.26212131e-03,\n",
       "         1.29154967e-03,   1.32166418e-03,   1.35248087e-03,\n",
       "         1.38401610e-03,   1.41628662e-03,   1.44930957e-03,\n",
       "         1.48310251e-03,   1.51768339e-03,   1.55307057e-03,\n",
       "         1.58928287e-03,   1.62633950e-03,   1.66426018e-03,\n",
       "         1.70306503e-03,   1.74277468e-03,   1.78341022e-03,\n",
       "         1.82499324e-03,   1.86754584e-03,   1.91109062e-03,\n",
       "         1.95565072e-03,   2.00124980e-03,   2.04791210e-03,\n",
       "         2.09566240e-03,   2.14452608e-03,   2.19452909e-03,\n",
       "         2.24569800e-03,   2.29805999e-03,   2.35164288e-03,\n",
       "         2.40647515e-03,   2.46258592e-03,   2.52000499e-03,\n",
       "         2.57876289e-03,   2.63889081e-03,   2.70042072e-03,\n",
       "         2.76338529e-03,   2.82781798e-03,   2.89375302e-03,\n",
       "         2.96122544e-03,   3.03027108e-03,   3.10092664e-03,\n",
       "         3.17322963e-03,   3.24721849e-03,   3.32293252e-03,\n",
       "         3.40041193e-03,   3.47969790e-03,   3.56083255e-03,\n",
       "         3.64385898e-03,   3.72882131e-03,   3.81576466e-03,\n",
       "         3.90473524e-03,   3.99578030e-03,   4.08894823e-03,\n",
       "         4.18428851e-03,   4.28185180e-03,   4.38168993e-03,\n",
       "         4.48385595e-03,   4.58840413e-03,   4.69539001e-03,\n",
       "         4.80487044e-03,   4.91690358e-03,   5.03154895e-03,\n",
       "         5.14886745e-03,   5.26892142e-03,   5.39177464e-03,\n",
       "         5.51749238e-03,   5.64614142e-03,   5.77779012e-03,\n",
       "         5.91250841e-03,   6.05036788e-03,   6.19144176e-03,\n",
       "         6.33580499e-03,   6.48353429e-03,   6.63470812e-03,\n",
       "         6.78940681e-03,   6.94771255e-03,   7.10970943e-03,\n",
       "         7.27548353e-03,   7.44512291e-03,   7.61871770e-03,\n",
       "         7.79636013e-03,   7.97814457e-03,   8.16416760e-03,\n",
       "         8.35452806e-03,   8.54932707e-03,   8.74866812e-03,\n",
       "         8.95265713e-03,   9.16140246e-03,   9.37501502e-03,\n",
       "         9.59360829e-03,   9.81729841e-03,   1.00462042e-02,\n",
       "         1.02804473e-02,   1.05201522e-02,   1.07654461e-02,\n",
       "         1.10164595e-02,   1.12733256e-02,   1.15361810e-02,\n",
       "         1.18051653e-02,   1.20804213e-02,   1.23620954e-02,\n",
       "         1.26503372e-02,   1.29452998e-02,   1.32471399e-02,\n",
       "         1.35560179e-02,   1.38720978e-02,   1.41955477e-02,\n",
       "         1.45265393e-02,   1.48652484e-02,   1.52118552e-02,\n",
       "         1.55665436e-02,   1.59295021e-02,   1.63009236e-02,\n",
       "         1.66810054e-02,   1.70699493e-02,   1.74679622e-02,\n",
       "         1.78752553e-02,   1.82920450e-02,   1.87185529e-02,\n",
       "         1.91550056e-02,   1.96016347e-02,   2.00586778e-02,\n",
       "         2.05263775e-02,   2.10049824e-02,   2.14947467e-02,\n",
       "         2.19959307e-02,   2.25088005e-02,   2.30336287e-02,\n",
       "         2.35706941e-02,   2.41202821e-02,   2.46826845e-02,\n",
       "         2.52582003e-02,   2.58471351e-02,   2.64498018e-02,\n",
       "         2.70665207e-02,   2.76976194e-02,   2.83434331e-02,\n",
       "         2.90043049e-02,   2.96805861e-02,   3.03726358e-02,\n",
       "         3.10808217e-02,   3.18055202e-02,   3.25471161e-02,\n",
       "         3.33060034e-02,   3.40825855e-02,   3.48772747e-02,\n",
       "         3.56904935e-02,   3.65226736e-02,   3.73742574e-02,\n",
       "         3.82456972e-02,   3.91374560e-02,   4.00500076e-02,\n",
       "         4.09838367e-02,   4.19394396e-02,   4.29173238e-02,\n",
       "         4.39180089e-02,   4.49420266e-02,   4.59899209e-02,\n",
       "         4.70622485e-02,   4.81595791e-02,   4.92824957e-02,\n",
       "         5.04315949e-02,   5.16074871e-02,   5.28107971e-02,\n",
       "         5.40421642e-02,   5.53022426e-02,   5.65917016e-02,\n",
       "         5.79112265e-02,   5.92615181e-02,   6.06432940e-02,\n",
       "         6.20572881e-02,   6.35042517e-02,   6.49849535e-02,\n",
       "         6.65001803e-02,   6.80507370e-02,   6.96374473e-02,\n",
       "         7.12611543e-02,   7.29227206e-02,   7.46230289e-02,\n",
       "         7.63629826e-02,   7.81435061e-02,   7.99655453e-02,\n",
       "         8.18300682e-02,   8.37380654e-02,   8.56905505e-02,\n",
       "         8.76885609e-02,   8.97331581e-02,   9.18254284e-02,\n",
       "         9.39664831e-02,   9.61574600e-02,   9.83995230e-02,\n",
       "         1.00693863e-01,   1.03041699e-01,   1.05444279e-01,\n",
       "         1.07902879e-01,   1.10418805e-01,   1.12993394e-01,\n",
       "         1.15628013e-01,   1.18324063e-01,   1.21082975e-01,\n",
       "         1.23906216e-01,   1.26795285e-01,   1.29751717e-01,\n",
       "         1.32777083e-01,   1.35872990e-01,   1.39041083e-01,\n",
       "         1.42283046e-01,   1.45600600e-01,   1.48995507e-01,\n",
       "         1.52469573e-01,   1.56024641e-01,   1.59662602e-01,\n",
       "         1.63385388e-01,   1.67194976e-01,   1.71093391e-01,\n",
       "         1.75082703e-01,   1.79165033e-01,   1.83342548e-01,\n",
       "         1.87617469e-01,   1.91992067e-01,   1.96468665e-01,\n",
       "         2.01049642e-01,   2.05737431e-01,   2.10534524e-01,\n",
       "         2.15443469e-01,   2.20466874e-01,   2.25607407e-01,\n",
       "         2.30867799e-01,   2.36250847e-01,   2.41759408e-01,\n",
       "         2.47396410e-01,   2.53164848e-01,   2.59067786e-01,\n",
       "         2.65108360e-01,   2.71289780e-01,   2.77615329e-01,\n",
       "         2.84088369e-01,   2.90712338e-01,   2.97490755e-01,\n",
       "         3.04427221e-01,   3.11525422e-01,   3.18789129e-01,\n",
       "         3.26222201e-01,   3.33828586e-01,   3.41612327e-01,\n",
       "         3.49577557e-01,   3.57728510e-01,   3.66069515e-01,\n",
       "         3.74605003e-01,   3.83339510e-01,   3.92277676e-01,\n",
       "         4.01424249e-01,   4.10784089e-01,   4.20362168e-01,\n",
       "         4.30163576e-01,   4.40193519e-01,   4.50457325e-01,\n",
       "         4.60960449e-01,   4.71708469e-01,   4.82707097e-01,\n",
       "         4.93962174e-01,   5.05479682e-01,   5.17265739e-01,\n",
       "         5.29326606e-01,   5.41668691e-01,   5.54298552e-01,\n",
       "         5.67222897e-01,   5.80448594e-01,   5.93982669e-01,\n",
       "         6.07832313e-01,   6.22004883e-01,   6.36507908e-01,\n",
       "         6.51349095e-01,   6.66536327e-01,   6.82077673e-01,\n",
       "         6.97981391e-01,   7.14255929e-01,   7.30909933e-01,\n",
       "         7.47952252e-01,   7.65391939e-01,   7.83238260e-01,\n",
       "         8.01500696e-01,   8.20188950e-01,   8.39312950e-01,\n",
       "         8.58882856e-01,   8.78909065e-01,   8.99402217e-01,\n",
       "         9.20373200e-01,   9.41833153e-01,   9.63793480e-01,\n",
       "         9.86265846e-01,   1.00926219e+00,   1.03279473e+00,\n",
       "         1.05687597e+00,   1.08151870e+00,   1.10673602e+00,\n",
       "         1.13254132e+00,   1.15894830e+00,   1.18597101e+00,\n",
       "         1.21362380e+00,   1.24192135e+00,   1.27087871e+00,\n",
       "         1.30051125e+00,   1.33083472e+00,   1.36186524e+00,\n",
       "         1.39361927e+00,   1.42611371e+00,   1.45936580e+00,\n",
       "         1.49339322e+00,   1.52821404e+00,   1.56384676e+00,\n",
       "         1.60031031e+00,   1.63762407e+00,   1.67580786e+00,\n",
       "         1.71488197e+00,   1.75486715e+00,   1.79578465e+00,\n",
       "         1.83765620e+00,   1.88050406e+00,   1.92435098e+00,\n",
       "         1.96922026e+00,   2.01513573e+00,   2.06212180e+00,\n",
       "         2.11020343e+00,   2.15940615e+00,   2.20975611e+00,\n",
       "         2.26128007e+00,   2.31400538e+00,   2.36796007e+00,\n",
       "         2.42317279e+00,   2.47967289e+00,   2.53749038e+00,\n",
       "         2.59665597e+00,   2.65720111e+00,   2.71915794e+00,\n",
       "         2.78255940e+00,   2.84743917e+00,   2.91383170e+00,\n",
       "         2.98177229e+00,   3.05129702e+00,   3.12244282e+00,\n",
       "         3.19524751e+00,   3.26974974e+00,   3.34598912e+00,\n",
       "         3.42400614e+00,   3.50384225e+00,   3.58553986e+00,\n",
       "         3.66914238e+00,   3.75469422e+00,   3.84224085e+00,\n",
       "         3.93182876e+00,   4.02350555e+00,   4.11731993e+00,\n",
       "         4.21332174e+00,   4.31156199e+00,   4.41209286e+00,\n",
       "         4.51496777e+00,   4.62024137e+00,   4.72796959e+00,\n",
       "         4.83820966e+00,   4.95102016e+00,   5.06646101e+00,\n",
       "         5.18459354e+00,   5.30548053e+00,   5.42918618e+00,\n",
       "         5.55577622e+00,   5.68531791e+00,   5.81788007e+00,\n",
       "         5.95353313e+00,   6.09234915e+00,   6.23440189e+00,\n",
       "         6.37976681e+00,   6.52852114e+00,   6.68074392e+00,\n",
       "         6.83651600e+00,   6.99592017e+00,   7.15904109e+00,\n",
       "         7.32596543e+00,   7.49678187e+00,   7.67158118e+00,\n",
       "         7.85045620e+00,   8.03350198e+00,   8.22081576e+00,\n",
       "         8.41249705e+00,   8.60864770e+00,   8.80937190e+00,\n",
       "         9.01477631e+00,   9.22497005e+00,   9.44006479e+00,\n",
       "         9.66017480e+00,   9.88541702e+00,   1.01159111e+01,\n",
       "         1.03517796e+01,   1.05931476e+01,   1.08401436e+01,\n",
       "         1.10928986e+01,   1.13515471e+01,   1.16162263e+01,\n",
       "         1.18870770e+01,   1.21642429e+01,   1.24478715e+01,\n",
       "         1.27381132e+01,   1.30351224e+01,   1.33390569e+01,\n",
       "         1.36500781e+01,   1.39683512e+01,   1.42940453e+01,\n",
       "         1.46273336e+01,   1.49683929e+01,   1.53174046e+01,\n",
       "         1.56745541e+01,   1.60400311e+01,   1.64140297e+01,\n",
       "         1.67967487e+01,   1.71883914e+01,   1.75891659e+01,\n",
       "         1.79992851e+01,   1.84189668e+01,   1.88484341e+01,\n",
       "         1.92879151e+01,   1.97376433e+01,   2.01978576e+01,\n",
       "         2.06688025e+01,   2.11507282e+01,   2.16438909e+01,\n",
       "         2.21485523e+01,   2.26649808e+01,   2.31934506e+01,\n",
       "         2.37342425e+01,   2.42876438e+01,   2.48539486e+01,\n",
       "         2.54334576e+01,   2.60264788e+01,   2.66333273e+01,\n",
       "         2.72543253e+01,   2.78898029e+01,   2.85400977e+01,\n",
       "         2.92055551e+01,   2.98865287e+01,   3.05833803e+01,\n",
       "         3.12964801e+01,   3.20262069e+01,   3.27729485e+01,\n",
       "         3.35371015e+01,   3.43190720e+01,   3.51192753e+01,\n",
       "         3.59381366e+01,   3.67760910e+01,   3.76335836e+01,\n",
       "         3.85110700e+01,   3.94090164e+01,   4.03278998e+01,\n",
       "         4.12682085e+01,   4.22304419e+01,   4.32151113e+01,\n",
       "         4.42227398e+01,   4.52538628e+01,   4.63090280e+01,\n",
       "         4.73887961e+01,   4.84937407e+01,   4.96244488e+01,\n",
       "         5.07815211e+01,   5.19655724e+01,   5.31772318e+01,\n",
       "         5.44171429e+01,   5.56859644e+01,   5.69843706e+01,\n",
       "         5.83130511e+01,   5.96727120e+01,   6.10640754e+01,\n",
       "         6.24878807e+01,   6.39448843e+01,   6.54358602e+01,\n",
       "         6.69616005e+01,   6.85229160e+01,   7.01206359e+01,\n",
       "         7.17556092e+01,   7.34287045e+01,   7.51408106e+01,\n",
       "         7.68928372e+01,   7.86857151e+01,   8.05203967e+01,\n",
       "         8.23978568e+01,   8.43190929e+01,   8.62851257e+01,\n",
       "         8.82969996e+01,   9.03557835e+01,   9.24625712e+01,\n",
       "         9.46184819e+01,   9.68246612e+01,   9.90822810e+01,\n",
       "         1.01392541e+02,   1.03756668e+02,   1.06175918e+02,\n",
       "         1.08651577e+02,   1.11184960e+02,   1.13777413e+02,\n",
       "         1.16430313e+02,   1.19145070e+02,   1.21923125e+02,\n",
       "         1.24765955e+02,   1.27675070e+02,   1.30652016e+02,\n",
       "         1.33698374e+02,   1.36815763e+02,   1.40005838e+02,\n",
       "         1.43270295e+02,   1.46610868e+02,   1.50029332e+02,\n",
       "         1.53527503e+02,   1.57107239e+02,   1.60770442e+02,\n",
       "         1.64519059e+02,   1.68355080e+02,   1.72280545e+02,\n",
       "         1.76297538e+02,   1.80408193e+02,   1.84614695e+02,\n",
       "         1.88919278e+02,   1.93324229e+02,   1.97831888e+02,\n",
       "         2.02444651e+02,   2.07164968e+02,   2.11995346e+02,\n",
       "         2.16938352e+02,   2.21996612e+02,   2.27172813e+02,\n",
       "         2.32469706e+02,   2.37890104e+02,   2.43436887e+02,\n",
       "         2.49113003e+02,   2.54921465e+02,   2.60865362e+02,\n",
       "         2.66947849e+02,   2.73172160e+02,   2.79541600e+02,\n",
       "         2.86059554e+02,   2.92729484e+02,   2.99554933e+02,\n",
       "         3.06539530e+02,   3.13686982e+02,   3.21001090e+02,\n",
       "         3.28485737e+02,   3.36144900e+02,   3.43982649e+02,\n",
       "         3.52003147e+02,   3.60210656e+02,   3.68609536e+02,\n",
       "         3.77204249e+02,   3.85999362e+02,   3.94999546e+02,\n",
       "         4.04209584e+02,   4.13634368e+02,   4.23278907e+02,\n",
       "         4.33148322e+02,   4.43247859e+02,   4.53582883e+02,\n",
       "         4.64158883e+02,   4.74981480e+02,   4.86056423e+02,\n",
       "         4.97389596e+02,   5.08987019e+02,   5.20854855e+02,\n",
       "         5.32999408e+02,   5.45427131e+02,   5.58144625e+02,\n",
       "         5.71158648e+02,   5.84476113e+02,   5.98104096e+02,\n",
       "         6.12049837e+02,   6.26320745e+02,   6.40924402e+02,\n",
       "         6.55868566e+02,   6.71161177e+02,   6.86810359e+02,\n",
       "         7.02824426e+02,   7.19211887e+02,   7.35981448e+02,\n",
       "         7.53142017e+02,   7.70702711e+02,   7.88672862e+02,\n",
       "         8.07062014e+02,   8.25879939e+02,   8.45136633e+02,\n",
       "         8.64842328e+02,   8.85007491e+02,   9.05642838e+02,\n",
       "         9.26759330e+02,   9.48368187e+02,   9.70480888e+02,\n",
       "         9.93109181e+02,   1.01626509e+03,   1.03996091e+03,\n",
       "         1.06420924e+03,   1.08902296e+03,   1.11441525e+03,\n",
       "         1.14039960e+03,   1.16698982e+03,   1.19420003e+03,\n",
       "         1.22204469e+03,   1.25053859e+03,   1.27969687e+03,\n",
       "         1.30953502e+03,   1.34006890e+03,   1.37131472e+03,\n",
       "         1.40328908e+03,   1.43600898e+03,   1.46949180e+03,\n",
       "         1.50375532e+03,   1.53881775e+03,   1.57469771e+03,\n",
       "         1.61141428e+03,   1.64898694e+03,   1.68743568e+03,\n",
       "         1.72678090e+03,   1.76704353e+03,   1.80824493e+03,\n",
       "         1.85040702e+03,   1.89355218e+03,   1.93770334e+03,\n",
       "         1.98288395e+03,   2.02911802e+03,   2.07643011e+03,\n",
       "         2.12484535e+03,   2.17438948e+03,   2.22508880e+03,\n",
       "         2.27697026e+03,   2.33006141e+03,   2.38439047e+03,\n",
       "         2.43998630e+03,   2.49687843e+03,   2.55509709e+03,\n",
       "         2.61467321e+03,   2.67563844e+03,   2.73802518e+03,\n",
       "         2.80186656e+03,   2.86719650e+03,   2.93404971e+03,\n",
       "         3.00246171e+03,   3.07246884e+03,   3.14410830e+03,\n",
       "         3.21741815e+03,   3.29243733e+03,   3.36920571e+03,\n",
       "         3.44776405e+03,   3.52815412e+03,   3.61041860e+03,\n",
       "         3.69460121e+03,   3.78074666e+03,   3.86890074e+03,\n",
       "         3.95911027e+03,   4.05142317e+03,   4.14588850e+03,\n",
       "         4.24255643e+03,   4.34147833e+03,   4.44270675e+03,\n",
       "         4.54629547e+03,   4.65229952e+03,   4.76077523e+03,\n",
       "         4.87178022e+03,   4.98537346e+03,   5.10161531e+03,\n",
       "         5.22056753e+03,   5.34229330e+03,   5.46685730e+03,\n",
       "         5.59432571e+03,   5.72476624e+03,   5.85824820e+03,\n",
       "         5.99484250e+03,   6.13462172e+03,   6.27766011e+03,\n",
       "         6.42403366e+03,   6.57382014e+03,   6.72709914e+03,\n",
       "         6.88395207e+03,   7.04446228e+03,   7.20871503e+03,\n",
       "         7.37679760e+03,   7.54879928e+03,   7.72481145e+03,\n",
       "         7.90492762e+03,   8.08924349e+03,   8.27785697e+03,\n",
       "         8.47086827e+03,   8.66837993e+03,   8.87049689e+03,\n",
       "         9.07732653e+03,   9.28897872e+03,   9.50556592e+03,\n",
       "         9.72720319e+03,   9.95400829e+03,   1.01861017e+04,\n",
       "         1.04236067e+04,   1.06666496e+04,   1.09153594e+04,\n",
       "         1.11698682e+04,   1.14303113e+04,   1.16968270e+04,\n",
       "         1.19695570e+04,   1.22486461e+04,   1.25342427e+04,\n",
       "         1.28264983e+04,   1.31255684e+04,   1.34316117e+04,\n",
       "         1.37447909e+04,   1.40652724e+04,   1.43932264e+04,\n",
       "         1.47288272e+04,   1.50722531e+04,   1.54236865e+04,\n",
       "         1.57833141e+04,   1.61513269e+04,   1.65279206e+04,\n",
       "         1.69132952e+04,   1.73076553e+04,   1.77112106e+04,\n",
       "         1.81241755e+04,   1.85467692e+04,   1.89792164e+04,\n",
       "         1.94217468e+04,   1.98745955e+04,   2.03380031e+04,\n",
       "         2.08122157e+04,   2.12974854e+04,   2.17940698e+04,\n",
       "         2.23022330e+04,   2.28222447e+04,   2.33543814e+04,\n",
       "         2.38989257e+04,   2.44561668e+04,   2.50264010e+04,\n",
       "         2.56099310e+04,   2.62070670e+04,   2.68181261e+04,\n",
       "         2.74434330e+04,   2.80833200e+04,   2.87381269e+04,\n",
       "         2.94082017e+04,   3.00939003e+04,   3.07955871e+04,\n",
       "         3.15136348e+04,   3.22484250e+04,   3.30003479e+04,\n",
       "         3.37698031e+04,   3.45571994e+04,   3.53629550e+04,\n",
       "         3.61874981e+04,   3.70312668e+04,   3.78947092e+04,\n",
       "         3.87782841e+04,   3.96824610e+04,   4.06077203e+04,\n",
       "         4.15545533e+04,   4.25234633e+04,   4.35149650e+04,\n",
       "         4.45295851e+04,   4.55678627e+04,   4.66303493e+04,\n",
       "         4.77176095e+04,   4.88302209e+04,   4.99687745e+04,\n",
       "         5.11338754e+04,   5.23261424e+04,   5.35462090e+04,\n",
       "         5.47947234e+04,   5.60723488e+04,   5.73797641e+04,\n",
       "         5.87176639e+04,   6.00867589e+04,   6.14877765e+04,\n",
       "         6.29214611e+04,   6.43885743e+04,   6.58898955e+04,\n",
       "         6.74262224e+04,   6.89983712e+04,   7.06071771e+04,\n",
       "         7.22534949e+04,   7.39381992e+04,   7.56621850e+04,\n",
       "         7.74263683e+04,   7.92316862e+04,   8.10790981e+04,\n",
       "         8.29695852e+04,   8.49041520e+04,   8.68838264e+04,\n",
       "         8.89096599e+04,   9.09827289e+04,   9.31041349e+04,\n",
       "         9.52750047e+04,   9.74964918e+04,   9.97697764e+04,\n",
       "         1.02096066e+05,   1.04476597e+05,   1.06912634e+05,\n",
       "         1.09405471e+05,   1.11956432e+05,   1.14566873e+05,\n",
       "         1.17238180e+05,   1.19971774e+05,   1.22769105e+05,\n",
       "         1.25631660e+05,   1.28560961e+05,   1.31558562e+05,\n",
       "         1.34626058e+05,   1.37765077e+05,   1.40977287e+05,\n",
       "         1.44264395e+05,   1.47628147e+05,   1.51070330e+05,\n",
       "         1.54592774e+05,   1.58197348e+05,   1.61885969e+05,\n",
       "         1.65660596e+05,   1.69523234e+05,   1.73475936e+05,\n",
       "         1.77520801e+05,   1.81659979e+05,   1.85895668e+05,\n",
       "         1.90230119e+05,   1.94665634e+05,   1.99204571e+05,\n",
       "         2.03849340e+05,   2.08602409e+05,   2.13466303e+05,\n",
       "         2.18443607e+05,   2.23536965e+05,   2.28749082e+05,\n",
       "         2.34082728e+05,   2.39540736e+05,   2.45126006e+05,\n",
       "         2.50841506e+05,   2.56690272e+05,   2.62675410e+05,\n",
       "         2.68800102e+05,   2.75067601e+05,   2.81481236e+05,\n",
       "         2.88044415e+05,   2.94760626e+05,   3.01633435e+05,\n",
       "         3.08666494e+05,   3.15863541e+05,   3.23228398e+05,\n",
       "         3.30764978e+05,   3.38477286e+05,   3.46369418e+05,\n",
       "         3.54445567e+05,   3.62710025e+05,   3.71167182e+05,\n",
       "         3.79821531e+05,   3.88677669e+05,   3.97740302e+05,\n",
       "         4.07014245e+05,   4.16504425e+05,   4.26215883e+05,\n",
       "         4.36153779e+05,   4.46323393e+05,   4.56730127e+05,\n",
       "         4.67379511e+05,   4.78277202e+05,   4.89428990e+05,\n",
       "         5.00840799e+05,   5.12518693e+05,   5.24468875e+05,\n",
       "         5.36697695e+05,   5.49211648e+05,   5.62017385e+05,\n",
       "         5.75121707e+05,   5.88531578e+05,   6.02254120e+05,\n",
       "         6.16296626e+05,   6.30666554e+05,   6.45371540e+05,\n",
       "         6.60419396e+05,   6.75818117e+05,   6.91575883e+05,\n",
       "         7.07701066e+05,   7.24202233e+05,   7.41088152e+05,\n",
       "         7.58367791e+05,   7.76050334e+05,   7.94145172e+05,\n",
       "         8.12661920e+05,   8.31610415e+05,   8.51000725e+05,\n",
       "         8.70843150e+05,   8.91148232e+05,   9.11926760e+05,\n",
       "         9.33189772e+05,   9.54948564e+05,   9.77214697e+05,\n",
       "         1.00000000e+06])"
      ]
     },
     "execution_count": 45,
     "metadata": {},
     "output_type": "execute_result"
    }
   ],
   "source": [
    "test[\"energy\"]"
   ]
  },
  {
   "cell_type": "code",
   "execution_count": 23,
   "metadata": {
    "collapsed": false
   },
   "outputs": [
    {
     "ename": "ValueError",
     "evalue": "could not broadcast input array from shape (4,4,4,4,1000) into shape (4)",
     "output_type": "error",
     "traceback": [
      "\u001b[0;31m---------------------------------------------------------------------------\u001b[0m",
      "\u001b[0;31mValueError\u001b[0m                                Traceback (most recent call last)",
      "\u001b[0;32m<ipython-input-23-2e0e49d36876>\u001b[0m in \u001b[0;36m<module>\u001b[0;34m()\u001b[0m\n\u001b[0;32m----> 1\u001b[0;31m \u001b[0marray\u001b[0m\u001b[0;34m(\u001b[0m\u001b[0;34m[\u001b[0m\u001b[0mampGrid\u001b[0m\u001b[0;34m,\u001b[0m\u001b[0mepGrid\u001b[0m\u001b[0;34m,\u001b[0m\u001b[0malphaGrid\u001b[0m\u001b[0;34m,\u001b[0m\u001b[0mbetaGrid\u001b[0m\u001b[0;34m,\u001b[0m\u001b[0mtableModel\u001b[0m\u001b[0;34m]\u001b[0m\u001b[0;34m)\u001b[0m\u001b[0;34m\u001b[0m\u001b[0m\n\u001b[0m",
      "\u001b[0;31mValueError\u001b[0m: could not broadcast input array from shape (4,4,4,4,1000) into shape (4)"
     ]
    }
   ],
   "source": []
  },
  {
   "cell_type": "code",
   "execution_count": null,
   "metadata": {
    "collapsed": true
   },
   "outputs": [],
   "source": []
  },
  {
   "cell_type": "code",
   "execution_count": null,
   "metadata": {
    "collapsed": true
   },
   "outputs": [],
   "source": []
  },
  {
   "cell_type": "code",
   "execution_count": null,
   "metadata": {
    "collapsed": true
   },
   "outputs": [],
   "source": []
  },
  {
   "cell_type": "code",
   "execution_count": null,
   "metadata": {
    "collapsed": true
   },
   "outputs": [],
   "source": []
  },
  {
   "cell_type": "code",
   "execution_count": null,
   "metadata": {
    "collapsed": true
   },
   "outputs": [],
   "source": []
  }
 ],
 "metadata": {
  "kernelspec": {
   "display_name": "Python 2",
   "language": "python",
   "name": "python2"
  },
  "language_info": {
   "codemirror_mode": {
    "name": "ipython",
    "version": 2
   },
   "file_extension": ".py",
   "mimetype": "text/x-python",
   "name": "python",
   "nbconvert_exporter": "python",
   "pygments_lexer": "ipython2",
   "version": "2.7.9"
  }
 },
 "nbformat": 4,
 "nbformat_minor": 0
}
